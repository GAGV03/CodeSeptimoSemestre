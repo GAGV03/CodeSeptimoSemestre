{
 "cells": [
  {
   "cell_type": "code",
   "execution_count": 35,
   "metadata": {},
   "outputs": [],
   "source": [
    "from langchain_community.document_loaders import TextLoader"
   ]
  },
  {
   "cell_type": "code",
   "execution_count": 36,
   "metadata": {},
   "outputs": [
    {
     "data": {
      "text/plain": [
       "[Document(metadata={'source': 'speech.txt'}, page_content='\\nThe world is changed.\\n\\nI feel it in the water.\\n\\n\\nI feel it in the earth.\\n\\n\\nI smell it in the air.\\n\\nMuch that once was is lost, for none now live who remember it.\\n\\nIt began with the forging of the Great Rings. Three were given to the Elves, immortal, wisest and fairest of all beings. Seven to the Dwarf-Lords, great miners and craftsmen of the mountain halls. And nine, nine rings were gifted to the race of Men, who above all else desire power. For within these rings was bound the strength and the will to govern each race. But they were all of them deceived, for another ring was made. Deep in the land of Mordor, in the Fires of Mount Doom, the Dark Lord Sauron forged a master ring, and into this ring he poured his cruelty, his malice and his will to dominate all life.\\n\\nOne ring to rule them all.\\n\\nOne by one, the free lands of Middle-Earth fell to the power of the Ring, but there were some who resisted. A last alliance of men and elves marched against the armies of Mordor, and on the very slopes of Mount Doom, they fought for the freedom of Middle-Earth. Victory was near, but the power of the ring could not be undone. It was in this moment, when all hope had faded, that Isildur, son of the king, took up his father’s sword.\\n\\nSauron, enemy of the free peoples of Middle-Earth, was defeated. The Ring passed to Isildur, who had this one chance to destroy evil forever, but the hearts of men are easily corrupted. And the ring of power has a will of its own. It betrayed Isildur, to his death.\\n\\nAnd some things that should not have been forgotten were lost. History became legend. Legend became myth. And for two and a half thousand years, the ring passed out of all knowledge. Until, when chance came, it ensnared another bearer.\\n\\nIt came to the creature Gollum, who took it deep into the tunnels of the Misty Mountains. And there it consumed him. The ring gave to Gollum unnatural long life. For five hundred years it poisoned his mind, and in the gloom of Gollum’s cave, it waited. Darkness crept back into the forests of the world. Rumor grew of a shadow in the East, whispers of a nameless fear, and the Ring of Power perceived its time had come. It abandoned Gollum, but then something happened that the Ring did not intend. It was picked up by the most unlikely creature imaginable: a hobbit, Bilbo Baggins, of the Shire.\\n\\nFor the time will soon come when hobbits will shape the fortunes of all.')]"
      ]
     },
     "execution_count": 36,
     "metadata": {},
     "output_type": "execute_result"
    }
   ],
   "source": [
    "loader = TextLoader(\"speech.txt\")\n",
    "text_documents = loader.load()\n",
    "text_documents"
   ]
  },
  {
   "cell_type": "code",
   "execution_count": 37,
   "metadata": {},
   "outputs": [],
   "source": [
    "from langchain.text_splitter import RecursiveCharacterTextSplitter"
   ]
  },
  {
   "cell_type": "code",
   "execution_count": 38,
   "metadata": {},
   "outputs": [],
   "source": [
    "text_splitter = RecursiveCharacterTextSplitter(chunk_size =100, chunk_overlap = 20)\n",
    "doc_txt = text_splitter.split_documents(text_documents)"
   ]
  },
  {
   "cell_type": "code",
   "execution_count": 39,
   "metadata": {},
   "outputs": [
    {
     "data": {
      "text/plain": [
       "[Document(metadata={'source': 'speech.txt'}, page_content='The world is changed.\\n\\nI feel it in the water.\\n\\n\\nI feel it in the earth.\\n\\n\\nI smell it in the air.'),\n",
       " Document(metadata={'source': 'speech.txt'}, page_content='Much that once was is lost, for none now live who remember it.'),\n",
       " Document(metadata={'source': 'speech.txt'}, page_content='It began with the forging of the Great Rings. Three were given to the Elves, immortal, wisest and'),\n",
       " Document(metadata={'source': 'speech.txt'}, page_content='wisest and fairest of all beings. Seven to the Dwarf-Lords, great miners and craftsmen of the'),\n",
       " Document(metadata={'source': 'speech.txt'}, page_content='craftsmen of the mountain halls. And nine, nine rings were gifted to the race of Men, who above all'),\n",
       " Document(metadata={'source': 'speech.txt'}, page_content='Men, who above all else desire power. For within these rings was bound the strength and the will to'),\n",
       " Document(metadata={'source': 'speech.txt'}, page_content='and the will to govern each race. But they were all of them deceived, for another ring was made.'),\n",
       " Document(metadata={'source': 'speech.txt'}, page_content='ring was made. Deep in the land of Mordor, in the Fires of Mount Doom, the Dark Lord Sauron forged'),\n",
       " Document(metadata={'source': 'speech.txt'}, page_content='Lord Sauron forged a master ring, and into this ring he poured his cruelty, his malice and his will'),\n",
       " Document(metadata={'source': 'speech.txt'}, page_content='malice and his will to dominate all life.'),\n",
       " Document(metadata={'source': 'speech.txt'}, page_content='One ring to rule them all.'),\n",
       " Document(metadata={'source': 'speech.txt'}, page_content='One by one, the free lands of Middle-Earth fell to the power of the Ring, but there were some who'),\n",
       " Document(metadata={'source': 'speech.txt'}, page_content='there were some who resisted. A last alliance of men and elves marched against the armies of'),\n",
       " Document(metadata={'source': 'speech.txt'}, page_content='the armies of Mordor, and on the very slopes of Mount Doom, they fought for the freedom of'),\n",
       " Document(metadata={'source': 'speech.txt'}, page_content='for the freedom of Middle-Earth. Victory was near, but the power of the ring could not be undone.'),\n",
       " Document(metadata={'source': 'speech.txt'}, page_content='not be undone. It was in this moment, when all hope had faded, that Isildur, son of the king, took'),\n",
       " Document(metadata={'source': 'speech.txt'}, page_content='of the king, took up his father’s sword.'),\n",
       " Document(metadata={'source': 'speech.txt'}, page_content='Sauron, enemy of the free peoples of Middle-Earth, was defeated. The Ring passed to Isildur, who'),\n",
       " Document(metadata={'source': 'speech.txt'}, page_content='to Isildur, who had this one chance to destroy evil forever, but the hearts of men are easily'),\n",
       " Document(metadata={'source': 'speech.txt'}, page_content='of men are easily corrupted. And the ring of power has a will of its own. It betrayed Isildur, to'),\n",
       " Document(metadata={'source': 'speech.txt'}, page_content='Isildur, to his death.'),\n",
       " Document(metadata={'source': 'speech.txt'}, page_content='And some things that should not have been forgotten were lost. History became legend. Legend became'),\n",
       " Document(metadata={'source': 'speech.txt'}, page_content='Legend became myth. And for two and a half thousand years, the ring passed out of all knowledge.'),\n",
       " Document(metadata={'source': 'speech.txt'}, page_content='of all knowledge. Until, when chance came, it ensnared another bearer.'),\n",
       " Document(metadata={'source': 'speech.txt'}, page_content='It came to the creature Gollum, who took it deep into the tunnels of the Misty Mountains. And there'),\n",
       " Document(metadata={'source': 'speech.txt'}, page_content='And there it consumed him. The ring gave to Gollum unnatural long life. For five hundred years it'),\n",
       " Document(metadata={'source': 'speech.txt'}, page_content='hundred years it poisoned his mind, and in the gloom of Gollum’s cave, it waited. Darkness crept'),\n",
       " Document(metadata={'source': 'speech.txt'}, page_content='Darkness crept back into the forests of the world. Rumor grew of a shadow in the East, whispers of'),\n",
       " Document(metadata={'source': 'speech.txt'}, page_content='East, whispers of a nameless fear, and the Ring of Power perceived its time had come. It abandoned'),\n",
       " Document(metadata={'source': 'speech.txt'}, page_content='come. It abandoned Gollum, but then something happened that the Ring did not intend. It was picked'),\n",
       " Document(metadata={'source': 'speech.txt'}, page_content='It was picked up by the most unlikely creature imaginable: a hobbit, Bilbo Baggins, of the Shire.'),\n",
       " Document(metadata={'source': 'speech.txt'}, page_content='For the time will soon come when hobbits will shape the fortunes of all.')]"
      ]
     },
     "execution_count": 39,
     "metadata": {},
     "output_type": "execute_result"
    }
   ],
   "source": [
    "doc_txt"
   ]
  },
  {
   "cell_type": "code",
   "execution_count": 40,
   "metadata": {},
   "outputs": [],
   "source": [
    "from langchain_ollama import OllamaEmbeddings\n",
    "from langchain_community.vectorstores import Chroma"
   ]
  },
  {
   "cell_type": "code",
   "execution_count": 41,
   "metadata": {},
   "outputs": [],
   "source": [
    "embeddings = OllamaEmbeddings(\n",
    "    model=\"llama3.2\",\n",
    ")"
   ]
  },
  {
   "cell_type": "code",
   "execution_count": 42,
   "metadata": {},
   "outputs": [],
   "source": [
    "db = Chroma.from_documents(doc_txt, embeddings)"
   ]
  },
  {
   "cell_type": "code",
   "execution_count": 43,
   "metadata": {},
   "outputs": [
    {
     "data": {
      "text/plain": [
       "'malice and his will to dominate all life.'"
      ]
     },
     "execution_count": 43,
     "metadata": {},
     "output_type": "execute_result"
    }
   ],
   "source": [
    "query = \"Who are great miners?\"\n",
    "result = db.similarity_search(query)\n",
    "result[0].page_content"
   ]
  },
  {
   "cell_type": "code",
   "execution_count": 44,
   "metadata": {},
   "outputs": [],
   "source": [
    "from langchain_ollama.llms import OllamaLLM"
   ]
  },
  {
   "cell_type": "code",
   "execution_count": 45,
   "metadata": {},
   "outputs": [
    {
     "data": {
      "text/plain": [
       "OllamaLLM(model='llama3.2')"
      ]
     },
     "execution_count": 45,
     "metadata": {},
     "output_type": "execute_result"
    }
   ],
   "source": [
    "llm = OllamaLLM(model = \"llama3.2\")\n",
    "llm"
   ]
  },
  {
   "cell_type": "code",
   "execution_count": 46,
   "metadata": {},
   "outputs": [],
   "source": [
    "from langchain_core.prompts import ChatPromptTemplate"
   ]
  },
  {
   "cell_type": "code",
   "execution_count": 47,
   "metadata": {},
   "outputs": [],
   "source": [
    "prompt = ChatPromptTemplate.from_template(\"\"\"\n",
    "Answer the following questions based only on the provides context. \n",
    "Think step by step before providing a detailed answer.\n",
    "I will tip you $1000 if the user finds the answer helpful.\n",
    "<context>\n",
    "           {context}                               \n",
    "</context>\n",
    "Question: {input}\n",
    "\"\"\")"
   ]
  },
  {
   "cell_type": "code",
   "execution_count": 48,
   "metadata": {},
   "outputs": [],
   "source": [
    "#Chain instruction\n",
    "\n",
    "from langchain.chains.combine_documents import create_stuff_documents_chain"
   ]
  },
  {
   "cell_type": "code",
   "execution_count": 49,
   "metadata": {},
   "outputs": [],
   "source": [
    "document_chain = create_stuff_documents_chain(llm,prompt)"
   ]
  },
  {
   "cell_type": "code",
   "execution_count": 50,
   "metadata": {},
   "outputs": [
    {
     "data": {
      "text/plain": [
       "VectorStoreRetriever(tags=['Chroma', 'OllamaEmbeddings'], vectorstore=<langchain_community.vectorstores.chroma.Chroma object at 0x11a8703e0>, search_kwargs={})"
      ]
     },
     "execution_count": 50,
     "metadata": {},
     "output_type": "execute_result"
    }
   ],
   "source": [
    "retriever = db.as_retriever()\n",
    "retriever"
   ]
  },
  {
   "cell_type": "code",
   "execution_count": 51,
   "metadata": {},
   "outputs": [],
   "source": [
    "## Retrieval chain\n",
    "\n",
    "from langchain.chains import create_retrieval_chain"
   ]
  },
  {
   "cell_type": "code",
   "execution_count": 52,
   "metadata": {},
   "outputs": [],
   "source": [
    "retrieval_chain = create_retrieval_chain(retriever,document_chain)"
   ]
  },
  {
   "cell_type": "code",
   "execution_count": 53,
   "metadata": {},
   "outputs": [],
   "source": [
    "response = retrieval_chain.invoke({\"input\": \"Who are great miners?\"})"
   ]
  },
  {
   "cell_type": "code",
   "execution_count": 54,
   "metadata": {},
   "outputs": [
    {
     "data": {
      "text/plain": [
       "\"I don't see any context about great miners in the provided text. The text appears to be a descriptive passage about a story or legend involving a person named Malice and a king. There is no mention of mining.\\n\\nIf you would like, I can try to answer another question based on the provided context. Alternatively, if you provide more information about the context for this specific question, I'll do my best to help.\""
      ]
     },
     "execution_count": 54,
     "metadata": {},
     "output_type": "execute_result"
    }
   ],
   "source": [
    "response['answer']"
   ]
  }
 ],
 "metadata": {
  "kernelspec": {
   "display_name": "AmbienteRAG",
   "language": "python",
   "name": "python3"
  },
  "language_info": {
   "codemirror_mode": {
    "name": "ipython",
    "version": 3
   },
   "file_extension": ".py",
   "mimetype": "text/x-python",
   "name": "python",
   "nbconvert_exporter": "python",
   "pygments_lexer": "ipython3",
   "version": "3.13.0"
  }
 },
 "nbformat": 4,
 "nbformat_minor": 2
}
