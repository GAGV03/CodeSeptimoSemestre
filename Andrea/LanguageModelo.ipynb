{
  "nbformat": 4,
  "nbformat_minor": 0,
  "metadata": {
    "colab": {
      "provenance": []
    },
    "kernelspec": {
      "name": "python3",
      "display_name": "Python 3"
    },
    "language_info": {
      "name": "python"
    }
  },
  "cells": [
    {
      "cell_type": "code",
      "execution_count": 1,
      "metadata": {
        "colab": {
          "base_uri": "https://localhost:8080/"
        },
        "id": "dCyIcKlo4WMW",
        "outputId": "0ae8dab1-053d-4145-b755-73f9005d1b5d"
      },
      "outputs": [
        {
          "output_type": "stream",
          "name": "stdout",
          "text": [
            "Requirement already satisfied: nltk in /usr/local/lib/python3.10/dist-packages (3.8.1)\n",
            "Requirement already satisfied: click in /usr/local/lib/python3.10/dist-packages (from nltk) (8.1.7)\n",
            "Requirement already satisfied: joblib in /usr/local/lib/python3.10/dist-packages (from nltk) (1.4.2)\n",
            "Requirement already satisfied: regex>=2021.8.3 in /usr/local/lib/python3.10/dist-packages (from nltk) (2024.9.11)\n",
            "Requirement already satisfied: tqdm in /usr/local/lib/python3.10/dist-packages (from nltk) (4.66.6)\n"
          ]
        }
      ],
      "source": [
        "pip install nltk\n"
      ]
    },
    {
      "cell_type": "code",
      "source": [
        "import nltk\n",
        "from nltk import ngrams\n",
        "from collections import defaultdict, Counter\n",
        "import random"
      ],
      "metadata": {
        "id": "phpLKNyq4eU7"
      },
      "execution_count": 2,
      "outputs": []
    },
    {
      "cell_type": "code",
      "source": [
        "# Asegúrate de tener los datos de texto\n",
        "nltk.download('punkt')"
      ],
      "metadata": {
        "colab": {
          "base_uri": "https://localhost:8080/"
        },
        "id": "p_HyqSVD4fw4",
        "outputId": "01ba4f6a-737b-457e-cb7a-4a193d298beb"
      },
      "execution_count": 3,
      "outputs": [
        {
          "output_type": "stream",
          "name": "stderr",
          "text": [
            "[nltk_data] Downloading package punkt to /root/nltk_data...\n",
            "[nltk_data]   Unzipping tokenizers/punkt.zip.\n"
          ]
        },
        {
          "output_type": "execute_result",
          "data": {
            "text/plain": [
              "True"
            ]
          },
          "metadata": {},
          "execution_count": 3
        }
      ]
    },
    {
      "cell_type": "code",
      "source": [
        "# Función para crear el modelo de n-gramas\n",
        "def crear_modelo(texto, n):\n",
        "    # Tokenizar el texto\n",
        "    tokens = nltk.word_tokenize(texto.lower())\n",
        "\n",
        "    # Crear n-gramas\n",
        "    n_gramas = ngrams(tokens, n)\n",
        "\n",
        "    # Crear un diccionario para almacenar los n-gramas\n",
        "    modelo = defaultdict(Counter)\n",
        "\n",
        "    # Llenar el modelo\n",
        "    for n_gram in n_gramas:\n",
        "        contexto = n_gram[:-1]  # Todas menos la última palabra\n",
        "        siguiente_palabra = n_gram[-1]  # La última palabra\n",
        "        modelo[contexto][siguiente_palabra] += 1\n",
        "\n",
        "    return modelo"
      ],
      "metadata": {
        "id": "31VYpwyL4kBQ"
      },
      "execution_count": 4,
      "outputs": []
    },
    {
      "cell_type": "code",
      "source": [
        "# Función para generar texto\n",
        "def generar_texto(modelo, n, longitud=20):\n",
        "    # Elegir un contexto aleatorio del modelo\n",
        "    contexto = random.choice(list(modelo.keys()))\n",
        "    resultado = list(contexto)\n",
        "\n",
        "    for _ in range(longitud):\n",
        "        # Obtener las posibles siguientes palabras\n",
        "        posibles_palabras = modelo[contexto]\n",
        "\n",
        "        if not posibles_palabras:\n",
        "            break\n",
        "\n",
        "        # Elegir la siguiente palabra de forma aleatoria basada en la frecuencia\n",
        "        siguiente_palabra = random.choices(\n",
        "            list(posibles_palabras.keys()),\n",
        "            weights=posibles_palabras.values()\n",
        "        )[0]\n",
        "\n",
        "        resultado.append(siguiente_palabra)\n",
        "\n",
        "        # Actualizar el contexto\n",
        "        contexto = (*contexto[1:], siguiente_palabra)\n",
        "\n",
        "    return ' '.join(resultado)"
      ],
      "metadata": {
        "id": "fGnrrpDt4nAg"
      },
      "execution_count": 6,
      "outputs": []
    },
    {
      "cell_type": "code",
      "source": [
        "\n",
        "# Ejemplo de uso\n",
        "texto = \"El perro corre rápido. El gato también corre rápido. Los animales son rápidos.\"\n",
        "n = 3  # Puedes cambiar n para usar bigramas (n=2), trigramas (n=3), etc.\n",
        "modelo = crear_modelo(texto, n)\n",
        "\n",
        "# Generar texto\n",
        "texto_generado = generar_texto(modelo, n, longitud=10)\n",
        "print(texto_generado)\n"
      ],
      "metadata": {
        "colab": {
          "base_uri": "https://localhost:8080/"
        },
        "id": "l4aBTk2X4cxP",
        "outputId": "612c34da-0f93-4888-c2e9-e02650298792"
      },
      "execution_count": 9,
      "outputs": [
        {
          "output_type": "stream",
          "name": "stdout",
          "text": [
            "los animales son rápidos .\n"
          ]
        }
      ]
    },
    {
      "cell_type": "code",
      "source": [
        "modelo"
      ],
      "metadata": {
        "colab": {
          "base_uri": "https://localhost:8080/"
        },
        "id": "qmOvXuRW47V8",
        "outputId": "36d59098-6121-4c21-eee5-62ba6b189a22"
      },
      "execution_count": 8,
      "outputs": [
        {
          "output_type": "execute_result",
          "data": {
            "text/plain": [
              "defaultdict(collections.Counter,\n",
              "            {('el',): Counter({'perro': 1, 'gato': 1}),\n",
              "             ('perro',): Counter({'corre': 1}),\n",
              "             ('corre',): Counter({'rápido': 2}),\n",
              "             ('rápido',): Counter({'.': 2}),\n",
              "             ('.',): Counter({'el': 1, 'los': 1}),\n",
              "             ('gato',): Counter({'también': 1}),\n",
              "             ('también',): Counter({'corre': 1}),\n",
              "             ('los',): Counter({'animales': 1}),\n",
              "             ('animales',): Counter({'son': 1}),\n",
              "             ('son',): Counter({'rápidos': 1}),\n",
              "             ('rápidos',): Counter({'.': 1})})"
            ]
          },
          "metadata": {},
          "execution_count": 8
        }
      ]
    }
  ]
}