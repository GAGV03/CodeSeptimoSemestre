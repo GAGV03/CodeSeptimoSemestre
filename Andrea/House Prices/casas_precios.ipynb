{
 "cells": [
  {
   "cell_type": "code",
   "execution_count": null,
   "metadata": {},
   "outputs": [],
   "source": [
    "import pandas as pd\n",
    "import numpy as np\n",
    "import seaborn as sns\n",
    "#import matplotlib.pyplot as plt\n",
    "\n",
    "train_set = pd.read_csv(\"train.csv\")\n",
    "print(train_set.head())"
   ]
  }
 ],
 "metadata": {
  "kernelspec": {
   "display_name": "Ambiente-Conda",
   "language": "python",
   "name": "python3"
  },
  "language_info": {
   "name": "python",
   "version": "3.12.4"
  }
 },
 "nbformat": 4,
 "nbformat_minor": 2
}
