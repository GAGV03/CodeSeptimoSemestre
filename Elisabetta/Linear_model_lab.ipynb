{
  "cells": [
    {
      "cell_type": "code",
      "execution_count": 2,
      "metadata": {
        "id": "mutw7hxhnuwr"
      },
      "outputs": [],
      "source": [
        "import numpy as np\n",
        "import pandas as pd\n",
        "import statsmodels.api as sm\n",
        "import seaborn as sns\n",
        "import matplotlib.pyplot as plt\n",
        "import statsmodels.formula.api as smf\n"
      ]
    },
    {
      "cell_type": "markdown",
      "metadata": {
        "id": "IXpqZE2OfwUX"
      },
      "source": [
        "### Data set \"Animals\"\n",
        "\n",
        "[Animals dataset](https://stat.ethz.ch/R-manual/R-patched/library/MASS/html/Animals.html)\n",
        "\n",
        "Average brain and body weights for 28 species of land animals."
      ]
    },
    {
      "cell_type": "code",
      "execution_count": 3,
      "metadata": {
        "id": "ZS4mnqdDcroV"
      },
      "outputs": [],
      "source": [
        "url = 'https://drive.google.com/file/d/1wfUUKU2VbmK-WzehMKft8u1WMEfyOXTy/view?usp=sharing'\n",
        "file_id = url.split('/')[-2]\n",
        "dwn_url = 'https://drive.google.com/uc?id=' + file_id"
      ]
    },
    {
      "cell_type": "code",
      "execution_count": 4,
      "metadata": {
        "id": "w2wwcTMBuCIu"
      },
      "outputs": [],
      "source": [
        "data = pd.read_csv(dwn_url, header=0, index_col=0)"
      ]
    },
    {
      "cell_type": "markdown",
      "metadata": {
        "id": "rbF7nU8Zf4KQ"
      },
      "source": [
        "- We want to use a linear model to study the relation between the brain weight and the body weight\n",
        "\n",
        "- Simple linear regression (one predictor):\n",
        "\n",
        "$brain=\\beta_0+\\beta_1*body+\\varepsilon$\n"
      ]
    },
    {
      "cell_type": "markdown",
      "metadata": {
        "id": "7VVObSuQpi9m"
      },
      "source": [
        "### Regression assumption on Y\n",
        "\n",
        "- Our model: $Y=\\beta_0+\\beta_1*x+\\varepsilon$\n",
        "\n",
        "- Given that we assume the errors $\\varepsilon$ to have normal distribution $\\mathcal{N}(0,\\sigma^2)$, we assume that also $Y$ are normally distributed.\n",
        "\n",
        "- Check the assumption on $Y$\n",
        "\n",
        "- If the response variable is not gaussian, a linear model should not be used.\n",
        "\n"
      ]
    },
    {
      "cell_type": "markdown",
      "metadata": {
        "id": "gJp9CQUPuQKR"
      },
      "source": [
        "### Transformations\n",
        "\n",
        "Apply the necessary transformations to Y and X, use log tranformation."
      ]
    },
    {
      "cell_type": "code",
      "execution_count": 5,
      "metadata": {
        "id": "HBHecLQ5umqp"
      },
      "outputs": [],
      "source": [
        "#Apply the necessary transformations to the data\n",
        "data['log_brain'] = np.log(data['brain'])\n",
        "data['log_body'] = np.log(data['body'])\n"
      ]
    },
    {
      "cell_type": "markdown",
      "metadata": {
        "id": "CAj-Dd6lumGa"
      },
      "source": [
        "### Outliers\n",
        "\n",
        "Detect the outliers using boxplots, histograms or scatter plots. Findout which are the animals corresponding to the outliers."
      ]
    },
    {
      "cell_type": "code",
      "execution_count": 6,
      "metadata": {
        "id": "JBpNU3BmulsD"
      },
      "outputs": [
        {
          "data": {
            "image/png": "[encoded data removed]",
            "text/plain": [
              "<Figure size 800x600 with 1 Axes>"
            ]
          },
          "metadata": {},
          "output_type": "display_data"
        }
      ],
      "source": [
        "#Detect the outliers using boxplot\n",
        "plt.style.use('ggplot')\n",
        "fig, ax = plt.subplots(figsize=(8, 6))\n",
        "\n",
        "ax.boxplot(data[['brain', 'body']], vert=False)\n",
        "plt.show()\n",
        "\n"
      ]
    },
    {
      "cell_type": "code",
      "execution_count": 7,
      "metadata": {},
      "outputs": [
        {
          "name": "stdout",
          "output_type": "stream",
          "text": [
            "                  body  brain  log_brain   log_body\n",
            "Dipliodocus    11700.0   50.0   3.912023   9.367344\n",
            "Triceratops     9400.0   70.0   4.248495   9.148465\n",
            "Brachiosaurus  87000.0  154.5   5.040194  11.373663\n",
            "Empty DataFrame\n",
            "Columns: [body, brain, log_brain, log_body]\n",
            "Index: []\n",
            "Empty DataFrame\n",
            "Columns: [body, brain, log_brain, log_body]\n",
            "Index: []\n",
            "Empty DataFrame\n",
            "Columns: [body, brain, log_brain, log_body]\n",
            "Index: []\n"
          ]
        }
      ],
      "source": [
        "def detect_outliers(df):\n",
        "    outliers = {}\n",
        "    for column in df.columns:\n",
        "        # Calcular Q1 (primer cuartil) y Q3 (tercer cuartil)\n",
        "        Q1 = df[column].quantile(0.25)\n",
        "        Q3 = df[column].quantile(0.75)\n",
        "        IQR = Q3 - Q1\n",
        "        \n",
        "        # Definir los límites para los outliers\n",
        "        lower_bound = Q1 - 15.5 * IQR\n",
        "        upper_bound = Q3 + 15.5 * IQR\n",
        "        \n",
        "        # Identificar outliers\n",
        "        outliers[column] = df[(df[column] < lower_bound) | (df[column] > upper_bound)]\n",
        "        \n",
        "        # Imprimir outliers para cada columna\n",
        "        print(outliers[column])\n",
        "    \n",
        "    return outliers\n",
        "\n",
        "# Obtener outliers\n",
        "outliers = detect_outliers(data)"
      ]
    },
    {
      "cell_type": "code",
      "execution_count": 8,
      "metadata": {},
      "outputs": [
        {
          "data": {
            "text/html": [
              "<div>\n",
              "<style scoped>\n",
              "    .dataframe tbody tr th:only-of-type {\n",
              "        vertical-align: middle;\n",
              "    }\n",
              "\n",
              "    .dataframe tbody tr th {\n",
              "        vertical-align: top;\n",
              "    }\n",
              "\n",
              "    .dataframe thead th {\n",
              "        text-align: right;\n",
              "    }\n",
              "</style>\n",
              "<table border=\"1\" class=\"dataframe\">\n",
              "  <thead>\n",
              "    <tr style=\"text-align: right;\">\n",
              "      <th></th>\n",
              "      <th>body</th>\n",
              "      <th>brain</th>\n",
              "      <th>log_brain</th>\n",
              "      <th>log_body</th>\n",
              "    </tr>\n",
              "  </thead>\n",
              "  <tbody>\n",
              "    <tr>\n",
              "      <th>Cow</th>\n",
              "      <td>465.00</td>\n",
              "      <td>423.0</td>\n",
              "      <td>6.047372</td>\n",
              "      <td>6.142037</td>\n",
              "    </tr>\n",
              "    <tr>\n",
              "      <th>Asian elephant</th>\n",
              "      <td>2547.00</td>\n",
              "      <td>4603.0</td>\n",
              "      <td>8.434464</td>\n",
              "      <td>7.842671</td>\n",
              "    </tr>\n",
              "    <tr>\n",
              "      <th>Donkey</th>\n",
              "      <td>187.10</td>\n",
              "      <td>419.0</td>\n",
              "      <td>6.037871</td>\n",
              "      <td>5.231643</td>\n",
              "    </tr>\n",
              "    <tr>\n",
              "      <th>Horse</th>\n",
              "      <td>521.00</td>\n",
              "      <td>655.0</td>\n",
              "      <td>6.484635</td>\n",
              "      <td>6.255750</td>\n",
              "    </tr>\n",
              "    <tr>\n",
              "      <th>Giraffe</th>\n",
              "      <td>529.00</td>\n",
              "      <td>680.0</td>\n",
              "      <td>6.522093</td>\n",
              "      <td>6.270988</td>\n",
              "    </tr>\n",
              "    <tr>\n",
              "      <th>Gorilla</th>\n",
              "      <td>207.00</td>\n",
              "      <td>406.0</td>\n",
              "      <td>6.006353</td>\n",
              "      <td>5.332719</td>\n",
              "    </tr>\n",
              "    <tr>\n",
              "      <th>Human</th>\n",
              "      <td>62.00</td>\n",
              "      <td>1320.0</td>\n",
              "      <td>7.185387</td>\n",
              "      <td>4.127134</td>\n",
              "    </tr>\n",
              "    <tr>\n",
              "      <th>African elephant</th>\n",
              "      <td>6654.00</td>\n",
              "      <td>5712.0</td>\n",
              "      <td>8.650325</td>\n",
              "      <td>8.802973</td>\n",
              "    </tr>\n",
              "    <tr>\n",
              "      <th>Chimpanzee</th>\n",
              "      <td>52.16</td>\n",
              "      <td>440.0</td>\n",
              "      <td>6.086775</td>\n",
              "      <td>3.954316</td>\n",
              "    </tr>\n",
              "  </tbody>\n",
              "</table>\n",
              "</div>"
            ],
            "text/plain": [
              "                     body   brain  log_brain  log_body\n",
              "Cow                465.00   423.0   6.047372  6.142037\n",
              "Asian elephant    2547.00  4603.0   8.434464  7.842671\n",
              "Donkey             187.10   419.0   6.037871  5.231643\n",
              "Horse              521.00   655.0   6.484635  6.255750\n",
              "Giraffe            529.00   680.0   6.522093  6.270988\n",
              "Gorilla            207.00   406.0   6.006353  5.332719\n",
              "Human               62.00  1320.0   7.185387  4.127134\n",
              "African elephant  6654.00  5712.0   8.650325  8.802973\n",
              "Chimpanzee          52.16   440.0   6.086775  3.954316"
            ]
          },
          "execution_count": 8,
          "metadata": {},
          "output_type": "execute_result"
        }
      ],
      "source": [
        "#Identify the outliers\n",
        "outliers = data[data['brain'] > 200]\n",
        "outliers"
      ]
    },
    {
      "cell_type": "markdown",
      "metadata": {
        "id": "A1us0nxCvlEX"
      },
      "source": [
        "## Linear regression 1"
      ]
    },
    {
      "cell_type": "markdown",
      "metadata": {
        "id": "u7_YLAoUv0CM"
      },
      "source": [
        "Apply a simple linear regression using the model:\n",
        "\n",
        "$\\log(brain)=\\beta_0+\\beta_1*log(body)+\\varepsilon $"
      ]
    },
    {
      "cell_type": "code",
      "execution_count": 9,
      "metadata": {
        "id": "8IpZA4xowKi8"
      },
      "outputs": [
        {
          "name": "stdout",
          "output_type": "stream",
          "text": [
            "                                 OLS Regression Results                                \n",
            "=======================================================================================\n",
            "Dep. Variable:              log_brain   R-squared (uncentered):                   0.786\n",
            "Model:                            OLS   Adj. R-squared (uncentered):              0.778\n",
            "Method:                 Least Squares   F-statistic:                              99.10\n",
            "Date:                Thu, 22 Aug 2024   Prob (F-statistic):                    1.56e-10\n",
            "Time:                        22:03:37   Log-Likelihood:                         -63.293\n",
            "No. Observations:                  28   AIC:                                      128.6\n",
            "Df Residuals:                      27   BIC:                                      129.9\n",
            "Df Model:                           1                                                  \n",
            "Covariance Type:            nonrobust                                                  \n",
            "==============================================================================\n",
            "                 coef    std err          t      P>|t|      [0.025      0.975]\n",
            "------------------------------------------------------------------------------\n",
            "log_body       0.8409      0.084      9.955      0.000       0.668       1.014\n",
            "==============================================================================\n",
            "Omnibus:                       21.142   Durbin-Watson:                   1.745\n",
            "Prob(Omnibus):                  0.000   Jarque-Bera (JB):               27.326\n",
            "Skew:                          -1.906   Prob(JB):                     1.16e-06\n",
            "Kurtosis:                       5.982   Cond. No.                         1.00\n",
            "==============================================================================\n",
            "\n",
            "Notes:\n",
            "[1] R² is computed without centering (uncentered) since the model does not contain a constant.\n",
            "[2] Standard Errors assume that the covariance matrix of the errors is correctly specified.\n"
          ]
        }
      ],
      "source": [
        "import statsmodels.api as sm\n",
        "xc = sm.add_constant(data['log_body'])\n",
        "model = sm.OLS(data['log_brain'], data['log_body'])\n",
        "\n",
        "results = model.fit()\n",
        "print(results.summary())"
      ]
    },
    {
      "cell_type": "code",
      "execution_count": 10,
      "metadata": {},
      "outputs": [
        {
          "data": {
            "text/plain": [
              "log_body    0.84094\n",
              "dtype: float64"
            ]
          },
          "execution_count": 10,
          "metadata": {},
          "output_type": "execute_result"
        }
      ],
      "source": [
        "results.params"
      ]
    },
    {
      "cell_type": "markdown",
      "metadata": {
        "id": "_t0mnCLyqX4s"
      },
      "source": [
        "Denoting with $Y_i$ the observations and with $\\hat{Y_i}$ the estimations, the residuals are:\n",
        "\n",
        "$residuals=|Y_i-\\hat{Y_i}|$\n"
      ]
    },
    {
      "cell_type": "markdown",
      "metadata": {
        "id": "LUJ_dcIGwMxc"
      },
      "source": [
        "Draw an histogram of the residuals and a scatter plot of residuals vs fittedvalues. Do the plots suggest a proper residual behavior?"
      ]
    },
    {
      "cell_type": "code",
      "execution_count": 11,
      "metadata": {
        "id": "zlJNb9TvxbTf"
      },
      "outputs": [
        {
          "data": {
            "image/png": "[encoded data removed]",
            "text/plain": [
              "<Figure size 640x480 with 1 Axes>"
            ]
          },
          "metadata": {},
          "output_type": "display_data"
        },
        {
          "data": {
            "image/png": "[encoded data removed]",
            "text/plain": [
              "<Figure size 640x480 with 1 Axes>"
            ]
          },
          "metadata": {},
          "output_type": "display_data"
        }
      ],
      "source": [
        "#Draw an histogram of the residuals and a scatter plot of residuals vs fittedvalues. Do the plots suggest a proper residual behavior?\n",
        "# Draw an histogram of the residuals\n",
        "plt.hist(results.resid, bins=10)\n",
        "plt.xlabel('Residuals')\n",
        "plt.ylabel('Frequency')\n",
        "plt.title('Histogram of Residuals')\n",
        "plt.show()\n",
        "\n",
        "# Scatter plot of residuals vs fitted values\n",
        "plt.scatter(results.fittedvalues, results.resid)\n",
        "plt.xlabel('Fitted Values')\n",
        "plt.ylabel('Residuals')\n",
        "plt.title('Residuals vs Fitted Values')\n",
        "plt.show()"
      ]
    },
    {
      "cell_type": "markdown",
      "metadata": {
        "id": "9aE6PTu8xa3h"
      },
      "source": [
        "Draw the regression line on the X,Y scatter plot."
      ]
    },
    {
      "cell_type": "code",
      "execution_count": 12,
      "metadata": {},
      "outputs": [
        {
          "name": "stderr",
          "output_type": "stream",
          "text": [
            "C:\\Users\\gusal\\AppData\\Local\\Temp\\ipykernel_27628\\1644374036.py:2: FutureWarning: Series.__getitem__ treating keys as positions is deprecated. In a future version, integer keys will always be treated as labels (consistent with DataFrame behavior). To access a value by position, use `ser.iloc[pos]`\n",
            "  yy = data['log_body'] * results.params[0]\n"
          ]
        },
        {
          "data": {
            "image/png": "[encoded data removed]",
            "text/plain": [
              "<Figure size 640x480 with 1 Axes>"
            ]
          },
          "metadata": {},
          "output_type": "display_data"
        }
      ],
      "source": [
        "fig, ax = plt.subplots()\n",
        "yy = data['log_body'] * results.params[0]\n",
        "\n",
        "# Scatter plot\n",
        "ax.scatter(data['log_body'], data['log_brain'])\n",
        "\n",
        "# Set labels and title\n",
        "ax.set_xlabel('Log Body')\n",
        "ax.set_ylabel('Log Brain')\n",
        "ax.set_title('Scatter Plot of Transformed Log Data')\n",
        "\n",
        "# Plot the line\n",
        "ax.plot(data['log_body'], yy, color='red')\n",
        "\n",
        "# Show the plot\n",
        "plt.show()\n"
      ]
    },
    {
      "cell_type": "markdown",
      "metadata": {
        "id": "vakm_ES35gkX"
      },
      "source": [
        "### Dummy variables\n",
        "\n",
        "Should I treat dinosaurs independently? One can make the dataset more interesting introducing dummy variables, one for each type of dinosaurs."
      ]
    },
    {
      "cell_type": "markdown",
      "metadata": {
        "id": "nNUBdHsSx4N8"
      },
      "source": [
        "Create four dummy variables: one for Triceratops, one for Dipliodocus, one for Brachiosaurus and one for dinosaur in general.\n"
      ]
    },
    {
      "cell_type": "markdown",
      "metadata": {
        "id": "8jVz4a_37HNP"
      },
      "source": [
        "### Regression model with dummy variables: Linear regression 2\n",
        "\n",
        "- New model with extra predictors:\n",
        "\n",
        "$log(brain)=\\beta_0+\\beta_1*log(body)+\\beta_2*DummyT+\\beta_3*DummyD+\\beta_4*DummyB+\\varepsilon$\n",
        "\n",
        "- A different intercept if it is a dinosaur. Suppose the animal is a triceratop: the variable DummyT is equal to 1, DummyD=DummyB=0.\n",
        "\n",
        "$\\log(brain)=\\beta_0+\\beta_1*log(body)+\\beta_2=$\n",
        "\n",
        "$(\\beta_0+\\beta_2)+\\beta_1*log(body)$\n",
        "\n",
        "The intercept is $\\beta_0$ when the animal is not a triceratop, while it's $\\beta_0+\\beta_2$ when the animal is a triceratop.\n",
        "\n",
        "With this model we consider three different intercepts for the three dinosaurs.\n",
        "\n"
      ]
    },
    {
      "cell_type": "code",
      "execution_count": 13,
      "metadata": {},
      "outputs": [
        {
          "data": {
            "text/html": [
              "<div>\n",
              "<style scoped>\n",
              "    .dataframe tbody tr th:only-of-type {\n",
              "        vertical-align: middle;\n",
              "    }\n",
              "\n",
              "    .dataframe tbody tr th {\n",
              "        vertical-align: top;\n",
              "    }\n",
              "\n",
              "    .dataframe thead th {\n",
              "        text-align: right;\n",
              "    }\n",
              "</style>\n",
              "<table border=\"1\" class=\"dataframe\">\n",
              "  <thead>\n",
              "    <tr style=\"text-align: right;\">\n",
              "      <th></th>\n",
              "      <th>body</th>\n",
              "      <th>brain</th>\n",
              "      <th>log_brain</th>\n",
              "      <th>log_body</th>\n",
              "    </tr>\n",
              "  </thead>\n",
              "  <tbody>\n",
              "    <tr>\n",
              "      <th>Mountain beaver</th>\n",
              "      <td>1.35</td>\n",
              "      <td>8.1</td>\n",
              "      <td>2.091864</td>\n",
              "      <td>0.300105</td>\n",
              "    </tr>\n",
              "    <tr>\n",
              "      <th>Cow</th>\n",
              "      <td>465.00</td>\n",
              "      <td>423.0</td>\n",
              "      <td>6.047372</td>\n",
              "      <td>6.142037</td>\n",
              "    </tr>\n",
              "    <tr>\n",
              "      <th>Grey wolf</th>\n",
              "      <td>36.33</td>\n",
              "      <td>119.5</td>\n",
              "      <td>4.783316</td>\n",
              "      <td>3.592644</td>\n",
              "    </tr>\n",
              "    <tr>\n",
              "      <th>Goat</th>\n",
              "      <td>27.66</td>\n",
              "      <td>115.0</td>\n",
              "      <td>4.744932</td>\n",
              "      <td>3.319987</td>\n",
              "    </tr>\n",
              "    <tr>\n",
              "      <th>Guinea pig</th>\n",
              "      <td>1.04</td>\n",
              "      <td>5.5</td>\n",
              "      <td>1.704748</td>\n",
              "      <td>0.039221</td>\n",
              "    </tr>\n",
              "  </tbody>\n",
              "</table>\n",
              "</div>"
            ],
            "text/plain": [
              "                   body  brain  log_brain  log_body\n",
              "Mountain beaver    1.35    8.1   2.091864  0.300105\n",
              "Cow              465.00  423.0   6.047372  6.142037\n",
              "Grey wolf         36.33  119.5   4.783316  3.592644\n",
              "Goat              27.66  115.0   4.744932  3.319987\n",
              "Guinea pig         1.04    5.5   1.704748  0.039221"
            ]
          },
          "execution_count": 13,
          "metadata": {},
          "output_type": "execute_result"
        }
      ],
      "source": [
        "data.head()"
      ]
    },
    {
      "cell_type": "code",
      "execution_count": 14,
      "metadata": {},
      "outputs": [],
      "source": [
        "#Introduce dummy variables for each dinosaur outlier (Triceratops, Diplodocus, Brachiosaursu, Dinosaurs)\n",
        "#Define dummy variable classificication columns (DummyT, DummyD, DummyB, DummyG)\n",
        "data['DummyT'] = 0\n",
        "data.loc[data.index == 'Triceratops', 'DummyT'] = 1\n",
        "data['DummyD'] = 0\n",
        "data.loc[data.index == 'Dipliodocus', 'DummyD'] = 1\n",
        "data['DummyB'] = 0\n",
        "data.loc[data.index == 'Brachiosaurus', 'DummyB'] = 1\n",
        "\n",
        "#Define dummy variable for dinosaurs (Logic OR of the previous dummy variables)\n",
        "data['Dinosaur'] = data['DummyT'] | data['DummyD'] | data['DummyB']"
      ]
    },
    {
      "cell_type": "code",
      "execution_count": 15,
      "metadata": {},
      "outputs": [
        {
          "name": "stdout",
          "output_type": "stream",
          "text": [
            "                            OLS Regression Results                            \n",
            "==============================================================================\n",
            "Dep. Variable:              log_brain   R-squared:                       0.922\n",
            "Model:                            OLS   Adj. R-squared:                  0.908\n",
            "Method:                 Least Squares   F-statistic:                     68.00\n",
            "Date:                Thu, 22 Aug 2024   Prob (F-statistic):           2.10e-12\n",
            "Time:                        22:03:37   Log-Likelihood:                -28.004\n",
            "No. Observations:                  28   AIC:                             66.01\n",
            "Df Residuals:                      23   BIC:                             72.67\n",
            "Df Model:                           4                                         \n",
            "Covariance Type:            nonrobust                                         \n",
            "==============================================================================\n",
            "                 coef    std err          t      P>|t|      [0.025      0.975]\n",
            "------------------------------------------------------------------------------\n",
            "const          2.1504      0.201     10.720      0.000       1.735       2.565\n",
            "log_body       0.7523      0.046     16.454      0.000       0.658       0.847\n",
            "DummyT        -4.7839      0.791     -6.045      0.000      -6.421      -3.147\n",
            "DummyD        -5.2851      0.795     -6.649      0.000      -6.930      -3.641\n",
            "DummyB        -5.6662      0.833     -6.804      0.000      -7.389      -3.943\n",
            "==============================================================================\n",
            "Omnibus:                       11.962   Durbin-Watson:                   2.365\n",
            "Prob(Omnibus):                  0.003   Jarque-Bera (JB):               10.824\n",
            "Skew:                           1.323   Prob(JB):                      0.00446\n",
            "Kurtosis:                       4.507   Cond. No.                         36.9\n",
            "==============================================================================\n",
            "\n",
            "Notes:\n",
            "[1] Standard Errors assume that the covariance matrix of the errors is correctly specified.\n"
          ]
        }
      ],
      "source": [
        "#Create second model using the log transformed data and 3 extra predictors (DummyT, DummyD, DummyB)\n",
        "x2 = data[['log_body', 'DummyT', 'DummyD', 'DummyB']]\n",
        "# Add a constant to the model\n",
        "xc2 = sm.add_constant(x2)\n",
        "First_dinosaurs_model = sm.OLS(data['log_brain'], xc2)\n",
        "#Fit the model\n",
        "First_dinosaurs_model_results = First_dinosaurs_model.fit()\n",
        "print(First_dinosaurs_model_results.summary())"
      ]
    },
    {
      "cell_type": "code",
      "execution_count": 16,
      "metadata": {},
      "outputs": [
        {
          "data": {
            "image/png": "[encoded data removed]",
            "text/plain": [
              "<Figure size 640x480 with 1 Axes>"
            ]
          },
          "metadata": {},
          "output_type": "display_data"
        }
      ],
      "source": [
        "# Plotting the model without dinosaur outliers\n",
        "sns.regplot(x='log_body', y='log_brain', data=data[data['Dinosaur'] == 0], label='Animals')\n",
        "\n",
        "# Plotting the model with dinosaur dummies\n",
        "sns.regplot(x='log_body', y='log_brain', data=data[data['Dinosaur'] == 1], label='Dinosaurs')\n",
        "\n",
        "# Customize plot\n",
        "plt.legend()\n",
        "plt.xlabel('Log Body (kg)')\n",
        "plt.ylabel('Log Brain (g)')\n",
        "plt.show()\n"
      ]
    },
    {
      "cell_type": "code",
      "execution_count": 17,
      "metadata": {},
      "outputs": [
        {
          "data": {
            "text/html": [
              "<div>\n",
              "<style scoped>\n",
              "    .dataframe tbody tr th:only-of-type {\n",
              "        vertical-align: middle;\n",
              "    }\n",
              "\n",
              "    .dataframe tbody tr th {\n",
              "        vertical-align: top;\n",
              "    }\n",
              "\n",
              "    .dataframe thead th {\n",
              "        text-align: right;\n",
              "    }\n",
              "</style>\n",
              "<table border=\"1\" class=\"dataframe\">\n",
              "  <thead>\n",
              "    <tr style=\"text-align: right;\">\n",
              "      <th></th>\n",
              "      <th>mean</th>\n",
              "      <th>mean_se</th>\n",
              "      <th>mean_ci_lower</th>\n",
              "      <th>mean_ci_upper</th>\n",
              "      <th>obs_ci_lower</th>\n",
              "      <th>obs_ci_upper</th>\n",
              "    </tr>\n",
              "  </thead>\n",
              "  <tbody>\n",
              "    <tr>\n",
              "      <th>0</th>\n",
              "      <td>-0.597982</td>\n",
              "      <td>0.338221</td>\n",
              "      <td>-1.297645</td>\n",
              "      <td>0.101681</td>\n",
              "      <td>-2.254504</td>\n",
              "      <td>1.058541</td>\n",
              "    </tr>\n",
              "  </tbody>\n",
              "</table>\n",
              "</div>"
            ],
            "text/plain": [
              "       mean   mean_se  mean_ci_lower  mean_ci_upper  obs_ci_lower  \\\n",
              "0 -0.597982  0.338221      -1.297645       0.101681     -2.254504   \n",
              "\n",
              "   obs_ci_upper  \n",
              "0      1.058541  "
            ]
          },
          "execution_count": 17,
          "metadata": {},
          "output_type": "execute_result"
        }
      ],
      "source": [
        "#Make predictions using the model \n",
        "#Predict the brain size of a dinosaur with a body size of _\n",
        "X_new = pd.DataFrame((1, np.log(0.0259), 0, 0, 0), index=['const', 'log_body', 'DummyT', 'DummyD', 'DummyB']).T\n",
        "First_dinosaurs_model_prediction = First_dinosaurs_model_results.get_prediction(X_new).summary_frame(0.05)\n",
        "First_dinosaurs_model_prediction"
      ]
    },
    {
      "cell_type": "markdown",
      "metadata": {},
      "source": [
        "### Annotations:\n"
      ]
    },
    {
      "cell_type": "markdown",
      "metadata": {
        "id": "4uak-wP8cqen"
      },
      "source": [
        "### Linear regression 3\n",
        "\n",
        "- Model 2: same rate of change, but different intercept for dinasaurs\n",
        "\n",
        " $log(brain)=\\beta_0+\\beta_1*log(body)+\\beta_2*Dino+\\varepsilon$\n",
        "\n",
        " For an animal different from a dinosaur, the intercept is $\\beta_0$. For a dinosaur the intercept is $\\beta_0+\\beta_2$.\n",
        "\n",
        "\n"
      ]
    },
    {
      "cell_type": "code",
      "execution_count": 18,
      "metadata": {
        "id": "lFmhJWQvL5Yq"
      },
      "outputs": [],
      "source": [
        "#Create third model using the log transformed data and 3 extra predictors (DummyT, DummyD, DummyB) and their interactions"
      ]
    },
    {
      "cell_type": "markdown",
      "metadata": {
        "id": "Epz_k4hT2pp6"
      },
      "source": [
        " ### Linear regression 4\n",
        "\n",
        " Different intercept and slope for dinosaurs. We add the feature where we multiply the variables \"Dino\" and \"log(body)\".\n",
        "\n",
        " $log(brain)=\\beta_0+\\beta_1*log(body)+\\beta_2*Dino+\\beta_3*log(body)*Dino+\\varepsilon$\n",
        "\n",
        "For an animal other than a dinosaur, the intercept is $\\beta_0$ and the slope $\\beta_1$. For a dinosaur, the intercept is $\\beta_0+\\beta_2$ and the slope is $\\beta_1+\\beta_3$."
      ]
    },
    {
      "cell_type": "code",
      "execution_count": null,
      "metadata": {
        "id": "C91ZqLSZ21bU"
      },
      "outputs": [],
      "source": []
    },
    {
      "cell_type": "markdown",
      "metadata": {
        "id": "RIrphprL28Ez"
      },
      "source": [
        "Which is the best model?"
      ]
    },
    {
      "cell_type": "code",
      "execution_count": null,
      "metadata": {
        "id": "gmxEYCK12_uI"
      },
      "outputs": [],
      "source": []
    }
  ],
  "metadata": {
    "colab": {
      "collapsed_sections": [
        "skedZM72fLiF"
      ],
      "provenance": []
    },
    "kernelspec": {
      "display_name": "Python 3",
      "name": "python3"
    },
    "language_info": {
      "codemirror_mode": {
        "name": "ipython",
        "version": 3
      },
      "file_extension": ".py",
      "mimetype": "text/x-python",
      "name": "python",
      "nbconvert_exporter": "python",
      "pygments_lexer": "ipython3",
      "version": "3.12.4"
    }
  },
  "nbformat": 4,
  "nbformat_minor": 0
}
