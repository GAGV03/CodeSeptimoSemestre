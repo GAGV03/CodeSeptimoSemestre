{
  "cells": [
    {
      "cell_type": "code",
      "execution_count": 11,
      "metadata": {
        "id": "mutw7hxhnuwr"
      },
      "outputs": [],
      "source": [
        "import numpy as np\n",
        "import pandas as pd\n",
        "import statsmodels.api as sm\n",
        "import seaborn as sns\n",
        "import matplotlib.pyplot as plt\n",
        "import statsmodels.formula.api as smf\n"
      ]
    },
    {
      "cell_type": "markdown",
      "metadata": {
        "id": "IXpqZE2OfwUX"
      },
      "source": [
        "### Data set \"Animals\"\n",
        "\n",
        "[Animals dataset](https://stat.ethz.ch/R-manual/R-patched/library/MASS/html/Animals.html)\n",
        "\n",
        "Average brain and body weights for 28 species of land animals."
      ]
    },
    {
      "cell_type": "code",
      "execution_count": 12,
      "metadata": {
        "id": "ZS4mnqdDcroV"
      },
      "outputs": [],
      "source": [
        "url = 'https://drive.google.com/file/d/1wfUUKU2VbmK-WzehMKft8u1WMEfyOXTy/view?usp=sharing'\n",
        "file_id = url.split('/')[-2]\n",
        "dwn_url = 'https://drive.google.com/uc?id=' + file_id"
      ]
    },
    {
      "cell_type": "code",
      "execution_count": 13,
      "metadata": {
        "id": "w2wwcTMBuCIu"
      },
      "outputs": [],
      "source": [
        "data = pd.read_csv(dwn_url, header=0, index_col=0)"
      ]
    },
    {
      "cell_type": "markdown",
      "metadata": {
        "id": "rbF7nU8Zf4KQ"
      },
      "source": [
        "- We want to use a linear model to study the relation between the brain weight and the body weight\n",
        "\n",
        "- Simple linear regression (one predictor):\n",
        "\n",
        "$brain=\\beta_0+\\beta_1*body+\\varepsilon$\n"
      ]
    },
    {
      "cell_type": "markdown",
      "metadata": {
        "id": "7VVObSuQpi9m"
      },
      "source": [
        "### Regression assumption on Y\n",
        "\n",
        "- Our model: $Y=\\beta_0+\\beta_1*x+\\varepsilon$\n",
        "\n",
        "- Given that we assume the errors $\\varepsilon$ to have normal distribution $\\mathcal{N}(0,\\sigma^2)$, we assume that also $Y$ are normally distributed.\n",
        "\n",
        "- Check the assumption on $Y$\n",
        "\n",
        "- If the response variable is not gaussian, a linear model should not be used.\n",
        "\n"
      ]
    },
    {
      "cell_type": "markdown",
      "metadata": {
        "id": "gJp9CQUPuQKR"
      },
      "source": [
        "### Transformations\n",
        "\n",
        "Apply the necessary transformations to Y and X, use log tranformation."
      ]
    },
    {
      "cell_type": "code",
      "execution_count": 14,
      "metadata": {
        "id": "HBHecLQ5umqp"
      },
      "outputs": [],
      "source": [
        "#Apply the necessary transformations to the data\n",
        "data['log_brain'] = np.log(data['brain'])\n",
        "data['log_body'] = np.log(data['body'])\n"
      ]
    },
    {
      "cell_type": "markdown",
      "metadata": {
        "id": "CAj-Dd6lumGa"
      },
      "source": [
        "### Outliers\n",
        "\n",
        "Detect the outliers using boxplots, histograms or scatter plots. Findout which are the animals corresponding to the outliers."
      ]
    },
    {
      "cell_type": "code",
      "execution_count": 15,
      "metadata": {
        "id": "JBpNU3BmulsD"
      },
      "outputs": [
        {
          "data": {
            "image/png": "[encoded data removed]",
            "text/plain": [
              "<Figure size 800x600 with 1 Axes>"
            ]
          },
          "metadata": {},
          "output_type": "display_data"
        }
      ],
      "source": [
        "#Detect the outliers using boxplot\n",
        "plt.style.use('ggplot')\n",
        "fig, ax = plt.subplots(figsize=(8, 6))\n",
        "\n",
        "ax.boxplot(data[['brain', 'body']], vert=False)\n",
        "plt.show()\n",
        "\n"
      ]
    },
    {
      "cell_type": "markdown",
      "metadata": {
        "id": "A1us0nxCvlEX"
      },
      "source": [
        "## Linear regression 1"
      ]
    },
    {
      "cell_type": "markdown",
      "metadata": {
        "id": "u7_YLAoUv0CM"
      },
      "source": [
        "Apply a simple linear regression using the model:\n",
        "\n",
        "$\\log(brain)=\\beta_0+\\beta_1*log(body)+\\varepsilon $"
      ]
    },
    {
      "cell_type": "code",
      "execution_count": 16,
      "metadata": {
        "id": "8IpZA4xowKi8"
      },
      "outputs": [
        {
          "name": "stdout",
          "output_type": "stream",
          "text": [
            "                                 OLS Regression Results                                \n",
            "=======================================================================================\n",
            "Dep. Variable:              log_brain   R-squared (uncentered):                   0.786\n",
            "Model:                            OLS   Adj. R-squared (uncentered):              0.778\n",
            "Method:                 Least Squares   F-statistic:                              99.10\n",
            "Date:                Fri, 16 Aug 2024   Prob (F-statistic):                    1.56e-10\n",
            "Time:                        21:02:26   Log-Likelihood:                         -63.293\n",
            "No. Observations:                  28   AIC:                                      128.6\n",
            "Df Residuals:                      27   BIC:                                      129.9\n",
            "Df Model:                           1                                                  \n",
            "Covariance Type:            nonrobust                                                  \n",
            "==============================================================================\n",
            "                 coef    std err          t      P>|t|      [0.025      0.975]\n",
            "------------------------------------------------------------------------------\n",
            "log_body       0.8409      0.084      9.955      0.000       0.668       1.014\n",
            "==============================================================================\n",
            "Omnibus:                       21.142   Durbin-Watson:                   1.745\n",
            "Prob(Omnibus):                  0.000   Jarque-Bera (JB):               27.326\n",
            "Skew:                          -1.906   Prob(JB):                     1.16e-06\n",
            "Kurtosis:                       5.982   Cond. No.                         1.00\n",
            "==============================================================================\n",
            "\n",
            "Notes:\n",
            "[1] R² is computed without centering (uncentered) since the model does not contain a constant.\n",
            "[2] Standard Errors assume that the covariance matrix of the errors is correctly specified.\n"
          ]
        }
      ],
      "source": [
        "import statsmodels.api as sm\n",
        "xc = sm.add_constant(data['log_body'])\n",
        "model = sm.OLS(data['log_brain'], data['log_body'])\n",
        "\n",
        "results = model.fit()\n",
        "print(results.summary())"
      ]
    },
    {
      "cell_type": "code",
      "execution_count": 17,
      "metadata": {},
      "outputs": [
        {
          "data": {
            "text/plain": [
              "log_body    0.84094\n",
              "dtype: float64"
            ]
          },
          "execution_count": 17,
          "metadata": {},
          "output_type": "execute_result"
        }
      ],
      "source": [
        "results.params"
      ]
    },
    {
      "cell_type": "markdown",
      "metadata": {
        "id": "_t0mnCLyqX4s"
      },
      "source": [
        "Denoting with $Y_i$ the observations and with $\\hat{Y_i}$ the estimations, the residuals are:\n",
        "\n",
        "$residuals=|Y_i-\\hat{Y_i}|$\n"
      ]
    },
    {
      "cell_type": "markdown",
      "metadata": {
        "id": "LUJ_dcIGwMxc"
      },
      "source": [
        "Draw an histogram of the residuals and a scatter plot of residuals vs fittedvalues. Do the plots suggest a proper residual behavior?"
      ]
    },
    {
      "cell_type": "code",
      "execution_count": 18,
      "metadata": {
        "id": "zlJNb9TvxbTf"
      },
      "outputs": [
        {
          "data": {
            "image/png": "[encoded data removed]",
            "text/plain": [
              "<Figure size 640x480 with 1 Axes>"
            ]
          },
          "metadata": {},
          "output_type": "display_data"
        },
        {
          "data": {
            "image/png": "[encoded data removed]",
            "text/plain": [
              "<Figure size 640x480 with 1 Axes>"
            ]
          },
          "metadata": {},
          "output_type": "display_data"
        }
      ],
      "source": [
        "#Draw an histogram of the residuals and a scatter plot of residuals vs fittedvalues. Do the plots suggest a proper residual behavior?\n",
        "# Draw an histogram of the residuals\n",
        "plt.hist(results.resid, bins=10)\n",
        "plt.xlabel('Residuals')\n",
        "plt.ylabel('Frequency')\n",
        "plt.title('Histogram of Residuals')\n",
        "plt.show()\n",
        "\n",
        "# Scatter plot of residuals vs fitted values\n",
        "plt.scatter(results.fittedvalues, results.resid)\n",
        "plt.xlabel('Fitted Values')\n",
        "plt.ylabel('Residuals')\n",
        "plt.title('Residuals vs Fitted Values')\n",
        "plt.show()"
      ]
    },
    {
      "cell_type": "markdown",
      "metadata": {
        "id": "9aE6PTu8xa3h"
      },
      "source": [
        "Draw the regression line on the X,Y scatter plot."
      ]
    },
    {
      "cell_type": "code",
      "execution_count": 19,
      "metadata": {},
      "outputs": [
        {
          "name": "stderr",
          "output_type": "stream",
          "text": [
            "/var/folders/wg/0ry_2kxj1cjg6v6gw1kzvv_40000gn/T/ipykernel_86624/1644374036.py:2: FutureWarning: Series.__getitem__ treating keys as positions is deprecated. In a future version, integer keys will always be treated as labels (consistent with DataFrame behavior). To access a value by position, use `ser.iloc[pos]`\n",
            "  yy = data['log_body'] * results.params[0]\n"
          ]
        },
        {
          "data": {
            "image/png": "[encoded data removed]",
            "text/plain": [
              "<Figure size 640x480 with 1 Axes>"
            ]
          },
          "metadata": {},
          "output_type": "display_data"
        }
      ],
      "source": [
        "fig, ax = plt.subplots()\n",
        "yy = data['log_body'] * results.params[0]\n",
        "\n",
        "# Scatter plot\n",
        "ax.scatter(data['log_body'], data['log_brain'])\n",
        "\n",
        "# Set labels and title\n",
        "ax.set_xlabel('Log Body')\n",
        "ax.set_ylabel('Log Brain')\n",
        "ax.set_title('Scatter Plot of Transformed Log Data')\n",
        "\n",
        "# Plot the line\n",
        "ax.plot(data['log_body'], yy, color='red')\n",
        "\n",
        "# Show the plot\n",
        "plt.show()\n"
      ]
    },
    {
      "cell_type": "markdown",
      "metadata": {
        "id": "vakm_ES35gkX"
      },
      "source": [
        "### Dummy variables\n",
        "\n",
        "Should I treat dinosaurs independently? One can make the dataset more interesting introducing dummy variables, one for each type of dinosaurs."
      ]
    },
    {
      "cell_type": "markdown",
      "metadata": {
        "id": "nNUBdHsSx4N8"
      },
      "source": [
        "Create four dummy variables: one for Triceratops, one for Dipliodocus, one for Brachiosaurus and one for dinosaur in general.\n"
      ]
    },
    {
      "cell_type": "markdown",
      "metadata": {
        "id": "8jVz4a_37HNP"
      },
      "source": [
        "### Regression model with dummy variables: Linear regression 2\n",
        "\n",
        "- New model with extra predictors:\n",
        "\n",
        "$log(brain)=\\beta_0+\\beta_1*log(body)+\\beta_2*DummyT+\\beta_3*DummyD+\\beta_4*DummyB+\\varepsilon$\n",
        "\n",
        "- A different intercept if it is a dinosaur. Suppose the animal is a triceratop: the variable DummyT is equal to 1, DummyD=DummyB=0.\n",
        "\n",
        "$\\log(brain)=\\beta_0+\\beta_1*log(body)+\\beta_2=$\n",
        "\n",
        "$(\\beta_0+\\beta_2)+\\beta_1*log(body)$\n",
        "\n",
        "The intercept is $\\beta_0$ when the animal is not a triceratop, while it's $\\beta_0+\\beta_2$ when the animal is a triceratop.\n",
        "\n",
        "With this model we consider three different intercepts for the three dinosaurs.\n",
        "\n"
      ]
    },
    {
      "cell_type": "code",
      "execution_count": 20,
      "metadata": {
        "id": "e3csUcS4awwf"
      },
      "outputs": [
        {
          "name": "stderr",
          "output_type": "stream",
          "text": [
            "<>:1: SyntaxWarning: invalid escape sequence '\\l'\n",
            "<>:1: SyntaxWarning: invalid escape sequence '\\l'\n",
            "/var/folders/wg/0ry_2kxj1cjg6v6gw1kzvv_40000gn/T/ipykernel_86624/3376941260.py:1: SyntaxWarning: invalid escape sequence '\\l'\n",
            "  \"\"\"\n"
          ]
        },
        {
          "data": {
            "text/plain": [
              "\"\\n### Regression model with dummy variables: Linear regression 2\\n\\n- New model with extra predictors:\\n\\n$log(brain)=\\x08eta_0+\\x08eta_1*log(body)+\\x08eta_2*DummyT+\\x08eta_3*DummyD+\\x08eta_4*DummyB+\\x0barepsilon$\\n\\n- A different intercept if it is a dinosaur. Suppose the animal is a triceratop: the variable DummyT is equal to 1, DummyD=DummyB=0.\\n\\n$\\\\log(brain)=\\x08eta_0+\\x08eta_1*log(body)+\\x08eta_2=$\\n\\n$(\\x08eta_0+\\x08eta_2)+\\x08eta_1*log(body)$\\n\\nThe intercept is $\\x08eta_0$ when the animal is not a triceratop, while it's $\\x08eta_0+\\x08eta_2$ when the animal is a triceratop.\\n\\nWith this model we consider three different intercepts for the three dinosaurs.\\n\""
            ]
          },
          "execution_count": 20,
          "metadata": {},
          "output_type": "execute_result"
        }
      ],
      "source": [
        "\"\"\"\n",
        "### Regression model with dummy variables: Linear regression 2\n",
        "\n",
        "- New model with extra predictors:\n",
        "\n",
        "$log(brain)=\\beta_0+\\beta_1*log(body)+\\beta_2*DummyT+\\beta_3*DummyD+\\beta_4*DummyB+\\varepsilon$\n",
        "\n",
        "- A different intercept if it is a dinosaur. Suppose the animal is a triceratop: the variable DummyT is equal to 1, DummyD=DummyB=0.\n",
        "\n",
        "$\\log(brain)=\\beta_0+\\beta_1*log(body)+\\beta_2=$\n",
        "\n",
        "$(\\beta_0+\\beta_2)+\\beta_1*log(body)$\n",
        "\n",
        "The intercept is $\\beta_0$ when the animal is not a triceratop, while it's $\\beta_0+\\beta_2$ when the animal is a triceratop.\n",
        "\n",
        "With this model we consider three different intercepts for the three dinosaurs.\n",
        "\"\"\"\n"
      ]
    },
    {
      "cell_type": "markdown",
      "metadata": {
        "id": "4uak-wP8cqen"
      },
      "source": [
        "### Linear regression 3\n",
        "\n",
        "- Model 2: same rate of change, but different intercept for dinasaurs\n",
        "\n",
        " $log(brain)=\\beta_0+\\beta_1*log(body)+\\beta_2*Dino+\\varepsilon$\n",
        "\n",
        " For an animal different from a dinosaur, the intercept is $\\beta_0$. For a dinosaur the intercept is $\\beta_0+\\beta_2$.\n",
        "\n",
        "\n"
      ]
    },
    {
      "cell_type": "code",
      "execution_count": null,
      "metadata": {
        "id": "lFmhJWQvL5Yq"
      },
      "outputs": [],
      "source": []
    },
    {
      "cell_type": "markdown",
      "metadata": {
        "id": "Epz_k4hT2pp6"
      },
      "source": [
        " Linear regression 4\n",
        "\n",
        " Different intercept and slope for dinosaurs. We add the feature where we multiply the variables \"Dino\" and \"log(body)\".\n",
        "\n",
        " $log(brain)=\\beta_0+\\beta_1*log(body)+\\beta_2*Dino+\\beta_3*log(body)*Dino+\\varepsilon$\n",
        "\n",
        "For an animal other than a dinosaur, the intercept is $\\beta_0$ and the slope $\\beta_1$. For a dinosaur, the intercept is $\\beta_0+\\beta_2$ and the slope is $\\beta_1+\\beta_3$."
      ]
    },
    {
      "cell_type": "code",
      "execution_count": null,
      "metadata": {
        "id": "C91ZqLSZ21bU"
      },
      "outputs": [],
      "source": []
    },
    {
      "cell_type": "markdown",
      "metadata": {
        "id": "RIrphprL28Ez"
      },
      "source": [
        "Which is the best model?"
      ]
    },
    {
      "cell_type": "code",
      "execution_count": null,
      "metadata": {
        "id": "gmxEYCK12_uI"
      },
      "outputs": [],
      "source": []
    }
  ],
  "metadata": {
    "colab": {
      "collapsed_sections": [
        "skedZM72fLiF"
      ],
      "provenance": []
    },
    "kernelspec": {
      "display_name": "Python 3",
      "name": "python3"
    },
    "language_info": {
      "codemirror_mode": {
        "name": "ipython",
        "version": 3
      },
      "file_extension": ".py",
      "mimetype": "text/x-python",
      "name": "python",
      "nbconvert_exporter": "python",
      "pygments_lexer": "ipython3",
      "version": "3.12.4"
    }
  },
  "nbformat": 4,
  "nbformat_minor": 0
}
