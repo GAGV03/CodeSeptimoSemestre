{
  "cells": [
    {
      "cell_type": "markdown",
      "id": "dd4bf2db",
      "metadata": {
        "id": "dd4bf2db"
      },
      "source": [
        "# MA3001B\n",
        "\n"
      ]
    },
    {
      "cell_type": "code",
      "execution_count": null,
      "id": "f6633b31",
      "metadata": {
        "id": "f6633b31"
      },
      "outputs": [],
      "source": [
        "#import pytsdatasets as tsds\n",
        "import matplotlib.pyplot as plt\n",
        "import pandas as pd\n",
        "import seaborn as sns\n",
        "import numpy as np"
      ]
    },
    {
      "cell_type": "markdown",
      "id": "470c293c",
      "metadata": {
        "id": "470c293c"
      },
      "source": [
        "## 5.5.3 Autocovariance and autocorrelation function (ACF)\n"
      ]
    },
    {
      "cell_type": "markdown",
      "id": "7461733a",
      "metadata": {
        "id": "7461733a"
      },
      "source": [
        "### Autocovariance function"
      ]
    },
    {
      "cell_type": "markdown",
      "id": "5970798f",
      "metadata": {
        "id": "5970798f"
      },
      "source": [
        "We define a random variable as a function (or a map):\n",
        "\n",
        "$X:S\\rightarrow\\mathbb{R}$\n",
        "\n",
        "from $S$ (the experiment sample space) to a real number. If we repeat the experiment many times we obtain different values of $X$, for example: $x=(5,15,19,..)$. We say that $5$, fo example, is a \"realization\" of $X$ (the result obtained $\\bf{after}$ the experiment).\n",
        "If we have two random variables $(X,Y)$ we define the covariance as:\n",
        "\n",
        "$Cov(X,Y)=E[(X-\\mu_X)(Y-\\mu_Y)]$\n",
        "\n",
        "and it measures the linear dependence between the two random variables.\n",
        "Let's consider now a sequence of random variables, considered at different times:\n",
        "\n",
        "$X_{t=1},X_{t=2},X_{t=3},..$\n",
        "\n",
        "The sequence is called a \"stochastic process\". At each time, each random variable can have its own distribution with its expectation and variance:\n",
        "\n",
        "$X_t\\sim distribution(\\mu_t,\\sigma_t^2)$\n",
        "\n",
        "We define a time series as the realization of a stochastic process. So we consider the correspondance between the stochastic process $X=(X_{t_1},X_{t_2},...,X_{T})$ and its realization (the time series) $x=(x_{t=1},x_{t=2},...,x_{T})$. At each time, the value of the time series $x_{t}$ is a realization of the random variable $X_t$. The advantage of identifying the series as a realization of a stochastic process is that we can use statistical properties of the random variables, as mean, variance, covariance, to describe the time series.\n",
        "We define the $\\bf{autocovariance\\,\\,function}$ as the covariance of random variables $(X_s,X_t)$ at times $(s,t)$:\n",
        "\n",
        "$\\gamma(X_s,X_t)=cov(X_s,X_t)=E[(X_s-\\mu_s)(X_t-\\mu_t)]$\n",
        "\n",
        "At time s=t:\n",
        "\n",
        "$\\gamma(X_t,X_t)=cov(X_t,X_t)=E[(X_t-\\mu_t)^2]=Var(X_t)=\\sigma_{X_t}^2$\n",
        "\n",
        "Assuming that we are working with stationary time series, the autocovariance function only depends on the time difference between $s$ and $t$:\n",
        "\n",
        "$\\gamma_k=\\gamma(t,t+k)$\n",
        "\n",
        "We refer to the time difference $k$ as to a \"lag\"."
      ]
    },
    {
      "cell_type": "markdown",
      "id": "7e9fa724",
      "metadata": {
        "id": "7e9fa724"
      },
      "source": [
        "### Autocovariance coefficients"
      ]
    },
    {
      "cell_type": "markdown",
      "id": "afdbabeb",
      "metadata": {
        "id": "afdbabeb"
      },
      "source": [
        "The estimation of autocovariance of random variables $\\gamma_k$ calculated from the time series is given by:\n",
        "\n",
        "$c_k=\\frac{\\sum_{t=1}^{N-k} (x_t-\\bar{x})(x_{t+k}-\\bar{x})}{N}$\n",
        "\n",
        "$\\bar{x}=\\frac{\\sum_{t=1}^N x_t}{N}$"
      ]
    },
    {
      "cell_type": "markdown",
      "id": "d38cdf62",
      "metadata": {
        "id": "d38cdf62"
      },
      "source": [
        "### Autocorrelation function (ACF)"
      ]
    },
    {
      "cell_type": "markdown",
      "id": "3ea84717",
      "metadata": {
        "id": "3ea84717"
      },
      "source": [
        "Assuming stationarity, we define the autocorrelation coefficient between the random variables $X_t$ and $X_{t+k}$ as:\n",
        "\n",
        "$-1\\le \\rho_k=\\frac{\\gamma_k}{\\gamma_{k=0}}\\le 1$\n",
        "\n",
        "The estimation of autocorrelation coefficient, calculated from the time series values at times $t$ and $t+k$ (at lag k) is:\n",
        "\n",
        "$r_k=\\frac{c_k}{c_{k=0}}$\n",
        "\n",
        "The autocorrelation coefficient estimation can also be written as:\n",
        "\n",
        "$r_k=\\frac{\\sum_{t=1}^{N-k} (x_t-\\bar{x})(x_{t+k}-\\bar{x})}{\\sum_{t=1}^N (x_t-\\bar{x})^2}$\n",
        "\n",
        "One can draw a correlogram, with the autocorrelation coefficients at different lags."
      ]
    },
    {
      "cell_type": "code",
      "execution_count": null,
      "id": "b92e8dfb",
      "metadata": {
        "colab": {
          "base_uri": "https://localhost:8080/",
          "height": 545
        },
        "id": "b92e8dfb",
        "outputId": "97618ea1-b63c-4954-ed56-3143c9f616bd"
      },
      "outputs": [
        {
          "data": {
            "image/png": "[encoded data removed]",
            "text/plain": [
              "<Figure size 432x288 with 1 Axes>"
            ]
          },
          "execution_count": 3,
          "metadata": {},
          "output_type": "execute_result"
        },
        {
          "data": {
            "image/png": "[encoded data removed]",
            "text/plain": [
              "<Figure size 432x288 with 1 Axes>"
            ]
          },
          "metadata": {
            "needs_background": "light"
          },
          "output_type": "display_data"
        }
      ],
      "source": [
        "from statsmodels.graphics.tsaplots import plot_acf, plot_pacf\n",
        "\n",
        "serie = np.random.normal(0,1,100)\n",
        "ts = pd.DataFrame()\n",
        "ts['serie']=serie\n",
        "\n",
        "plot_acf(ts, ax=plt.gca())"
      ]
    },
    {
      "cell_type": "markdown",
      "id": "d3b394c0",
      "metadata": {
        "id": "d3b394c0"
      },
      "source": [
        "The first coefficient is always 1:\n",
        "\n",
        "$r_0=\\frac{c_0}{c_0}=1$\n",
        "\n",
        "The blue colored area represents the significance level, if the autocorrelation coefficient is within the blue ares it is not siginificative. In this example the time series is a pure random process, generated with a random normal distribution, and we do not expect significative autocorrelation coefficients. The values of the autocorrelation coefficients are:"
      ]
    },
    {
      "cell_type": "code",
      "execution_count": null,
      "id": "0c2fd24d",
      "metadata": {
        "colab": {
          "base_uri": "https://localhost:8080/"
        },
        "id": "0c2fd24d",
        "outputId": "91098a85-878d-4450-e9c7-4a1f963ec266"
      },
      "outputs": [
        {
          "name": "stdout",
          "output_type": "stream",
          "text": [
            "[ 1.00000000e+00  1.05535906e-02  3.30707230e-02 -5.03237809e-02\n",
            "  1.38779109e-01  1.55520089e-01  8.59868967e-04  1.49108053e-01\n",
            "  6.19333515e-02  2.56144213e-02 -5.55607954e-02  4.83744565e-02\n",
            "  3.67730822e-02  8.88737934e-03 -4.98175503e-02 -1.26471347e-01\n",
            " -1.21096271e-01 -5.96747305e-02  3.03253825e-02 -1.53871398e-02\n",
            " -1.13072994e-01 -2.80410370e-02 -6.69583106e-02 -5.31204676e-02\n",
            "  5.95224276e-02 -4.72923367e-02  2.15913167e-02 -3.24402661e-02\n",
            " -2.16628933e-02 -2.46564533e-03  8.51165096e-02  1.04426694e-01\n",
            " -8.67085493e-02  4.47304431e-03 -3.80532869e-04  9.55748893e-02\n",
            "  1.00954398e-02  1.38421010e-02  9.49363595e-02 -1.05658944e-02\n",
            " -4.24746016e-02]\n"
          ]
        },
        {
          "name": "stderr",
          "output_type": "stream",
          "text": [
            "/usr/local/lib/python3.7/dist-packages/statsmodels/tsa/stattools.py:662: FutureWarning: The default number of lags is changing from 40 tomin(int(10 * np.log10(nobs)), nobs - 1) after 0.12is released. Set the number of lags to an integer to  silence this warning.\n",
            "  FutureWarning,\n",
            "/usr/local/lib/python3.7/dist-packages/statsmodels/tsa/stattools.py:671: FutureWarning: fft=True will become the default after the release of the 0.12 release of statsmodels. To suppress this warning, explicitly set fft=False.\n",
            "  FutureWarning,\n"
          ]
        }
      ],
      "source": [
        "from statsmodels.tsa.stattools import acf\n",
        "print(acf(ts['serie']))\n",
        "\n"
      ]
    },
    {
      "cell_type": "markdown",
      "id": "c5d6c408",
      "metadata": {
        "id": "c5d6c408"
      },
      "source": [
        "### Example: Random walk"
      ]
    },
    {
      "cell_type": "markdown",
      "id": "d4bc224a",
      "metadata": {
        "id": "d4bc224a"
      },
      "source": [
        "The simplest stochastic process is the \"random walk\", described by the model:\n",
        "\n",
        "$X_t=X_{t-1}+Z_t$\n",
        "\n",
        "The random variable $X_t$ at time $t$ is equal to the random variable at previous time $t-1$ plus a residual $Z_t$ which is pure white noise:\n",
        "\n",
        "$Z_t\\sim Normal(\\mu,\\sigma^2)$\n",
        "\n",
        "i.e. a random variable with normal distribution with parameters $(\\mu,\\sigma^2)$.\n",
        "If we consider:\n",
        "\n",
        "* $X_0=0$\n",
        "* $X_1=X_0+Z_1=Z_1$\n",
        "* $X_2=X_1+Z_2=Z_1+Z_2$\n",
        "* $X_3=X_2+Z_3=Z_1+Z_2+Z_3$\n",
        "* ...\n",
        "* $X_t=\\sum_{i=1}^t Z_i$\n",
        "\n",
        "For the linearity of expectation, we have:\n",
        "\n",
        "$E[X_t]=E\\big[\\sum_{i=1}^t Z_i\\big]=\\sum_{i=1}^t E[Z_i]=\\mu t$\n",
        "\n",
        "$Var(X_t)=Var\\big(\\sum_{i=1}^t Z_i\\big)=\\sum_{i=1}^t Var(Z_i)=\\sigma^2t$\n",
        "\n",
        "We simulate a random walk with $X_1=0$ and $Z_t\\sim Normal(0,1)$:"
      ]
    },
    {
      "cell_type": "code",
      "execution_count": null,
      "id": "9b1934f7",
      "metadata": {
        "colab": {
          "base_uri": "https://localhost:8080/",
          "height": 283
        },
        "id": "9b1934f7",
        "outputId": "079ace5f-b945-4428-b3b3-b5d280d47746"
      },
      "outputs": [
        {
          "data": {
            "text/plain": [
              "[<matplotlib.lines.Line2D at 0x7fb6542d8b10>]"
            ]
          },
          "execution_count": 5,
          "metadata": {},
          "output_type": "execute_result"
        },
        {
          "data": {
            "image/png": "[encoded data removed]",
            "text/plain": [
              "<Figure size 432x288 with 1 Axes>"
            ]
          },
          "metadata": {
            "needs_background": "light"
          },
          "output_type": "display_data"
        }
      ],
      "source": [
        "x = np.zeros(1000)\n",
        "\n",
        "for i in range(1,1000):\n",
        "    z = np.random.normal(0,1,1)\n",
        "    x[i]=x[i-1]+z\n",
        "\n",
        "rw = pd.DataFrame()\n",
        "rw['serie']=x\n",
        "plt.plot(rw)"
      ]
    },
    {
      "cell_type": "code",
      "execution_count": null,
      "id": "3b7cb180",
      "metadata": {
        "colab": {
          "base_uri": "https://localhost:8080/"
        },
        "id": "3b7cb180",
        "outputId": "beb1a32f-ffdd-4604-9d66-f250f5b227b0"
      },
      "outputs": [
        {
          "name": "stdout",
          "output_type": "stream",
          "text": [
            "[1.         0.98864886 0.97759968 0.96723902 0.95610508 0.9448611\n",
            " 0.93542636 0.92553132 0.91550347 0.90576185 0.89621127 0.88601391\n",
            " 0.87616968 0.86624307 0.85654296 0.84761068 0.84012297 0.83296206\n",
            " 0.82622603 0.81983975 0.8121033  0.80384286 0.79559114 0.78783986\n",
            " 0.78026134 0.77186253 0.76333208 0.75589086 0.74823135 0.74036255\n",
            " 0.73316251 0.72734595 0.72175515 0.71505396 0.7088085  0.70207863\n",
            " 0.69487712 0.68814569 0.68241817 0.67630844 0.67025843]\n"
          ]
        }
      ],
      "source": [
        "print(acf(rw['serie']))"
      ]
    },
    {
      "cell_type": "code",
      "execution_count": null,
      "id": "9bfc9002",
      "metadata": {
        "colab": {
          "base_uri": "https://localhost:8080/",
          "height": 281
        },
        "id": "9bfc9002",
        "outputId": "ac212f21-70b3-4788-aa1e-8fdaba0c1a50"
      },
      "outputs": [
        {
          "data": {
            "image/png": "[encoded data removed]",
            "text/plain": [
              "<Figure size 432x288 with 1 Axes>"
            ]
          },
          "metadata": {
            "needs_background": "light"
          },
          "output_type": "display_data"
        }
      ],
      "source": [
        "plot_acf(rw)\n",
        "plt.show()"
      ]
    },
    {
      "cell_type": "markdown",
      "id": "b91f89f9",
      "metadata": {
        "id": "b91f89f9"
      },
      "source": [
        "We can see that there is high autocorrelation and there is no stationarity. To remove the trend we can create a new time series using the so called \"difference operator\", which calculates the difference:\n",
        "\n",
        "$X_t-X_{t-1}$\n",
        "\n",
        "at any time t. Given the random walk\n",
        "\n",
        "$\\nabla X_{t}=X_t-X_{t-1}$\n",
        "\n",
        "Applying it to the random walk process:\n",
        "\n",
        "$X_t=X_{t-1}+Z_t$\n",
        "\n",
        "$\\nabla X_t=X_t-X_{t-1}=Z_t$\n",
        "\n",
        "and the result is the purely random process $Z_t$, and it is stationary."
      ]
    },
    {
      "cell_type": "code",
      "execution_count": null,
      "id": "ee7a8234",
      "metadata": {
        "colab": {
          "base_uri": "https://localhost:8080/",
          "height": 283
        },
        "id": "ee7a8234",
        "outputId": "50a0784c-136d-4d4e-9d41-a9420221dc5a"
      },
      "outputs": [
        {
          "data": {
            "text/plain": [
              "[<matplotlib.lines.Line2D at 0x7fb6541b3fd0>]"
            ]
          },
          "execution_count": 8,
          "metadata": {},
          "output_type": "execute_result"
        },
        {
          "data": {
            "image/png": "[encoded data removed]",
            "text/plain": [
              "<Figure size 432x288 with 1 Axes>"
            ]
          },
          "metadata": {
            "needs_background": "light"
          },
          "output_type": "display_data"
        }
      ],
      "source": [
        "from statsmodels.tsa.statespace.tools import diff\n",
        "rwdiff = diff(rw['serie'])\n",
        "plt.plot(rwdiff)"
      ]
    },
    {
      "cell_type": "code",
      "execution_count": null,
      "id": "308dbe9c",
      "metadata": {
        "colab": {
          "base_uri": "https://localhost:8080/",
          "height": 281
        },
        "id": "308dbe9c",
        "outputId": "1ff32629-463d-4093-8a39-8f10237eb145"
      },
      "outputs": [
        {
          "data": {
            "image/png": "[encoded data removed]",
            "text/plain": [
              "<Figure size 432x288 with 1 Axes>"
            ]
          },
          "metadata": {
            "needs_background": "light"
          },
          "output_type": "display_data"
        }
      ],
      "source": [
        "plot_acf(rwdiff)\n",
        "plt.show()"
      ]
    },
    {
      "cell_type": "markdown",
      "id": "0e4a0c64",
      "metadata": {
        "id": "0e4a0c64"
      },
      "source": [
        "### Example: Moving Average processes (MA(q))"
      ]
    },
    {
      "cell_type": "markdown",
      "id": "00944844",
      "metadata": {
        "id": "00944844"
      },
      "source": [
        "In the random walk process, we have modeled the random variable at time $t$ as given by the value of the random variable at previous step and the white noise at current step. Let's consider, now, a process where there is a dependence also on the white noise at previous steps $t-1$ and $t-2$:\n",
        "\n",
        "$X_t = Z_t+\\theta_1Z_{t-1}+\\theta_2Z_{t-2}$\n",
        "\n",
        "where $\\theta_1,\\theta_2$ are constants. This process is called a \"moving average\" process of order 2, since it depends on the noise of two steps back. In general, a moving average process of order q (MA(q)) is defined as:\n",
        "\n",
        "$X_t=Z_t+\\theta_1Z_{t-1}+\\theta_2Z_{t-2}+...+\\theta_qZ_{t-q}$\n",
        "\n",
        "with $Z_i$ are independent identically distributed (i.i.d.) and $Z_i\\sim Normal(\\mu,\\sigma^2)$.\n",
        "\n"
      ]
    },
    {
      "cell_type": "markdown",
      "id": "1d6f6bd6",
      "metadata": {
        "id": "1d6f6bd6"
      },
      "source": [
        "### Simulate of MA(2) process\n",
        "\n",
        "We will simulate a MA(2) process such that:\n",
        "\n",
        "*$X_t=Z_t+0.7Z_{t-1}+0.2Z_{t-2}$\n",
        "\n",
        "*$Z_t\\sim Normal(0,1)$\n",
        "\n",
        "Generate 100 values"
      ]
    },
    {
      "cell_type": "code",
      "execution_count": null,
      "id": "5pAEqWY1FRo8",
      "metadata": {
        "id": "5pAEqWY1FRo8"
      },
      "outputs": [],
      "source": [
        "x = np.zeros(100)\n",
        "\n",
        "for i in range(1,100):\n",
        "    z = np.random.normal(0,1,1)\n",
        "    x[i]=x[i-1]+z\n",
        "\n",
        "datos_generados = pd.DataFrame()\n",
        "datos_generados['serie']=x\n",
        "plt.plot(datos_generados)\n"
      ]
    },
    {
      "cell_type": "markdown",
      "id": "xLHQJ7emFSFe",
      "metadata": {
        "id": "xLHQJ7emFSFe"
      },
      "source": [
        "Draw the acf for the simulated series"
      ]
    },
    {
      "cell_type": "code",
      "execution_count": null,
      "id": "6sDKYBPsFnup",
      "metadata": {
        "id": "6sDKYBPsFnup"
      },
      "outputs": [],
      "source": [
        "plot_acf(datos_generados)\n",
        "plt.show()"
      ]
    },
    {
      "cell_type": "markdown",
      "id": "0e4648e2",
      "metadata": {
        "id": "0e4648e2"
      },
      "source": [
        "What are the significative ACF? For which lags? How many ACF values are significative? Which is the order of the process?\n",
        "\n"
      ]
    },
    {
      "cell_type": "markdown",
      "id": "84230edb",
      "metadata": {
        "id": "84230edb"
      },
      "source": [
        "## Simulation of MA(3) process"
      ]
    },
    {
      "cell_type": "markdown",
      "id": "363fd697",
      "metadata": {
        "id": "363fd697"
      },
      "source": [
        "We will simulate a MA(3) process such that:\n",
        "\n",
        "*$X_t=Z_t+0.7Z_{t-1}+0.2Z_{t-2}+0.5Z_{t-3}$\n",
        "\n",
        "*$Z_t\\sim Normal(0,1)$\n",
        "\n",
        "Generate 100 values"
      ]
    },
    {
      "cell_type": "code",
      "execution_count": null,
      "id": "OnOm8W7-LDMC",
      "metadata": {
        "id": "OnOm8W7-LDMC"
      },
      "outputs": [],
      "source": [
        "x = np.zeros(100)\n",
        "\n",
        "for i in range(1,100):\n",
        "    z = np.random.normal(0,1,1)\n",
        "    x[i]=x[i-1]+z\n",
        "\n",
        "datos_generados = pd.DataFrame()\n",
        "datos_generados['serie']=x\n",
        "plt.plot(datos_generados)"
      ]
    },
    {
      "cell_type": "markdown",
      "id": "DGHcIJHeF7dm",
      "metadata": {
        "id": "DGHcIJHeF7dm"
      },
      "source": [
        "Draw the ACF:"
      ]
    },
    {
      "cell_type": "code",
      "execution_count": null,
      "id": "39JKTQfKF9vP",
      "metadata": {
        "id": "39JKTQfKF9vP"
      },
      "outputs": [],
      "source": [
        "plot_acf(datos_generados)\n",
        "plt.show()"
      ]
    },
    {
      "cell_type": "markdown",
      "id": "4c6b2ebc",
      "metadata": {
        "id": "4c6b2ebc"
      },
      "source": [
        "What are the significative ACF? For which lags? How many ACF values are significative? Which is the order of the process?\n"
      ]
    },
    {
      "cell_type": "markdown",
      "id": "9f708fc7",
      "metadata": {
        "id": "9f708fc7"
      },
      "source": [
        "## Autoregressive process AR(p)"
      ]
    },
    {
      "cell_type": "markdown",
      "id": "150dace6",
      "metadata": {
        "id": "150dace6"
      },
      "source": [
        "Considering the white noise $Z_t\\sim Normal(0,\\sigma^2)$, we define an autoregressive process of order $p$ as:\n",
        "\n",
        "$X_t=Z_t+\\phi_1X_{t-1}+\\phi_2X_{t-2}+...+\\phi_pX_{t-p}$\n",
        "\n",
        "The term at time $t$ contains the \"history\" of $p$ previous steps.\n",
        "The random walk is an autoregressive process of order 1 (AR(1)), with the coefficient $\\phi_1=1$.\n",
        "An autoregressive process is not necessarily stationary."
      ]
    },
    {
      "cell_type": "markdown",
      "id": "e865e7ac",
      "metadata": {
        "id": "e865e7ac"
      },
      "source": [
        "### Simulation of an AR(1) process"
      ]
    },
    {
      "cell_type": "markdown",
      "id": "qVrqftkYGRw5",
      "metadata": {
        "id": "qVrqftkYGRw5"
      },
      "source": [
        "Simulate an AR(1) process, with $\\phi_1=1$:"
      ]
    },
    {
      "cell_type": "code",
      "execution_count": null,
      "id": "U1EiewHMGd1j",
      "metadata": {
        "id": "U1EiewHMGd1j"
      },
      "outputs": [],
      "source": []
    },
    {
      "cell_type": "markdown",
      "id": "goP3d7D6Ge1v",
      "metadata": {
        "id": "goP3d7D6Ge1v"
      },
      "source": [
        "Draw the ACF:"
      ]
    },
    {
      "cell_type": "code",
      "execution_count": null,
      "id": "SSjjZs-uGiXB",
      "metadata": {
        "id": "SSjjZs-uGiXB"
      },
      "outputs": [],
      "source": []
    },
    {
      "cell_type": "markdown",
      "id": "0e5ab219",
      "metadata": {
        "id": "0e5ab219"
      },
      "source": [
        "What are the significative ACF? For which lags? How many ACF values are significative? Which is the order of the process?\n"
      ]
    },
    {
      "cell_type": "markdown",
      "id": "09e3cbb5",
      "metadata": {
        "id": "09e3cbb5"
      },
      "source": [
        "## Simulation of AR(2) process\n",
        "\n",
        "Let's simulate the process:\n",
        "\n",
        "$X_t=Z_t+0.7X_{t-1}+0.2X_{t-2}$"
      ]
    },
    {
      "cell_type": "code",
      "execution_count": null,
      "id": "Mc0_-bXJGvta",
      "metadata": {
        "id": "Mc0_-bXJGvta"
      },
      "outputs": [],
      "source": []
    },
    {
      "cell_type": "markdown",
      "id": "n3LMTaiMGxZA",
      "metadata": {
        "id": "n3LMTaiMGxZA"
      },
      "source": [
        "Draw the ACF:"
      ]
    },
    {
      "cell_type": "code",
      "execution_count": null,
      "id": "5Dm-9C1JGzyy",
      "metadata": {
        "id": "5Dm-9C1JGzyy"
      },
      "outputs": [],
      "source": []
    },
    {
      "cell_type": "markdown",
      "id": "r5qdRbPFG0Gc",
      "metadata": {
        "id": "r5qdRbPFG0Gc"
      },
      "source": [
        "What are the significative ACF? For which lags? How many ACF values are significative? Which is the order of the process?\n"
      ]
    }
  ],
  "metadata": {
    "colab": {
      "provenance": []
    },
    "kernelspec": {
      "display_name": "Python 3",
      "language": "python",
      "name": "python3"
    },
    "language_info": {
      "codemirror_mode": {
        "name": "ipython",
        "version": 3
      },
      "file_extension": ".py",
      "mimetype": "text/x-python",
      "name": "python",
      "nbconvert_exporter": "python",
      "pygments_lexer": "ipython3",
      "version": "3.8.8"
    }
  },
  "nbformat": 4,
  "nbformat_minor": 5
}
