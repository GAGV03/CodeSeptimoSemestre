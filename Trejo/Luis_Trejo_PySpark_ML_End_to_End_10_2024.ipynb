{
  "cells": [
    {
      "cell_type": "markdown",
      "metadata": {
        "id": "kbRRaZlBt6Nh"
      },
      "source": [
        "# End-to-end Machine Learning PySpark Tutorial\n",
        "https://www.datacamp.com/tutorial/pyspark-tutorial-getting-started-with-pyspark\n",
        "\n",
        "Customer segmentation is a marketing technique companies use  to identify and group users who display similar characteristics. For instance, if you visit Starbucks only during the summer to purchase cold beverages, you can be segmented as a “seasonal shopper” and enticed with special promotions curated for  the summer season.\n",
        "\n",
        "Data scientists usually build unsupervised machine learning algorithms such as K-Means clustering or hierarchical clustering to perform customer segmentation. These models are great at identifying similar patterns between user groups that often go unnoticed by the human eye.\n",
        "\n",
        "In this tutorial, we will use K-Means clustering to perform customer segmentation on the e-commerce dataset.\n"
      ]
    },
    {
      "cell_type": "markdown",
      "metadata": {
        "id": "LmspIOWW45g3"
      },
      "source": [
        "By the end of this tutorial, you will be familiar with the following concepts:\n",
        "\n",
        "\n",
        "\n",
        "*   Reading csv files with PySpark\n",
        "*   Exploratory Data Analysis with PySpark\n",
        "*   Grouping and sorting data\n",
        "*   Performing arithmetic operations\n",
        "*   Aggregating datasets\n",
        "*   Data Pre-Processing with PySpark\n",
        "*   Working with datetime values\n",
        "*   Type conversion\n",
        "*   Joining two dataframes\n",
        "*   The rank() function\n",
        "*   Creating a feature vector\n",
        "*   Standardizing data\n",
        "*   Building a K-Means clustering model\n",
        "*   Interpreting the model"
      ]
    },
    {
      "cell_type": "markdown",
      "metadata": {
        "id": "K6Iv32T_kgRf"
      },
      "source": [
        "##Paso 1: Configuración del entorno de PySpark en Colab"
      ]
    },
    {
      "cell_type": "code",
      "execution_count": 2,
      "metadata": {
        "colab": {
          "base_uri": "https://localhost:8080/",
          "height": 472
        },
        "id": "sKfMHXDwiZqF",
        "outputId": "bb8f8632-e052-4e98-e73e-d2b8a9a14b81"
      },
      "outputs": [],
      "source": [
        "#Bibliotecas para poder trabajar con Spark\n",
        "#!sudo apt update\n",
        "#!apt-get install openjdk-8-jdk-headless -qq > /dev/null\n",
        "\n",
        "#!wget -q https://downloads.apache.org/spark/spark-3.5.3/spark-3.5.3-bin-hadoop3.tgz\n",
        "#!tar xf spark-3.5.3-bin-hadoop3.tgz\n",
        "#Configuración de Spark con Python\n",
        "#!pip install -q findspark\n",
        "#!pip install pyspark\n",
        "\n",
        "#Estableciendo variable de entorno\n",
        "#import os\n",
        "#os.environ[\"JAVA_HOME\"] = \"/usr/lib/jvm/java-8-openjdk-amd64\"\n",
        "#os.environ[\"SPARK_HOME\"] = \"/content/spark-3.5.3-bin-hadoop3\"\n",
        "\n",
        "##Buscando e inicializando la instalación de Spark\n",
        "#import findspark\n",
        "#findspark.init()\n",
        "#findspark.find()"
      ]
    },
    {
      "cell_type": "markdown",
      "metadata": {
        "id": "w0AdI1cIBq82"
      },
      "source": [
        "# Paso 2: Crear la sesión de trabajo de Spark\n",
        "\n",
        "Ya seleccionado y visto el conjunto de datos comencemos a trabajar con PySpark. Para comenzar a trabajar con PySpark, debemos iniciar la sesión de Spark. Para esto realizaremos lo siguiente:\n",
        "\n",
        "Importar SparkSession\n",
        "Crear la sesión"
      ]
    },
    {
      "cell_type": "markdown",
      "metadata": {
        "id": "_dilmvumB7CL"
      },
      "source": [
        "# Iniciar Sesión"
      ]
    },
    {
      "cell_type": "code",
      "execution_count": 5,
      "metadata": {
        "colab": {
          "base_uri": "https://localhost:8080/",
          "height": 369
        },
        "id": "7GTkQzcVCHpR",
        "outputId": "31d9069d-38f8-48ed-d3c0-6843432a4a4c"
      },
      "outputs": [
        {
          "ename": "FileNotFoundError",
          "evalue": "[Errno 2] No such file or directory: '/content/spark-3.5.3-bin-hadoop3/./bin/spark-submit'",
          "output_type": "error",
          "traceback": [
            "\u001b[0;31m---------------------------------------------------------------------------\u001b[0m",
            "\u001b[0;31mFileNotFoundError\u001b[0m                         Traceback (most recent call last)",
            "Cell \u001b[0;32mIn[5], line 14\u001b[0m\n\u001b[1;32m     11\u001b[0m findspark\u001b[38;5;241m.\u001b[39minit()\n\u001b[1;32m     13\u001b[0m \u001b[38;5;66;03m# Create Spark session\u001b[39;00m\n\u001b[0;32m---> 14\u001b[0m spark \u001b[38;5;241m=\u001b[39m \u001b[43mSparkSession\u001b[49m\u001b[38;5;241;43m.\u001b[39;49m\u001b[43mbuilder\u001b[49m\u001b[38;5;241;43m.\u001b[39;49m\u001b[43mappName\u001b[49m\u001b[43m(\u001b[49m\u001b[38;5;124;43m'\u001b[39;49m\u001b[38;5;124;43mPySpark_LuisTrejo1\u001b[39;49m\u001b[38;5;124;43m'\u001b[39;49m\u001b[43m)\u001b[49m\u001b[38;5;241;43m.\u001b[39;49m\u001b[43mgetOrCreate\u001b[49m\u001b[43m(\u001b[49m\u001b[43m)\u001b[49m\n\u001b[1;32m     15\u001b[0m spark\n",
            "File \u001b[0;32m~/miniconda3/envs/Ambiente-Conda/lib/python3.12/site-packages/pyspark/sql/session.py:477\u001b[0m, in \u001b[0;36mSparkSession.Builder.getOrCreate\u001b[0;34m(self)\u001b[0m\n\u001b[1;32m    475\u001b[0m     sparkConf\u001b[38;5;241m.\u001b[39mset(key, value)\n\u001b[1;32m    476\u001b[0m \u001b[38;5;66;03m# This SparkContext may be an existing one.\u001b[39;00m\n\u001b[0;32m--> 477\u001b[0m sc \u001b[38;5;241m=\u001b[39m \u001b[43mSparkContext\u001b[49m\u001b[38;5;241;43m.\u001b[39;49m\u001b[43mgetOrCreate\u001b[49m\u001b[43m(\u001b[49m\u001b[43msparkConf\u001b[49m\u001b[43m)\u001b[49m\n\u001b[1;32m    478\u001b[0m \u001b[38;5;66;03m# Do not update `SparkConf` for existing `SparkContext`, as it's shared\u001b[39;00m\n\u001b[1;32m    479\u001b[0m \u001b[38;5;66;03m# by all sessions.\u001b[39;00m\n\u001b[1;32m    480\u001b[0m session \u001b[38;5;241m=\u001b[39m SparkSession(sc, options\u001b[38;5;241m=\u001b[39m\u001b[38;5;28mself\u001b[39m\u001b[38;5;241m.\u001b[39m_options)\n",
            "File \u001b[0;32m~/miniconda3/envs/Ambiente-Conda/lib/python3.12/site-packages/pyspark/context.py:512\u001b[0m, in \u001b[0;36mSparkContext.getOrCreate\u001b[0;34m(cls, conf)\u001b[0m\n\u001b[1;32m    510\u001b[0m \u001b[38;5;28;01mwith\u001b[39;00m SparkContext\u001b[38;5;241m.\u001b[39m_lock:\n\u001b[1;32m    511\u001b[0m     \u001b[38;5;28;01mif\u001b[39;00m SparkContext\u001b[38;5;241m.\u001b[39m_active_spark_context \u001b[38;5;129;01mis\u001b[39;00m \u001b[38;5;28;01mNone\u001b[39;00m:\n\u001b[0;32m--> 512\u001b[0m         \u001b[43mSparkContext\u001b[49m\u001b[43m(\u001b[49m\u001b[43mconf\u001b[49m\u001b[38;5;241;43m=\u001b[39;49m\u001b[43mconf\u001b[49m\u001b[43m \u001b[49m\u001b[38;5;129;43;01mor\u001b[39;49;00m\u001b[43m \u001b[49m\u001b[43mSparkConf\u001b[49m\u001b[43m(\u001b[49m\u001b[43m)\u001b[49m\u001b[43m)\u001b[49m\n\u001b[1;32m    513\u001b[0m     \u001b[38;5;28;01massert\u001b[39;00m SparkContext\u001b[38;5;241m.\u001b[39m_active_spark_context \u001b[38;5;129;01mis\u001b[39;00m \u001b[38;5;129;01mnot\u001b[39;00m \u001b[38;5;28;01mNone\u001b[39;00m\n\u001b[1;32m    514\u001b[0m     \u001b[38;5;28;01mreturn\u001b[39;00m SparkContext\u001b[38;5;241m.\u001b[39m_active_spark_context\n",
            "File \u001b[0;32m~/miniconda3/envs/Ambiente-Conda/lib/python3.12/site-packages/pyspark/context.py:198\u001b[0m, in \u001b[0;36mSparkContext.__init__\u001b[0;34m(self, master, appName, sparkHome, pyFiles, environment, batchSize, serializer, conf, gateway, jsc, profiler_cls, udf_profiler_cls, memory_profiler_cls)\u001b[0m\n\u001b[1;32m    192\u001b[0m \u001b[38;5;28;01mif\u001b[39;00m gateway \u001b[38;5;129;01mis\u001b[39;00m \u001b[38;5;129;01mnot\u001b[39;00m \u001b[38;5;28;01mNone\u001b[39;00m \u001b[38;5;129;01mand\u001b[39;00m gateway\u001b[38;5;241m.\u001b[39mgateway_parameters\u001b[38;5;241m.\u001b[39mauth_token \u001b[38;5;129;01mis\u001b[39;00m \u001b[38;5;28;01mNone\u001b[39;00m:\n\u001b[1;32m    193\u001b[0m     \u001b[38;5;28;01mraise\u001b[39;00m \u001b[38;5;167;01mValueError\u001b[39;00m(\n\u001b[1;32m    194\u001b[0m         \u001b[38;5;124m\"\u001b[39m\u001b[38;5;124mYou are trying to pass an insecure Py4j gateway to Spark. This\u001b[39m\u001b[38;5;124m\"\u001b[39m\n\u001b[1;32m    195\u001b[0m         \u001b[38;5;124m\"\u001b[39m\u001b[38;5;124m is not allowed as it is a security risk.\u001b[39m\u001b[38;5;124m\"\u001b[39m\n\u001b[1;32m    196\u001b[0m     )\n\u001b[0;32m--> 198\u001b[0m \u001b[43mSparkContext\u001b[49m\u001b[38;5;241;43m.\u001b[39;49m\u001b[43m_ensure_initialized\u001b[49m\u001b[43m(\u001b[49m\u001b[38;5;28;43mself\u001b[39;49m\u001b[43m,\u001b[49m\u001b[43m \u001b[49m\u001b[43mgateway\u001b[49m\u001b[38;5;241;43m=\u001b[39;49m\u001b[43mgateway\u001b[49m\u001b[43m,\u001b[49m\u001b[43m \u001b[49m\u001b[43mconf\u001b[49m\u001b[38;5;241;43m=\u001b[39;49m\u001b[43mconf\u001b[49m\u001b[43m)\u001b[49m\n\u001b[1;32m    199\u001b[0m \u001b[38;5;28;01mtry\u001b[39;00m:\n\u001b[1;32m    200\u001b[0m     \u001b[38;5;28mself\u001b[39m\u001b[38;5;241m.\u001b[39m_do_init(\n\u001b[1;32m    201\u001b[0m         master,\n\u001b[1;32m    202\u001b[0m         appName,\n\u001b[0;32m   (...)\u001b[0m\n\u001b[1;32m    212\u001b[0m         memory_profiler_cls,\n\u001b[1;32m    213\u001b[0m     )\n",
            "File \u001b[0;32m~/miniconda3/envs/Ambiente-Conda/lib/python3.12/site-packages/pyspark/context.py:432\u001b[0m, in \u001b[0;36mSparkContext._ensure_initialized\u001b[0;34m(cls, instance, gateway, conf)\u001b[0m\n\u001b[1;32m    430\u001b[0m \u001b[38;5;28;01mwith\u001b[39;00m SparkContext\u001b[38;5;241m.\u001b[39m_lock:\n\u001b[1;32m    431\u001b[0m     \u001b[38;5;28;01mif\u001b[39;00m \u001b[38;5;129;01mnot\u001b[39;00m SparkContext\u001b[38;5;241m.\u001b[39m_gateway:\n\u001b[0;32m--> 432\u001b[0m         SparkContext\u001b[38;5;241m.\u001b[39m_gateway \u001b[38;5;241m=\u001b[39m gateway \u001b[38;5;129;01mor\u001b[39;00m \u001b[43mlaunch_gateway\u001b[49m\u001b[43m(\u001b[49m\u001b[43mconf\u001b[49m\u001b[43m)\u001b[49m\n\u001b[1;32m    433\u001b[0m         SparkContext\u001b[38;5;241m.\u001b[39m_jvm \u001b[38;5;241m=\u001b[39m SparkContext\u001b[38;5;241m.\u001b[39m_gateway\u001b[38;5;241m.\u001b[39mjvm\n\u001b[1;32m    435\u001b[0m     \u001b[38;5;28;01mif\u001b[39;00m instance:\n",
            "File \u001b[0;32m~/miniconda3/envs/Ambiente-Conda/lib/python3.12/site-packages/pyspark/java_gateway.py:96\u001b[0m, in \u001b[0;36mlaunch_gateway\u001b[0;34m(conf, popen_kwargs)\u001b[0m\n\u001b[1;32m     93\u001b[0m         signal\u001b[38;5;241m.\u001b[39msignal(signal\u001b[38;5;241m.\u001b[39mSIGINT, signal\u001b[38;5;241m.\u001b[39mSIG_IGN)\n\u001b[1;32m     95\u001b[0m     popen_kwargs[\u001b[38;5;124m\"\u001b[39m\u001b[38;5;124mpreexec_fn\u001b[39m\u001b[38;5;124m\"\u001b[39m] \u001b[38;5;241m=\u001b[39m preexec_func\n\u001b[0;32m---> 96\u001b[0m     proc \u001b[38;5;241m=\u001b[39m \u001b[43mPopen\u001b[49m\u001b[43m(\u001b[49m\u001b[43mcommand\u001b[49m\u001b[43m,\u001b[49m\u001b[43m \u001b[49m\u001b[38;5;241;43m*\u001b[39;49m\u001b[38;5;241;43m*\u001b[39;49m\u001b[43mpopen_kwargs\u001b[49m\u001b[43m)\u001b[49m\n\u001b[1;32m     97\u001b[0m \u001b[38;5;28;01melse\u001b[39;00m:\n\u001b[1;32m     98\u001b[0m     \u001b[38;5;66;03m# preexec_fn not supported on Windows\u001b[39;00m\n\u001b[1;32m     99\u001b[0m     proc \u001b[38;5;241m=\u001b[39m Popen(command, \u001b[38;5;241m*\u001b[39m\u001b[38;5;241m*\u001b[39mpopen_kwargs)\n",
            "File \u001b[0;32m~/miniconda3/envs/Ambiente-Conda/lib/python3.12/subprocess.py:1026\u001b[0m, in \u001b[0;36mPopen.__init__\u001b[0;34m(self, args, bufsize, executable, stdin, stdout, stderr, preexec_fn, close_fds, shell, cwd, env, universal_newlines, startupinfo, creationflags, restore_signals, start_new_session, pass_fds, user, group, extra_groups, encoding, errors, text, umask, pipesize, process_group)\u001b[0m\n\u001b[1;32m   1022\u001b[0m         \u001b[38;5;28;01mif\u001b[39;00m \u001b[38;5;28mself\u001b[39m\u001b[38;5;241m.\u001b[39mtext_mode:\n\u001b[1;32m   1023\u001b[0m             \u001b[38;5;28mself\u001b[39m\u001b[38;5;241m.\u001b[39mstderr \u001b[38;5;241m=\u001b[39m io\u001b[38;5;241m.\u001b[39mTextIOWrapper(\u001b[38;5;28mself\u001b[39m\u001b[38;5;241m.\u001b[39mstderr,\n\u001b[1;32m   1024\u001b[0m                     encoding\u001b[38;5;241m=\u001b[39mencoding, errors\u001b[38;5;241m=\u001b[39merrors)\n\u001b[0;32m-> 1026\u001b[0m     \u001b[38;5;28;43mself\u001b[39;49m\u001b[38;5;241;43m.\u001b[39;49m\u001b[43m_execute_child\u001b[49m\u001b[43m(\u001b[49m\u001b[43margs\u001b[49m\u001b[43m,\u001b[49m\u001b[43m \u001b[49m\u001b[43mexecutable\u001b[49m\u001b[43m,\u001b[49m\u001b[43m \u001b[49m\u001b[43mpreexec_fn\u001b[49m\u001b[43m,\u001b[49m\u001b[43m \u001b[49m\u001b[43mclose_fds\u001b[49m\u001b[43m,\u001b[49m\n\u001b[1;32m   1027\u001b[0m \u001b[43m                        \u001b[49m\u001b[43mpass_fds\u001b[49m\u001b[43m,\u001b[49m\u001b[43m \u001b[49m\u001b[43mcwd\u001b[49m\u001b[43m,\u001b[49m\u001b[43m \u001b[49m\u001b[43menv\u001b[49m\u001b[43m,\u001b[49m\n\u001b[1;32m   1028\u001b[0m \u001b[43m                        \u001b[49m\u001b[43mstartupinfo\u001b[49m\u001b[43m,\u001b[49m\u001b[43m \u001b[49m\u001b[43mcreationflags\u001b[49m\u001b[43m,\u001b[49m\u001b[43m \u001b[49m\u001b[43mshell\u001b[49m\u001b[43m,\u001b[49m\n\u001b[1;32m   1029\u001b[0m \u001b[43m                        \u001b[49m\u001b[43mp2cread\u001b[49m\u001b[43m,\u001b[49m\u001b[43m \u001b[49m\u001b[43mp2cwrite\u001b[49m\u001b[43m,\u001b[49m\n\u001b[1;32m   1030\u001b[0m \u001b[43m                        \u001b[49m\u001b[43mc2pread\u001b[49m\u001b[43m,\u001b[49m\u001b[43m \u001b[49m\u001b[43mc2pwrite\u001b[49m\u001b[43m,\u001b[49m\n\u001b[1;32m   1031\u001b[0m \u001b[43m                        \u001b[49m\u001b[43merrread\u001b[49m\u001b[43m,\u001b[49m\u001b[43m \u001b[49m\u001b[43merrwrite\u001b[49m\u001b[43m,\u001b[49m\n\u001b[1;32m   1032\u001b[0m \u001b[43m                        \u001b[49m\u001b[43mrestore_signals\u001b[49m\u001b[43m,\u001b[49m\n\u001b[1;32m   1033\u001b[0m \u001b[43m                        \u001b[49m\u001b[43mgid\u001b[49m\u001b[43m,\u001b[49m\u001b[43m \u001b[49m\u001b[43mgids\u001b[49m\u001b[43m,\u001b[49m\u001b[43m \u001b[49m\u001b[43muid\u001b[49m\u001b[43m,\u001b[49m\u001b[43m \u001b[49m\u001b[43mumask\u001b[49m\u001b[43m,\u001b[49m\n\u001b[1;32m   1034\u001b[0m \u001b[43m                        \u001b[49m\u001b[43mstart_new_session\u001b[49m\u001b[43m,\u001b[49m\u001b[43m \u001b[49m\u001b[43mprocess_group\u001b[49m\u001b[43m)\u001b[49m\n\u001b[1;32m   1035\u001b[0m \u001b[38;5;28;01mexcept\u001b[39;00m:\n\u001b[1;32m   1036\u001b[0m     \u001b[38;5;66;03m# Cleanup if the child failed starting.\u001b[39;00m\n\u001b[1;32m   1037\u001b[0m     \u001b[38;5;28;01mfor\u001b[39;00m f \u001b[38;5;129;01min\u001b[39;00m \u001b[38;5;28mfilter\u001b[39m(\u001b[38;5;28;01mNone\u001b[39;00m, (\u001b[38;5;28mself\u001b[39m\u001b[38;5;241m.\u001b[39mstdin, \u001b[38;5;28mself\u001b[39m\u001b[38;5;241m.\u001b[39mstdout, \u001b[38;5;28mself\u001b[39m\u001b[38;5;241m.\u001b[39mstderr)):\n",
            "File \u001b[0;32m~/miniconda3/envs/Ambiente-Conda/lib/python3.12/subprocess.py:1955\u001b[0m, in \u001b[0;36mPopen._execute_child\u001b[0;34m(self, args, executable, preexec_fn, close_fds, pass_fds, cwd, env, startupinfo, creationflags, shell, p2cread, p2cwrite, c2pread, c2pwrite, errread, errwrite, restore_signals, gid, gids, uid, umask, start_new_session, process_group)\u001b[0m\n\u001b[1;32m   1953\u001b[0m     err_msg \u001b[38;5;241m=\u001b[39m os\u001b[38;5;241m.\u001b[39mstrerror(errno_num)\n\u001b[1;32m   1954\u001b[0m \u001b[38;5;28;01mif\u001b[39;00m err_filename \u001b[38;5;129;01mis\u001b[39;00m \u001b[38;5;129;01mnot\u001b[39;00m \u001b[38;5;28;01mNone\u001b[39;00m:\n\u001b[0;32m-> 1955\u001b[0m     \u001b[38;5;28;01mraise\u001b[39;00m child_exception_type(errno_num, err_msg, err_filename)\n\u001b[1;32m   1956\u001b[0m \u001b[38;5;28;01melse\u001b[39;00m:\n\u001b[1;32m   1957\u001b[0m     \u001b[38;5;28;01mraise\u001b[39;00m child_exception_type(errno_num, err_msg)\n",
            "\u001b[0;31mFileNotFoundError\u001b[0m: [Errno 2] No such file or directory: '/content/spark-3.5.3-bin-hadoop3/./bin/spark-submit'"
          ]
        }
      ],
      "source": [
        "# Verificar la funcionalidad de Pyspark\n",
        "from pyspark.sql import SparkSession\n",
        "import os\n",
        "import findspark\n",
        "\n",
        "# Set environment variables\n",
        "os.environ[\"JAVA_HOME\"] = \"/usr/lib/jvm/java-8-openjdk-amd64\"\n",
        "os.environ[\"SPARK_HOME\"] = \"/content/spark-3.5.3-bin-hadoop3\"\n",
        "\n",
        "# Initialize findspark\n",
        "findspark.init()\n",
        "\n",
        "# Create Spark session\n",
        "spark = SparkSession.builder.appName('PySpark_LuisTrejo1').getOrCreate()\n",
        "spark"
      ]
    },
    {
      "cell_type": "markdown",
      "metadata": {
        "id": "FFgGVz3r6fOx"
      },
      "source": [
        "#Step 2: Creating the DataFrame\n",
        "Note that we defined an escape character to avoid commas in the .csv file when parsing."
      ]
    },
    {
      "cell_type": "code",
      "execution_count": 4,
      "metadata": {
        "id": "kKU96Z0LF8wQ"
      },
      "outputs": [
        {
          "ename": "NameError",
          "evalue": "name 'spark' is not defined",
          "output_type": "error",
          "traceback": [
            "\u001b[0;31m---------------------------------------------------------------------------\u001b[0m",
            "\u001b[0;31mNameError\u001b[0m                                 Traceback (most recent call last)",
            "Cell \u001b[0;32mIn[4], line 1\u001b[0m\n\u001b[0;32m----> 1\u001b[0m df \u001b[38;5;241m=\u001b[39m \u001b[43mspark\u001b[49m\u001b[38;5;241m.\u001b[39mread\u001b[38;5;241m.\u001b[39mcsv(\u001b[38;5;124m'\u001b[39m\u001b[38;5;124mdatacamp_ecommerce1D.csv\u001b[39m\u001b[38;5;124m'\u001b[39m,header\u001b[38;5;241m=\u001b[39m\u001b[38;5;28;01mTrue\u001b[39;00m,escape\u001b[38;5;241m=\u001b[39m\u001b[38;5;124m\"\u001b[39m\u001b[38;5;130;01m\\\"\u001b[39;00m\u001b[38;5;124m\"\u001b[39m)\n",
            "\u001b[0;31mNameError\u001b[0m: name 'spark' is not defined"
          ]
        }
      ],
      "source": [
        "df = spark.read.csv('datacamp_ecommerce1D.csv',header=True,escape=\"\\\"\")\n"
      ]
    },
    {
      "cell_type": "code",
      "execution_count": null,
      "metadata": {
        "colab": {
          "base_uri": "https://localhost:8080/"
        },
        "id": "1Oshy15JHD2_",
        "outputId": "d5cd70d4-958d-4ce5-a3d3-b31dd8f6ac13"
      },
      "outputs": [
        {
          "name": "stdout",
          "output_type": "stream",
          "text": [
            "+---------+---------+--------------------+--------+----------------+---------+----------+--------------+\n",
            "|InvoiceNo|StockCode|         Description|Quantity|     InvoiceDate|UnitPrice|CustomerID|       Country|\n",
            "+---------+---------+--------------------+--------+----------------+---------+----------+--------------+\n",
            "|   536365|   85123A|WHITE HANGING HEA...|       6|01/12/2010 08:26|     2.55|     17850|United Kingdom|\n",
            "|   536365|    71053| WHITE METAL LANTERN|       6|01/12/2010 08:26|     3.39|     17850|United Kingdom|\n",
            "|   536365|   84406B|CREAM CUPID HEART...|       8|01/12/2010 08:26|     2.75|     17850|United Kingdom|\n",
            "|   536365|   84029G|KNITTED UNION FLA...|       6|01/12/2010 08:26|     3.39|     17850|United Kingdom|\n",
            "|   536365|   84029E|RED WOOLLY HOTTIE...|       6|01/12/2010 08:26|     3.39|     17850|United Kingdom|\n",
            "|   536365|    22752|SET 7 BABUSHKA NE...|       2|01/12/2010 08:26|     7.65|     17850|United Kingdom|\n",
            "|   536365|    21730|GLASS STAR FROSTE...|       6|01/12/2010 08:26|     4.25|     17850|United Kingdom|\n",
            "|   536366|    22633|HAND WARMER UNION...|       6|01/12/2010 08:28|     1.85|     17850|United Kingdom|\n",
            "|   536366|    22632|HAND WARMER RED P...|       6|01/12/2010 08:28|     1.85|     17850|United Kingdom|\n",
            "|   536367|    84879|ASSORTED COLOUR B...|      32|01/12/2010 08:34|     1.69|     13047|United Kingdom|\n",
            "|   536367|    22745|POPPY'S PLAYHOUSE...|       6|01/12/2010 08:34|      2.1|     13047|United Kingdom|\n",
            "|   536367|    22748|POPPY'S PLAYHOUSE...|       6|01/12/2010 08:34|      2.1|     13047|United Kingdom|\n",
            "|   536367|    22749|FELTCRAFT PRINCES...|       8|01/12/2010 08:34|     3.75|     13047|United Kingdom|\n",
            "|   536367|    22310|IVORY KNITTED MUG...|       6|01/12/2010 08:34|     1.65|     13047|United Kingdom|\n",
            "|   536367|    84969|BOX OF 6 ASSORTED...|       6|01/12/2010 08:34|     4.25|     13047|United Kingdom|\n",
            "|   536367|    22623|BOX OF VINTAGE JI...|       3|01/12/2010 08:34|     4.95|     13047|United Kingdom|\n",
            "|   536367|    22622|BOX OF VINTAGE AL...|       2|01/12/2010 08:34|     9.95|     13047|United Kingdom|\n",
            "|   536367|    21754|HOME BUILDING BLO...|       3|01/12/2010 08:34|     5.95|     13047|United Kingdom|\n",
            "|   536367|    21755|LOVE BUILDING BLO...|       3|01/12/2010 08:34|     5.95|     13047|United Kingdom|\n",
            "|   536367|    21777|RECIPE BOX WITH M...|       4|01/12/2010 08:34|     7.95|     13047|United Kingdom|\n",
            "+---------+---------+--------------------+--------+----------------+---------+----------+--------------+\n",
            "only showing top 20 rows\n",
            "\n"
          ]
        }
      ],
      "source": [
        "df.show()"
      ]
    },
    {
      "cell_type": "markdown",
      "metadata": {
        "id": "u36R2VD7H1AS"
      },
      "source": [
        "#Step 3: Exploratory Data Analysis"
      ]
    },
    {
      "cell_type": "code",
      "execution_count": null,
      "metadata": {
        "colab": {
          "base_uri": "https://localhost:8080/"
        },
        "id": "4h8eIUIsIDHk",
        "outputId": "68172edf-8660-44c4-c6ef-645882ff5d1a"
      },
      "outputs": [
        {
          "data": {
            "text/plain": [
              "3108"
            ]
          },
          "execution_count": 5,
          "metadata": {},
          "output_type": "execute_result"
        }
      ],
      "source": [
        "#Let’s start by counting the number of rows in the dataframe:\n",
        "df.count()  # Answer: 2,500\n"
      ]
    },
    {
      "cell_type": "markdown",
      "metadata": {
        "id": "m6K5C8xa_GrE"
      },
      "source": [
        "How many unique customers are present in the dataframe?"
      ]
    },
    {
      "cell_type": "code",
      "execution_count": null,
      "metadata": {
        "colab": {
          "base_uri": "https://localhost:8080/"
        },
        "id": "ntcb8TQPJOLZ",
        "outputId": "bf6dc30d-4a3e-4ca7-ab5c-b1057381879c"
      },
      "outputs": [
        {
          "data": {
            "text/plain": [
              "99"
            ]
          },
          "execution_count": 6,
          "metadata": {},
          "output_type": "execute_result"
        }
      ],
      "source": [
        "df.select('CustomerID').distinct().count() # Answer: 95"
      ]
    },
    {
      "cell_type": "markdown",
      "metadata": {
        "id": "gB5xakxCJw1N"
      },
      "source": [
        "What country do most purchases come from?\n",
        "To find the country from which most purchases are made, we need to use the groupBy() clause in PySpark:"
      ]
    },
    {
      "cell_type": "code",
      "execution_count": null,
      "metadata": {
        "colab": {
          "base_uri": "https://localhost:8080/"
        },
        "id": "Jd6EThdVJ2pt",
        "outputId": "05db748d-04d8-4e59-aea8-e42ffa447991"
      },
      "outputs": [
        {
          "name": "stdout",
          "output_type": "stream",
          "text": [
            "+--------------+-------------+\n",
            "|       Country|country_count|\n",
            "+--------------+-------------+\n",
            "|       Germany|            2|\n",
            "|        France|            1|\n",
            "|          EIRE|            2|\n",
            "|        Norway|            2|\n",
            "|     Australia|            1|\n",
            "|United Kingdom|           95|\n",
            "|   Netherlands|            1|\n",
            "+--------------+-------------+\n",
            "\n"
          ]
        }
      ],
      "source": [
        "from pyspark.sql.functions import *\n",
        "from pyspark.sql.types import *\n",
        "\n",
        "df.groupBy('Country').agg(countDistinct('CustomerID').alias('country_count')).show()"
      ]
    },
    {
      "cell_type": "code",
      "execution_count": null,
      "metadata": {
        "colab": {
          "base_uri": "https://localhost:8080/"
        },
        "id": "ASaoQKTCK-cF",
        "outputId": "155642fd-2607-4477-c0ee-779100a1654f"
      },
      "outputs": [
        {
          "name": "stdout",
          "output_type": "stream",
          "text": [
            "+--------------+-------------+\n",
            "|       Country|country_count|\n",
            "+--------------+-------------+\n",
            "|United Kingdom|           95|\n",
            "|       Germany|            2|\n",
            "|          EIRE|            2|\n",
            "|        Norway|            2|\n",
            "|        France|            1|\n",
            "|     Australia|            1|\n",
            "|   Netherlands|            1|\n",
            "+--------------+-------------+\n",
            "\n"
          ]
        }
      ],
      "source": [
        "df.groupBy('Country').agg(countDistinct('CustomerID').alias('country_count')).orderBy(desc('country_count')).show()"
      ]
    },
    {
      "cell_type": "markdown",
      "metadata": {
        "id": "-D3eo5mWL84A"
      },
      "source": [
        "# When was the most recent purchase made by a customer on the e-commerce platform?\n",
        "To find when the latest purchase was made on the platform, we need to convert the “InvoiceDate” column into a timestamp format and use the max() function in Pyspark:"
      ]
    },
    {
      "cell_type": "code",
      "execution_count": null,
      "metadata": {
        "colab": {
          "base_uri": "https://localhost:8080/"
        },
        "id": "UyK-B8wvMKbI",
        "outputId": "371aebc1-436d-4c84-a6e5-1c2c2fc875ba"
      },
      "outputs": [
        {
          "name": "stdout",
          "output_type": "stream",
          "text": [
            "+-------------------+\n",
            "|          max(date)|\n",
            "+-------------------+\n",
            "|2010-12-01 17:35:00|\n",
            "+-------------------+\n",
            "\n"
          ]
        }
      ],
      "source": [
        "#df = df.withColumn('date',to_timestamp(\"InvoiceDate\", 'MM/dd/yy HH:mm'))\n",
        "spark.sql(\"set spark.sql.legacy.timeParserPolicy=LEGACY\")\n",
        "df = df.withColumn('date',to_timestamp(\"InvoiceDate\", 'dd/MM/yy HH:mm'))\n",
        "df.select(max(\"date\")).show()"
      ]
    },
    {
      "cell_type": "code",
      "execution_count": null,
      "metadata": {
        "colab": {
          "base_uri": "https://localhost:8080/"
        },
        "id": "cfgzA7h2NuVa",
        "outputId": "ec2ed633-1030-427a-85d8-a3efc718a011"
      },
      "outputs": [
        {
          "name": "stdout",
          "output_type": "stream",
          "text": [
            "root\n",
            " |-- InvoiceNo: string (nullable = true)\n",
            " |-- StockCode: string (nullable = true)\n",
            " |-- Description: string (nullable = true)\n",
            " |-- Quantity: string (nullable = true)\n",
            " |-- InvoiceDate: string (nullable = true)\n",
            " |-- UnitPrice: string (nullable = true)\n",
            " |-- CustomerID: string (nullable = true)\n",
            " |-- Country: string (nullable = true)\n",
            " |-- date: timestamp (nullable = true)\n",
            "\n"
          ]
        }
      ],
      "source": [
        "df.printSchema()"
      ]
    },
    {
      "cell_type": "markdown",
      "metadata": {
        "id": "ATxHVi4SRjfP"
      },
      "source": [
        "When was the earliest purchase made by a customer on the e-commerce platform?"
      ]
    },
    {
      "cell_type": "code",
      "execution_count": null,
      "metadata": {
        "colab": {
          "base_uri": "https://localhost:8080/"
        },
        "id": "ejYqeXwnRjLj",
        "outputId": "afb24228-c7e7-41ad-90d0-1a6b971f3089"
      },
      "outputs": [
        {
          "name": "stdout",
          "output_type": "stream",
          "text": [
            "+-------------------+\n",
            "|          min(date)|\n",
            "+-------------------+\n",
            "|2010-12-01 08:26:00|\n",
            "+-------------------+\n",
            "\n"
          ]
        }
      ],
      "source": [
        "df.select(min(\"date\")).show()"
      ]
    },
    {
      "cell_type": "markdown",
      "metadata": {
        "id": "2QS1cDfdebaH"
      },
      "source": [
        "# Step 4: Data Pre-processing"
      ]
    },
    {
      "cell_type": "markdown",
      "metadata": {
        "id": "J0Am5rTJeeYf"
      },
      "source": [
        "Now that we have analyzed the dataset and have a better understanding of each data point, we need to prepare the data to feed into the machine learning algorithm."
      ]
    },
    {
      "cell_type": "markdown",
      "metadata": {
        "id": "W2q0OJRlfCAN"
      },
      "source": [
        "From the dataset above, we need to create multiple customer segments based on each user’s purchase behavior.  The variables in this dataset are in a format that cannot be easily ingested into the customer segmentation model.\n",
        "\n",
        "These features individually do not tell us much about customer purchase behavior. Due to this, we will use the existing variables to derive three new informative features - recency, frequency, and monetary value (RFM).\n",
        "\n",
        "**RFM** is commonly used in marketing to evaluate a client’s value based on their:\n",
        "*   Recency: How recently has each customer made a purchase?\n",
        "*   Frequency: How often have they bought something?\n",
        "*   Monetary Value: How much money do they spend on average when making purchases?\n",
        "\n",
        "We will now preprocess the dataframe to create the above variables."
      ]
    },
    {
      "cell_type": "markdown",
      "metadata": {
        "id": "ZW9VN5NMfDni"
      },
      "source": [
        "# **Recency**\n",
        "First, let’s calculate the value of recency - the latest date and time a purchase was made on the platform. This can be achieved in two steps:\n",
        "\n",
        "**i) Assign a recency score to each customer**\n",
        "\n",
        "We will subtract every date in the dataframe from the earliest date. This will tell us how recently a customer was seen in the dataframe. A value of 0 indicates the lowest recency, as it will be assigned to the person who was seen making a purchase on the earliest date."
      ]
    },
    {
      "cell_type": "code",
      "execution_count": null,
      "metadata": {
        "colab": {
          "base_uri": "https://localhost:8080/"
        },
        "id": "r0LiLzCMgMc9",
        "outputId": "26fcb242-7ac6-4dd9-ef19-48b4d02a5c28"
      },
      "outputs": [
        {
          "name": "stdout",
          "output_type": "stream",
          "text": [
            "+---------+---------+--------------------+--------+----------------+---------+----------+--------------+-------------------+--------------+\n",
            "|InvoiceNo|StockCode|         Description|Quantity|     InvoiceDate|UnitPrice|CustomerID|       Country|               date|     from_date|\n",
            "+---------+---------+--------------------+--------+----------------+---------+----------+--------------+-------------------+--------------+\n",
            "|   536365|   85123A|WHITE HANGING HEA...|       6|01/12/2010 08:26|     2.55|     17850|United Kingdom|2010-12-01 08:26:00|01/12/10 08:26|\n",
            "|   536365|    71053| WHITE METAL LANTERN|       6|01/12/2010 08:26|     3.39|     17850|United Kingdom|2010-12-01 08:26:00|01/12/10 08:26|\n",
            "|   536365|   84406B|CREAM CUPID HEART...|       8|01/12/2010 08:26|     2.75|     17850|United Kingdom|2010-12-01 08:26:00|01/12/10 08:26|\n",
            "|   536365|   84029G|KNITTED UNION FLA...|       6|01/12/2010 08:26|     3.39|     17850|United Kingdom|2010-12-01 08:26:00|01/12/10 08:26|\n",
            "|   536365|   84029E|RED WOOLLY HOTTIE...|       6|01/12/2010 08:26|     3.39|     17850|United Kingdom|2010-12-01 08:26:00|01/12/10 08:26|\n",
            "|   536365|    22752|SET 7 BABUSHKA NE...|       2|01/12/2010 08:26|     7.65|     17850|United Kingdom|2010-12-01 08:26:00|01/12/10 08:26|\n",
            "|   536365|    21730|GLASS STAR FROSTE...|       6|01/12/2010 08:26|     4.25|     17850|United Kingdom|2010-12-01 08:26:00|01/12/10 08:26|\n",
            "|   536366|    22633|HAND WARMER UNION...|       6|01/12/2010 08:28|     1.85|     17850|United Kingdom|2010-12-01 08:28:00|01/12/10 08:26|\n",
            "|   536366|    22632|HAND WARMER RED P...|       6|01/12/2010 08:28|     1.85|     17850|United Kingdom|2010-12-01 08:28:00|01/12/10 08:26|\n",
            "|   536367|    84879|ASSORTED COLOUR B...|      32|01/12/2010 08:34|     1.69|     13047|United Kingdom|2010-12-01 08:34:00|01/12/10 08:26|\n",
            "|   536367|    22745|POPPY'S PLAYHOUSE...|       6|01/12/2010 08:34|      2.1|     13047|United Kingdom|2010-12-01 08:34:00|01/12/10 08:26|\n",
            "|   536367|    22748|POPPY'S PLAYHOUSE...|       6|01/12/2010 08:34|      2.1|     13047|United Kingdom|2010-12-01 08:34:00|01/12/10 08:26|\n",
            "|   536367|    22749|FELTCRAFT PRINCES...|       8|01/12/2010 08:34|     3.75|     13047|United Kingdom|2010-12-01 08:34:00|01/12/10 08:26|\n",
            "|   536367|    22310|IVORY KNITTED MUG...|       6|01/12/2010 08:34|     1.65|     13047|United Kingdom|2010-12-01 08:34:00|01/12/10 08:26|\n",
            "|   536367|    84969|BOX OF 6 ASSORTED...|       6|01/12/2010 08:34|     4.25|     13047|United Kingdom|2010-12-01 08:34:00|01/12/10 08:26|\n",
            "|   536367|    22623|BOX OF VINTAGE JI...|       3|01/12/2010 08:34|     4.95|     13047|United Kingdom|2010-12-01 08:34:00|01/12/10 08:26|\n",
            "|   536367|    22622|BOX OF VINTAGE AL...|       2|01/12/2010 08:34|     9.95|     13047|United Kingdom|2010-12-01 08:34:00|01/12/10 08:26|\n",
            "|   536367|    21754|HOME BUILDING BLO...|       3|01/12/2010 08:34|     5.95|     13047|United Kingdom|2010-12-01 08:34:00|01/12/10 08:26|\n",
            "|   536367|    21755|LOVE BUILDING BLO...|       3|01/12/2010 08:34|     5.95|     13047|United Kingdom|2010-12-01 08:34:00|01/12/10 08:26|\n",
            "|   536367|    21777|RECIPE BOX WITH M...|       4|01/12/2010 08:34|     7.95|     13047|United Kingdom|2010-12-01 08:34:00|01/12/10 08:26|\n",
            "+---------+---------+--------------------+--------+----------------+---------+----------+--------------+-------------------+--------------+\n",
            "only showing top 20 rows\n",
            "\n"
          ]
        }
      ],
      "source": [
        "df = df.withColumn(\"from_date\", lit(\"01/12/10 08:26\"))\n",
        "df.show()\n",
        "# lit() assign a literal value to the new column\n"
      ]
    },
    {
      "cell_type": "code",
      "execution_count": null,
      "metadata": {
        "colab": {
          "base_uri": "https://localhost:8080/"
        },
        "id": "m8N8fH6qiDDd",
        "outputId": "89876f4a-b06f-4372-ac67-eeaedefc8ab6"
      },
      "outputs": [
        {
          "name": "stdout",
          "output_type": "stream",
          "text": [
            "+---------+---------+--------------------+--------+----------------+---------+----------+--------------+-------------------+-------------------+\n",
            "|InvoiceNo|StockCode|         Description|Quantity|     InvoiceDate|UnitPrice|CustomerID|       Country|               date|          from_date|\n",
            "+---------+---------+--------------------+--------+----------------+---------+----------+--------------+-------------------+-------------------+\n",
            "|   536365|   85123A|WHITE HANGING HEA...|       6|01/12/2010 08:26|     2.55|     17850|United Kingdom|2010-12-01 08:26:00|2010-12-01 08:26:00|\n",
            "|   536365|    71053| WHITE METAL LANTERN|       6|01/12/2010 08:26|     3.39|     17850|United Kingdom|2010-12-01 08:26:00|2010-12-01 08:26:00|\n",
            "|   536365|   84406B|CREAM CUPID HEART...|       8|01/12/2010 08:26|     2.75|     17850|United Kingdom|2010-12-01 08:26:00|2010-12-01 08:26:00|\n",
            "|   536365|   84029G|KNITTED UNION FLA...|       6|01/12/2010 08:26|     3.39|     17850|United Kingdom|2010-12-01 08:26:00|2010-12-01 08:26:00|\n",
            "|   536365|   84029E|RED WOOLLY HOTTIE...|       6|01/12/2010 08:26|     3.39|     17850|United Kingdom|2010-12-01 08:26:00|2010-12-01 08:26:00|\n",
            "|   536365|    22752|SET 7 BABUSHKA NE...|       2|01/12/2010 08:26|     7.65|     17850|United Kingdom|2010-12-01 08:26:00|2010-12-01 08:26:00|\n",
            "|   536365|    21730|GLASS STAR FROSTE...|       6|01/12/2010 08:26|     4.25|     17850|United Kingdom|2010-12-01 08:26:00|2010-12-01 08:26:00|\n",
            "|   536366|    22633|HAND WARMER UNION...|       6|01/12/2010 08:28|     1.85|     17850|United Kingdom|2010-12-01 08:28:00|2010-12-01 08:26:00|\n",
            "|   536366|    22632|HAND WARMER RED P...|       6|01/12/2010 08:28|     1.85|     17850|United Kingdom|2010-12-01 08:28:00|2010-12-01 08:26:00|\n",
            "|   536367|    84879|ASSORTED COLOUR B...|      32|01/12/2010 08:34|     1.69|     13047|United Kingdom|2010-12-01 08:34:00|2010-12-01 08:26:00|\n",
            "|   536367|    22745|POPPY'S PLAYHOUSE...|       6|01/12/2010 08:34|      2.1|     13047|United Kingdom|2010-12-01 08:34:00|2010-12-01 08:26:00|\n",
            "|   536367|    22748|POPPY'S PLAYHOUSE...|       6|01/12/2010 08:34|      2.1|     13047|United Kingdom|2010-12-01 08:34:00|2010-12-01 08:26:00|\n",
            "|   536367|    22749|FELTCRAFT PRINCES...|       8|01/12/2010 08:34|     3.75|     13047|United Kingdom|2010-12-01 08:34:00|2010-12-01 08:26:00|\n",
            "|   536367|    22310|IVORY KNITTED MUG...|       6|01/12/2010 08:34|     1.65|     13047|United Kingdom|2010-12-01 08:34:00|2010-12-01 08:26:00|\n",
            "|   536367|    84969|BOX OF 6 ASSORTED...|       6|01/12/2010 08:34|     4.25|     13047|United Kingdom|2010-12-01 08:34:00|2010-12-01 08:26:00|\n",
            "|   536367|    22623|BOX OF VINTAGE JI...|       3|01/12/2010 08:34|     4.95|     13047|United Kingdom|2010-12-01 08:34:00|2010-12-01 08:26:00|\n",
            "|   536367|    22622|BOX OF VINTAGE AL...|       2|01/12/2010 08:34|     9.95|     13047|United Kingdom|2010-12-01 08:34:00|2010-12-01 08:26:00|\n",
            "|   536367|    21754|HOME BUILDING BLO...|       3|01/12/2010 08:34|     5.95|     13047|United Kingdom|2010-12-01 08:34:00|2010-12-01 08:26:00|\n",
            "|   536367|    21755|LOVE BUILDING BLO...|       3|01/12/2010 08:34|     5.95|     13047|United Kingdom|2010-12-01 08:34:00|2010-12-01 08:26:00|\n",
            "|   536367|    21777|RECIPE BOX WITH M...|       4|01/12/2010 08:34|     7.95|     13047|United Kingdom|2010-12-01 08:34:00|2010-12-01 08:26:00|\n",
            "+---------+---------+--------------------+--------+----------------+---------+----------+--------------+-------------------+-------------------+\n",
            "only showing top 20 rows\n",
            "\n"
          ]
        }
      ],
      "source": [
        "df = df.withColumn('from_date',to_timestamp(\"from_date\", 'dd/MM/yy HH:mm'))\n",
        "df.show()"
      ]
    },
    {
      "cell_type": "code",
      "execution_count": null,
      "metadata": {
        "colab": {
          "base_uri": "https://localhost:8080/"
        },
        "id": "V0aFCUXooge5",
        "outputId": "26658cac-7e77-4097-82ed-ea4076d2b990"
      },
      "outputs": [
        {
          "name": "stdout",
          "output_type": "stream",
          "text": [
            "+---------+---------+--------------------+--------+----------------+---------+----------+--------------+-------------------+-------------------+-------+\n",
            "|InvoiceNo|StockCode|         Description|Quantity|     InvoiceDate|UnitPrice|CustomerID|       Country|               date|          from_date|recency|\n",
            "+---------+---------+--------------------+--------+----------------+---------+----------+--------------+-------------------+-------------------+-------+\n",
            "|   536365|   85123A|WHITE HANGING HEA...|       6|01/12/2010 08:26|     2.55|     17850|United Kingdom|2010-12-01 08:26:00|2010-12-01 08:26:00|      0|\n",
            "|   536365|    71053| WHITE METAL LANTERN|       6|01/12/2010 08:26|     3.39|     17850|United Kingdom|2010-12-01 08:26:00|2010-12-01 08:26:00|      0|\n",
            "|   536365|   84406B|CREAM CUPID HEART...|       8|01/12/2010 08:26|     2.75|     17850|United Kingdom|2010-12-01 08:26:00|2010-12-01 08:26:00|      0|\n",
            "|   536365|   84029G|KNITTED UNION FLA...|       6|01/12/2010 08:26|     3.39|     17850|United Kingdom|2010-12-01 08:26:00|2010-12-01 08:26:00|      0|\n",
            "|   536365|   84029E|RED WOOLLY HOTTIE...|       6|01/12/2010 08:26|     3.39|     17850|United Kingdom|2010-12-01 08:26:00|2010-12-01 08:26:00|      0|\n",
            "|   536365|    22752|SET 7 BABUSHKA NE...|       2|01/12/2010 08:26|     7.65|     17850|United Kingdom|2010-12-01 08:26:00|2010-12-01 08:26:00|      0|\n",
            "|   536365|    21730|GLASS STAR FROSTE...|       6|01/12/2010 08:26|     4.25|     17850|United Kingdom|2010-12-01 08:26:00|2010-12-01 08:26:00|      0|\n",
            "|   536366|    22633|HAND WARMER UNION...|       6|01/12/2010 08:28|     1.85|     17850|United Kingdom|2010-12-01 08:28:00|2010-12-01 08:26:00|    120|\n",
            "|   536366|    22632|HAND WARMER RED P...|       6|01/12/2010 08:28|     1.85|     17850|United Kingdom|2010-12-01 08:28:00|2010-12-01 08:26:00|    120|\n",
            "|   536367|    84879|ASSORTED COLOUR B...|      32|01/12/2010 08:34|     1.69|     13047|United Kingdom|2010-12-01 08:34:00|2010-12-01 08:26:00|    480|\n",
            "|   536367|    22745|POPPY'S PLAYHOUSE...|       6|01/12/2010 08:34|      2.1|     13047|United Kingdom|2010-12-01 08:34:00|2010-12-01 08:26:00|    480|\n",
            "|   536367|    22748|POPPY'S PLAYHOUSE...|       6|01/12/2010 08:34|      2.1|     13047|United Kingdom|2010-12-01 08:34:00|2010-12-01 08:26:00|    480|\n",
            "|   536367|    22749|FELTCRAFT PRINCES...|       8|01/12/2010 08:34|     3.75|     13047|United Kingdom|2010-12-01 08:34:00|2010-12-01 08:26:00|    480|\n",
            "|   536367|    22310|IVORY KNITTED MUG...|       6|01/12/2010 08:34|     1.65|     13047|United Kingdom|2010-12-01 08:34:00|2010-12-01 08:26:00|    480|\n",
            "|   536367|    84969|BOX OF 6 ASSORTED...|       6|01/12/2010 08:34|     4.25|     13047|United Kingdom|2010-12-01 08:34:00|2010-12-01 08:26:00|    480|\n",
            "|   536367|    22623|BOX OF VINTAGE JI...|       3|01/12/2010 08:34|     4.95|     13047|United Kingdom|2010-12-01 08:34:00|2010-12-01 08:26:00|    480|\n",
            "|   536367|    22622|BOX OF VINTAGE AL...|       2|01/12/2010 08:34|     9.95|     13047|United Kingdom|2010-12-01 08:34:00|2010-12-01 08:26:00|    480|\n",
            "|   536367|    21754|HOME BUILDING BLO...|       3|01/12/2010 08:34|     5.95|     13047|United Kingdom|2010-12-01 08:34:00|2010-12-01 08:26:00|    480|\n",
            "|   536367|    21755|LOVE BUILDING BLO...|       3|01/12/2010 08:34|     5.95|     13047|United Kingdom|2010-12-01 08:34:00|2010-12-01 08:26:00|    480|\n",
            "|   536367|    21777|RECIPE BOX WITH M...|       4|01/12/2010 08:34|     7.95|     13047|United Kingdom|2010-12-01 08:34:00|2010-12-01 08:26:00|    480|\n",
            "+---------+---------+--------------------+--------+----------------+---------+----------+--------------+-------------------+-------------------+-------+\n",
            "only showing top 20 rows\n",
            "\n"
          ]
        }
      ],
      "source": [
        "df2=df.withColumn('from_date',to_timestamp(col('from_date'))).withColumn('recency',col(\"date\").cast(\"long\") - col('from_date').cast(\"long\"))\n",
        "# It can be simplified. To check\n",
        "#df2=df.withColumn('recency',col(\"date\").cast(\"long\") - col('from_date').cast(\"long\"))\n",
        "df2.show()\n",
        "\n",
        "\n"
      ]
    },
    {
      "cell_type": "markdown",
      "metadata": {
        "id": "kQYWvE_aw2-N"
      },
      "source": [
        "# ii) Select the most recent purchase\n",
        "\n",
        "One customer can make multiple purchases at different times. We need to select only the last time they were seen buying a product, as this is indicative of when the most recent purchase was made:"
      ]
    },
    {
      "cell_type": "code",
      "execution_count": null,
      "metadata": {
        "colab": {
          "base_uri": "https://localhost:8080/"
        },
        "id": "cgShQlgTwh5Z",
        "outputId": "f2fde49b-fbbf-4139-81d2-7b3f348487cf"
      },
      "outputs": [
        {
          "name": "stdout",
          "output_type": "stream",
          "text": [
            "+----------+-------+\n",
            "|CustomerID|recency|\n",
            "+----------+-------+\n",
            "|     16250|   5580|\n",
            "|     15100|   2580|\n",
            "|     13065|  21960|\n",
            "|     12838|  12660|\n",
            "|     15350|  18420|\n",
            "|     12472|  21960|\n",
            "|     15235|  21960|\n",
            "|     15012|  15780|\n",
            "|     16098|   4740|\n",
            "|     17897|  15120|\n",
            "|     16552|  15000|\n",
            "|     17908|  11940|\n",
            "|     17377|  14940|\n",
            "|     13255|  12720|\n",
            "|     14849|  14220|\n",
            "|     17025|  21960|\n",
            "|     14237|  17640|\n",
            "|     12433|  17880|\n",
            "|     17572|  15900|\n",
            "|     14496|  21960|\n",
            "+----------+-------+\n",
            "only showing top 20 rows\n",
            "\n"
          ]
        }
      ],
      "source": [
        "# This original sentence can be made in two clearer steps\n",
        "\n",
        "#df2 = df2.join(df2.groupBy('CustomerID').agg(max('recency').alias('recency')),on='recency',how='leftsemi')\n",
        "#df2.show()\n",
        "latr = df2.groupBy('CustomerID').agg(max('recency').alias('recency'))\n",
        "latr.show()"
      ]
    },
    {
      "cell_type": "code",
      "execution_count": null,
      "metadata": {
        "colab": {
          "base_uri": "https://localhost:8080/"
        },
        "id": "hQ1CRRMxy3Mo",
        "outputId": "534f1219-64f7-4cf7-94c8-a0a9ae67ba74"
      },
      "outputs": [
        {
          "name": "stdout",
          "output_type": "stream",
          "text": [
            "+-------+---------+---------+--------------------+--------+----------------+---------+----------+--------------+-------------------+-------------------+\n",
            "|recency|InvoiceNo|StockCode|         Description|Quantity|     InvoiceDate|UnitPrice|CustomerID|       Country|               date|          from_date|\n",
            "+-------+---------+---------+--------------------+--------+----------------+---------+----------+--------------+-------------------+-------------------+\n",
            "|    540|   536369|    21756|BATH BUILDING BLO...|       3|01/12/2010 08:35|     5.95|     13047|United Kingdom|2010-12-01 08:35:00|2010-12-01 08:26:00|\n",
            "|   1140|   536370|    22728|ALARM CLOCK BAKEL...|      24|01/12/2010 08:45|     3.75|     12583|        France|2010-12-01 08:45:00|2010-12-01 08:26:00|\n",
            "|   1140|   536370|    22727|ALARM CLOCK BAKEL...|      24|01/12/2010 08:45|     3.75|     12583|        France|2010-12-01 08:45:00|2010-12-01 08:26:00|\n",
            "|   1140|   536370|    22726|ALARM CLOCK BAKEL...|      12|01/12/2010 08:45|     3.75|     12583|        France|2010-12-01 08:45:00|2010-12-01 08:26:00|\n",
            "|   1140|   536370|    21724|PANDA AND BUNNIES...|      12|01/12/2010 08:45|     0.85|     12583|        France|2010-12-01 08:45:00|2010-12-01 08:26:00|\n",
            "|   1140|   536370|    21883|    STARS GIFT TAPE |      24|01/12/2010 08:45|     0.65|     12583|        France|2010-12-01 08:45:00|2010-12-01 08:26:00|\n",
            "|   1140|   536370|    10002|INFLATABLE POLITI...|      48|01/12/2010 08:45|     0.85|     12583|        France|2010-12-01 08:45:00|2010-12-01 08:26:00|\n",
            "|   1140|   536370|    21791|VINTAGE HEADS AND...|      24|01/12/2010 08:45|     1.25|     12583|        France|2010-12-01 08:45:00|2010-12-01 08:26:00|\n",
            "|   1140|   536370|    21035|SET/2 RED RETROSP...|      18|01/12/2010 08:45|     2.95|     12583|        France|2010-12-01 08:45:00|2010-12-01 08:26:00|\n",
            "|   1140|   536370|    22326|ROUND SNACK BOXES...|      24|01/12/2010 08:45|     2.95|     12583|        France|2010-12-01 08:45:00|2010-12-01 08:26:00|\n",
            "|   1140|   536370|    22629| SPACEBOY LUNCH BOX |      24|01/12/2010 08:45|     1.95|     12583|        France|2010-12-01 08:45:00|2010-12-01 08:26:00|\n",
            "|   1140|   536370|    22659|LUNCH BOX I LOVE ...|      24|01/12/2010 08:45|     1.95|     12583|        France|2010-12-01 08:45:00|2010-12-01 08:26:00|\n",
            "|   1140|   536370|    22631|CIRCUS PARADE LUN...|      24|01/12/2010 08:45|     1.95|     12583|        France|2010-12-01 08:45:00|2010-12-01 08:26:00|\n",
            "|   1140|   536370|    22661|CHARLOTTE BAG DOL...|      20|01/12/2010 08:45|     0.85|     12583|        France|2010-12-01 08:45:00|2010-12-01 08:26:00|\n",
            "|   1140|   536370|    21731|RED TOADSTOOL LED...|      24|01/12/2010 08:45|     1.65|     12583|        France|2010-12-01 08:45:00|2010-12-01 08:26:00|\n",
            "|   1140|   536370|    22900| SET 2 TEA TOWELS...|      24|01/12/2010 08:45|     2.95|     12583|        France|2010-12-01 08:45:00|2010-12-01 08:26:00|\n",
            "|   1140|   536370|    21913|VINTAGE SEASIDE J...|      12|01/12/2010 08:45|     3.75|     12583|        France|2010-12-01 08:45:00|2010-12-01 08:26:00|\n",
            "|   1140|   536370|    22540|MINI JIGSAW CIRCU...|      24|01/12/2010 08:45|     0.42|     12583|        France|2010-12-01 08:45:00|2010-12-01 08:26:00|\n",
            "|   1140|   536370|    22544|MINI JIGSAW SPACEBOY|      24|01/12/2010 08:45|     0.42|     12583|        France|2010-12-01 08:45:00|2010-12-01 08:26:00|\n",
            "|   1140|   536370|    22492|MINI PAINT SET VI...|      36|01/12/2010 08:45|     0.65|     12583|        France|2010-12-01 08:45:00|2010-12-01 08:26:00|\n",
            "+-------+---------+---------+--------------------+--------+----------------+---------+----------+--------------+-------------------+-------------------+\n",
            "only showing top 20 rows\n",
            "\n"
          ]
        }
      ],
      "source": [
        "df2 = df2.join(latr,on='recency',how='leftsemi')\n",
        "df2.show()\n",
        "\n",
        "# performs a left semi join between two PySpark DataFrames, df2 and latr, based on\n",
        "# the 'recency' column. It retains only the rows from df2\n",
        "# that have matching values in the 'recency' column of latr, and the resulting\n",
        "# DataFrame is stored in the variable df2."
      ]
    },
    {
      "cell_type": "markdown",
      "metadata": {
        "id": "6yAYvWpYzuJY"
      },
      "source": [
        "# Frequency\n",
        "\n",
        "Let’s now calculate the value of frequency - how often a customer bought something on the platform. To do this, we just need to group by each customer ID and count the number of items they purchased:"
      ]
    },
    {
      "cell_type": "code",
      "execution_count": null,
      "metadata": {
        "colab": {
          "base_uri": "https://localhost:8080/"
        },
        "id": "0z0K-O6LzzAc",
        "outputId": "0153cfbf-bfed-4f61-80a1-d95505b591eb"
      },
      "outputs": [
        {
          "name": "stdout",
          "output_type": "stream",
          "text": [
            "+----------+---------+\n",
            "|CustomerID|frequency|\n",
            "+----------+---------+\n",
            "|     16250|       14|\n",
            "|     15100|        1|\n",
            "|     13065|       14|\n",
            "|     12838|       58|\n",
            "|     15350|        5|\n",
            "|     12472|       13|\n",
            "|     15235|        5|\n",
            "|     15012|       53|\n",
            "|     16098|       12|\n",
            "|     17897|        2|\n",
            "|     16552|        5|\n",
            "|     17908|       58|\n",
            "|     17377|       14|\n",
            "|     13255|        6|\n",
            "|     14849|        3|\n",
            "|     17025|        5|\n",
            "|     14237|        9|\n",
            "|     12433|       73|\n",
            "|     17572|        4|\n",
            "|     14496|        5|\n",
            "+----------+---------+\n",
            "only showing top 20 rows\n",
            "\n"
          ]
        }
      ],
      "source": [
        "df_freq = df2.groupBy('CustomerID').agg(count('InvoiceDate').alias('frequency'))\n",
        "df_freq.show()"
      ]
    },
    {
      "cell_type": "markdown",
      "metadata": {
        "id": "Pww63HFB0Uxh"
      },
      "source": [
        "This new dataframe only has two columns, and we need to join it with the previous one:"
      ]
    },
    {
      "cell_type": "code",
      "execution_count": null,
      "metadata": {
        "colab": {
          "base_uri": "https://localhost:8080/"
        },
        "id": "jHu1iKx80V0l",
        "outputId": "7c6fe679-fce2-49cf-dc1a-7f4d63d00c5a"
      },
      "outputs": [
        {
          "name": "stdout",
          "output_type": "stream",
          "text": [
            "+----------+-------+---------+---------+--------------------+--------+----------------+---------+--------------+-------------------+-------------------+---------+\n",
            "|CustomerID|recency|InvoiceNo|StockCode|         Description|Quantity|     InvoiceDate|UnitPrice|       Country|               date|          from_date|frequency|\n",
            "+----------+-------+---------+---------+--------------------+--------+----------------+---------+--------------+-------------------+-------------------+---------+\n",
            "|     13047|    540|   536369|    21756|BATH BUILDING BLO...|       3|01/12/2010 08:35|     5.95|United Kingdom|2010-12-01 08:35:00|2010-12-01 08:26:00|        1|\n",
            "|     12583|   1140|   536370|    22728|ALARM CLOCK BAKEL...|      24|01/12/2010 08:45|     3.75|        France|2010-12-01 08:45:00|2010-12-01 08:26:00|       20|\n",
            "|     12583|   1140|   536370|    22727|ALARM CLOCK BAKEL...|      24|01/12/2010 08:45|     3.75|        France|2010-12-01 08:45:00|2010-12-01 08:26:00|       20|\n",
            "|     12583|   1140|   536370|    22726|ALARM CLOCK BAKEL...|      12|01/12/2010 08:45|     3.75|        France|2010-12-01 08:45:00|2010-12-01 08:26:00|       20|\n",
            "|     12583|   1140|   536370|    21724|PANDA AND BUNNIES...|      12|01/12/2010 08:45|     0.85|        France|2010-12-01 08:45:00|2010-12-01 08:26:00|       20|\n",
            "|     12583|   1140|   536370|    21883|    STARS GIFT TAPE |      24|01/12/2010 08:45|     0.65|        France|2010-12-01 08:45:00|2010-12-01 08:26:00|       20|\n",
            "|     12583|   1140|   536370|    10002|INFLATABLE POLITI...|      48|01/12/2010 08:45|     0.85|        France|2010-12-01 08:45:00|2010-12-01 08:26:00|       20|\n",
            "|     12583|   1140|   536370|    21791|VINTAGE HEADS AND...|      24|01/12/2010 08:45|     1.25|        France|2010-12-01 08:45:00|2010-12-01 08:26:00|       20|\n",
            "|     12583|   1140|   536370|    21035|SET/2 RED RETROSP...|      18|01/12/2010 08:45|     2.95|        France|2010-12-01 08:45:00|2010-12-01 08:26:00|       20|\n",
            "|     12583|   1140|   536370|    22326|ROUND SNACK BOXES...|      24|01/12/2010 08:45|     2.95|        France|2010-12-01 08:45:00|2010-12-01 08:26:00|       20|\n",
            "|     12583|   1140|   536370|    22629| SPACEBOY LUNCH BOX |      24|01/12/2010 08:45|     1.95|        France|2010-12-01 08:45:00|2010-12-01 08:26:00|       20|\n",
            "|     12583|   1140|   536370|    22659|LUNCH BOX I LOVE ...|      24|01/12/2010 08:45|     1.95|        France|2010-12-01 08:45:00|2010-12-01 08:26:00|       20|\n",
            "|     12583|   1140|   536370|    22631|CIRCUS PARADE LUN...|      24|01/12/2010 08:45|     1.95|        France|2010-12-01 08:45:00|2010-12-01 08:26:00|       20|\n",
            "|     12583|   1140|   536370|    22661|CHARLOTTE BAG DOL...|      20|01/12/2010 08:45|     0.85|        France|2010-12-01 08:45:00|2010-12-01 08:26:00|       20|\n",
            "|     12583|   1140|   536370|    21731|RED TOADSTOOL LED...|      24|01/12/2010 08:45|     1.65|        France|2010-12-01 08:45:00|2010-12-01 08:26:00|       20|\n",
            "|     12583|   1140|   536370|    22900| SET 2 TEA TOWELS...|      24|01/12/2010 08:45|     2.95|        France|2010-12-01 08:45:00|2010-12-01 08:26:00|       20|\n",
            "|     12583|   1140|   536370|    21913|VINTAGE SEASIDE J...|      12|01/12/2010 08:45|     3.75|        France|2010-12-01 08:45:00|2010-12-01 08:26:00|       20|\n",
            "|     12583|   1140|   536370|    22540|MINI JIGSAW CIRCU...|      24|01/12/2010 08:45|     0.42|        France|2010-12-01 08:45:00|2010-12-01 08:26:00|       20|\n",
            "|     12583|   1140|   536370|    22544|MINI JIGSAW SPACEBOY|      24|01/12/2010 08:45|     0.42|        France|2010-12-01 08:45:00|2010-12-01 08:26:00|       20|\n",
            "|     12583|   1140|   536370|    22492|MINI PAINT SET VI...|      36|01/12/2010 08:45|     0.65|        France|2010-12-01 08:45:00|2010-12-01 08:26:00|       20|\n",
            "+----------+-------+---------+---------+--------------------+--------+----------------+---------+--------------+-------------------+-------------------+---------+\n",
            "only showing top 20 rows\n",
            "\n"
          ]
        }
      ],
      "source": [
        "df3 = df2.join(df_freq,on='CustomerID',how='inner')\n",
        "df3.show()"
      ]
    },
    {
      "cell_type": "markdown",
      "metadata": {
        "id": "ltJS9UGu04mh"
      },
      "source": [
        "# Monetary Value\n",
        "Finally, let’s calculate monetary value - the total amount spent by each customer in the dataframe. There are two steps to achieving this:\n",
        "\n",
        "**i) Find the total amount spent in each purchase:**\n",
        "\n",
        "Each customerID comes with variables called “Quantity” and “UnitPrice” for a single purchase:\n",
        "\n",
        "To get the total amount spent by each customer in one purchase, we need to multiply “Quantity” with “UnitPrice”:"
      ]
    },
    {
      "cell_type": "markdown",
      "metadata": {
        "id": "ExTgzrvO1P5C"
      },
      "source": []
    },
    {
      "cell_type": "code",
      "execution_count": null,
      "metadata": {
        "colab": {
          "base_uri": "https://localhost:8080/"
        },
        "id": "8VjGW8Im1VRL",
        "outputId": "8f630e49-ad62-4a4d-c72a-7b83a6399a72"
      },
      "outputs": [
        {
          "name": "stdout",
          "output_type": "stream",
          "text": [
            "+----------+-------+---------+---------+--------------------+--------+----------------+---------+--------------+-------------------+-------------------+---------+------------------+\n",
            "|CustomerID|recency|InvoiceNo|StockCode|         Description|Quantity|     InvoiceDate|UnitPrice|       Country|               date|          from_date|frequency|       TotalAmount|\n",
            "+----------+-------+---------+---------+--------------------+--------+----------------+---------+--------------+-------------------+-------------------+---------+------------------+\n",
            "|     13047|    540|   536369|    21756|BATH BUILDING BLO...|       3|01/12/2010 08:35|     5.95|United Kingdom|2010-12-01 08:35:00|2010-12-01 08:26:00|        1|             17.85|\n",
            "|     12583|   1140|   536370|    22728|ALARM CLOCK BAKEL...|      24|01/12/2010 08:45|     3.75|        France|2010-12-01 08:45:00|2010-12-01 08:26:00|       20|              90.0|\n",
            "|     12583|   1140|   536370|    22727|ALARM CLOCK BAKEL...|      24|01/12/2010 08:45|     3.75|        France|2010-12-01 08:45:00|2010-12-01 08:26:00|       20|              90.0|\n",
            "|     12583|   1140|   536370|    22726|ALARM CLOCK BAKEL...|      12|01/12/2010 08:45|     3.75|        France|2010-12-01 08:45:00|2010-12-01 08:26:00|       20|              45.0|\n",
            "|     12583|   1140|   536370|    21724|PANDA AND BUNNIES...|      12|01/12/2010 08:45|     0.85|        France|2010-12-01 08:45:00|2010-12-01 08:26:00|       20|              10.2|\n",
            "|     12583|   1140|   536370|    21883|    STARS GIFT TAPE |      24|01/12/2010 08:45|     0.65|        France|2010-12-01 08:45:00|2010-12-01 08:26:00|       20|15.600000000000001|\n",
            "|     12583|   1140|   536370|    10002|INFLATABLE POLITI...|      48|01/12/2010 08:45|     0.85|        France|2010-12-01 08:45:00|2010-12-01 08:26:00|       20|              40.8|\n",
            "|     12583|   1140|   536370|    21791|VINTAGE HEADS AND...|      24|01/12/2010 08:45|     1.25|        France|2010-12-01 08:45:00|2010-12-01 08:26:00|       20|              30.0|\n",
            "|     12583|   1140|   536370|    21035|SET/2 RED RETROSP...|      18|01/12/2010 08:45|     2.95|        France|2010-12-01 08:45:00|2010-12-01 08:26:00|       20|              53.1|\n",
            "|     12583|   1140|   536370|    22326|ROUND SNACK BOXES...|      24|01/12/2010 08:45|     2.95|        France|2010-12-01 08:45:00|2010-12-01 08:26:00|       20| 70.80000000000001|\n",
            "|     12583|   1140|   536370|    22629| SPACEBOY LUNCH BOX |      24|01/12/2010 08:45|     1.95|        France|2010-12-01 08:45:00|2010-12-01 08:26:00|       20|              46.8|\n",
            "|     12583|   1140|   536370|    22659|LUNCH BOX I LOVE ...|      24|01/12/2010 08:45|     1.95|        France|2010-12-01 08:45:00|2010-12-01 08:26:00|       20|              46.8|\n",
            "|     12583|   1140|   536370|    22631|CIRCUS PARADE LUN...|      24|01/12/2010 08:45|     1.95|        France|2010-12-01 08:45:00|2010-12-01 08:26:00|       20|              46.8|\n",
            "|     12583|   1140|   536370|    22661|CHARLOTTE BAG DOL...|      20|01/12/2010 08:45|     0.85|        France|2010-12-01 08:45:00|2010-12-01 08:26:00|       20|              17.0|\n",
            "|     12583|   1140|   536370|    21731|RED TOADSTOOL LED...|      24|01/12/2010 08:45|     1.65|        France|2010-12-01 08:45:00|2010-12-01 08:26:00|       20|39.599999999999994|\n",
            "|     12583|   1140|   536370|    22900| SET 2 TEA TOWELS...|      24|01/12/2010 08:45|     2.95|        France|2010-12-01 08:45:00|2010-12-01 08:26:00|       20| 70.80000000000001|\n",
            "|     12583|   1140|   536370|    21913|VINTAGE SEASIDE J...|      12|01/12/2010 08:45|     3.75|        France|2010-12-01 08:45:00|2010-12-01 08:26:00|       20|              45.0|\n",
            "|     12583|   1140|   536370|    22540|MINI JIGSAW CIRCU...|      24|01/12/2010 08:45|     0.42|        France|2010-12-01 08:45:00|2010-12-01 08:26:00|       20|             10.08|\n",
            "|     12583|   1140|   536370|    22544|MINI JIGSAW SPACEBOY|      24|01/12/2010 08:45|     0.42|        France|2010-12-01 08:45:00|2010-12-01 08:26:00|       20|             10.08|\n",
            "|     12583|   1140|   536370|    22492|MINI PAINT SET VI...|      36|01/12/2010 08:45|     0.65|        France|2010-12-01 08:45:00|2010-12-01 08:26:00|       20|23.400000000000002|\n",
            "+----------+-------+---------+---------+--------------------+--------+----------------+---------+--------------+-------------------+-------------------+---------+------------------+\n",
            "only showing top 20 rows\n",
            "\n"
          ]
        }
      ],
      "source": [
        "m_val = df3.withColumn('TotalAmount',col(\"Quantity\") * col(\"UnitPrice\"))\n",
        "m_val.show()"
      ]
    },
    {
      "cell_type": "markdown",
      "metadata": {
        "id": "fIepUo081oQb"
      },
      "source": [
        "**ii) Find the total amount spent by each customer:**\n",
        "\n",
        "To find the total amount spent by each customer overall, we just need to group by the CustomerID column and sum the total amount spent:"
      ]
    },
    {
      "cell_type": "code",
      "execution_count": null,
      "metadata": {
        "colab": {
          "base_uri": "https://localhost:8080/"
        },
        "id": "F9Dv_hJ51psi",
        "outputId": "9f48ea6f-0d49-40f9-c098-002e57fb6fad"
      },
      "outputs": [
        {
          "name": "stdout",
          "output_type": "stream",
          "text": [
            "+----------+------------------+\n",
            "|CustomerID|    monetary_value|\n",
            "+----------+------------------+\n",
            "|     16250|            226.14|\n",
            "|     15100|             350.4|\n",
            "|     13065|108.03000000000002|\n",
            "|     12838| 355.3899999999999|\n",
            "|     15350|111.75000000000001|\n",
            "|     12472| 67.27999999999999|\n",
            "|     15235|41.099999999999994|\n",
            "|     15012| 189.1099999999999|\n",
            "|     16098|430.59999999999997|\n",
            "|     17897|              98.7|\n",
            "|     16552|105.49000000000001|\n",
            "|     17908| 243.2799999999999|\n",
            "|     17377|188.20000000000005|\n",
            "|     13255|243.40000000000003|\n",
            "|     14849|             57.45|\n",
            "|     17025|              74.0|\n",
            "|     14237|            170.95|\n",
            "|     12433|1939.8400000000006|\n",
            "|     17572| 83.10000000000001|\n",
            "|     14496|15.069999999999999|\n",
            "+----------+------------------+\n",
            "only showing top 20 rows\n",
            "\n"
          ]
        }
      ],
      "source": [
        "m_val = m_val.groupBy('CustomerID').agg(sum('TotalAmount').alias('monetary_value'))\n",
        "m_val.show()"
      ]
    },
    {
      "cell_type": "markdown",
      "metadata": {
        "id": "C2pxz-9V2RI4"
      },
      "source": [
        "Merge this dataframe with the all the other variables:"
      ]
    },
    {
      "cell_type": "code",
      "execution_count": null,
      "metadata": {
        "colab": {
          "base_uri": "https://localhost:8080/"
        },
        "id": "JbUohWwb2R0P",
        "outputId": "d70f39ea-d89f-4405-89ca-b439c264969b"
      },
      "outputs": [
        {
          "name": "stdout",
          "output_type": "stream",
          "text": [
            "+----------+--------------+-------+---------+---------+--------------------+--------+----------------+---------+--------------+-------------------+-------------------+---------+\n",
            "|CustomerID|monetary_value|recency|InvoiceNo|StockCode|         Description|Quantity|     InvoiceDate|UnitPrice|       Country|               date|          from_date|frequency|\n",
            "+----------+--------------+-------+---------+---------+--------------------+--------+----------------+---------+--------------+-------------------+-------------------+---------+\n",
            "|     13047|         17.85|    540|   536369|    21756|BATH BUILDING BLO...|       3|01/12/2010 08:35|     5.95|United Kingdom|2010-12-01 08:35:00|2010-12-01 08:26:00|        1|\n",
            "|     12583|        855.86|   1140|   536370|    22728|ALARM CLOCK BAKEL...|      24|01/12/2010 08:45|     3.75|        France|2010-12-01 08:45:00|2010-12-01 08:26:00|       20|\n",
            "|     12583|        855.86|   1140|   536370|    22727|ALARM CLOCK BAKEL...|      24|01/12/2010 08:45|     3.75|        France|2010-12-01 08:45:00|2010-12-01 08:26:00|       20|\n",
            "|     12583|        855.86|   1140|   536370|    22726|ALARM CLOCK BAKEL...|      12|01/12/2010 08:45|     3.75|        France|2010-12-01 08:45:00|2010-12-01 08:26:00|       20|\n",
            "|     12583|        855.86|   1140|   536370|    21724|PANDA AND BUNNIES...|      12|01/12/2010 08:45|     0.85|        France|2010-12-01 08:45:00|2010-12-01 08:26:00|       20|\n",
            "|     12583|        855.86|   1140|   536370|    21883|    STARS GIFT TAPE |      24|01/12/2010 08:45|     0.65|        France|2010-12-01 08:45:00|2010-12-01 08:26:00|       20|\n",
            "|     12583|        855.86|   1140|   536370|    10002|INFLATABLE POLITI...|      48|01/12/2010 08:45|     0.85|        France|2010-12-01 08:45:00|2010-12-01 08:26:00|       20|\n",
            "|     12583|        855.86|   1140|   536370|    21791|VINTAGE HEADS AND...|      24|01/12/2010 08:45|     1.25|        France|2010-12-01 08:45:00|2010-12-01 08:26:00|       20|\n",
            "|     12583|        855.86|   1140|   536370|    21035|SET/2 RED RETROSP...|      18|01/12/2010 08:45|     2.95|        France|2010-12-01 08:45:00|2010-12-01 08:26:00|       20|\n",
            "|     12583|        855.86|   1140|   536370|    22326|ROUND SNACK BOXES...|      24|01/12/2010 08:45|     2.95|        France|2010-12-01 08:45:00|2010-12-01 08:26:00|       20|\n",
            "|     12583|        855.86|   1140|   536370|    22629| SPACEBOY LUNCH BOX |      24|01/12/2010 08:45|     1.95|        France|2010-12-01 08:45:00|2010-12-01 08:26:00|       20|\n",
            "|     12583|        855.86|   1140|   536370|    22659|LUNCH BOX I LOVE ...|      24|01/12/2010 08:45|     1.95|        France|2010-12-01 08:45:00|2010-12-01 08:26:00|       20|\n",
            "|     12583|        855.86|   1140|   536370|    22631|CIRCUS PARADE LUN...|      24|01/12/2010 08:45|     1.95|        France|2010-12-01 08:45:00|2010-12-01 08:26:00|       20|\n",
            "|     12583|        855.86|   1140|   536370|    22661|CHARLOTTE BAG DOL...|      20|01/12/2010 08:45|     0.85|        France|2010-12-01 08:45:00|2010-12-01 08:26:00|       20|\n",
            "|     12583|        855.86|   1140|   536370|    21731|RED TOADSTOOL LED...|      24|01/12/2010 08:45|     1.65|        France|2010-12-01 08:45:00|2010-12-01 08:26:00|       20|\n",
            "|     12583|        855.86|   1140|   536370|    22900| SET 2 TEA TOWELS...|      24|01/12/2010 08:45|     2.95|        France|2010-12-01 08:45:00|2010-12-01 08:26:00|       20|\n",
            "|     12583|        855.86|   1140|   536370|    21913|VINTAGE SEASIDE J...|      12|01/12/2010 08:45|     3.75|        France|2010-12-01 08:45:00|2010-12-01 08:26:00|       20|\n",
            "|     12583|        855.86|   1140|   536370|    22540|MINI JIGSAW CIRCU...|      24|01/12/2010 08:45|     0.42|        France|2010-12-01 08:45:00|2010-12-01 08:26:00|       20|\n",
            "|     12583|        855.86|   1140|   536370|    22544|MINI JIGSAW SPACEBOY|      24|01/12/2010 08:45|     0.42|        France|2010-12-01 08:45:00|2010-12-01 08:26:00|       20|\n",
            "|     12583|        855.86|   1140|   536370|    22492|MINI PAINT SET VI...|      36|01/12/2010 08:45|     0.65|        France|2010-12-01 08:45:00|2010-12-01 08:26:00|       20|\n",
            "+----------+--------------+-------+---------+---------+--------------------+--------+----------------+---------+--------------+-------------------+-------------------+---------+\n",
            "only showing top 20 rows\n",
            "\n"
          ]
        }
      ],
      "source": [
        "finaldf = m_val.join(df3,on='CustomerID',how='inner')\n",
        "finaldf.show()"
      ]
    },
    {
      "cell_type": "markdown",
      "metadata": {
        "id": "R6w1ulma2tX0"
      },
      "source": [
        "Now that we have created all the necessary variables to build the model, run the following lines of code to select only the required columns and drop duplicate rows from the dataframe:"
      ]
    },
    {
      "cell_type": "code",
      "execution_count": null,
      "metadata": {
        "colab": {
          "base_uri": "https://localhost:8080/"
        },
        "id": "F9hs8eV62uWv",
        "outputId": "84d0a098-a2db-4a52-ece7-990f222f69d8"
      },
      "outputs": [
        {
          "name": "stdout",
          "output_type": "stream",
          "text": [
            "+-------+---------+------------------+----------+\n",
            "|recency|frequency|    monetary_value|CustomerID|\n",
            "+-------+---------+------------------+----------+\n",
            "|   5580|       14|            226.14|     16250|\n",
            "|   2580|        1|             350.4|     15100|\n",
            "|  21960|       14|108.03000000000002|     13065|\n",
            "|  12660|       58| 355.3899999999999|     12838|\n",
            "|  18420|        5|111.75000000000001|     15350|\n",
            "|  18300|        5|111.75000000000001|     15350|\n",
            "|  21960|       13| 67.27999999999999|     12472|\n",
            "|  21960|        5|41.099999999999994|     15235|\n",
            "|  15780|       53| 189.1099999999999|     15012|\n",
            "|   4740|       12|430.59999999999997|     16098|\n",
            "|  15120|        2|              98.7|     17897|\n",
            "|  14460|        2|              98.7|     17897|\n",
            "|  15000|        5|105.49000000000001|     16552|\n",
            "|  14940|        5|105.49000000000001|     16552|\n",
            "|  11940|       58| 243.2799999999999|     17908|\n",
            "|  14940|       14|188.20000000000005|     17377|\n",
            "|  12720|        6|243.40000000000003|     13255|\n",
            "|  12660|        6|243.40000000000003|     13255|\n",
            "|  14220|        3|             57.45|     14849|\n",
            "|  13740|        3|             57.45|     14849|\n",
            "+-------+---------+------------------+----------+\n",
            "only showing top 20 rows\n",
            "\n"
          ]
        }
      ],
      "source": [
        "finaldf = finaldf.select(['recency','frequency','monetary_value','CustomerID']).distinct()\n",
        "finaldf.show()"
      ]
    },
    {
      "cell_type": "markdown",
      "metadata": {
        "id": "Lb5ruy864GA5"
      },
      "source": [
        "# Standardization\n",
        "\n",
        "Before building the customer segmentation model, let’s standardize the dataframe to ensure that all the variables are around the same scale:"
      ]
    },
    {
      "cell_type": "code",
      "execution_count": null,
      "metadata": {
        "id": "Pa8Pprjt4IDP"
      },
      "outputs": [],
      "source": [
        "from pyspark.ml.feature import VectorAssembler\n",
        "from pyspark.ml.feature import StandardScaler\n",
        "\n",
        "assemble=VectorAssembler(inputCols=[\n",
        "    'recency','frequency','monetary_value'\n",
        "], outputCol='features')\n",
        "\n",
        "assembled_data=assemble.transform(finaldf)\n",
        "\n",
        "scale=StandardScaler(inputCol='features',outputCol='standardized')\n",
        "data_scale=scale.fit(assembled_data)\n",
        "data_scale_output=data_scale.transform(assembled_data)"
      ]
    },
    {
      "cell_type": "markdown",
      "metadata": {
        "id": "pASfCizK5DXK"
      },
      "source": [
        "Run the following lines of code to see what the standardized feature vector looks like:"
      ]
    },
    {
      "cell_type": "code",
      "execution_count": null,
      "metadata": {
        "colab": {
          "base_uri": "https://localhost:8080/"
        },
        "id": "sEFIeItx5FNF",
        "outputId": "7712b79b-c9d7-400f-b7a9-797035f803c2"
      },
      "outputs": [
        {
          "name": "stdout",
          "output_type": "stream",
          "text": [
            "+--------------------+\n",
            "|        standardized|\n",
            "+--------------------+\n",
            "|[0.94972052710856...|\n",
            "|[0.43911809317922...|\n",
            "|[3.73760981636274...|\n",
            "|[2.1547422711818,...|\n",
            "|[3.11467484696895...|\n",
            "|[3.13509894432612...|\n",
            "|[3.73760981636274...|\n",
            "|[3.73760981636274...|\n",
            "|[2.68576880246830...|\n",
            "|[0.80675184560835...|\n",
            "|[2.46110373153940...|\n",
            "|[2.57343626700385...|\n",
            "|[2.54280012096809...|\n",
            "|[2.55301216964668...|\n",
            "|[2.03219768703875...|\n",
            "|[2.54280012096809...|\n",
            "|[2.1547422711818,...|\n",
            "|[2.16495431986038...|\n",
            "|[2.33855914739636...|\n",
            "|[2.42025553682505...|\n",
            "+--------------------+\n",
            "only showing top 20 rows\n",
            "\n",
            "+-------+---------+------------------+----------+--------------------+--------------------+\n",
            "|recency|frequency|    monetary_value|CustomerID|            features|        standardized|\n",
            "+-------+---------+------------------+----------+--------------------+--------------------+\n",
            "|   5580|       14|            226.14|     16250|[5580.0,14.0,226.14]|[0.94972052710856...|\n",
            "|   2580|        1|             350.4|     15100|  [2580.0,1.0,350.4]|[0.43911809317922...|\n",
            "|  21960|       14|108.03000000000002|     13065|[21960.0,14.0,108...|[3.73760981636274...|\n",
            "|  12660|       58| 355.3899999999999|     12838|[12660.0,58.0,355...|[2.1547422711818,...|\n",
            "|  18300|        5|111.75000000000001|     15350|[18300.0,5.0,111....|[3.11467484696895...|\n",
            "|  18420|        5|111.75000000000001|     15350|[18420.0,5.0,111....|[3.13509894432612...|\n",
            "|  21960|       13| 67.27999999999999|     12472|[21960.0,13.0,67....|[3.73760981636274...|\n",
            "|  21960|        5|41.099999999999994|     15235|[21960.0,5.0,41.0...|[3.73760981636274...|\n",
            "|  15780|       53| 189.1099999999999|     15012|[15780.0,53.0,189...|[2.68576880246830...|\n",
            "|   4740|       12|430.59999999999997|     16098|[4740.0,12.0,430....|[0.80675184560835...|\n",
            "|  14460|        2|              98.7|     17897|  [14460.0,2.0,98.7]|[2.46110373153940...|\n",
            "|  15120|        2|              98.7|     17897|  [15120.0,2.0,98.7]|[2.57343626700385...|\n",
            "|  14940|        5|105.49000000000001|     16552|[14940.0,5.0,105....|[2.54280012096809...|\n",
            "|  15000|        5|105.49000000000001|     16552|[15000.0,5.0,105....|[2.55301216964668...|\n",
            "|  11940|       58| 243.2799999999999|     17908|[11940.0,58.0,243...|[2.03219768703875...|\n",
            "|  14940|       14|188.20000000000005|     17377|[14940.0,14.0,188...|[2.54280012096809...|\n",
            "|  12660|        6|243.40000000000003|     13255|[12660.0,6.0,243....|[2.1547422711818,...|\n",
            "|  12720|        6|243.40000000000003|     13255|[12720.0,6.0,243....|[2.16495431986038...|\n",
            "|  13740|        3|             57.45|     14849| [13740.0,3.0,57.45]|[2.33855914739636...|\n",
            "|  14220|        3|             57.45|     14849| [14220.0,3.0,57.45]|[2.42025553682505...|\n",
            "+-------+---------+------------------+----------+--------------------+--------------------+\n",
            "only showing top 20 rows\n",
            "\n"
          ]
        }
      ],
      "source": [
        "data_scale_output.select('standardized').show()\n",
        "data_scale_output.show()"
      ]
    },
    {
      "cell_type": "code",
      "execution_count": null,
      "metadata": {
        "colab": {
          "base_uri": "https://localhost:8080/"
        },
        "id": "F1qc8ms25PzO",
        "outputId": "515dbc65-1460-4795-fd9a-98ee8ccacf35"
      },
      "outputs": [
        {
          "name": "stdout",
          "output_type": "stream",
          "text": [
            "+------------------------------------------------------------+\n",
            "|standardized                                                |\n",
            "+------------------------------------------------------------+\n",
            "|[0.9497205271085658,0.7033107207198176,0.46036259897625037] |\n",
            "|[0.43911809317922934,0.050236480051415545,0.713323846649324]|\n",
            "|[3.7376098163627427,0.7033107207198176,0.21992116196782674] |\n",
            "|[2.1547422711818,2.9137158429821017,0.7234821970910479]     |\n",
            "|[3.1146748469689522,0.2511824002570777,0.22749412061376134] |\n",
            "|[3.135098944326126,0.2511824002570777,0.22749412061376134]  |\n",
            "|[3.7376098163627427,0.6530742406684021,0.13696469292969896] |\n",
            "|[3.7376098163627427,0.2511824002570777,0.08366897858814844] |\n",
            "|[2.6857688024683095,2.662533442725024,0.3849790885840571]   |\n",
            "|[0.8067518456083516,0.6028377606169866,0.8765903206826453]  |\n",
            "+------------------------------------------------------------+\n",
            "only showing top 10 rows\n",
            "\n"
          ]
        }
      ],
      "source": [
        "data_scale_output.select('standardized').show(10,truncate=False)"
      ]
    },
    {
      "cell_type": "markdown",
      "metadata": {
        "id": "nSlrGpVM5nbE"
      },
      "source": [
        "These are the scaled features that will be fed into the clustering algorithm."
      ]
    },
    {
      "cell_type": "markdown",
      "metadata": {
        "id": "IZaPalbB5zaw"
      },
      "source": [
        "# Step 5: Building the Machine Learning Model"
      ]
    },
    {
      "cell_type": "markdown",
      "metadata": {
        "id": "IdQbJEs055Sb"
      },
      "source": [
        "Now that we have completed all the data analysis and preparation, let’s build the K-Means clustering model.  The algorithm will be created using PySpark’s machine learning API.\n",
        "\n",
        "**i) Finding the number of clusters to use**\n",
        "\n",
        "When building a K-Means clustering model, we first need to determine the number of clusters or groups we want the algorithm to return. If we decide on three clusters, for instance, then we will have three customer segments.\n",
        "\n",
        "The most popular technique used to decide on how many clusters to use in K-Means is called the “elbow-method.” This is done simply running the K-Means algorithm for a wide range of clusters and visualizing the model results for each cluster. The plot will have an inflection point that looks like an elbow, and we just pick the number of clusters at this point.\n",
        "\n",
        "Let’s run the following lines of code to build a K-Means clustering algorithm from 2 to 10 clusters:"
      ]
    },
    {
      "cell_type": "code",
      "execution_count": null,
      "metadata": {
        "colab": {
          "base_uri": "https://localhost:8080/"
        },
        "id": "LjEcfpfi6Pxh",
        "outputId": "3450f87a-5040-4e33-cd1f-4227f84363e0"
      },
      "outputs": [
        {
          "name": "stdout",
          "output_type": "stream",
          "text": [
            "[  0.           0.         272.33395221 187.86862455 120.41250627\n",
            " 104.66780664  93.86443788  79.34205484  67.22715047  51.6387408 ]\n"
          ]
        }
      ],
      "source": [
        "from pyspark.ml.clustering import KMeans\n",
        "from pyspark.ml.evaluation import ClusteringEvaluator\n",
        "import numpy as np\n",
        "\n",
        "cost = np.zeros(10)\n",
        "\n",
        "evaluator = ClusteringEvaluator(predictionCol='prediction', featuresCol='standardized',metricName='silhouette', distanceMeasure='squaredEuclidean')\n",
        "\n",
        "for i in range(2,10):\n",
        "    KMeans_algo=KMeans(featuresCol='standardized', k=i)\n",
        "    KMeans_fit=KMeans_algo.fit(data_scale_output)\n",
        "    output=KMeans_fit.transform(data_scale_output)\n",
        "    cost[i] = KMeans_fit.summary.trainingCost\n",
        "print(cost)"
      ]
    },
    {
      "cell_type": "markdown",
      "metadata": {
        "id": "4lF8imTm70p6"
      },
      "source": [
        "With the codes above, we have successfully built and evaluated a K-Means clustering model with 2 to 10 clusters. The results have been placed in an array, and can now be visualized in a line chart:"
      ]
    },
    {
      "cell_type": "code",
      "execution_count": null,
      "metadata": {
        "colab": {
          "base_uri": "https://localhost:8080/",
          "height": 472
        },
        "id": "fLWvkKUf719_",
        "outputId": "43853cf5-2df8-41e7-a652-de45b1ec16de"
      },
      "outputs": [
        {
          "data": {
            "image/png": "[encoded data removed]",
            "text/plain": [
              "<Figure size 640x480 with 1 Axes>"
            ]
          },
          "metadata": {},
          "output_type": "display_data"
        }
      ],
      "source": [
        "import pandas as pd\n",
        "import pylab as pl\n",
        "df_cost = pd.DataFrame(cost[2:])\n",
        "df_cost.columns = [\"cost\"]\n",
        "new_col = range(2,10)\n",
        "df_cost.insert(0, 'cluster', new_col)\n",
        "pl.plot(df_cost.cluster, df_cost.cost)\n",
        "pl.xlabel('Number of Clusters')\n",
        "pl.ylabel('Score')\n",
        "pl.title('Elbow Curve')\n",
        "pl.show()"
      ]
    },
    {
      "cell_type": "markdown",
      "metadata": {
        "id": "V7pqRBgE_E3l"
      },
      "source": [
        "**ii) Building the K-Means Clustering Model**\n",
        "\n",
        "From the plot above, we can see that there is an inflection point that looks like an elbow at four. Due to this, we will proceed to build the K-Means algorithm with four clusters:"
      ]
    },
    {
      "cell_type": "code",
      "execution_count": null,
      "metadata": {
        "id": "hEnOlMOM_Nkg"
      },
      "outputs": [],
      "source": [
        "KMeans_algo=KMeans(featuresCol='standardized', k=4)\n",
        "KMeans_fit=KMeans_algo.fit(data_scale_output)"
      ]
    },
    {
      "cell_type": "markdown",
      "metadata": {
        "id": "hVGrzgAc_bJ2"
      },
      "source": [
        "# iii) Making Predictions\n",
        "\n",
        "Let’s use the model we created to assign clusters to each customer in the dataset:"
      ]
    },
    {
      "cell_type": "code",
      "execution_count": null,
      "metadata": {
        "colab": {
          "base_uri": "https://localhost:8080/"
        },
        "id": "OM0d6h1Q_dOu",
        "outputId": "5d6103fe-a594-442a-ce1b-3c2993feced0"
      },
      "outputs": [
        {
          "name": "stdout",
          "output_type": "stream",
          "text": [
            "+-------+---------+------------------+----------+---------------------------------+------------------------------------------------------------+----------+\n",
            "|recency|frequency|monetary_value    |CustomerID|features                         |standardized                                                |prediction|\n",
            "+-------+---------+------------------+----------+---------------------------------+------------------------------------------------------------+----------+\n",
            "|5580   |14       |226.14            |16250     |[5580.0,14.0,226.14]             |[0.9497205271085658,0.7033107207198176,0.46036259897625037] |2         |\n",
            "|2580   |1        |350.4             |15100     |[2580.0,1.0,350.4]               |[0.43911809317922934,0.050236480051415545,0.713323846649324]|2         |\n",
            "|21960  |14       |108.03000000000002|13065     |[21960.0,14.0,108.03000000000002]|[3.7376098163627427,0.7033107207198176,0.21992116196782674] |0         |\n",
            "|12660  |58       |355.3899999999999 |12838     |[12660.0,58.0,355.3899999999999] |[2.1547422711818,2.9137158429821017,0.7234821970910479]     |1         |\n",
            "|18300  |5        |111.75000000000001|15350     |[18300.0,5.0,111.75000000000001] |[3.1146748469689522,0.2511824002570777,0.22749412061376134] |0         |\n",
            "+-------+---------+------------------+----------+---------------------------------+------------------------------------------------------------+----------+\n",
            "only showing top 5 rows\n",
            "\n"
          ]
        }
      ],
      "source": [
        "preds=KMeans_fit.transform(data_scale_output)\n",
        "\n",
        "preds.show(5,0)"
      ]
    },
    {
      "cell_type": "markdown",
      "metadata": {
        "id": "BffZxzMJ_1n6"
      },
      "source": [
        "Notice that there is a “prediction” column in this dataframe that tells us which cluster each CustomerID belongs to:"
      ]
    },
    {
      "cell_type": "markdown",
      "metadata": {
        "id": "meS_u8GE_8x5"
      },
      "source": [
        "# Step 6: Cluster Analysis"
      ]
    },
    {
      "cell_type": "markdown",
      "metadata": {
        "id": "B_5fGF84ADQk"
      },
      "source": [
        "The final step in this entire tutorial is to analyze the customer segments we just built. Run the following lines of code to visualize the recency, frequency, and monetary value of each customerID in the dataframe:"
      ]
    },
    {
      "cell_type": "code",
      "execution_count": null,
      "metadata": {
        "colab": {
          "base_uri": "https://localhost:8080/"
        },
        "id": "pxQTHngtAUZl",
        "outputId": "1a3bd34d-1b4e-46e3-88c2-c68ad8fae487"
      },
      "outputs": [
        {
          "name": "stdout",
          "output_type": "stream",
          "text": [
            "     recency  frequency  monetary_value  prediction\n",
            "0       5580         14          226.14           2\n",
            "1       2580          1          350.40           2\n",
            "2      21960         14          108.03           0\n",
            "3      12660         58          355.39           1\n",
            "4      18300          5          111.75           0\n",
            "..       ...        ...             ...         ...\n",
            "128     7860          1           79.60           2\n",
            "129    10500         64          354.23           1\n",
            "130    21960          6           31.99           0\n",
            "131    14220         14         2472.64           3\n",
            "132    14460         14         2472.64           3\n",
            "\n",
            "[133 rows x 4 columns]\n"
          ]
        }
      ],
      "source": [
        "import matplotlib.pyplot as plt\n",
        "import seaborn as sns\n",
        "\n",
        "df_viz = preds.select('recency','frequency','monetary_value','prediction')\n",
        "df_viz = df_viz.toPandas()\n",
        "print(df_viz)\n",
        "\n"
      ]
    },
    {
      "cell_type": "code",
      "execution_count": null,
      "metadata": {
        "colab": {
          "base_uri": "https://localhost:8080/"
        },
        "id": "qoTzn8uNXLVQ",
        "outputId": "327b64de-9dd9-47e2-c237-6b2934dbe872"
      },
      "outputs": [
        {
          "name": "stdout",
          "output_type": "stream",
          "text": [
            "   prediction       recency  frequency  monetary_value\n",
            "0           0  18282.222222  11.962963      234.917407\n",
            "1           1  15496.666667  57.833333      469.605556\n",
            "2           2   6152.142857  11.785714      338.737500\n",
            "3           3  12780.000000  33.833333     2307.436667\n"
          ]
        }
      ],
      "source": [
        "avg_df = df_viz.groupby(['prediction'], as_index=False).mean()\n",
        "print (avg_df)"
      ]
    },
    {
      "cell_type": "code",
      "execution_count": null,
      "metadata": {
        "colab": {
          "base_uri": "https://localhost:8080/",
          "height": 1000
        },
        "id": "3pgLac0SYBZ8",
        "outputId": "2bbf9553-e30e-4edd-f09f-4a016de77811"
      },
      "outputs": [
        {
          "data": {
            "image/png": "[encoded data removed]",
            "text/plain": [
              "<Figure size 640x480 with 1 Axes>"
            ]
          },
          "metadata": {},
          "output_type": "display_data"
        },
        {
          "data": {
            "image/png": "[encoded data removed]",
            "text/plain": [
              "<Figure size 640x480 with 1 Axes>"
            ]
          },
          "metadata": {},
          "output_type": "display_data"
        },
        {
          "data": {
            "image/png": "[encoded data removed]",
            "text/plain": [
              "<Figure size 640x480 with 1 Axes>"
            ]
          },
          "metadata": {},
          "output_type": "display_data"
        }
      ],
      "source": [
        "list1 = ['recency','frequency','monetary_value']\n",
        "\n",
        "for i in list1:\n",
        "    sns.barplot(x='prediction',y=str(i),data=avg_df)\n",
        "    plt.show()"
      ]
    },
    {
      "cell_type": "markdown",
      "metadata": {
        "id": "npnKm8PsBJUM"
      },
      "source": [
        "Here is an overview of characteristics displayed by customers in each cluster:\n",
        "\n",
        "*   **Cluster 0**: Customers in this segment display low recency, frequency, and monetary value. They rarely shop on the platform and are low potential customers who are likely to stop doing business with the ecommerce company.\n",
        "*   **Cluster 1**: Users in this cluster display high recency but haven’t been seen spending much on the platform. They also don’t visit the site often. This indicates that they might be newer customers who have just started doing business with the company.\n",
        "*   **Cluster 2**: Customers in this segment display medium recency and frequency and spend a lot of money on the platform. This indicates that they tend to buy high-value items or make bulk purchases.\n",
        "*  **Cluster 3**: The final segment comprises users who display high recency and make frequent purchases on the platform. However, they don’t spend much on the platform, which might mean that they tend to select cheaper items in each purchase.\n",
        "\n",
        "\n",
        "\n",
        "\n",
        "\n"
      ]
    }
  ],
  "metadata": {
    "colab": {
      "provenance": []
    },
    "kernelspec": {
      "display_name": "Ambiente-Conda",
      "language": "python",
      "name": "python3"
    },
    "language_info": {
      "codemirror_mode": {
        "name": "ipython",
        "version": 3
      },
      "file_extension": ".py",
      "mimetype": "text/x-python",
      "name": "python",
      "nbconvert_exporter": "python",
      "pygments_lexer": "ipython3",
      "version": "3.12.3"
    }
  },
  "nbformat": 4,
  "nbformat_minor": 0
}
