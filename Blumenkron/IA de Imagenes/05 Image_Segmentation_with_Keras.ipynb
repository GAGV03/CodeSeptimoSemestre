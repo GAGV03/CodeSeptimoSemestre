{
 "cells": [
  {
   "cell_type": "markdown",
   "metadata": {
    "id": "2r279U1i_pq3"
   },
   "source": [
    "# Image Segmentation with Keras\n",
    "\n",
    "In this notebook, we'll illustrate an example implementation of CNN for image segmentation. We'll be looking at images of cats and dogs, and learn how to tell apart the main subject and its background (this is a classic instance of semantic segmentation)."
   ]
  },
  {
   "cell_type": "markdown",
   "metadata": {
    "id": "cpuYOxAlASyQ"
   },
   "source": [
    "## Preparing The Dataset\n",
    "\n",
    "We'll work with the [Oxford-IIIT Pets dataset](https://www.robots.ox.ac.uk/~vgg/data/pets/) which contains 7,390 pictures of various breeds of cats and dogs, together with foreground-background segmentation masks for each picture. A segmentation mask is the image-segmentation equivalent of a label: it's an image the same size as the input image, with a single color channel where each integer value corresponds to the class of the corresponding pixel in the input image. In our case, the pixels of our segmentation masks can take one of three integer values:\n",
    "\n",
    "* 1 (foreground)\n",
    "* 2 (background)\n",
    "* 3 (contour)"
   ]
  },
  {
   "cell_type": "markdown",
   "metadata": {
    "id": "_kbrHu9MA0fN"
   },
   "source": [
    "First, let's download and uncompress the dataset."
   ]
  },
  {
   "cell_type": "code",
   "execution_count": null,
   "metadata": {
    "id": "-7bc9z5e7CMa"
   },
   "outputs": [],
   "source": [
    "!wget http://www.robots.ox.ac.uk/~vgg/data/pets/data/images.tar.gz\n",
    "!wget http://www.robots.ox.ac.uk/~vgg/data/pets/data/annotations.tar.gz"
   ]
  },
  {
   "cell_type": "code",
   "execution_count": null,
   "metadata": {
    "id": "6caT2msP-W7E"
   },
   "outputs": [],
   "source": [
    "!tar -xf images.tar.gz\n",
    "!tar -xf annotations.tar.gz"
   ]
  },
  {
   "cell_type": "markdown",
   "metadata": {
    "id": "kI9MR0naA7zf"
   },
   "source": [
    "The input pictures are stored as JPG files in the `images/ folder` (such as `images/Abyssinian_1.jpg`), and the corresponding segmentation mask is stored as a PNG file with the same name in the `annotations/trimaps/folder` (such as `annotations/trimaps/Abyssinian_1.png`).\n",
    "\n",
    "Let's prepare the list of input file paths, as well as the list of the corresponding mask file paths:"
   ]
  },
  {
   "cell_type": "code",
   "execution_count": null,
   "metadata": {
    "id": "ajl7wCyL56pw"
   },
   "outputs": [],
   "source": [
    "import os\n",
    "\n",
    "img_dir = \"images/\"\n",
    "mask_dir = \"annotations/trimaps/\"\n",
    "\n",
    "# Paths to all input images\n",
    "img_paths = sorted(\n",
    "    [os.path.join(img_dir, fname)\n",
    "     for fname in os.listdir(img_dir)\n",
    "     if fname.endswith(\".jpg\")])\n",
    "\n",
    "# Paths to all output masks\n",
    "mask_paths = sorted(\n",
    "    [os.path.join(mask_dir, fname)\n",
    "     for fname in os.listdir(mask_dir)\n",
    "     if fname.endswith(\".png\") and not fname.startswith(\".\")])"
   ]
  },
  {
   "cell_type": "code",
   "execution_count": null,
   "metadata": {
    "id": "NNzCGnI6unqa"
   },
   "outputs": [],
   "source": [
    "print(f\"Total number of images: {len(img_paths)}\")\n",
    "print(f\"Total number of masks: {len(mask_paths)}\")"
   ]
  },
  {
   "cell_type": "markdown",
   "metadata": {
    "id": "r3chs1IqBHgx"
   },
   "source": [
    "We can now take a look at one of these images and its corresponding mask (you can change the `img_idx` to a different value, to visualize a different image)."
   ]
  },
  {
   "cell_type": "code",
   "execution_count": null,
   "metadata": {
    "id": "8ZLvtVP06DiC"
   },
   "outputs": [],
   "source": [
    "import matplotlib.pyplot as plt\n",
    "from tensorflow.keras.utils import load_img, img_to_array\n",
    "%matplotlib inline\n",
    "\n",
    "img_idx = 10\n",
    "\n",
    "plt.axis(\"off\")\n",
    "plt.imshow(load_img(img_paths[img_idx]))"
   ]
  },
  {
   "cell_type": "code",
   "execution_count": null,
   "metadata": {
    "id": "aGYoWuuQ7zVR"
   },
   "outputs": [],
   "source": [
    "# Displays segmentation map as an image\n",
    "def display_target(target_array):\n",
    "    normalized_array = (target_array.astype(\"uint8\") - 1) * 127\n",
    "    plt.axis(\"off\")\n",
    "    plt.imshow(normalized_array[:, :, 0])\n",
    "\n",
    "img = img_to_array(load_img(mask_paths[img_idx], color_mode=\"grayscale\"))\n",
    "display_target(img)"
   ]
  },
  {
   "cell_type": "markdown",
   "metadata": {
    "id": "gZs5KfGVBlJk"
   },
   "source": [
    "In the above code, notice we substract 1 and then multiply by 127 to each of the mask's \"pixel value\". This is done to convert values from 1, 2, 3 (classes) to 0 (black), 127 (gray), 254 (almost white)."
   ]
  },
  {
   "cell_type": "markdown",
   "metadata": {
    "id": "SmNEKHk4CAGt"
   },
   "source": [
    "Next, let’s load our inputs and targets into a Dataset, and split them into a training and a validation set."
   ]
  },
  {
   "cell_type": "code",
   "execution_count": null,
   "metadata": {
    "id": "JNQbcDzMmtWP"
   },
   "outputs": [],
   "source": [
    "import tensorflow as tf\n",
    "\n",
    "# Image parameters\n",
    "img_size = (200, 200)     # resize all images to 200 x 200\n",
    "num_imgs = len(img_paths) # number of samples\n",
    "img_channels = 3          # RGB images\n",
    "\n",
    "# Function to load and process images and masks\n",
    "def load_image_and_mask(image_path, mask_path):\n",
    "    # Read the image file\n",
    "    image = tf.io.read_file(image_path)\n",
    "    image = tf.image.decode_jpeg(image, channels=img_channels)\n",
    "    image = tf.image.resize(image, img_size)\n",
    "    image = tf.cast(image, tf.float32) / 255.0  # Normalize the image to [0, 1]\n",
    "\n",
    "    # Read the mask file\n",
    "    mask = tf.io.read_file(mask_path)\n",
    "    mask = tf.image.decode_png(mask, channels=1)  # Assuming the mask is a grayscale image\n",
    "    mask = tf.image.resize(mask, img_size)\n",
    "    mask = tf.cast(mask, tf.uint8) - 1   # Shift targets into 0, 1, 2\n",
    "\n",
    "    return image, mask\n",
    "\n",
    "# Function to create dataset from image and mask file paths\n",
    "def create_dataset(image_paths, mask_paths, batch_size):\n",
    "    # Create a Dataset object with image and mask file paths\n",
    "    dataset = tf.data.Dataset.from_tensor_slices((image_paths, mask_paths))\n",
    "\n",
    "    # Load and preprocess images and masks\n",
    "    dataset = dataset.map(lambda image_path, mask_path: load_image_and_mask(image_path, mask_path),\n",
    "                          num_parallel_calls=tf.data.AUTOTUNE)\n",
    "\n",
    "    # Shuffle, batch, and prefetch the dataset\n",
    "    dataset = dataset.shuffle(buffer_size=len(image_paths))\n",
    "    dataset = dataset.batch(batch_size)\n",
    "    dataset = dataset.prefetch(buffer_size=tf.data.AUTOTUNE)\n",
    "\n",
    "    return dataset\n",
    "\n",
    "# Create the dataset\n",
    "BATCH_SIZE = 32\n",
    "\n",
    "# Split into training and validation sets\n",
    "num_val_samples = 1000\n",
    "train_imgs = img_paths[:-num_val_samples]\n",
    "train_masks = mask_paths[:-num_val_samples]\n",
    "val_imgs = img_paths[-num_val_samples:]\n",
    "val_masks = mask_paths[-num_val_samples:]\n",
    "\n",
    "train_dataset = create_dataset(train_imgs, train_masks, BATCH_SIZE)\n",
    "val_dataset = create_dataset(val_imgs, val_masks, BATCH_SIZE)\n",
    "\n",
    "# Test the dataset loading\n",
    "#for image_batch, mask_batch in train_dataset.take(1):\n",
    "#    print(\"Image batch shape:\", image_batch.shape)\n",
    "#    print(\"Mask batch shape:\", mask_batch.shape)"
   ]
  },
  {
   "cell_type": "markdown",
   "metadata": {
    "id": "qLWer44FD6ku"
   },
   "source": [
    "## Building the Model\n",
    "Now it's time to define our model, since this is a segmentation task, we'll employ a \"traditional\" convolution-deconvolution architecture. We could build this network using the `Sequential` class we've employed in the past, however we'll use Keras Functional API instead, as some future architectures won't be possible without it."
   ]
  },
  {
   "cell_type": "markdown",
   "metadata": {
    "id": "Za751D6wAraV"
   },
   "source": [
    "### Interlude: The Keras Functional API\n",
    "The Keras Functional API is a flexible way to define more complex models, such as multi-input/output models, shared layers, and models with non-linear topology. Unlike the sequential API, which is limited to a linear stack of layers, the functional API allows you to define arbitrary computational graphs. This presents some added benefits like increased flexibility (you can connect layers freely, making it ideal for defining models with complex structures), reusability (layers and blocks can be reused and shared across models) and clarity (you explicitly define how data flows through the layers).\n",
    "\n",
    "Through the Functional API, we can simply chain layers together by passing the output from one layer as the input to the next. Models can then be composed by specifying its inputs and outputs.\n",
    "\n",
    "Example:\n",
    "```\n",
    "# 1. Define the input\n",
    "inputs = tf.keras.Input(shape=(28, 28, 1))  # Input layer for grayscale images (28x28)\n",
    "\n",
    "# 2. Add layers\n",
    "x = layers.Conv2D(32, (3, 3), activation='relu')(inputs)  # Convolutional layer\n",
    "x = layers.MaxPooling2D((2, 2))(x)  # MaxPooling layer\n",
    "x = layers.Flatten()(x)  # Flatten the output for Dense layers\n",
    "x = layers.Dense(64, activation='relu')(x)\n",
    "\n",
    "# 3. Define the output\n",
    "outputs = layers.Dense(10, activation='softmax')(x)  # Output layer for 10 classes\n",
    "\n",
    "# 4. Define the model\n",
    "model = models.Model(inputs=inputs, outputs=outputs)\n",
    "```\n",
    "Notice how layers are \"connected\" through functional calls to their respective inputs (in this case the outputs of the previous layer) and how the `model` is created by specifying the input and output tensors.\n"
   ]
  },
  {
   "cell_type": "markdown",
   "metadata": {
    "id": "kqAfQGX9md6E"
   },
   "source": [
    "### Coding Excercise: Build the Model\n",
    "Build the convolution-deconvolution model shown in the diagram using the Keras Functional API.\n",
    "\n",
    "The first half of the model closely resembles the kind of convnet we'd use for image classification: a stack of `Conv2D` layers, with gradually increasing filter sizes. We downsample our images three times by a factor of two each, ending up with activations of size (25, 25, 256). The purpose of this first half is to encode the images into smaller feature maps, where each spatial location (or pixel) contains information about a large spatial chunk of the original image. Notice that we'll have our `Conv2D` layers perform the subsampling instead of using `MaxPooling` layers (use a `stride=2` argument). Generally, strided convolutions do a better job at downsampling feature maps while retaining location information. Pay close attention to the expected feature volumes' dimensions when specifying your model's layers.\n",
    "\n",
    "The second half of the model is a stack of [`Conv2DTranspose`](https://keras.io/api/layers/convolution_layers/convolution2d_transpose/) layers. If you have an input of shape (100, 100, 64), and you run it through the layer `Conv2D(128, 3, strides=2, padding=\"same\")`, you get an output of shape (50, 50, 128). If you run this output through the layer `Conv2DTranspose(64, 3, strides=2, padding=\"same\")`, you get back an output of shape (100, 100, 64), the same as the original. So after compressing our inputs into feature maps of shape (25, 25, 256) via a stack of `Conv2D` layers, we can simply apply the corresponding sequence of `Conv2DTranspose` layers to get back to images of shape (200, 200, 3). Therefore, layers in this section should mirror those in the convolution half.\n",
    "\n",
    "Use `relu` activation functions for all hidden layers.\n",
    "\n",
    "For the output layer, we'll need a classification for each pixel in the input image, hence a tensor of the same shape as the image, with one channel for each possible class. Use a `Softmax` activation function on this last layer, like you would do with any other classification problem."
   ]
  },
  {
   "cell_type": "markdown",
   "metadata": {
    "id": "ZB5cmgF1SbmN"
   },
   "source": [
    "![conv-deconv.drawio.png](data:image/png;base64,iVBORw0KGgoAAAANSUhEUgAAArgAAAGOCAYAAAB8C3ACAAAAAXNSR0IArs4c6QAAQf10RVh0bXhmaWxlACUzQ214ZmlsZSUyMGhvc3QlM0QlMjJhcHAuZGlhZ3JhbXMubmV0JTIyJTIwYWdlbnQlM0QlMjJNb3ppbGxhJTJGNS4wJTIwKFdpbmRvd3MlMjBOVCUyMDEwLjAlM0IlMjBXaW42NCUzQiUyMHg2NCklMjBBcHBsZVdlYktpdCUyRjUzNy4zNiUyMChLSFRNTCUyQyUyMGxpa2UlMjBHZWNrbyklMjBDaHJvbWUlMkYxMjkuMC4wLjAlMjBTYWZhcmklMkY1MzcuMzYlMjIlMjB2ZXJzaW9uJTNEJTIyMjQuNy4xNyUyMiUyMHNjYWxlJTNEJTIyMSUyMiUyMGJvcmRlciUzRCUyMjAlMjIlM0UlMEElMjAlMjAlM0NkaWFncmFtJTIwbmFtZSUzRCUyMlAlQzMlQTFnaW5hLTElMjIlMjBpZCUzRCUyMjRqcXhSSmFQVFp3VS1sV2EwTjZRJTIyJTNFJTBBJTIwJTIwJTIwJTIwJTNDbXhHcmFwaE1vZGVsJTIwZHglM0QlMjIxNTk0JTIyJTIwZHklM0QlMjI5MDklMjIlMjBncmlkJTNEJTIyMCUyMiUyMGdyaWRTaXplJTNEJTIyMTAlMjIlMjBndWlkZXMlM0QlMjIxJTIyJTIwdG9vbHRpcHMlM0QlMjIxJTIyJTIwY29ubmVjdCUzRCUyMjElMjIlMjBhcnJvd3MlM0QlMjIxJTIyJTIwZm9sZCUzRCUyMjElMjIlMjBwYWdlJTNEJTIyMCUyMiUyMHBhZ2VTY2FsZSUzRCUyMjElMjIlMjBwYWdlV2lkdGglM0QlMjI4MjclMjIlMjBwYWdlSGVpZ2h0JTNEJTIyMTE2OSUyMiUyMG1hdGglM0QlMjIwJTIyJTIwc2hhZG93JTNEJTIyMCUyMiUzRSUwQSUyMCUyMCUyMCUyMCUyMCUyMCUzQ3Jvb3QlM0UlMEElMjAlMjAlMjAlMjAlMjAlMjAlMjAlMjAlM0NteENlbGwlMjBpZCUzRCUyMjAlMjIlMjAlMkYlM0UlMEElMjAlMjAlMjAlMjAlMjAlMjAlMjAlMjAlM0NteENlbGwlMjBpZCUzRCUyMjElMjIlMjBwYXJlbnQlM0QlMjIwJTIyJTIwJTJGJTNFJTBBJTIwJTIwJTIwJTIwJTIwJTIwJTIwJTIwJTNDbXhDZWxsJTIwaWQlM0QlMjJ4VEZoTkxyN1JxS3lqLXFXeF91di03JTIyJTIwdmFsdWUlM0QlMjIlMjIlMjBzdHlsZSUzRCUyMnZlcnRpY2FsQWxpZ24lM0R0b3AlM0JhbGlnbiUzRGxlZnQlM0JzcGFjaW5nVG9wJTNEOCUzQnNwYWNpbmdMZWZ0JTNEMiUzQnNwYWNpbmdSaWdodCUzRDEyJTNCc2hhcGUlM0RjdWJlJTNCc2l6ZSUzRDgxJTNCZGlyZWN0aW9uJTNEc291dGglM0Jmb250U3R5bGUlM0Q0JTNCaHRtbCUzRDElM0J3aGl0ZVNwYWNlJTNEd3JhcCUzQmZpbGxDb2xvciUzRCUyM2RhZThmYyUzQnN0cm9rZUNvbG9yJTNEJTIzNmM4ZWJmJTNCJTIyJTIwdmVydGV4JTNEJTIyMSUyMiUyMHBhcmVudCUzRCUyMjElMjIlM0UlMEElMjAlMjAlMjAlMjAlMjAlMjAlMjAlMjAlMjAlMjAlM0NteEdlb21ldHJ5JTIweCUzRCUyMi02MTUlMjIlMjB5JTNEJTIyMjAlMjIlMjB3aWR0aCUzRCUyMjEwMiUyMiUyMGhlaWdodCUzRCUyMjI2NSUyMiUyMGFzJTNEJTIyZ2VvbWV0cnklMjIlMjAlMkYlM0UlMEElMjAlMjAlMjAlMjAlMjAlMjAlMjAlMjAlM0MlMkZteENlbGwlM0UlMEElMjAlMjAlMjAlMjAlMjAlMjAlMjAlMjAlM0NteENlbGwlMjBpZCUzRCUyMnhURmhOTHI3UnFLeWotcVd4X3V2LTglMjIlMjB2YWx1ZSUzRCUyMiUyMiUyMHN0eWxlJTNEJTIydmVydGljYWxBbGlnbiUzRHRvcCUzQmFsaWduJTNEbGVmdCUzQnNwYWNpbmdUb3AlM0Q4JTNCc3BhY2luZ0xlZnQlM0QyJTNCc3BhY2luZ1JpZ2h0JTNEMTIlM0JzaGFwZSUzRGN1YmUlM0JzaXplJTNENjklM0JkaXJlY3Rpb24lM0Rzb3V0aCUzQmZvbnRTdHlsZSUzRDQlM0JodG1sJTNEMSUzQndoaXRlU3BhY2UlM0R3cmFwJTNCYXNwZWN0JTNEZml4ZWQlM0JmaWxsQ29sb3IlM0QlMjNmOGNlY2MlM0JzdHJva2VDb2xvciUzRCUyM2I4NTQ1MCUzQiUyMiUyMHZlcnRleCUzRCUyMjElMjIlMjBwYXJlbnQlM0QlMjIxJTIyJTNFJTBBJTIwJTIwJTIwJTIwJTIwJTIwJTIwJTIwJTIwJTIwJTNDbXhHZW9tZXRyeSUyMHglM0QlMjItNTYwJTIyJTIweSUzRCUyMjc1LjE5OTk5OTk5OTk5OTk5JTIyJTIwd2lkdGglM0QlMjI4MC43NiUyMiUyMGhlaWdodCUzRCUyMjIwOS44JTIyJTIwYXMlM0QlMjJnZW9tZXRyeSUyMiUyMCUyRiUzRSUwQSUyMCUyMCUyMCUyMCUyMCUyMCUyMCUyMCUzQyUyRm14Q2VsbCUzRSUwQSUyMCUyMCUyMCUyMCUyMCUyMCUyMCUyMCUzQ214Q2VsbCUyMGlkJTNEJTIyeFRGaE5McjdScUt5ai1xV3hfdXYtOSUyMiUyMHZhbHVlJTNEJTIyJTI2bHQlM0JkaXYlMjZndCUzQjIwMHgyMDB4MyUyNmx0JTNCJTJGZGl2JTI2Z3QlM0IlMjIlMjBzdHlsZSUzRCUyMnRleHQlM0JzdHJva2VDb2xvciUzRG5vbmUlM0JmaWxsQ29sb3IlM0Rub25lJTNCaHRtbCUzRDElM0JhbGlnbiUzRGNlbnRlciUzQnZlcnRpY2FsQWxpZ24lM0RtaWRkbGUlM0J3aGl0ZVNwYWNlJTNEd3JhcCUzQnJvdW5kZWQlM0QwJTNCZm9udFNpemUlM0QxNiUzQiUyMiUyMHZlcnRleCUzRCUyMjElMjIlMjBwYXJlbnQlM0QlMjIxJTIyJTNFJTBBJTIwJTIwJTIwJTIwJTIwJTIwJTIwJTIwJTIwJTIwJTNDbXhHZW9tZXRyeSUyMHglM0QlMjItNjM4JTIyJTIweSUzRCUyMjI5NSUyMiUyMHdpZHRoJTNEJTIyNjAlMjIlMjBoZWlnaHQlM0QlMjIzMCUyMiUyMGFzJTNEJTIyZ2VvbWV0cnklMjIlMjAlMkYlM0UlMEElMjAlMjAlMjAlMjAlMjAlMjAlMjAlMjAlM0MlMkZteENlbGwlM0UlMEElMjAlMjAlMjAlMjAlMjAlMjAlMjAlMjAlM0NteENlbGwlMjBpZCUzRCUyMnhURmhOTHI3UnFLeWotcVd4X3V2LTEwJTIyJTIwdmFsdWUlM0QlMjIlMjZsdCUzQmRpdiUyNmd0JTNCMTAweDEwMHg2NCUyNmx0JTNCJTJGZGl2JTI2Z3QlM0IlMjIlMjBzdHlsZSUzRCUyMnRleHQlM0JzdHJva2VDb2xvciUzRG5vbmUlM0JmaWxsQ29sb3IlM0Rub25lJTNCaHRtbCUzRDElM0JhbGlnbiUzRGNlbnRlciUzQnZlcnRpY2FsQWxpZ24lM0RtaWRkbGUlM0J3aGl0ZVNwYWNlJTNEd3JhcCUzQnJvdW5kZWQlM0QwJTNCZm9udFNpemUlM0QxNiUzQiUyMiUyMHZlcnRleCUzRCUyMjElMjIlMjBwYXJlbnQlM0QlMjIxJTIyJTNFJTBBJTIwJTIwJTIwJTIwJTIwJTIwJTIwJTIwJTIwJTIwJTNDbXhHZW9tZXRyeSUyMHglM0QlMjItNDk5JTIyJTIweSUzRCUyMjQ1LjE5OTk5OTk5OTk5OTk5JTIyJTIwd2lkdGglM0QlMjI2MCUyMiUyMGhlaWdodCUzRCUyMjMwJTIyJTIwYXMlM0QlMjJnZW9tZXRyeSUyMiUyMCUyRiUzRSUwQSUyMCUyMCUyMCUyMCUyMCUyMCUyMCUyMCUzQyUyRm14Q2VsbCUzRSUwQSUyMCUyMCUyMCUyMCUyMCUyMCUyMCUyMCUzQ214Q2VsbCUyMGlkJTNEJTIyeFRGaE5McjdScUt5ai1xV3hfdXYtMTElMjIlMjB2YWx1ZSUzRCUyMiUyMiUyMHN0eWxlJTNEJTIydmVydGljYWxBbGlnbiUzRHRvcCUzQmFsaWduJTNEbGVmdCUzQnNwYWNpbmdUb3AlM0Q4JTNCc3BhY2luZ0xlZnQlM0QyJTNCc3BhY2luZ1JpZ2h0JTNEMTIlM0JzaGFwZSUzRGN1YmUlM0JzaXplJTNENjklM0JkaXJlY3Rpb24lM0Rzb3V0aCUzQmZvbnRTdHlsZSUzRDQlM0JodG1sJTNEMSUzQndoaXRlU3BhY2UlM0R3cmFwJTNCYXNwZWN0JTNEZml4ZWQlM0JmaWxsQ29sb3IlM0QlMjNkNWU4ZDQlM0JzdHJva2VDb2xvciUzRCUyMzgyYjM2NiUzQiUyMiUyMHZlcnRleCUzRCUyMjElMjIlMjBwYXJlbnQlM0QlMjIxJTIyJTNFJTBBJTIwJTIwJTIwJTIwJTIwJTIwJTIwJTIwJTIwJTIwJTNDbXhHZW9tZXRyeSUyMHglM0QlMjItNTM1JTIyJTIweSUzRCUyMjc1LjE5OTk5OTk5OTk5OTk5JTIyJTIwd2lkdGglM0QlMjI4MC43NiUyMiUyMGhlaWdodCUzRCUyMjIwOS44JTIyJTIwYXMlM0QlMjJnZW9tZXRyeSUyMiUyMCUyRiUzRSUwQSUyMCUyMCUyMCUyMCUyMCUyMCUyMCUyMCUzQyUyRm14Q2VsbCUzRSUwQSUyMCUyMCUyMCUyMCUyMCUyMCUyMCUyMCUzQ214Q2VsbCUyMGlkJTNEJTIyeFRGaE5McjdScUt5ai1xV3hfdXYtMTMlMjIlMjB2YWx1ZSUzRCUyMiUyMiUyMHN0eWxlJTNEJTIydmVydGljYWxBbGlnbiUzRHRvcCUzQmFsaWduJTNEbGVmdCUzQnNwYWNpbmdUb3AlM0Q4JTNCc3BhY2luZ0xlZnQlM0QyJTNCc3BhY2luZ1JpZ2h0JTNEMTIlM0JzaGFwZSUzRGN1YmUlM0JzaXplJTNEMzYlM0JkaXJlY3Rpb24lM0Rzb3V0aCUzQmZvbnRTdHlsZSUzRDQlM0JodG1sJTNEMSUzQndoaXRlU3BhY2UlM0R3cmFwJTNCYXNwZWN0JTNEZml4ZWQlM0JmaWxsQ29sb3IlM0QlMjNmOGNlY2MlM0JzdHJva2VDb2xvciUzRCUyM2I4NTQ1MCUzQiUyMiUyMHZlcnRleCUzRCUyMjElMjIlMjBwYXJlbnQlM0QlMjIxJTIyJTNFJTBBJTIwJTIwJTIwJTIwJTIwJTIwJTIwJTIwJTIwJTIwJTNDbXhHZW9tZXRyeSUyMHglM0QlMjItNDcxLjQ5JTIyJTIweSUzRCUyMjE1NC4wMiUyMiUyMHdpZHRoJTNEJTIyNTAuNDMlMjIlMjBoZWlnaHQlM0QlMjIxMzAuOTglMjIlMjBhcyUzRCUyMmdlb21ldHJ5JTIyJTIwJTJGJTNFJTBBJTIwJTIwJTIwJTIwJTIwJTIwJTIwJTIwJTNDJTJGbXhDZWxsJTNFJTBBJTIwJTIwJTIwJTIwJTIwJTIwJTIwJTIwJTNDbXhDZWxsJTIwaWQlM0QlMjJ4VEZoTkxyN1JxS3lqLXFXeF91di0xNCUyMiUyMHZhbHVlJTNEJTIyJTI2bHQlM0JkaXYlMjZndCUzQjUweDUweDEyOCUyNmx0JTNCJTJGZGl2JTI2Z3QlM0IlMjIlMjBzdHlsZSUzRCUyMnRleHQlM0JzdHJva2VDb2xvciUzRG5vbmUlM0JmaWxsQ29sb3IlM0Rub25lJTNCaHRtbCUzRDElM0JhbGlnbiUzRGNlbnRlciUzQnZlcnRpY2FsQWxpZ24lM0RtaWRkbGUlM0J3aGl0ZVNwYWNlJTNEd3JhcCUzQnJvdW5kZWQlM0QwJTNCZm9udFNpemUlM0QxNiUzQiUyMiUyMHZlcnRleCUzRCUyMjElMjIlMjBwYXJlbnQlM0QlMjIxJTIyJTNFJTBBJTIwJTIwJTIwJTIwJTIwJTIwJTIwJTIwJTIwJTIwJTNDbXhHZW9tZXRyeSUyMHglM0QlMjItNDgxLjA2JTIyJTIweSUzRCUyMjI5NSUyMiUyMHdpZHRoJTNEJTIyNjAlMjIlMjBoZWlnaHQlM0QlMjIzMCUyMiUyMGFzJTNEJTIyZ2VvbWV0cnklMjIlMjAlMkYlM0UlMEElMjAlMjAlMjAlMjAlMjAlMjAlMjAlMjAlM0MlMkZteENlbGwlM0UlMEElMjAlMjAlMjAlMjAlMjAlMjAlMjAlMjAlM0NteENlbGwlMjBpZCUzRCUyMnhURmhOTHI3UnFLeWotcVd4X3V2LTE1JTIyJTIwdmFsdWUlM0QlMjIlMjIlMjBzdHlsZSUzRCUyMnZlcnRpY2FsQWxpZ24lM0R0b3AlM0JhbGlnbiUzRGxlZnQlM0JzcGFjaW5nVG9wJTNEOCUzQnNwYWNpbmdMZWZ0JTNEMiUzQnNwYWNpbmdSaWdodCUzRDEyJTNCc2hhcGUlM0RjdWJlJTNCc2l6ZSUzRDM2JTNCZGlyZWN0aW9uJTNEc291dGglM0Jmb250U3R5bGUlM0Q0JTNCaHRtbCUzRDElM0J3aGl0ZVNwYWNlJTNEd3JhcCUzQmFzcGVjdCUzRGZpeGVkJTNCZmlsbENvbG9yJTNEJTIzZDVlOGQ0JTNCc3Ryb2tlQ29sb3IlM0QlMjM4MmIzNjYlM0IlMjIlMjB2ZXJ0ZXglM0QlMjIxJTIyJTIwcGFyZW50JTNEJTIyMSUyMiUzRSUwQSUyMCUyMCUyMCUyMCUyMCUyMCUyMCUyMCUyMCUyMCUzQ214R2VvbWV0cnklMjB4JTNEJTIyLTQ0NS45MiUyMiUyMHklM0QlMjIxNTQuMDIlMjIlMjB3aWR0aCUzRCUyMjUwLjQzJTIyJTIwaGVpZ2h0JTNEJTIyMTMwLjk4JTIyJTIwYXMlM0QlMjJnZW9tZXRyeSUyMiUyMCUyRiUzRSUwQSUyMCUyMCUyMCUyMCUyMCUyMCUyMCUyMCUzQyUyRm14Q2VsbCUzRSUwQSUyMCUyMCUyMCUyMCUyMCUyMCUyMCUyMCUzQ214Q2VsbCUyMGlkJTNEJTIyeFRGaE5McjdScUt5ai1xV3hfdXYtMTYlMjIlMjB2YWx1ZSUzRCUyMiUyNmx0JTNCZGl2JTI2Z3QlM0IlMjZsdCUzQnNwYW4lMjBzdHlsZSUzRCUyNnF1b3QlM0JiYWNrZ3JvdW5kLWNvbG9yJTNBJTIwaW5pdGlhbCUzQiUyNnF1b3QlM0IlMjZndCUzQjI1eDI1eDI1NiUyNmx0JTNCJTJGc3BhbiUyNmd0JTNCJTI2bHQlM0JiciUyNmd0JTNCJTI2bHQlM0IlMkZkaXYlMjZndCUzQiUyMiUyMHN0eWxlJTNEJTIydGV4dCUzQnN0cm9rZUNvbG9yJTNEbm9uZSUzQmZpbGxDb2xvciUzRG5vbmUlM0JodG1sJTNEMSUzQmFsaWduJTNEY2VudGVyJTNCdmVydGljYWxBbGlnbiUzRG1pZGRsZSUzQndoaXRlU3BhY2UlM0R3cmFwJTNCcm91bmRlZCUzRDAlM0Jmb250U2l6ZSUzRDE2JTNCJTIyJTIwdmVydGV4JTNEJTIyMSUyMiUyMHBhcmVudCUzRCUyMjElMjIlM0UlMEElMjAlMjAlMjAlMjAlMjAlMjAlMjAlMjAlMjAlMjAlM0NteEdlb21ldHJ5JTIweCUzRCUyMi0zNzIuMzQlMjIlMjB5JTNEJTIyMTUyJTIyJTIwd2lkdGglM0QlMjI2MCUyMiUyMGhlaWdodCUzRCUyMjMwJTIyJTIwYXMlM0QlMjJnZW9tZXRyeSUyMiUyMCUyRiUzRSUwQSUyMCUyMCUyMCUyMCUyMCUyMCUyMCUyMCUzQyUyRm14Q2VsbCUzRSUwQSUyMCUyMCUyMCUyMCUyMCUyMCUyMCUyMCUzQ214Q2VsbCUyMGlkJTNEJTIyeFRGaE5McjdScUt5ai1xV3hfdXYtMTclMjIlMjB2YWx1ZSUzRCUyMiUyMiUyMHN0eWxlJTNEJTIydmVydGljYWxBbGlnbiUzRHRvcCUzQmFsaWduJTNEbGVmdCUzQnNwYWNpbmdUb3AlM0Q4JTNCc3BhY2luZ0xlZnQlM0QyJTNCc3BhY2luZ1JpZ2h0JTNEMTIlM0JzaGFwZSUzRGN1YmUlM0JzaXplJTNEMjElM0JkaXJlY3Rpb24lM0Rzb3V0aCUzQmZvbnRTdHlsZSUzRDQlM0JodG1sJTNEMSUzQndoaXRlU3BhY2UlM0R3cmFwJTNCYXNwZWN0JTNEZml4ZWQlM0JmaWxsQ29sb3IlM0QlMjNmOGNlY2MlM0JzdHJva2VDb2xvciUzRCUyM2I4NTQ1MCUzQiUyMiUyMHZlcnRleCUzRCUyMjElMjIlMjBwYXJlbnQlM0QlMjIxJTIyJTNFJTBBJTIwJTIwJTIwJTIwJTIwJTIwJTIwJTIwJTIwJTIwJTNDbXhHZW9tZXRyeSUyMHglM0QlMjItMzkxJTIyJTIweSUzRCUyMjE4MiUyMiUyMHdpZHRoJTNEJTIyMzkuNjYlMjIlMjBoZWlnaHQlM0QlMjIxMDMlMjIlMjBhcyUzRCUyMmdlb21ldHJ5JTIyJTIwJTJGJTNFJTBBJTIwJTIwJTIwJTIwJTIwJTIwJTIwJTIwJTNDJTJGbXhDZWxsJTNFJTBBJTIwJTIwJTIwJTIwJTIwJTIwJTIwJTIwJTNDbXhDZWxsJTIwaWQlM0QlMjJ4VEZoTkxyN1JxS3lqLXFXeF91di0yMiUyMiUyMHZhbHVlJTNEJTIyJTIyJTIwc3R5bGUlM0QlMjJ2ZXJ0aWNhbEFsaWduJTNEdG9wJTNCYWxpZ24lM0RsZWZ0JTNCc3BhY2luZ1RvcCUzRDglM0JzcGFjaW5nTGVmdCUzRDIlM0JzcGFjaW5nUmlnaHQlM0QxMiUzQnNoYXBlJTNEY3ViZSUzQnNpemUlM0QyMSUzQmRpcmVjdGlvbiUzRHNvdXRoJTNCZm9udFN0eWxlJTNENCUzQmh0bWwlM0QxJTNCd2hpdGVTcGFjZSUzRHdyYXAlM0Jhc3BlY3QlM0RmaXhlZCUzQmZpbGxDb2xvciUzRCUyM2Q1ZThkNCUzQnN0cm9rZUNvbG9yJTNEJTIzODJiMzY2JTNCJTIyJTIwdmVydGV4JTNEJTIyMSUyMiUyMHBhcmVudCUzRCUyMjElMjIlM0UlMEElMjAlMjAlMjAlMjAlMjAlMjAlMjAlMjAlMjAlMjAlM0NteEdlb21ldHJ5JTIweCUzRCUyMi0zNjIuMTclMjIlMjB5JTNEJTIyMTgyJTIyJTIwd2lkdGglM0QlMjIzOS42NiUyMiUyMGhlaWdodCUzRCUyMjEwMyUyMiUyMGFzJTNEJTIyZ2VvbWV0cnklMjIlMjAlMkYlM0UlMEElMjAlMjAlMjAlMjAlMjAlMjAlMjAlMjAlM0MlMkZteENlbGwlM0UlMEElMjAlMjAlMjAlMjAlMjAlMjAlMjAlMjAlM0NteENlbGwlMjBpZCUzRCUyMnhURmhOTHI3UnFLeWotcVd4X3V2LTIzJTIyJTIwdmFsdWUlM0QlMjIlMjIlMjBzdHlsZSUzRCUyMnZlcnRpY2FsQWxpZ24lM0R0b3AlM0JhbGlnbiUzRGxlZnQlM0JzcGFjaW5nVG9wJTNEOCUzQnNwYWNpbmdMZWZ0JTNEMiUzQnNwYWNpbmdSaWdodCUzRDEyJTNCc2hhcGUlM0RjdWJlJTNCc2l6ZSUzRDgxJTNCZGlyZWN0aW9uJTNEc291dGglM0Jmb250U3R5bGUlM0Q0JTNCaHRtbCUzRDElM0J3aGl0ZVNwYWNlJTNEd3JhcCUzQmZsaXBIJTNEMSUzQmZpbGxDb2xvciUzRCUyM2ZmZjJjYyUzQnN0cm9rZUNvbG9yJTNEJTIzZDZiNjU2JTNCJTIyJTIwdmVydGV4JTNEJTIyMSUyMiUyMHBhcmVudCUzRCUyMjElMjIlM0UlMEElMjAlMjAlMjAlMjAlMjAlMjAlMjAlMjAlMjAlMjAlM0NteEdlb21ldHJ5JTIweCUzRCUyMi01NCUyMiUyMHklM0QlMjIyMCUyMiUyMHdpZHRoJTNEJTIyMTAyJTIyJTIwaGVpZ2h0JTNEJTIyMjY1JTIyJTIwYXMlM0QlMjJnZW9tZXRyeSUyMiUyMCUyRiUzRSUwQSUyMCUyMCUyMCUyMCUyMCUyMCUyMCUyMCUzQyUyRm14Q2VsbCUzRSUwQSUyMCUyMCUyMCUyMCUyMCUyMCUyMCUyMCUzQ214Q2VsbCUyMGlkJTNEJTIyeFRGaE5McjdScUt5ai1xV3hfdXYtMjQlMjIlMjB2YWx1ZSUzRCUyMiUyMiUyMHN0eWxlJTNEJTIydmVydGljYWxBbGlnbiUzRHRvcCUzQmFsaWduJTNEbGVmdCUzQnNwYWNpbmdUb3AlM0Q4JTNCc3BhY2luZ0xlZnQlM0QyJTNCc3BhY2luZ1JpZ2h0JTNEMTIlM0JzaGFwZSUzRGN1YmUlM0JzaXplJTNENjklM0JkaXJlY3Rpb24lM0Rzb3V0aCUzQmZvbnRTdHlsZSUzRDQlM0JodG1sJTNEMSUzQndoaXRlU3BhY2UlM0R3cmFwJTNCYXNwZWN0JTNEZml4ZWQlM0JmbGlwSCUzRDElM0IlMjIlMjB2ZXJ0ZXglM0QlMjIxJTIyJTIwcGFyZW50JTNEJTIyMSUyMiUzRSUwQSUyMCUyMCUyMCUyMCUyMCUyMCUyMCUyMCUyMCUyMCUzQ214R2VvbWV0cnklMjB4JTNEJTIyLTExNiUyMiUyMHklM0QlMjI3NS4xOTk5OTk5OTk5OTk5OSUyMiUyMHdpZHRoJTNEJTIyODAuNzYlMjIlMjBoZWlnaHQlM0QlMjIyMDkuOCUyMiUyMGFzJTNEJTIyZ2VvbWV0cnklMjIlMjAlMkYlM0UlMEElMjAlMjAlMjAlMjAlMjAlMjAlMjAlMjAlM0MlMkZteENlbGwlM0UlMEElMjAlMjAlMjAlMjAlMjAlMjAlMjAlMjAlM0NteENlbGwlMjBpZCUzRCUyMnhURmhOTHI3UnFLeWotcVd4X3V2LTI1JTIyJTIwdmFsdWUlM0QlMjIlMjIlMjBzdHlsZSUzRCUyMnZlcnRpY2FsQWxpZ24lM0R0b3AlM0JhbGlnbiUzRGxlZnQlM0JzcGFjaW5nVG9wJTNEOCUzQnNwYWNpbmdMZWZ0JTNEMiUzQnNwYWNpbmdSaWdodCUzRDEyJTNCc2hhcGUlM0RjdWJlJTNCc2l6ZSUzRDY5JTNCZGlyZWN0aW9uJTNEc291dGglM0Jmb250U3R5bGUlM0Q0JTNCaHRtbCUzRDElM0J3aGl0ZVNwYWNlJTNEd3JhcCUzQmFzcGVjdCUzRGZpeGVkJTNCZmxpcEglM0QxJTNCJTIyJTIwdmVydGV4JTNEJTIyMSUyMiUyMHBhcmVudCUzRCUyMjElMjIlM0UlMEElMjAlMjAlMjAlMjAlMjAlMjAlMjAlMjAlMjAlMjAlM0NteEdlb21ldHJ5JTIweCUzRCUyMi0xNTAlMjIlMjB5JTNEJTIyNzUuMTk5OTk5OTk5OTk5OTklMjIlMjB3aWR0aCUzRCUyMjgwLjc2JTIyJTIwaGVpZ2h0JTNEJTIyMjA5LjglMjIlMjBhcyUzRCUyMmdlb21ldHJ5JTIyJTIwJTJGJTNFJTBBJTIwJTIwJTIwJTIwJTIwJTIwJTIwJTIwJTNDJTJGbXhDZWxsJTNFJTBBJTIwJTIwJTIwJTIwJTIwJTIwJTIwJTIwJTNDbXhDZWxsJTIwaWQlM0QlMjJ4VEZoTkxyN1JxS3lqLXFXeF91di0yNiUyMiUyMHZhbHVlJTNEJTIyJTIyJTIwc3R5bGUlM0QlMjJ2ZXJ0aWNhbEFsaWduJTNEdG9wJTNCYWxpZ24lM0RsZWZ0JTNCc3BhY2luZ1RvcCUzRDglM0JzcGFjaW5nTGVmdCUzRDIlM0JzcGFjaW5nUmlnaHQlM0QxMiUzQnNoYXBlJTNEY3ViZSUzQnNpemUlM0QzNiUzQmRpcmVjdGlvbiUzRHNvdXRoJTNCZm9udFN0eWxlJTNENCUzQmh0bWwlM0QxJTNCd2hpdGVTcGFjZSUzRHdyYXAlM0Jhc3BlY3QlM0RmaXhlZCUzQmZsaXBIJTNEMSUzQiUyMiUyMHZlcnRleCUzRCUyMjElMjIlMjBwYXJlbnQlM0QlMjIxJTIyJTNFJTBBJTIwJTIwJTIwJTIwJTIwJTIwJTIwJTIwJTIwJTIwJTNDbXhHZW9tZXRyeSUyMHglM0QlMjItMTg1JTIyJTIweSUzRCUyMjE1NC4wMiUyMiUyMHdpZHRoJTNEJTIyNTAuNDMlMjIlMjBoZWlnaHQlM0QlMjIxMzAuOTglMjIlMjBhcyUzRCUyMmdlb21ldHJ5JTIyJTIwJTJGJTNFJTBBJTIwJTIwJTIwJTIwJTIwJTIwJTIwJTIwJTNDJTJGbXhDZWxsJTNFJTBBJTIwJTIwJTIwJTIwJTIwJTIwJTIwJTIwJTNDbXhDZWxsJTIwaWQlM0QlMjJ4VEZoTkxyN1JxS3lqLXFXeF91di0yNyUyMiUyMHZhbHVlJTNEJTIyJTIyJTIwc3R5bGUlM0QlMjJ2ZXJ0aWNhbEFsaWduJTNEdG9wJTNCYWxpZ24lM0RsZWZ0JTNCc3BhY2luZ1RvcCUzRDglM0JzcGFjaW5nTGVmdCUzRDIlM0JzcGFjaW5nUmlnaHQlM0QxMiUzQnNoYXBlJTNEY3ViZSUzQnNpemUlM0QzNiUzQmRpcmVjdGlvbiUzRHNvdXRoJTNCZm9udFN0eWxlJTNENCUzQmh0bWwlM0QxJTNCd2hpdGVTcGFjZSUzRHdyYXAlM0Jhc3BlY3QlM0RmaXhlZCUzQmZsaXBIJTNEMSUzQiUyMiUyMHZlcnRleCUzRCUyMjElMjIlMjBwYXJlbnQlM0QlMjIxJTIyJTNFJTBBJTIwJTIwJTIwJTIwJTIwJTIwJTIwJTIwJTIwJTIwJTNDbXhHZW9tZXRyeSUyMHglM0QlMjItMjE4JTIyJTIweSUzRCUyMjE1NC4wMiUyMiUyMHdpZHRoJTNEJTIyNTAuNDMlMjIlMjBoZWlnaHQlM0QlMjIxMzAuOTglMjIlMjBhcyUzRCUyMmdlb21ldHJ5JTIyJTIwJTJGJTNFJTBBJTIwJTIwJTIwJTIwJTIwJTIwJTIwJTIwJTNDJTJGbXhDZWxsJTNFJTBBJTIwJTIwJTIwJTIwJTIwJTIwJTIwJTIwJTNDbXhDZWxsJTIwaWQlM0QlMjJ4VEZoTkxyN1JxS3lqLXFXeF91di0yOCUyMiUyMHZhbHVlJTNEJTIyJTIyJTIwc3R5bGUlM0QlMjJ2ZXJ0aWNhbEFsaWduJTNEdG9wJTNCYWxpZ24lM0RsZWZ0JTNCc3BhY2luZ1RvcCUzRDglM0JzcGFjaW5nTGVmdCUzRDIlM0JzcGFjaW5nUmlnaHQlM0QxMiUzQnNoYXBlJTNEY3ViZSUzQnNpemUlM0QyMSUzQmRpcmVjdGlvbiUzRHNvdXRoJTNCZm9udFN0eWxlJTNENCUzQmh0bWwlM0QxJTNCd2hpdGVTcGFjZSUzRHdyYXAlM0Jhc3BlY3QlM0RmaXhlZCUzQmZsaXBIJTNEMSUzQiUyMiUyMHZlcnRleCUzRCUyMjElMjIlMjBwYXJlbnQlM0QlMjIxJTIyJTNFJTBBJTIwJTIwJTIwJTIwJTIwJTIwJTIwJTIwJTIwJTIwJTNDbXhHZW9tZXRyeSUyMHglM0QlMjItMjY1JTIyJTIweSUzRCUyMjE4MiUyMiUyMHdpZHRoJTNEJTIyMzkuNjYlMjIlMjBoZWlnaHQlM0QlMjIxMDMlMjIlMjBhcyUzRCUyMmdlb21ldHJ5JTIyJTIwJTJGJTNFJTBBJTIwJTIwJTIwJTIwJTIwJTIwJTIwJTIwJTNDJTJGbXhDZWxsJTNFJTBBJTIwJTIwJTIwJTIwJTIwJTIwJTIwJTIwJTNDbXhDZWxsJTIwaWQlM0QlMjJ4VEZoTkxyN1JxS3lqLXFXeF91di0yOSUyMiUyMHZhbHVlJTNEJTIyJTIyJTIwc3R5bGUlM0QlMjJ2ZXJ0aWNhbEFsaWduJTNEdG9wJTNCYWxpZ24lM0RsZWZ0JTNCc3BhY2luZ1RvcCUzRDglM0JzcGFjaW5nTGVmdCUzRDIlM0JzcGFjaW5nUmlnaHQlM0QxMiUzQnNoYXBlJTNEY3ViZSUzQnNpemUlM0QyMSUzQmRpcmVjdGlvbiUzRHNvdXRoJTNCZm9udFN0eWxlJTNENCUzQmh0bWwlM0QxJTNCd2hpdGVTcGFjZSUzRHdyYXAlM0Jhc3BlY3QlM0RmaXhlZCUzQmZsaXBIJTNEMSUzQiUyMiUyMHZlcnRleCUzRCUyMjElMjIlMjBwYXJlbnQlM0QlMjIxJTIyJTNFJTBBJTIwJTIwJTIwJTIwJTIwJTIwJTIwJTIwJTIwJTIwJTNDbXhHZW9tZXRyeSUyMHglM0QlMjItMjk0JTIyJTIweSUzRCUyMjE4MiUyMiUyMHdpZHRoJTNEJTIyMzkuNjYlMjIlMjBoZWlnaHQlM0QlMjIxMDMlMjIlMjBhcyUzRCUyMmdlb21ldHJ5JTIyJTIwJTJGJTNFJTBBJTIwJTIwJTIwJTIwJTIwJTIwJTIwJTIwJTNDJTJGbXhDZWxsJTNFJTBBJTIwJTIwJTIwJTIwJTIwJTIwJTIwJTIwJTNDbXhDZWxsJTIwaWQlM0QlMjJ4VEZoTkxyN1JxS3lqLXFXeF91di0zMSUyMiUyMHZhbHVlJTNEJTIyJTI2bHQlM0JkaXYlMjZndCUzQiUyNmx0JTNCc3BhbiUyMHN0eWxlJTNEJTI2cXVvdCUzQmJhY2tncm91bmQtY29sb3IlM0ElMjBpbml0aWFsJTNCJTI2cXVvdCUzQiUyNmd0JTNCMjV4MjV4MjU2JTI2bHQlM0IlMkZzcGFuJTI2Z3QlM0IlMjZsdCUzQmJyJTI2Z3QlM0IlMjZsdCUzQiUyRmRpdiUyNmd0JTNCJTIyJTIwc3R5bGUlM0QlMjJ0ZXh0JTNCc3Ryb2tlQ29sb3IlM0Rub25lJTNCZmlsbENvbG9yJTNEbm9uZSUzQmh0bWwlM0QxJTNCYWxpZ24lM0RjZW50ZXIlM0J2ZXJ0aWNhbEFsaWduJTNEbWlkZGxlJTNCd2hpdGVTcGFjZSUzRHdyYXAlM0Jyb3VuZGVkJTNEMCUzQmZvbnRTaXplJTNEMTYlM0IlMjIlMjB2ZXJ0ZXglM0QlMjIxJTIyJTIwcGFyZW50JTNEJTIyMSUyMiUzRSUwQSUyMCUyMCUyMCUyMCUyMCUyMCUyMCUyMCUyMCUyMCUzQ214R2VvbWV0cnklMjB4JTNEJTIyLTI4NS4zNCUyMiUyMHklM0QlMjIyOTUlMjIlMjB3aWR0aCUzRCUyMjYwJTIyJTIwaGVpZ2h0JTNEJTIyMzAlMjIlMjBhcyUzRCUyMmdlb21ldHJ5JTIyJTIwJTJGJTNFJTBBJTIwJTIwJTIwJTIwJTIwJTIwJTIwJTIwJTNDJTJGbXhDZWxsJTNFJTBBJTIwJTIwJTIwJTIwJTIwJTIwJTIwJTIwJTNDbXhDZWxsJTIwaWQlM0QlMjJ4VEZoTkxyN1JxS3lqLXFXeF91di0zMiUyMiUyMHZhbHVlJTNEJTIyJTI2bHQlM0JkaXYlMjZndCUzQjUweDUweDEyOCUyNmx0JTNCJTJGZGl2JTI2Z3QlM0IlMjIlMjBzdHlsZSUzRCUyMnRleHQlM0JzdHJva2VDb2xvciUzRG5vbmUlM0JmaWxsQ29sb3IlM0Rub25lJTNCaHRtbCUzRDElM0JhbGlnbiUzRGNlbnRlciUzQnZlcnRpY2FsQWxpZ24lM0RtaWRkbGUlM0J3aGl0ZVNwYWNlJTNEd3JhcCUzQnJvdW5kZWQlM0QwJTNCZm9udFNpemUlM0QxNiUzQiUyMiUyMHZlcnRleCUzRCUyMjElMjIlMjBwYXJlbnQlM0QlMjIxJTIyJTNFJTBBJTIwJTIwJTIwJTIwJTIwJTIwJTIwJTIwJTIwJTIwJTNDbXhHZW9tZXRyeSUyMHglM0QlMjItMjIyLjc5JTIyJTIweSUzRCUyMjEyMCUyMiUyMHdpZHRoJTNEJTIyNjAlMjIlMjBoZWlnaHQlM0QlMjIzMCUyMiUyMGFzJTNEJTIyZ2VvbWV0cnklMjIlMjAlMkYlM0UlMEElMjAlMjAlMjAlMjAlMjAlMjAlMjAlMjAlM0MlMkZteENlbGwlM0UlMEElMjAlMjAlMjAlMjAlMjAlMjAlMjAlMjAlM0NteENlbGwlMjBpZCUzRCUyMnhURmhOTHI3UnFLeWotcVd4X3V2LTMzJTIyJTIwdmFsdWUlM0QlMjIlMjZsdCUzQmRpdiUyNmd0JTNCMTAweDEwMHg2NCUyNmx0JTNCJTJGZGl2JTI2Z3QlM0IlMjIlMjBzdHlsZSUzRCUyMnRleHQlM0JzdHJva2VDb2xvciUzRG5vbmUlM0JmaWxsQ29sb3IlM0Rub25lJTNCaHRtbCUzRDElM0JhbGlnbiUzRGNlbnRlciUzQnZlcnRpY2FsQWxpZ24lM0RtaWRkbGUlM0J3aGl0ZVNwYWNlJTNEd3JhcCUzQnJvdW5kZWQlM0QwJTNCZm9udFNpemUlM0QxNiUzQiUyMiUyMHZlcnRleCUzRCUyMjElMjIlMjBwYXJlbnQlM0QlMjIxJTIyJTNFJTBBJTIwJTIwJTIwJTIwJTIwJTIwJTIwJTIwJTIwJTIwJTNDbXhHZW9tZXRyeSUyMHglM0QlMjItOTklMjIlMjB5JTNEJTIyMjk1JTIyJTIwd2lkdGglM0QlMjI2MCUyMiUyMGhlaWdodCUzRCUyMjMwJTIyJTIwYXMlM0QlMjJnZW9tZXRyeSUyMiUyMCUyRiUzRSUwQSUyMCUyMCUyMCUyMCUyMCUyMCUyMCUyMCUzQyUyRm14Q2VsbCUzRSUwQSUyMCUyMCUyMCUyMCUyMCUyMCUyMCUyMCUzQ214Q2VsbCUyMGlkJTNEJTIyeFRGaE5McjdScUt5ai1xV3hfdXYtMzQlMjIlMjB2YWx1ZSUzRCUyMiUyNmx0JTNCZGl2JTI2Z3QlM0IyMDB4MjAweDMlMjZsdCUzQiUyRmRpdiUyNmd0JTNCJTIyJTIwc3R5bGUlM0QlMjJ0ZXh0JTNCc3Ryb2tlQ29sb3IlM0Rub25lJTNCZmlsbENvbG9yJTNEbm9uZSUzQmh0bWwlM0QxJTNCYWxpZ24lM0RjZW50ZXIlM0J2ZXJ0aWNhbEFsaWduJTNEbWlkZGxlJTNCd2hpdGVTcGFjZSUzRHdyYXAlM0Jyb3VuZGVkJTNEMCUzQmZvbnRTaXplJTNEMTYlM0IlMjIlMjB2ZXJ0ZXglM0QlMjIxJTIyJTIwcGFyZW50JTNEJTIyMSUyMiUzRSUwQSUyMCUyMCUyMCUyMCUyMCUyMCUyMCUyMCUyMCUyMCUzQ214R2VvbWV0cnklMjB4JTNEJTIyLTY5LjI0MDAwMDAwMDAwMDAxJTIyJTIweSUzRCUyMi0xMCUyMiUyMHdpZHRoJTNEJTIyNjAlMjIlMjBoZWlnaHQlM0QlMjIzMCUyMiUyMGFzJTNEJTIyZ2VvbWV0cnklMjIlMjAlMkYlM0UlMEElMjAlMjAlMjAlMjAlMjAlMjAlMjAlMjAlM0MlMkZteENlbGwlM0UlMEElMjAlMjAlMjAlMjAlMjAlMjAlMjAlMjAlM0NteENlbGwlMjBpZCUzRCUyMnhURmhOTHI3UnFLeWotcVd4X3V2LTM1JTIyJTIwdmFsdWUlM0QlMjJDb252b2x1dGlvbiUyMiUyMHN0eWxlJTNEJTIydGV4dCUzQnN0cm9rZUNvbG9yJTNEbm9uZSUzQmZpbGxDb2xvciUzRG5vbmUlM0JodG1sJTNEMSUzQmFsaWduJTNEY2VudGVyJTNCdmVydGljYWxBbGlnbiUzRG1pZGRsZSUzQndoaXRlU3BhY2UlM0R3cmFwJTNCcm91bmRlZCUzRDAlM0Jmb250U2l6ZSUzRDI5JTNCJTIyJTIwdmVydGV4JTNEJTIyMSUyMiUyMHBhcmVudCUzRCUyMjElMjIlM0UlMEElMjAlMjAlMjAlMjAlMjAlMjAlMjAlMjAlMjAlMjAlM0NteEdlb21ldHJ5JTIweCUzRCUyMi01MTMlMjIlMjB5JTNEJTIyMzQxJTIyJTIwd2lkdGglM0QlMjI2MCUyMiUyMGhlaWdodCUzRCUyMjMwJTIyJTIwYXMlM0QlMjJnZW9tZXRyeSUyMiUyMCUyRiUzRSUwQSUyMCUyMCUyMCUyMCUyMCUyMCUyMCUyMCUzQyUyRm14Q2VsbCUzRSUwQSUyMCUyMCUyMCUyMCUyMCUyMCUyMCUyMCUzQ214Q2VsbCUyMGlkJTNEJTIyeFRGaE5McjdScUt5ai1xV3hfdXYtMzYlMjIlMjB2YWx1ZSUzRCUyMkRlYyUyNmx0JTNCc3BhbiUyMHN0eWxlJTNEJTI2cXVvdCUzQmJhY2tncm91bmQtY29sb3IlM0ElMjBpbml0aWFsJTNCJTI2cXVvdCUzQiUyNmd0JTNCb252b2x1dGlvbiUyNmx0JTNCJTJGc3BhbiUyNmd0JTNCJTIyJTIwc3R5bGUlM0QlMjJ0ZXh0JTNCc3Ryb2tlQ29sb3IlM0Rub25lJTNCZmlsbENvbG9yJTNEbm9uZSUzQmh0bWwlM0QxJTNCYWxpZ24lM0RjZW50ZXIlM0J2ZXJ0aWNhbEFsaWduJTNEbWlkZGxlJTNCd2hpdGVTcGFjZSUzRHdyYXAlM0Jyb3VuZGVkJTNEMCUzQmZvbnRTaXplJTNEMjklM0IlMjIlMjB2ZXJ0ZXglM0QlMjIxJTIyJTIwcGFyZW50JTNEJTIyMSUyMiUzRSUwQSUyMCUyMCUyMCUyMCUyMCUyMCUyMCUyMCUyMCUyMCUzQ214R2VvbWV0cnklMjB4JTNEJTIyLTE1OSUyMiUyMHklM0QlMjIzNDElMjIlMjB3aWR0aCUzRCUyMjYwJTIyJTIwaGVpZ2h0JTNEJTIyMzAlMjIlMjBhcyUzRCUyMmdlb21ldHJ5JTIyJTIwJTJGJTNFJTBBJTIwJTIwJTIwJTIwJTIwJTIwJTIwJTIwJTNDJTJGbXhDZWxsJTNFJTBBJTIwJTIwJTIwJTIwJTIwJTIwJTIwJTIwJTNDbXhDZWxsJTIwaWQlM0QlMjJ4VEZoTkxyN1JxS3lqLXFXeF91di0zNyUyMiUyMHZhbHVlJTNEJTIySW5wdXQlMjBMYXllciUyMiUyMHN0eWxlJTNEJTIycm91bmRlZCUzRDAlM0J3aGl0ZVNwYWNlJTNEd3JhcCUzQmh0bWwlM0QxJTNCZmlsbENvbG9yJTNEJTIzZGFlOGZjJTNCc3Ryb2tlQ29sb3IlM0QlMjM2YzhlYmYlM0IlMjIlMjB2ZXJ0ZXglM0QlMjIxJTIyJTIwcGFyZW50JTNEJTIyMSUyMiUzRSUwQSUyMCUyMCUyMCUyMCUyMCUyMCUyMCUyMCUyMCUyMCUzQ214R2VvbWV0cnklMjB4JTNEJTIyLTQ1NiUyMiUyMHklM0QlMjItMjMuNSUyMiUyMHdpZHRoJTNEJTIyNzglMjIlMjBoZWlnaHQlM0QlMjI1NyUyMiUyMGFzJTNEJTIyZ2VvbWV0cnklMjIlMjAlMkYlM0UlMEElMjAlMjAlMjAlMjAlMjAlMjAlMjAlMjAlM0MlMkZteENlbGwlM0UlMEElMjAlMjAlMjAlMjAlMjAlMjAlMjAlMjAlM0NteENlbGwlMjBpZCUzRCUyMnhURmhOTHI3UnFLeWotcVd4X3V2LTM4JTIyJTIwdmFsdWUlM0QlMjJDb252MkQlMjZsdCUzQmRpdiUyNmd0JTNCM3gzJTI2bHQlM0IlMkZkaXYlMjZndCUzQiUyMiUyMHN0eWxlJTNEJTIycm91bmRlZCUzRDAlM0J3aGl0ZVNwYWNlJTNEd3JhcCUzQmh0bWwlM0QxJTNCZmlsbENvbG9yJTNEJTIzZDVlOGQ0JTNCc3Ryb2tlQ29sb3IlM0QlMjM4MmIzNjYlM0IlMjIlMjB2ZXJ0ZXglM0QlMjIxJTIyJTIwcGFyZW50JTNEJTIyMSUyMiUzRSUwQSUyMCUyMCUyMCUyMCUyMCUyMCUyMCUyMCUyMCUyMCUzQ214R2VvbWV0cnklMjB4JTNEJTIyLTM2Ni43NyUyMiUyMHklM0QlMjItMjMuNSUyMiUyMHdpZHRoJTNEJTIyNzglMjIlMjBoZWlnaHQlM0QlMjI1NyUyMiUyMGFzJTNEJTIyZ2VvbWV0cnklMjIlMjAlMkYlM0UlMEElMjAlMjAlMjAlMjAlMjAlMjAlMjAlMjAlM0MlMkZteENlbGwlM0UlMEElMjAlMjAlMjAlMjAlMjAlMjAlMjAlMjAlM0NteENlbGwlMjBpZCUzRCUyMnhURmhOTHI3UnFLeWotcVd4X3V2LTM5JTIyJTIwdmFsdWUlM0QlMjJDb252MkQlMjZsdCUzQmRpdiUyNmd0JTNCM3gzJTI2bHQlM0IlMkZkaXYlMjZndCUzQiUyNmx0JTNCZGl2JTI2Z3QlM0JzdHJpZGUlM0QyJTI2bHQlM0IlMkZkaXYlMjZndCUzQiUyMiUyMHN0eWxlJTNEJTIycm91bmRlZCUzRDAlM0J3aGl0ZVNwYWNlJTNEd3JhcCUzQmh0bWwlM0QxJTNCZmlsbENvbG9yJTNEJTIzZjhjZWNjJTNCc3Ryb2tlQ29sb3IlM0QlMjNiODU0NTAlM0IlMjIlMjB2ZXJ0ZXglM0QlMjIxJTIyJTIwcGFyZW50JTNEJTIyMSUyMiUzRSUwQSUyMCUyMCUyMCUyMCUyMCUyMCUyMCUyMCUyMCUyMCUzQ214R2VvbWV0cnklMjB4JTNEJTIyLTI3OC43NyUyMiUyMHklM0QlMjItMjMuNSUyMiUyMHdpZHRoJTNEJTIyNzglMjIlMjBoZWlnaHQlM0QlMjI1NyUyMiUyMGFzJTNEJTIyZ2VvbWV0cnklMjIlMjAlMkYlM0UlMEElMjAlMjAlMjAlMjAlMjAlMjAlMjAlMjAlM0MlMkZteENlbGwlM0UlMEElMjAlMjAlMjAlMjAlMjAlMjAlMjAlMjAlM0NteENlbGwlMjBpZCUzRCUyMnhURmhOTHI3UnFLeWotcVd4X3V2LTQwJTIyJTIwdmFsdWUlM0QlMjIlMjZsdCUzQmRpdiUyNmd0JTNCT3V0cHV0JTI2bHQlM0IlMkZkaXYlMjZndCUzQkNvbnYyRCUyNmx0JTNCZGl2JTI2Z3QlM0IzeDMlMjZsdCUzQiUyRmRpdiUyNmd0JTNCJTIyJTIwc3R5bGUlM0QlMjJyb3VuZGVkJTNEMCUzQndoaXRlU3BhY2UlM0R3cmFwJTNCaHRtbCUzRDElM0JmaWxsQ29sb3IlM0QlMjNmZmYyY2MlM0JzdHJva2VDb2xvciUzRCUyM2Q2YjY1NiUzQiUyMiUyMHZlcnRleCUzRCUyMjElMjIlMjBwYXJlbnQlM0QlMjIxJTIyJTNFJTBBJTIwJTIwJTIwJTIwJTIwJTIwJTIwJTIwJTIwJTIwJTNDbXhHZW9tZXRyeSUyMHglM0QlMjItMTg5Ljc3MDAwMDAwMDAwMDA0JTIyJTIweSUzRCUyMi0yMy41JTIyJTIwd2lkdGglM0QlMjI3OCUyMiUyMGhlaWdodCUzRCUyMjU3JTIyJTIwYXMlM0QlMjJnZW9tZXRyeSUyMiUyMCUyRiUzRSUwQSUyMCUyMCUyMCUyMCUyMCUyMCUyMCUyMCUzQyUyRm14Q2VsbCUzRSUwQSUyMCUyMCUyMCUyMCUyMCUyMCUzQyUyRnJvb3QlM0UlMEElMjAlMjAlMjAlMjAlM0MlMkZteEdyYXBoTW9kZWwlM0UlMEElMjAlMjAlM0MlMkZkaWFncmFtJTNFJTBBJTNDJTJGbXhmaWxlJTNFJTBBDUA/FAAAIABJREFUeF7snQmYFcX1tw+aiOMKDC4JiiwCAiqKWxSISz5FAxoVFRUwJhIwgqMoiMiiARWVGAIBIi7/xAAKKIIKBkxcIuAWA5IEARdEFDSyGxXcwvecxhr69nTfrtNdvf/u8/jIzD1dVf3W6brv1K2urrV9+/bthBcIFJDAUy+9m9mzrlWrlm/bnZe2/Ziwl/2PT2zsWz8H/G3Fk1pxWQvy4q+4+vWPDv8m+7Wig+s1LYvm7elTs4ZOq71x8K08sg3VPaylb3vWvfWIb0wWA+JgvGf9I2mPui2yiAdtzgGBWhDcHPQiTiEQgatHP08nHNEw0LFFPuiVf62m3/U7RQvBAwtH0r4VB2jFImgngQ2frqEfH36pr+C+etNA2vfAA4FOSGDz+6up+RW9tAT3vZcG0x77IIeFiOnzLe/Tfi17QnCl4BBvjAAE1xhKFJQ1Aiy4VZd2yFqzE2/v2IfmiwS3+QHHUeXe30u83VlqwPwVj2kLbqMfnEj7Hnxwlk4v8ba+/tBkkeDu1/AE2mOfBom3O0sNeO9fUyG4WeqwHLYVgpvDTsUp6RGA4OpxckZBcINxkxwFwZXQksdCcOXMpEdAcKXEEG+aAATXNFGUlxkCENxgXQXBDcZNchQEV0JLHgvBlTOTHgHBlRJDvGkCEFzTRFFeZghAcIN1FQQ3GDfJURBcCS15LARXzkx6BARXSgzxpglAcE0TRXmZIQDBDdZVENxg3CRHQXAltOSxEFw5M+kREFwpMcSbJgDBNU0U5WWGAAQ3WFdBcINxkxwFwZXQksdCcOXMpEdAcKXEEG+aAATXNFGUlxkCENxgXQXBDcZNchQEV0JLHgvBlTOTHgHBlRJDvGkCEFzTRFFeZghAcIN1FQQ3GDfJURBcCS15LARXzkx6BARXSgzxpglAcE0TRXmZIQDBDdZVENxg3CRHJSG4G7dsoZ/eNIT+8tJLVlN7djmfRvW/nipq15Y0XSv2pdeX0Kk/v6I69rn/e4BOPKoNOdugAtT7WoVrBKVFcFe89R51vXwQLfnXm1arhw++koYO7Ol7Bhs2bqG+/e+kWwb1phbNDvGNdwvgum8ZOZHG/XogVdbbN1AZ5Q6C4BpHigKFBCC4QmAIzw8BCG6wvoTgBuMmOSpuwVVieWmnH9MlPz7LaurDT/2ZFi5ebFxyua5h48bT8L59qN6++xLL7u333U8P3n6rVS9L9k2/6GkJL7/eXPUedb9xEI25cWD17yQs3WLTILgLX15Cfa6/k6b9cWS1pI64835a8+HHNHrk9VRR4f2HBQQ3bAbg+CIQgOAWoZdxjq4EILjBEgOCG4yb5Ki4BddNZrd+8QUN+PXd1K1TJ0sslWj+88036fQTT7SEVAnq76dNs05v+ryn6cjmzWnyHSNpw+bNNGXOnGpB5uNvnTiRfnvjQOs49VJyzVLbonGjGoIbhWwnLbhbt35B/QbdTT0u7kTtfrBD5Pll/33bNoeVxCipvfG6n9Hv73+EJv7fY9TmiOb04MRfWT9z/IT7H7VmgyffP4K6XXQWOWdpWaonTZ1DQ2/oSVf0GUHznnmJOv7oRJrywK3GZ3Exgyu54hEbBQEIbhRUUWYmCEBwg3UTBDcYN8lRcQquEtl2Rx9dPXvrbKtzhpdnXNd+/LElr68vW24tN+BlBEe1PMyS4u/vvz9dedGFdO0dd9KQ3r2peaNDrBnhd9essWZn7S8W3+tGjaLfDBhA9evWcRVcLzmWMLXHJi245ZYH8Cwuv/pX9XAVXF6WUL+yTvUShYYHHWjFrXrvQ0tU12/YTFUDRtHYUQOscuzLEJTg8gzx6g8+whKFoAmE4zJBAIKbiW5CI6MgAMENRhWCG4yb5KgkBFfN1Lq10ymYdinlmVq1xIBnZpXI9rushyW7LM7n/ui0ktlgVYdTru2zuWqJAscWSXCnTP8zrXx3jVhwO5x0tDVryy+W5CaNG9CxR7eC4EouPMTmigAEN1fdiZOREIDgSmjtjIXgBuMmOSoJwS03g2tfJ8sSyyKqZmedSxHsM7Xq3xecfnqN5QlKbnm2V83qegmus34JS7fYNM/gBhVc+3IHCG7YDMHxeSAAwc1DL+IcAhGA4AbCRhDcYNwkR8UpuNwurxvKeGb21OOOo8o6dUoE1TmDa19raxdcNfN6YceO9K+33qohsvab2rgdXoJr+oa3pAU3yBpcXtaglh64LVFQM7iqbP7ZOYPL8jz/xcXWTWxYoiC5IhGbRQIQ3Cz2GtpshAAENxjGpAR386bNdMNVA2nhcwuthl902UU0cPhA2n1389tYLX51MXU/p0c1oMlPTKKjjz+anG1QAer9YERrHhW34HrtovDQnKdKdjdQQupcg+sluGqW9v4Zj1lrdHnZQbk1v26CW9RdFDgreG1tg+/tb20dxnI6aswka9cFN8HleCWu9jW4vA3Z+LsHWjehcXn2OGwTZuqKRTlpJADBTWOvoE2xEIDgBsOchOAqsTzngrOpc5fOVsNnz5hN/3hlkXHJ5brGjBxL1wyqojp16xDL7u9H30N3TbjTqpcl+5f9rrSEl1/vvrOKru91PQ0dOaT6d8HI7jwqbsHlmp170Np3SuD3y+2i4CW4fBzPvipR5uUN9nLsnFiA1S4Kai9e9X5R98G175P7m5HX0av/+Le19626sezlv/+7ehcFFuFht91jIVvw9APVuzOwGHfvOdTaceGqnhfQoiXLLRH+fOs26nbFECseuyiEvWJxfBoJQHDT2CtoUywEILjBMCchuG4yu23bF3TnsDuJpZdlU4nmiqUrqN2p7SwhVYL60P89ZJ3sU7P+TC1at6C7772bNm/YRE88+mS1IPPxE0aNp8EjB1vHqZeSa5baxs0a1xDcKGQ7CcENlg3ZPCrpJQomqXktdzBZR5CysE1YEGo4xiQBCK5JmigrUwQguMG6K27BVSJ7zAltq2dvnS13zvDe85t76D8ffWzJ67J/vmEtN+BlBC2PbGVJ8QEH7k8X/+xium3QbXTVgD7UuGkja0b4g/c+oCuvu7KkeBbf2wffTjfddhPVrVfHVXC95DgYYSIIblByesdBcPU4hYmC4Iahh2NNEIDgmqCIMjJJAIIbrNuSElw1U+vWaqdg2qWUZ2rVEgOemVUie/lVP7Nkl8X5/3U6vWQ2WNXhlGv7bK5aosCxENxguZTUUXkS3KQY+tULwfUjhPejJgDBjZowyk8tAQhusK5JSnDLzeDa18myxLKIqtlZ51IE+0yt+nfHn5xZY3mCklue7VWzul6C66w/GNmdR2EGNyzB8sdDcKPly6VDcKNnjBrKE4DgIkMKSwCCG6zr4xZcbqXXDWW8FOGE9idQncq6JYLqnMG1r7W1C66aeT3r3LPozTferCGy9pvauB1egmv6hjcIbrDc1D0KgqtLKnhcmgR3w4YN1K1bN5o3b551Qm3atKFp06ZRixYtSk5wypQp1L1799Ax5agtXLiQ2rdvXx3Su3dvGj16NFVUVFT/buvWrdSvXz+aOHGi9Tu3GOc5DR8+nIYOHSrqMGdbJk+ebHHKywuCm5eexHmICegI7uZNG+hXg6qoasAwaty0dDAUV+hywPjf3EoHH9KEzulyacm7XO/1V/WgPv2GUNvjTzJRlbEykhBcr10UWFztuxsoIXWuwfUSXDVLO/1P0601urzsoNyaXzfBzcsuCpIE8dpRoVwZvJvCz4bs+AAe9ssrazyyV1J/2NikBHfDxi3WzgXznnlph7j8/HxrR4OKCvNb3fFjedufcUU1KrWzgrMNKsC+80JYvnx8WgRXiWC7du2qBZBFdtSoUSWSy7+bNGkS8f8rKyut/9t/5nPSidGR2wULFhC3R4ksH6MkV/2uQYMGVnudP3OsOqcePXpYQur8Waf/VqxYQV27dqXx48dbbVE/DxgwIDeSC8HVyQTE5JIABDdYtyYhuNxS5x609p0S+P1yuyh4CS4fx7OvSpR5eYO9HDshFmC1i4Lai1e9n/V9cCWZwPvYjrhnIl3+k59Q80aHeD4kwl4mC/EfH3+chl7Z2/q1eoTvJT/e8WjZuF9JCK4Syx6X/Lj6kbr2By+YlFyua/Dw8XTbsD5UWW9fYtnlp5vxdmD8YsnmvXXb/aCN9bPajoz3y1W/C9snaRFcnqUcMWJEtbjyeTml0U0QVUyHDh08JdIZ48eM28Ev+0yrUzS5vX369CmRb46pqqqisWPHWrPObvLtdp7l2sNtWbNmTcnsMZc7f/78GjPKfueV1vchuGntGbQrcgJSwf1eg4Z0+7Dr6YADv09j7rrFat81N9xCfa4bQu++s4LGjhpORx59HI28uT8d1vpIGnPvw9as76JXX6RZj06mm4bfTbvvXkFPzHiI3n9vpTVz27/PZVY5vx7/p5JZXL8ZXC5DHavq2rRhQ0k93KZHpvyBqm642aqD2z71T/da/576xAvWzDDHjBh8rfW7WrVq0d0TJlGdupVl2ScluJEnRIoqyNISBfW0st/eOJDumf4INW7QgFhc1QMdunXqZD3gwf6yP+0sCexJCK6bzDq3+LLve9vxRydW70/Lgjru3mk7rt1Hn7b2tOUHPqzfsJkmTZ1TPQvMx7s9vEHJNUvtYc0b1RBcLte0bKdFcL3yyy6bToFUx9iFb/Xq1SWS6Yxhab3iiiuoUaNGNWZjV61aVSLY9jYpuebjeSbVTTKdIu0myvZy6tevb83OdunSpVqm1fv29jnZuElvEtenqTohuKZIopzMEQgquHyiLKtv/HMx3TKoryWyluz2uoQ6djrfEl4W0NdeWVAd5ya4HBdkiQIL8/jRt1bLKJfBr24/+2XJcgpuA794+YOK4Tr5eGe7bxk5TnspBAQ3+lTPkuDaH6PLZNTs7obNm2nV2rWW7Npf5Z5kFj3ZHTXELbj2x+d2u8h91to5w8szrms+/NiSV344Ay834GUE6olk/GCHq35xIfXtf6f18IcWzQ6xJHXlu2us2Vn7y/mYX+cMLsd6yXHQPkmz4DpnbL1mP+0zpcuXL68xE2z9YWBbyrB+/fqSr/3dlkI4eTpnbN3k1T7j3L9/f2t9rppZVuW5nZN9JpjL5brUEgxnO5wzyUH7PU3HQXDT1BtoS6wEggrusSe0t6TRvj7X+mAffC0Nve231qyt/T3nzKqawQ0quE5IzvJObH8atTryaBp716/owm4/o7r16pes5922bas1m3vuBd2pbmVlSbt1OgCCq0MpXEwWBNf+5DP7k8Z4Rpclt1YtIp7V5aeXqddLry+hU39+BTmfkhaOlvzopAS3x8WdPJcAOAXTLqU8U6uWGPCSAyWy/at6WI/f7XDS0XT+2adZ/3bW4ZRr+2yufTlCkQTXKZ6mBNe+dpdnZFkwy61pdVuDa0pwrc+kb5ch8EzuGWecQWrtr/2Ksd+s5nYzm/zqSs8RENz09AVaEjOBoILLYshf7zsFl5co3DxyrPUVf5SCqwRVLTdgbGqpBM/OvrTgWfrxTy6sXp6wbevnluDOf+7pEsK8LOKIo46xllaodut0AQRXh1K4mCwIrjpDJbo3/aJn9VKE2++7v3qpghsJFl2OefD2W0sEOBw1/aOTElwWUa8ZXPs6WZZYFlE1O+tcimCfqVX/vuj802ssT1Byy7O9albXS3Cd9evTdI9M6wyu2jnAvmOAScGVCCML6IwZM0rW25oUXDUru2TJEtLZZcFtbW/YPEjyeAhukvRRd6IETAuufQZXrW3lGV3nDK59uUCQJQr25Q/2Nb08I8xi/ZuRQ6lx0+ZUWX//GjPNzp0g1NphCG6iqVij8iwJrnPJAcvrk3/7m3VO6kY05wnyLO91o0bRbwYMsG5Ui/sVt+Dy+XmtceWZ2dNOPo7qV9YpEVTnDK59ra1dcNXM68VdOtI///1WDZG139TG7fAS3CKswXWTW2ZiUnCtvv52uzG3GVOV625yy++ZFFxVnlOiva63ILsxxH3tSuqD4EpoITZXBEwLLq/B7XlVf0sqnWtw1ZpXtVyg7XEnWWt1wwqump1V5XEHcZnz5jxWfZOb+h3/X90Qx23ldbe8RAEzuOlL6zQLLs/YXnvHnTSkd29LTu2yWr9uHRo2bjwN79uH1m/aXL1zwuvLltOUOXNoVP/rqaJ2ba2dF6LslSQE12sXhUkPP1Wyu4ESUucaXC/BVbO0E//vMWuNLi87KLfm101w87yLgsojL7nl903cZKa2+bLPmnbs2NF1zauX3Co5du5kIL3JjG9WU+Ku9tzVWX4AwY1y1EHZIBAjAdOCy6K49z77WjsVdDj1jJIdCVg6eecF/n37U86gzz/7tPpmNN4NwWsXBeeyAt79oEmzFtVLDri8S356Jb3w7NzqXRqcuzYwUueyBlVfXmdwvbYMK5devF3YwD43WiFX39C3+qEPMaZkdVVpFlxupH0fXP6Z1+Ae1fIwa/sv+64J9t0S7PvgFm0NrupY5x609p0SLNF66z3qevkgWvKvN8m5i4KX4FpSNP3PpESZlzfYy7HnLwuw2kVB7cWr3s/rPrh20fN6kIGpbcLsa2qHDBlCPXv2tHZGsG8LVk5uVVtNbBNm3//3oosusm5+U+uB3fbWVaJv3xs3ibHPZJ2YwTVJE2VlioCO4OqeUBBR1C1bGuc1Kywtxys+7Wtw+UEN4+8aR+d360KNmzbyfAqa/fxYiB+bMoP63NDX+vWdw+6kco8GNsXSq5y0C27U5x91+UnM4EZ9TmkrPy1rcHUfYOC88czrQQ/2B0Q4Y5w7IqhZY7VUQWdXBeeNZ9yvvGuCevAD/+x8eIWboLs9lMLedmfb3G54S1tOSdsDwZUSQ3xuCORNcNUsLXeQ2nM3is5Ku+A6z1k9jnfwyME09Q9T6aBDDqLOXTpXP7GMn37GTzCzv+yP842CoV+ZEFw/QuHeh+CG46dzdFoEl2dMhw0b5tpk59f2YR7Vq0TavvcsV6pmbPmxuzfffHP144KdDbLPLod9VK/bcgxVpn1PXuejenVuRNPp+7TEQHDT0hNoR+wETApu7I1PsMKsCS7L6j9eWUQDhw+0qKnZ3c0bNtGa99dYsmt/lXtUb1zYIbjRkobgRsuXS0+L4EZ/pqghrQQguGntGbQrcgIQ3GCIsyK49kf72h+lyzO6LLn85Dae1eXH86rX4lcXU/dzepDzMcDBSAU/CoIbnJ3OkRBcHUrhYiC44fjh6PAEILjhGaKEjBKA4AbruKwIrjo7Jbq/7Hdl9VKEe35zT/VSBTcKLLq/H30P3TXhzhIBDkZMfhQEV85McgQEV0IrWCwENxg3HGWOAATXHEuUlDECENxgHZY1wXUuOWB5fXbus9bJqxvRnCR4lvf2wbfTTbfdZN2oFvcLghstcQhutHy5dAhu9IxRQ3kCEFxkSGEJQHCDdX3aBZdnbG8bdBtdNaCPJad2Wa1brw6NGTmWrhlURZs2bq7eOWHZP9+gJx590lqnu/vutbV2XghGT++otAiufZsvZ8v5gQ72vW3V+84HP+idcWmUKuP+GY9Zb/Tscn71HrpBynMekwXB9doyrNz583Zh3XsOtUKGD76y+qEPJphJy4DgSokh3jQBCK5poigvMwQguMG6Ku2Cy2dl3weXf+Y1uC2PbGVt/2XfNcG+W4J9H1yswd2RG+UE1yt7TAgu18uvS358FpkoL2uCyw9quPn2iXTFZT+hFs0O8XwKmv28WIgf+NPj9Kubelu/7jfobir3aOBgV7/+URBcfVaIjIYABDcarig1AwQguME6KQuCG+zM0nNU3DO49gc3HNm8OU2+YyRt2LyZTv35FRaUYb+8kk497ji67b776OMNG+n4Iw6nC844nR59+i/VM6u333c/Df/9PXRRxzOsY87q0KFEUNVsLD8U4sSj2ohgs/AuXLzY2CxuFmZwnfJ6y8iJNO7XA2nCfY9Qk8YNqNtFZ1U/sazHxZ2sJ5jZX/bH+YpgGwqG4BoCiWICE4DgBkaHA7NOAIIbrAchuMG4SY6KU3DVDKl6AhkvPXju73+nm37Rs2QGl39/zR13WvLLj+i1L1GY9cyz9NCcp+jB22+1HtHb/cZB1O+yHpbgsvjyi8uzl/GPN96gnw3Z8XW6eim55vLtL3sZEo5esVkTXJbV+S8uptEjr7dOSc3urt+wmVatXmvJrv1V7lG9JvjplAHB1aGEmCgJQHCjpIuyU00AghuseyC4wbhJjkpScO3ttC9RYDll0WSJrbfvviWCO/pPk6hxgwaW0PKL4/jnju1Oop/eNMSSW561dcq0DhNnvTrH+MVkRXDtj/a1P0qXlyOw5NaqRdasLj+eV70WvryE2p9xRcmjfv14RPE+BDcKqihTQgCCK6GVwtil726gua+splUfbjHaujp716YRPU80WmbaCoPgBusRCG4wbpKj4hRcbtfGLVssEf3LSy/R6SeeWC2xTsG131SmZnBHXN2Xhv5uHLU7+mhPweVy7a8/3DqiOrYcF+essYRhudisCK46ByW6Qwf2rF6KMOLO+6uXKridK4sux0x54NYSATbF0K+cogju289dSV9t2+SHQ/T+HnWaUuWhF9Je+5U+YVFUCIIJgpvhJGC5vWfWv+icU1pTo+/XM3Imq9ZupCeeX2qV9bt+pxgpM62FQHCD9QwENxg3yVFxC669bc6lB++uWVO9vMBNcEf1v57KzeBee8edNKR3b2tZg/3F8lxuiQK/r5Y98IyxyVfWBNe55IDl9fE5f7OQqBvRnHx4lrdqwCgaO2qAdaNa3K+iCO6yP3clolrUsHUX2rNuEyOYP930Dr2/9DFqeOxA2hOSG5gpBDcwumQPjFJuWZhZciG4yfZxWmuH4EbfM3EKLs/e2iW03BpcL8F9fdny6uUL5dbgqpvZxtw4sOyNZlEsS7D3WtoFl2ds+/a/k24Z1NuSU7us1q+sQ4OHj6fbhvUhXoOrdk5YtGQ5TZo6x1qnW1FRW2vnhSgzuUiCe3DrLvT+G49Rw1aGJZfLPAaSGzRPIbhBySV4XNRyy7PBEolJEEWoqjGDGwyfJDceWDiSmh9wHFXu/b1glRX0qDgFlxGzUKodE+xLFNTv1S4KXoJbUbu2Jbi8iwIff/pJJ9J+deu67qKgszxBlWXvfpN74aZdcPm87fvg8s+8Brdtm8Os7b/suybYd0uw74Pb8UcnJrY8gdtbJMFt2f4GsmZdIbmpGrEhuKnqDv/GxCG33AqJxPi3Op0RENxg/SLJDQhuMMZxC26wVmb3qCwIbnbp7mh50QSXz1lJ7sEtz6e96jU10oXVZba9gfbav62RMotSCAQ3Qz0dl9xCcDOUFAk0FYIbPXQIbrSMIbjR8i2q4EJyo88rSQ0QXAmtBGPjlFsIboIdnYGqIbjRdxIEN1rGENxo+RZZcCG50eeWbg0QXF1SCcbFLbcQ3AQ7OwNVQ3Cj7yQIbrSMIbjR8i264EJyo88vnRoguDqUEoxJQm4huAl2eAaqhuBG30kQ3GgZQ3Cj5QvB3cEXa3Kjz7NyNUBwk+Vftvak5BaCm+KkSEHTILjRdwIEN1rGENxo+UJwd/KF5Eafa141QHCTY59auYXgpjQpUtIsCG70HQHBjZYxBDdavhDcUr6Q3Ojzza0GCG4y3FMttxDcFCZFipoEwY2+MyC40TKG4EbLF4Jbky8kN/qcc9YAwY2feerlFoKbsqRIWXMguNF3CAQ3WsYQ3Gj5QnDd+UJyo887ew0Q3Hh5Z0JuiyS4JxzRMEUZkI2mvPKv1dqPceYHPexbcUA2TkyzlbU84rZ/+3uv9/ltFeNX1YZP19CPD7+UDvbZLP7VmwbSvgce6Fcc3ncQ2Pz+amp+RS+qe1hLXzbvvTSY9tgHOaxA6ebw51vep/1a9qQ96rbwZZzlgGV/7kr8JDPdFyRXl1T4OAhueIZGSkjyhjK3E5DM0hkBkEAhT730bgK16ldZq1Yt2r59x8eJ+neY35X8ZWsrW5VvCdi39fn97qwfNNI6kb+teFIrLomgMCzdjjXJl/uhyX6tfAX37elTk0CnVWfa+VYe2UZLcNe99YjW+SYRlHbGe9Y/EoLrkhgsuR+88RgdZPiJZ1aZeOJZNXEIbhKjkqPOtMktN68IgpuCrkcTQAAEQAAEMkxAOoOrThWSG32nQ3CjZ1y2hjTKLQQ34aRA9SAAAiAAApkgEFRw+eQgudF2MQQ3Wr6ZlFsIboJJgapBAARAAAQyQyCM4EJyo+1mCG60fD1LT+vMrWowligklBioFgRAAARAIDMEwgouJDe6robgRsc2s3KLGdwEkgJVggAIgAAIZI6ACcGF5EbT7RDcaLhmWm4huDEnBaoDARAAARDIJAFTggvJNd/9EFzzTDMvtxDcGJMCVYEACIAACGSWgEnBheSaTQMIrlmeuZBbCG5MSYFqQAAEQAAEMk3AtOBCcs2lAwTXHMvcyC0EN4akQBUgAAIgAAKZJxCF4EJyzaQFBNcMx1zJLQQ34qRA8SAAAiAAArkgEJXgKsl9f+kMOrhVF9rL57HdujCtRwVzmccMpL32b6t7WCbjILgRdlvatwIrd+rYJizCxEDRIAACIAACuSAQpeBCcsOlCAQ3HL/czdyqE4LgRpQYKBYEQAAEQCA3BKIWXEhu8FSB4AZnl1u55ROD4EaQGCgSBEAABEAgVwTiEFxIbrCUgeAG45ZruYXgGk4KFAcCIAACIJBLAnEJLiRXnj4QXDmz3MstBNdgUqAoEAABEACB3BKIU3AhubI0guDKeBVCbiG4hpICxYAACIAACOSaQNyCC8nVTycIrj6rwsgtBNdAUqAIEAABEACB3BNIQnAhuXppBcHV41QouYXghkwKHA4CIAACIFAIAkkJLiTXP70guP6MCie3ENwQSYFDQQAEQAAECkMgScGF5JZPMwhuwMswyw9x0Dllt23CRowYQU2aNKFu3bqVFLFhwwbrd/PmzbN+P3z4cBo6dKg4RqddHLP1Po3TAAAgAElEQVRixQq65ZZbaNy4cVRZWVly2MKFC6l9+/bVv1uwYAG1a9dOHOPXlilTplD37t3L1qPe3Lp1K/Xr148aNGhQg4tfPXgfBEAABEAgvQSSFlxIrnduQHADXDd5l1tG4hRcJXSTJ08uEVwltz169LB+7/yZy9KJ0e0GVRbHc5vsgsty26dPH5o2bRq1aNGCnD/zMToxfm3hekeNGlVSD0u1m0yrdrIMu4m/X114HwRAAARAIL0E0iC4kFz3/IDgCq+bIsitXXDV7OPEiRMtUk7BZdmbNGlSiWyyRPJsrxJQnRidbrDPznbs2LGkTq9ZUm4Hv3hGWSfGrx1KsLk8+8ywvR57GTzb3LVrV1qyZAkE1w8u3gcBEACBjBFIi+BCcmsmDgRXcDEVRW6V4N515QnWV+urVq2isWPHUlVVFamZWoXNTeycEugXw+XzDKd9BlTJrBJq+89ct1OqvcTTLtt8HM8yO+XUHjNhwgSaMWNG9eysfQaW28cvu7yXSx8l1G3btqVFixZhiYLgWkMoCIAACGSBQJoEF5JbmjEQXM0rqEhyqwT3d/1OqabjtvRACVyHDh08ly2cf/75liSXi2HpZGlcs2YNjR49mj7//HOrPJ4hda7lVcLpFFyeKWUBZxHn5QnqZV+SwL/zi2nYsGHJelk1AztgwACrTTwbPX/+fLryyivp8ssvt2Zm+eW2PEHNXN9///106623QnA1rzWEgQAIgEBWCKRNcCG5OzMHgqtxFRVNbpMQXLtAr1y50lor61xjq7rKbcmDKcFlOVZSy+tseTaXXyzeFRUVlogPGzaMevfuXf07Nbtsl1z7jDLP4OImM40LDSEgAAIgkDECaRRcSO6OJILg+lxMRZTbJARXzcyqnQm8btiKegZXzf4qkW3Tpk3JcgX+vZt822eglQhzW8ut/c3YOI7mggAIgAAIOAikVXAhuRDcshdrUeU2KcFVs56NGjWqnh1166CoZ3C5TjWL26VLl5JlEk6RdZtVXr58eck6XWwThs9EEAABEMgngTQLbtElFzO4HtdckeVWV3A5zu8GMl5HqxOjyuKv//nl3K3B3k1ugmvqJjPedsy5c4R9NlmtwVVLFtwEl29UU+fhTC/n7g/5HPJxViAAAiBQDAJpF9wiSy4E1+UaLLrcSgRXZwswnRj7OlbeVcG+z6yzi9zK09kCTCeG67Lvczt9+vSSJQlea329Zna5PMzgFuODDmcJAiBQPAJZENyiSi4E13E9Qm53AHE+6MFtFwWOU79XOx6Ue9CDV4xTANXPXL5zplQJqHMXBf6982Yvrwc92B/K4IzxeiiFfUcHp8yqh2B4rRuG4BbvQw9nDAIgUAwCWRHcIkouBNd2DUJud8LQFVy75AZ9VC8Lo3PvWa81sOUE1y656kwkj+pVIsozyPYdHJx78qo2qBvinDeiOYd1CG4xPuhwliAAAsUjkCXBLZrkQnC/vR4ht6UDk1Nwizds4YxBAARAAARAoDyBrAlukSQXgktEkNuaFzAEF8M6CIAACIAACORPcIsiuYUXXMit+8ULwcWwDgIgAAIgAAL5FNzIJHfjO/T+GzPo4GMG0l77t000fQotuJBb79yD4CZ6XaJyEAABEACBDBDI4hIFO9ZPN71D7y+dQQe36kJ71WtqhPinKZHcwgou5LZ8HkNwjVznKAQEQAAEQCDHBLIuuHmeyS2k4EJu/UcbCK4/I0SAAAiAAAgUm0AeBDevkls4wYXc6g1GEFw9TogCARAAARAoLoG8CG4eJbdQggu51R+EILj6rBAJAiAAAiBQTAJ5Ety8SW5hBBdyKxt8ILgyXogGARAAARAoHoG8CW6eJLcQggu5lQ86UQjuZ2vX0JsP/oG2bdig1aAvtmyh/Y89llr1vkornoM2fPoRPb30Ufrki01ax3y+7b906IFH0tlHdteKRxAIgAAIpInASSedRJ988gntvvvuWs1q1qwZPfzww1qxkqC0tEPSZhOxeRTcvEhu7gUXchvsEjYtuCy3i24dTpVNmtD+rVv7NmrTqlX07vPPUUX9+tRh/ETfeCW3D736O9p/n4PpoMoWvses++QD+vcHL9I+FfWo6rTbfOMRAAIgAAJpI1CrVi1q2LAh/fa3v7X+7/e67bbbaPv27TRz5ky/UNH73I6DDz6YxowZk2g7RI02EJxXwc2D5OZacCG3wa9ek4Kr5Pb7Rx1FBx13vG+j1q1YTssen0VNTjmVNqxeTcffdofvMTxzy3J7SP1WdOgBR/nGr934Dr2yci4dftBJtOHTNfTzdgN9j0EACIAACKSNAIsly+348eNp9uzZ1Lx5c98m9urVi9atW2dUclU7xo0bR3PmzEmsHb4nbzggz4JbIrmtu9BedQ3vk3vsQNprv+geBpFbwYXchruKTQluULk94sKutMt3dqVVr7ziK7hB5fakZmfTrrvuSm9/tBiCGy5dcDQIgEBCBFgseUaWZ06TlFx7O4okuXkX3CxLbi4FF3IbfqQ1Ibhh5LZu48a05f3VvoIbRm4P2Lchrf90DQQ3fLqgBBAAgYQIKLHk6pOUXGc7iiK5RRDcrEpu7gQXcmtmlA0ruGHlls/CT3DDyi3XAcE1ky8oBQRAIBkCdrFMUnLd2lEEyS2K4GZRcnMluJBbcwNsGME1Ibd+gmtCbiG45vIFJYEACCRDwCmWSUmuVzvyLrlFEtysSW5uBBdya3ZwDSq4puS2nOCaklsIrtmcQWkgAALxE3ATyyQkt1w78iy5RRPcLEluLgQXcmt+UA0iuCbl1ktwTcotBNd83qBEEACBeAl4iWXckuvXjrxKbhEFNyuSm3nBhdxGM5hKBde03LoJrmm5heBGkzsoFQRAID4C5cQyTsnVaUceJbeogpsFyc204EJuoxtEJYIbhdw6BTcKuYXgRpc/KBkEQCAeAn5iGZfk6rYjb5JbZMFNu+RmVnAht9EOnrqCG5Xc2gW36aBrAz3Egfe55a3Ayr2wi0K0eYTSQQAEoiWgI5ZxSK6kHXmS3KILbpolN5OCC7mNdsDk0nUEN0q5VYK7dMmL9O92u4mfUKYjt5jBjT6PUAMIgEC0BHTFMmrJlbYjL5ILwd2R359ueofeXzqDDk7RE88yJ7iQ22gHS1W6n+BGLbfcjvfef4Nm09/p0EYniB6/qyu3ENx4cgm1gAAIREdAIpZRSm6QduRBciG4O3M7bZKbKcGF3EY3SDpLLie4ccjtxq820/QNT1HjBm0jk1sIbnz5hJpAAASiISAVy6gkN2g7si65ENzSvE6T5GZGcCG30QyOXqV6CW5ccvvIpnnU6HttIpVbCG68OYXaQAAEzBMIIpZRSG6YdmRZciG4NXM6LZKbCcGF3JofFP1KdBPcvMktBNcvC/A+CIBA2gkEFUvTkhu2HVmVXAiu+xWSBslNveBCbpMZXp2Cm0e5heAmk1uoFQRAwByBMGJpUnJNtCOLkgvB9c7lpCU31YILuTU3CEpLsgtuXuUWgivNCsSDAAikjUBYsTQluabakTXJheCWvyKSlNzUCi7kNtlhVAlunuUWgptsjqF2EACB8ARMiKUJyTXZjixJLgTXP4eTktxUCi7k1j9hoo5gwb2jazNadOtw+v5RR9FBxx3vW+W6Fctp2eOz6IgLu1Ldxo194zmAd0uI64YytwbhQQ9a3YQgEACBlBIwJZZhJdd0O7IiuRBcvQsjCclNneBCbvWSJeqoBx54gjp9MDfXcosZ3KizCOWDAAhETcCkWIaR3FmzZtH27duNne6YMWMoC5ILwdXv8rglN1WCC7nVT5QoI7/6eA29e/ctdNhJx+V25lbxwwxulJmEskEABKImYFpwg0ru9OnTafPmzUZPNwuSC8GVdXmckpsawYXcypIkqmiW2/+Mv40ats3vsgQ7OwhuVJmEckEABOIgEIXgBpHc7t2702effUYzZ840etppl1wIrry745LcVAgu5FaeIFEcUTS5ZYYQ3CgyCWWCAAjERSAqwQ0iub169aJ169YVSnIhuMEyPQ7JTVxwIbfBksP0UUWUWwiu6SxCeSAAAnETiFJwIbn+vQnB9WfkFRG15CYuuEPve4k2f/pFcEIuR+6zZ2065bhDqdH36xktN6+FxSu3R9GhB7TxRbl24zv0ysq5dFKzs+mAfRv6xgcNwAxuUHI4DgRAIA0EohZcSG75XobghrsKWHI/evuv9NUXW8IV5Dj6u7vXo8QF9+rRz1PVpR2MnhhvcWW6TKMNTFFhRZZbzOCmKBHRFBAAgUAE4hBcSK5310BwA6VtyUHLFtxFLdvfEL4gWwlcJgTXKNJsFVZ0uYXgZitf0VoQAIGaBOISXEiue/ZBcMNflRBcAUPM4PrDgtzuYIQlCv65gggQAIH0EohTcCG5NfMAghv+2oDgChhCcMvDgtzu5APBFVxYCAUBEEgdgbgFF5JbmgIQ3PCXBARXwBCC6w0LclvKBoIruLAQCgIgkDoCSQguJHdnGkBww18SEFwBQwiuO6z45HYuNfre0anaLcErfSC4ggsLoSAAAqkjkJTgQnJ3pAIEN/wlAcEVMITg1oQFuXVPIAiu4MJCKAiAQOoIJCm4kFwIrokLAoIroAjBLYUFufVOHgiu4MJCKAiAQOoIJC24RZdczOCGvyQguAKGENydsCC35RMHgiu4sBAKAiCQOgJpENwiSy4EN/wlAcEVMITg7oAVl9xO3zSXGmdkza0zjSC4ggsLoSAAAqkjkBbBLarkQnDDXxIQXAFDCC7kVjddILi6pBAHAiCQRgJpEtwiSi4EN/xVAcEVMCy64GLmVj9ZILj6rBAJAiCQPgJpE9yiSS4EN/w1AcEVMCyy4MYmtxvnUuPvZ2MrsHKpA8EVXFgIBQEQSB2BNApukSQXghv+koDgChgWVXAht4Ik+TYUgitnhiNAAATSQyCtglsUyYXghr8WILgChkUUXMitIEFsoRDcYNxwFAiAQDoIpFlwiyC5ENzw1wEEV8CwaIILuRUkhyMUghucHY4EARBInkDaBTfvkgvBDX8NQHAFDIskuJBbQWK4hEJww/HD0SAAAskSyILg5llyIbjh8x+CK2BYFMGF3AqSwiMUghueIUoAARBIjkBWBDevkgvBDZ/7EFwBwyIILuRWkBBlQiG4ZjiiFBAAgWQIZElw8yi5ENzweQ/BFTDMu+BCbgXJ4BMKwTXHEiWBAAjETyBrgps3yYXghs95CK6AYZ4FF3IrSASNUAiuBiSEgAAIpJZAFgU3bZI7fvx4mj17NjVv3ty3n3v16kXr1q2jmTNnWrEQXF9kvgEQXF9EOwPyKriQW0ESaIZCcDVBIQwEQCCVBLIquHmRXAhu+MsCgitgmEfBhdwKEkAQCsEVwEIoCIBA6ghkWXDzILm399qNWra/IXV5kaUGQXAFvZU3wYXcCjpfGArBFQJDOAiAQKoIZF1wsy657y1/nubNeThVOZG1xkBwBT2WJ8GF3Ao6PkAoBDcANBwCAiCQGgJ5ENwsS27PK35KG9atoZlT7kxNTmStIRBcQY/lRXAht4JODxgKwQ0IDoeBAAikgkBeBDfLkturV09a99EqSG7AKwKCKwCXB8GF3Ao6PEQoBDcEPBwKAiCQOIE8CS4kN/F0SqQBEFwB9qwLLuRW0NkhQyG4IQHicBAIQWDFihXUtWtXWrJkSUkpCxYsoHbt2lX/bsqUKdS9e3fr5zZt2tC0adOoRYsW2jXr1LN161bq168fTZw40Sq3d+/eNHr0aKqoqNCuxx44YsQIatKkCXXr1q3kePu58BvDhw+noUOHlsQ42+sWow7Im+BCcgOlW6YPguAKui/Lggu5FXS0gVAIrgGIKAIEAhJYuHAhsQiy9FVWVrqWwu9NmjSpOsb5s07VfvUouW3QoIElm86fdeqwxyiJnTx5cong8u9HjRpVLegbNmyw3meZV5KrftejRw/rPbcYe115FFxIrjTjsh0PwRX0X1YFl+X24wm308FHt6GDjjve94zXrVhOyx6fRUdc2JXqNm7sG88BG7/aTI9smkeNvncUHXpAG99j1m58h15ZOZdOanY2HbBvQ9/4rAVAcLPWY2hvngiw8M2fP99zptQpe3zuSj47dOhQY3bUi41fPSzAffr0KZkZ5lnUqqoqGjt2rPZssXMW2C64Xu121u0m8OUEPa+Ca5fcJ598UqsPnA9hMHWtjBkzhvhhEPrtwJpcCXsIroBWFgUXcivoYIOhEFyDMFEUCAgJeH2Nr4rxkky7sP7617+mGTNmlMipmkFVSx386nETYLuQnnnmmZZMN2rUqFrG1furVq2yZpf32GMPa4kD/8xSzHKsZmHLYXGeIwS3lJZcLkufNCZMSc9weTsgubrsIbi6pIgoa4ILuRV0ruFQCK5hoCgOBDQJqNnZefPmlRxhX3/rNXNpl0Allmp5gVq/OmDAgJKv+MvVwwLML/taWOcyBVUuz+TxkgLncgP7SbjNPJebXbYvwcAShZqk5HIJydW8DFMRBsEVdEOWBBdyK+jYCEIhuBFARZEgoEFACWOXLl2qxZKFtn379qQkV0dwee2uKovXt/JsLr/UDWI69egILpepxJpFmJc0KIl2nq6u4Hqtry231MFZV56XKNjPFZKrcVFlNASCK+i4rAgu5FbQqRGFQnAjAotiQSAgAZbNNWvWWIK6aNEi15vQ3L7G5+OGDRumvcuCvR5e5uA3g8vv22edy+2yoCO4ziUO6iY7p+SrOLu029EWRXD5nCG5AS+qlB8GwRV0UBYEF3Ir6NAIQyG4EcJF0SAQgIBdXpcvX64tuG4zteWqt9czYcIELcFVs7i8ZZlzKzN7XX6C6yW3Xrs3OJdHFFVwIbkBLqgMHALBFXRS2gUXcivozIhDIbgRA0bxICAkYBfP9evXu+5k4LwpzPmVfjn5VM2x1zN37twauzm47Xpg35+2Y8eOntublRNcL7nldnnttFCuvCLN4Kq+w0yu8KJKeTgEV9BBaRZcyK2gI2MIheDGABlVgIALAbetuTjMvh5Wd5sw+w1f06dPJy5b7a2rU4/ONmH2pQJDhgyhnj17luxfqzODW05u7YKrbphTZSoOvPbX/gAMfr+IgouZ3HwNKRBcQX+mVXAht4JOjCkUghsTaFQDAg4CbmtL3XYmcP7Ouf7Wb9cBnXqcMdxU3vLLLppOCXauldURXJZ3u3y7JQXW4OpfKpjJ1WeV5kgIrqB30ii4kFtBB8YYCsGNETaqAgEPyVWPx/V6DK/Xo3r9btRSD1pwLmFwq6fco3q91veysDr34OVTdJt59npcsEJiX1bhjC13Q1tRZ3AVN0hu9ocVCK6gD9MmuJBbQefFHArBjRk4qgMBEDBKoOiCyzAhuUZTKvbCILgC5GkSXMitoOMSCIXgJgAdVYIACBgjAMHdgRKSayylYi8IgitAnhbBhdwKOi2hUAhuQuBRLQiAgBECENydGCG5RlIq9kIguALkaRHc94f2pl2++Yp222NP39Z/9cU2+uarr6jV2T+huo0b+8argAn/eYi+2aUW7f6dCt9jvvzmC/rmf1/TsY1PpwP2begbX4QACG4RehnnCAL5JQDBLe1bllx+SEj9+vW1Ov3tt9+m448/np5++mmteN2gQO04pjU9PWusbhW5iYPgCroyLYK7su8FdMzPr9Bq+acffUQf/P1VOu4XvbXiVdBda+6l01pfrHXM5s/X0dsfvU6nH95NK74IQRDcIvQyzhEE8ksAgluzb5nJa6+9ptXpixcvJn7QBz81z/RL3I5xo2nR/D+Zbkbqy4PgCrooTYJ7yk1DtFq+5f3VtPL55+noHpdpxdsFt8txVVrHsMwtff9lOrllF634IgRBcIvQyzhHEMgvAQiuu+Bu375dq9Pnz59PgwcPphdeeEErXhIk6RurHYOuoxf+fI+kilzEQnAF3QjBdYcFwa3JBYIruLAQCgIgkDoCEolKXeMjapCECQQ3ok4QFAvBFcCC4EJwddMFgqtLCnEgAAJpJCCRuTS2P4o2SZhAcKPoAVmZEFwBLwguBFc3XSC4uqQQBwIgkEYCEplLY/ujaJOECQQ3ih6QlQnBFfCC4EJwddMFgqtLCnEgAAJpJCCRuTS2P4o2SZhAcKPoAVmZEFwBLwguBFc3XSC4uqQQBwIgkEYCEplLY/ujaJOECQQ3ih6QlQnBFfCC4EJwddMFgqtLCnEgAAJpJCCRuTS2P4o2SZhAcKPoAVmZEFwBLwguBFc3XSC4uqQQBwIgkEYCEplLY/ujaJOECQQ3ih6QlQnBFfCC4EJwddPFpOD+a8xo+vDFBUS1aulWvyPuf/+jPQ48kNqPneB73Aeb3qG/vPEYrd38rm+sM+B/2/9Hxzc+jTq2vkh8LA4AgbQQaNq0Ka1evZpYYiSvPfbYg7p160bjx4+XHOYam4Y2qIZJZC70iWekAAkTCG7ynQrBFfQBBBeCq5supgSX5fbrzRupZedzdKu24tavWE7Lnnicdvnud+lHkx4ueyzL7UOv/I6OOLg9NazXQlTPa6v+Sps/+5iOOvgkOrnF2aJjEQwCaSLA8vKd73yHHn/8cTr99NO1m8Yb/5933nnUqFGj0JKr2jBr1iw644wzEmkDBNcbOwRXOyVTEQjBFXQDBBeCq5suJgRXyW2rc87VrdaKW7d8OS17fCa1Oq8LrfjzbDrtj1M8j1dye2TDDtSw8jBRPa+9+xf65puvaO+KStpvz/0guCJ6CE4bAZYXFssLLriA5syZIxbMzp07h5Zcextmz55NHTt21MbEom2iDRBcCK520qU8EIIr6CAILgRXN13CCm5YuT3y4ktoz/0PpFfvneApuCbk9oRDf0xvrHkFgqubGIhLLQE1O8czuElJrrMNSUquZLYytZ1quGESJliiYBh+gOIguAJoEFwIrm66hBFcE3Jb55BG9NXWbZ6Ca0pumQcEVzcrEJdmAnZ5SUpy3dqQlORKZC7N/WqybRImEFyT5IOVBcEVcIPgQnB10yWo4JqSW26nl+CalFsIrm5GIC7tBJzykoTkerUhCcmVyFza+9ZU+yRMILimqAcvB4IrYAfBheDqpksQwTUpt16Ca1puIbi6GYG4tBNwk5e4JbdcG+KWXInMpb1vTbVPwgSCa4p68HIguAJ2EFwIrm66SAXXtNy6CW4UcmtCcDds2GBtszRv3jwLb5s2bWjatGnUosXOHR1WrFhBXbt2pSVLlpR0wYIFC6hdu3Za3aJTz5QpU6h79+4l5fGNPvz7yspKrXoWLlxI7du3r47t3bs3jR49mioqKqp/N2LECBo2bFhJec44Z3vdytFqEIK0CHjJS5yS69eGOCVXInNagHMQJGECwU2+wyG4gj6A4EJwddNFIrhRyK1TcKOS27CCqySOJXXo0KEWXpbJUaNGlUguSyNLoUQ07X2lWw/XwS/VFt3+VnFKbpV4b926lfr162e9rSRX/a5Dhw6W2Lu9nO11K0faNsSXJ1BOXuKSXJ02xCW5EpkrSm5JmEBwk88KCK6gDyC4EFzddNEV3Kjk1i64zUcPt/a5DbMVGO+W4PUKc5OZm7gqmWvQoEGJ9PIHhnMmVLc/dOrREU+/+twEWc0+84MAWOSVvLJEe80+s8g7z5fLqaqqorFjx5bMbvu1Ce/rEfCTlzgkV7cNcUiuX1v0qOYrSsIEgpt830NwBX0AwYXg6qaLjuBGKbdKcJ+ZMZFWnF4vMrnlesIIrhdPpyjyz02aNPGc8eT3Z8yYUTLrq5YblFvGYK+HxbNv3750yy23uAqkElPe0N85G7tq1SrP2WWn0LKoch3jxo1zXfZgQrR18xRxOwnoyEvUkitpQ9SSq9OWouWPhAkEN/nsgOAK+gCCC8HVTRc/wY1abrmdq/+7mmZs+Qsd1fRHgR/iUG7mVrEwLbhKCHv06GEJrXMtqqrXLq7OWV81azpgwADfZQCqHufaWa7Huf7WORvrtpzCmSNcbp8+farl222dr319rV2In3322eq1uliDq3v1BYvTlZcoJVfahiglV7ctwWhn8ygJEwhu8n0MwRX0AQQXgqubLuUENw65Xfvlf2j6hrnUptHJkcptFDO4TmlUUtmlS5fqJQvOta7cDhXH63d5Npdf5ZY0OOtxm/HlGV6uy772l/89adIkqy0sruUk2m3trHO22RmzevXq6hvqyq3l1c1FxOkRkMhLVJIbpA1RSa6kLXqEsx8lYQLBTb6/IbiCPoDgQnB108VLcOOS20c2zqUjD4lebk0LrhLXyZMne868qj5gUVyzZk2JxKrdCdx2YrD3nW49ztlkLsM+o+w3q+q2dMIth+wzw/Xr17cE1ynOztlj3VxEnB4BibxwiUpyTQpmGtqgaEnbokc521ESJhDc5PsagivoAwguBFc3XdwEN49ya1JwdaVT9YGaSbXPrrrN9jr7TFKP2w1vXJ7u+l7numCv/LGL9LHHHmsJrropTR3jJtu6+Yg4fwISeVGlmZbcNLQBguudK5L+geD6X3NRR0BwBYQhuBBc3XRxCm5e5daU4Eqk00twlYxOnDjRCnG7uUxaj5vg2vfk9dojV3fm1k1ezzzzTGv22rnLAgRX9+oLFieRF3sNJiU3DW2A4EJwg11B6TsKgivoEwguBFc3XeyCm2e5NSG4ftLpvElL9YFzpwX7mtrp06fXWDvrV4/bkgfnDgj29bJDhgyhnj17Wlt92ffNLSe3XjPCzi3AdLYb081FxOkRCCqXXLopyU1DGyC4EFy9Kyb9URBcQR9BcCG4uumiBPe413ajrzdvpFbnnKt7qBW3bvlyWvb4TDry4kuoziGNyh7LN5TFuebW2Zgwuyjo7HbgdqOW8wYxr50XlHzq1OOMcavXKdvOm910d1XgJ52pGWa3h1B47Z1r36JMlFAI9iUQRi5NSe6ECRNo+/btvm31CjAl2lx+WB6BTyLFB0qYYIlC8h0JwRX0AQQXgk77GawAACAASURBVKubLiy4W/40kw7apX6u5TbsDK7bI2sVY/sNXM7lB/abyNR7zr1o7TO2K1eurPFoXLd6nI8EtrfBa32vmrHlpRE333xz9SOHnbliv3HOuSXZ8OHDazw9zbk9mluMbj4izp+ARF6iEsznnnuOPv/8c//GlokwJbkmeIQ6kRQeLGECwU2+AyG4gj6A4EJwddPlPw9Mpj23/Y/anHeR7iFWXJZmbtWJhZnBFcFBMAhESEAiL+WaEUYweWb/qKOOsm4wDPMK04bOnTsTf1MQdjY5TPvTeqwkRyC4yfciBFfQBxBcCK5Oumx6cAbV/mwbHXFuF53w6pgsyi03HoIr6mYEp5SARF78TsGEYCYtuSZmk/04Ze19SY5AcJPvXQiuoA8guBBcv3Rhud398y/o8J+c7xda8n5W5RaCK+pmBKeYgERedE4j65JrajZZh1VWYiQ5AsFNvlchuII+gOBCcMulSxHlFoIrGEAQmmoCEnnRPZGsS65arhB2NlmXV9rjJDkCwU2+NyG4gj6A4EJwvdKlqHILwRUMIAhNNQGJvEhOBJIroZXuWEmOQHCT70sIrqAPILgQXDcCRZZbCK5gAEFoqglI5EV6IpBcKbF0xktyBIKbfB9CcAV9AMGF4DoJFF1uIbiCAQShqSYgkZcgJwLJDUItXcdIcgSCm3zfQXAFfQDBheDaCUBud9DALgqCQQShqSUgkZegJwHJDUouHcdJcgSCm3yfQXAFfQDBheAqApDbnbkAwRUMIhkN5YdpVFRUxNr6uOuUyEsYEJDcMPSSPVaSIxDcZPuKa4fgCvoAggvBZQKQ29I8iENw1y36B737yDTa9PZbgivWO3S/tsdS20GDy5b1j/f+Rn9f9Tda9981BuqsRSc0Po3OaC178EeYinmz/vfeey9MEdXHnnDCCfSXv/yF9t5777LlJVGnkROM+dG0kFxTvRZvORDceHmHrQ2CKyAIwYXgstxWbP2SWp9zniBzsvmEMt0TjFpwWW4XjbyVjrjoYqo89FDdZrnGrXzuWVr/5pu0d+MmdNTAQZ5lsdy+8OYcOrFZZ9qnojJUna++M5c+2baBjjqoHf2weadQZUkO5g9j/u/JJ5+kTp3C1Ttw4EB6+eWXafbs2WUlN4k6JUzKxUrkxUSdkFwTFOMtQ5IjmMGNt2/caoPgCvoAgltswbXk9vMvqfVPILf2TIhScE3L7ZYPPqDvHdWGNn+8ntr0v8E1oU3Lba1datFetfel/fY8MHbBZSE9++yzY5NcFoC46xQM4WVDJfJiqk5IrimS8ZQjyREIbjx9Uq4WCK6gDyC4xRVcyK33hRKV4EYht0dedDFtWPkWbVz7kavgRiG3xzXuSMvWvpyI4G7fvp3mzJkTm+QqAYizTsEQnjrB5QZBck31YPTlQHCjZ2yyBgiugCYEt5iCC7ktf5FEIbhRye2utXejj5ctdRXc11Y9Ty+89RSdZGhZAs/cstzyK0nB5frjEk67AMRVp2AIT6XgQnJN9WD05UBwo2dssgYIroAmBLd4ggu59b9ATAtulHLLZ+MmuFHKbRoE17Tk3njjjfTSSy/VWJPrFACTkutVp3+G6kVI5EWvRFkUZnJlvJKIluQIligk0UOldUJwBX0AwS2W4EJu9S4Ok4Ibtdy6CW7UcpsWwY1Dct0EICuSK5EXvStDHgXJlTOL8whJjkBw4+wZ97oguII+gOAWR3B3bAX2JR2OG8p8rxBTgmtUbp99hj5Zu5aOuLAr8bIE+8s+g8tyO//tP9OJh3YysluCfVmCvc6klyjY28LC2blzZ2v2NezuCs5ZVS8BiLJO3wTVDJDIi2aRgcIguYGwxXKQJEcguLF0SdlKILiCPoDgFkNwNz46hz57/iWqtcsuguzYEVp7773psM5nU51DGvkee++6R2jLl5uJatXyjbUH8I1D++xel04/orvouKiCTQjuTrntSpWHNgvV1JVl5JYLVoL71QXHxyK3XGeaBJfbE5Vw7rPPPsT56faKqk6/vXl1k0kiL7plBo1jyb322mtpzRr5Hsz/+9//aNiwYdZ/YV5paEOY9kdxrCRHILhR9ICsTAiugBcEtxiCu+WpZ6neJ1/RIe07CLKD6Ott2+iVeyZQ++v6ax03Zu2f6PSjutNuu+yuFa+Clq191ZLiVg1OEB0XVXBYwY1TbpXgLvp8Ba1s9HXkM7c7+yy5XRS8+j0K4XzhhRc8BTdKsTYhuRJ5iepaspfL7fnyyy/FVV133XXUrFkzqqqqEh/rPCANbQh9EgYLkOQIBNcg+IBFQXAF4CC4BRLc/35NjTr8UJAdRF9t3Uav3jOO2vXTFNwP/0RnHHUZ7barTHBZKPmVB8GNW26Z2wtv/5X+uedH1K7VeWaWJdSqRcc12bFbgtcrbTO4qp2mJXfixIm0evXqsg+DMF3niy++aM1Ih5VcibyIBoaAwUHbc80111DTpk2NCa7XjHy50zLZhoD4IjlM0icQ3Ei6QFQoBFeAC4ILwS2XLhDcswVXE1EScrv406X04qev00ktz41NbhlKWgWX22ZSOPv370+vvvqqr3CarJPXAZuQXIm8iBI9YHDQ9piUyzS0ISC+SA6T8IDgRtIFokIhuAJcEFwILgS3JoEgSxRMy+2WtWvpSJcbyuytteT283/RSS3OjlVu0y64piVXVzjTJrkSeRF8bAQODdoeCG5g5L4HSvoEguuLM/IACK4AMQQXggvBDS+4RZPbLAguJJeXtdcqu35Y8FFhJDRoeyC4RvC7FiLpEwhudP2gWzIEV5cUEUFwIbgQ3HCCW0S5zYrgFl1yJfIi+NgIHBq0PRDcwMh9D5T0CQTXF2fkARBcAWIILgQXghtccFluF99xGx1+4UVGtgJL+7IEO6k0r8F19mgSSweSqNN53hJ5EXxsBA4N2h4IbmDkvgdK+gSC64sz8gAIrgAxBBeCC8ENJrhFltsszeCq3k1COJOo057NEnkRfGwEDg3aHghuYOS+B0r6BILrizPyAAiuADEEF4ILwZULbtHlNouCy21OQjiTqFNltEReBB8bgUODtgeCGxi574GSPoHg+uKMPACCK0AMwYXgQnBlggu53cErS0sU7D2chHAmUSefs0ReBB8bgUODtgeCGxi574GSPoHg+uKMPACCK0AMwYXgQnD1BRdyu5NVVgW3SDO5EnkRfGwEDg3aHghuYOS+B0r6BILrizPyAAiuADEEF4ILwdUTXMhtKacsC25RJFciL4KPjcChQdsDwQ2M3PdASZ9AcH1xRh4AwRUghuBCcCG4eoL7t95X0LaNGwVXl3fobnvvTSf0+iXtWns3z6B1X22iKRueoC+/+SJ8nduJ9t2jPv2/wy8NX9a3JWRdcJXk9u3bl1atWmWEy09+8hOaNWtW2bJ4uUJcdUrkxQgAn0KCtgeCG13vSPoEghtdP+iWDMHVJYV9cD1Jrf90DS19/2U6uWUXAc30hm556lmq99+vqVGHH4oaiUf17nxU77wLz6NTbhoi4ucW/PGypbRu2XJqfX753GLBnfXJM3TaEd1D1/nG2pep1vZdqGWD40OXpQrIg+DyuUg+4MvBmzZtGs2cOZOmTp3qyziuOk3V43tCmgFB2wPB1QQcIEzSJxDcAIANHwLBFQDFDK47LAjuDi4Q3GgEd/3yN6nVeeeVvVIhuDXxSD6MdYdBU2VCcP2JB2UNwfVnGzRC0icQ3KCUzR0HwRWwhOBCcMulCwQXguuVH5jBLSUDwfX/4JHIlL00CK4/26ARkj6B4AalbO44CK6AJQQXggvBrUngjTWv0H577kcnt4DgQnD1BlQIrj8niUxBcP15moiQ9AkE1wTxcGVAcAX8ILgQXAguBFcwZFSHYgYXM7jSvJHIFARXSjdYvKRPILjBGJs8CoIroAnBheBCcCG4giEDgusBCzO4/lkkkSkIrj9PExGSPoHgmiAergwIroAfBBeCC8GF4AqGDAguBDdIuljHSGQKghsYs+hASZ9AcEVoIwmG4AqwQnAhuBBcCK5gyIDgQnCDpAsENzC1aA+E4EbL13TpEFwBUQguBBeCC8EVDBkQXAhukHSB4AamFu2BENxo+ZouHYIrIArBheBCcCG4giEDggvBDZIuENzA1KI9EIIbLV/TpUNwBUQhuBBcCC4EVzBkQHAhuEHSBYIbmFq0B0Jwo+VrunQIroAoBBeCC8GF4AqGDAguBDdIukBwA1OL9kAIbrR8TZcOwRUQheBCcCG4EFzBkAHBheAGSRcIbmBq0R4IwY2Wr+nSIbgCohBcCC4EF4IrGDIguBDcIOkCwQ1MLdoDIbjR8jVdOgRXQBSCC8GF4EJwBUMGBBeCGyRdILiBqUV7IAQ3Wr6mS4fgCohCcCG4EFwIrmDIgOBCcIOkCwQ3MLVoD4TgRsvXdOkQXAFRCC4EF4ILwRUMGRBcCG6QdIHgBqYW7YEQ3Gj5mi4dgisgCsGF4EJwIbiCIQOCC8ENki4Q3MDUoj0QghstX9OlQ3AFRCG4EFwILgRXMGRAcCG4QdIFghuYWrQHZlVwBw3oSwv+8n/Rwklh6RBcQadAcCG4EFwIrmDIgOBCcIOkCwQ3MLVoD8yq4Pav6kHPzLqL9qrXNFpAKSsdgivoEAguBBeCC8EVDBkQXAhukHSB4AamFu2BWRXcQQOvo/uHNaWDWp5fKMmF4AquBwguBBeCC8EVDBkQXAhukHSB4AamFu2BWRXcwYMH01Mzfksf/OOuQkkuBFdwPUBwIbgQXAiuYMiA4EJwg6QLBDcwtWgPzLLgvvDCC/TpukWFklwIruB6gOBCcCG4EFzBkAHBheAGSRcIbmBq0R6YdcFlOkWSXAiu4HqA4EJwIbgQXMGQAcGF4AZJFwhuYGrRHpgHwVWS+/5rd9LBrbrkek0uBFdwPUBwIbgQXAiuYMiA4EJwg6QLBDcwtWgPzIvgFkVyIbiC6wGCC8GF4EJwBUMGBBeCGyRdMi+4V199NTVr1oyqqqoCn38aD8yT4BZBciG4gqsIggvBheBCcAVDBgQXghskXTIvuL1797bOYeLEiYHPP40H5k1w8y65EFzBVQTBheBCcCG4giEDggvBDZIumRdcnsEdP348Pfnkk9SpU6fADNJ2YB4FN8+SC8EVXEEQ3GII7srpk6nZ9v2pUYcfCrKD6Kut2+jVe8ZRu379tY4b8+Gf6IyjLqPddt1dK14FvbHmFeufrRqcIDouqmBuz3577kcntzi7uop5F55Hp9w0JHSVHy9bSuuXv0mtzjuvbFnrvtpEsz55hk47onvoOt9Y+zLV2r4LtWxwfOiyVAHL1r5M++15IP2weXwf9pIPY90TNVXmtGnTaObMmTR16lTfquOq01Q9viekGRC0Pddccw01bdrUyPKAMG3Ytm0b3XfffbmSXAmP+fPnE+8/y9tzmX5F0Q7eXSFvN55BcAWZB8HNv+Cu+OgftG3eQmq7+2EQXM1rA4LrDwqCW8oIguufMxKJsZeWFsFlyeb/zj777NxIrqRPsia4eZzJheD6jzPVERDcfAsuy+2Hm96mk9c2pu+s3wzB1bw2ILj+oCC4EFz/LCmNkMhUWgWXbzKbM2dObiRX0idZFNy8SS4EVzDqQHDzK7hKbi89/hpaP/sv9M1HH0JwNa8NCK4/KAguBNc/S/IpuHxWeZHcIghuniQXgisYdSC4+RRcu9zW2aOS3p4+FYIruC4guP6wILgQXP8sya/gKsnt3LkzzZ49O7M3nhVFcPMiuRBcwagDwc2f4Drlls8Qgiu4KIgIguvPC4ILwfXPknwLbh4kt0iCmwfJheAKRh0Ibr4E101uIbiCC+LbUAiuPzMILgTXP0vyL7hZl9yiCW7WJReCKxh1ILj5EVwvuYXgCi4ICK42LAguBFc7Wb4NlMiUvew07aLg9SQzXpObxeUKkj7J6k1mbnma1S3EILiCUQeCmw/BLSe3EFzBBQHB1YYFwYXgaidLAQQ3qzO5RRXcrM7kQnAFow4EN/uC6ye3EFzBBQHB1YYFwYXgaidLQQQ3i5JbZMHNouRCcAWjDgQ324KrI7cQXMEFAcHVhgXBheBqJ0uBBDdrklt0wc2a5EJwBaMOBDe7gqsrtxBcwQUBwdWGBcGF4GonS8EEN0uSC8HdkZxZWZMLwRWMOhDcbAquRG4huIILAoKrDQuCC8HVTpYCCm5WJBeCuzOLsyC5EFzBqAPBzZ7gSuUWgiu4ICC42rAguBBc7WQpqOBmQXIhuKVZnHbJheAKRh0IbrYEN4jcQnAFFwQEVxsWBBeCq50sBRbctEsuBLdmFqdZciG4glEHgpsdwQ0qtxBcwQUBwdWGBcGF4GonS8EFN82SC8F1z+K0Si4EVzDqQHCzIbhh5BaCK7ggvg39678fomYHHE5nHX5J9cHzLjyPTrlpiLwwxxEfL1tK65e/Sa3OO69sWeu+2kSzPnmGTjuie+g631j7MtXavgu1bHB86LJUARDc9AvuKaecQgMGDKBOnToZ6/cwBUlkyl5PFh70oMMljQ+DkPRJnh70oNNfaZRcCK5Oz30bA8FNv+CGlVsIruCCIKK/r3ya9q69N53ftmfJgRDcUo4Q3PQLbtqESiJTeRTcNM7kSvqkaILL/ZU2yYXgCj7P0yC4q9ZupP/d3kt7dmzL+6tp5fPP09E9LhOcKdFda+6lLsdVaR2z/tM1tPT9l+nkll204qMKMiG3EFz93vGSWy4BggvBLZdJ06ZNo5kzZ9LUqVN9E04iFWHrTJPkBj3vvMzgqr7Map8UUXDTJrkQXN/hdWdA0oLLcvvE80up84tjILiOfjMltxBcvQuinNxCcGsyxAxu+mdw0yZUENydOZMWyZX0SVEFN02SC8HV+zy3opIUXCW3V557BH1wQ08Irq3fTMotBNf/gvCTWwguBNcvi9I6g5smyZXIlJ133mZws9onRRbctEguBNdvJLa9n5Tg2uW2deNK0de/eV+iYFpuIbjlLwgduYXgQnD9htW0Cy63P+lZQwhuzSzKUp8UXXDTILkQXL+ROGHBdcqtVB7yLLhRyC0E1/uC0JVbaY6WuwSxi4JggHKEBhWkcjWaKjMLgpu05AZlndcZ3DTM5Er6BIK7o8eSvPEMgiv4/Ih7BtdNbqXykFfBjUpuIbjuFwTL7V677UVdjvmF1hWDm8xKMWENbimPrAhukpIrkSk73bwLblb6BIK7MyuTklwIrtbH9Y6gOAXXS24huERRyi0Et+YFIZVbaY5iBlcwCAlCgwoSZnBrEkjiq/Gg/VcEwU1KciV9AsEtvY6SkFwIruADIy7BLSe3UnnI2wxu1HILwS29ICy5rb0XdWmrN3OrjsYMLmZwyw2tWZrBVecRt+RKZKpoM7hZ6BMIbs0RIG7JheCmTHD95LbIghuH3EJwd14QQeVWmqOYwRUMQoLQoIKEGVxvAnFKbtD+K8oMbhKSK+kTCK77dRSn5EJwBR8YUc/g6sitVB7yMoMbl9xCcHdcEGHkVpqjEFzBICQIlXwY6xZrqswszuDGLVRBWRdNcLlf4vrDQ9InEFzvUSUuyYXg6o7sEa/B1ZVbqTzkQXDjlFsIbni5leYoBFcwCAlCJR/GusWaKjPLghuXUAVlXUTBTWOfQHDLjypxSC4EV3dkj1BwJXIrlYesC27cclt0wQ07c6suJ6zBLR1YsItCKY+sC24cQgXBFXw4fxsa9UyupE9YcKuqqmjx4sXyE/E5QtqOwYMH0wsvvGC8HWELrJbc1l1or7pNwxZX43gIrgBpFEsUpHJbJMFNQm6LLLim5Faao5jBFQxCglDJh6BusabKzIPgRi25QVkXdQZX5XCUkivpExbcc845hyZPnkydOnXSvcS04qTtSKvg8slGKbkQXK102hFkWnCDyK1UHrI6g5uU3BZVcE3KrTRHiyC4f/33Q9TigDbU8fCLBCNOuNBTTjmFBgwYYPTDVfLBWq71eRHcKCU3KOuiC25a+kTN4L7++us0e/bsxK7DKJdKhBuhdh4dleRCcAU9ZFJwg8qtVB6yKLhJym0RBde03EpzNO+C+5q11dredH7bnoLRJnxoFDNZQaXLeTZ5EtyohCoo66uvvpqaNWtmfT0e9hW0DSYlO+g5JJ3/SiwHDhxInTt3Niq5kn7JguBGNZMLwRVcPaYEN4zcSuUha4KbtNwWTXCjkFtpjuZZcJOSW8XU9Ie85IO1KDO4aWPdu3dvq0kTJ04UfLq5hwbt7zQIbhR/eEh42MUyyeswK4IbheRCcAVDgAnBDSu3UnnIkuCmQW6LJLhRya00R/MquEnLbRTiJfmAL5rgmhaqoKx5BnfcuHFGZgyDtiEtgptknzjF0qTkSvolS4JrWnIhuDEKrgm5lcpDVgQ3LXJbFMGNUm6lOZpHwU2L3JqWXMkHaxEF16RQBWXNcrlt2za69957Q0tumDY0bdrUyDIJwUe0Z6gpuZTwcBPLtLTDBNMoyzC1JheCK+ilMDO4puRWKg9ZENw0yW0RBDdquZXmaN4EN21ya1JyJR/wRRVcU5IblLWaPWXBDLv2M2wbTKwDFnxElw01IZcSHl4zp2lphymuUZVjQnIhuILeCSq4JuVWKg9pF9y0yW3eBTcOuZXmaJ4EN61ya0pyJR/wRRZcE5IblLV9eUBYmTLRBsFHbOShcfIotzQgLe2IHHjICsJKLgRX0AFBBNe03ErlIc2Cm0a5zbPgxiW30hzNi+CmXW5NSG5Q4XH2cd52UfDK4TAiE5S1c/1rGtog+JiNPDQuHn5rX9PSjsiBh6wgjORCcAXwpYIbhdxK5SGI4K5++SWaevC/qMtxetvMrP90DS19/2U6uWUXbZppldu8Cm6ccivN0TwIblbkNqzkBpWuogpumJncoKzdbvAKKlMm26D94RBDYBw8/AQ3rtzQaUcMyENVEVRyIbgC7BLBjUpupfIgFVyW2/8sX0bPnf51ZIKbZrmNVXDX/pHOOPpy2m3X3QVZSPTGmles+FYNTtA6Lm65leZo1gU3a3IbRnKDCk+RBTeoyARl7bWDQRCpM90GrQErpqCoeeiKZVraERP2wNUEkVwIrgC3ruBGKbdSeZAIrpLbYwbfTL9+dWgkgpt2uY1LcD9etpSm7PUynXnsFZEKbhJyK81RU4L72MZ59P+OvlxwRbuHvrH2Zaq1fRdq2eB437KyKrdBJTeo8LgJLt/l/8wzz/gyNlnnzJkzaerUqb51RhEgFZmg511ui640tCEKtkHLjJKHruAG+QNIkhuSdgTlGNdxUsmF4Ap6Rkdwo5ZbqTzoCq5dbiv2359GzO5tXHAtud34Nl16wjVUZ49KAfl4Q9+ePpW++ehDatThh6KKv9q6jV69Zxy169e/7HEst2/++c/0j0v3pzPaXBaZ4CYlt9IcNSG4i1+cS6802USnt/2ZqM/cgnUFN+tyG0RyJR+s5TqC1+D26tWLHnroId9HmJqsM0nBlYpM0PP224NWInVRtSH0RWqwgKh4SMUyLe0wiDaSoiSSC8EVdIGf4MYht1J50BFcp9xyHaYFNytyy+cepeAquW1701C6/7376PQju0ciuEnKrTRHwwruyueepbXb1tGyH3yXTmt9qeCKdg/VEdy8yK1UcoMKj5M0Cy7P4D777LO+e7WarDNpwZVIbtDz9hPctLQh9IVqsABduZT0iVRwo+qXIO0wiDaSonQlF4IrwF9OcOOSW6k8+Amum9yaFtwsyW2Ugqvk9uhBQ6heq9Y0am6/SAQ3abmV5mgYwWW5/e/GjXTwtb1oxj8foNNaXyK4ooMJbt7kViK5kg94vxlcls0ePXr47tVqus6klijYeegIVdDz1hFcXZmKug2hL1aDBZjuk6BimZZ2GEQbSVE6kgvBFaD3Etw45VYqD+UE10tuTQpu1uQ2KsF1yi3XE4XgpkFupTkaVHCV3LYdPIw2fr2Jpv99QuSCm1e51ZXcoMLjNoOrZlP9PtCjqFMw7EcWGtV56wqujuQGZS9pQ2SAAxRssk+CCq7pfgnTjgAIYz3ET3IhuILucBPcuOVWKg9egltObk0JbhblNgrBdZPbKAQ3LXIrzdEggmuX2+9UVNDH/10bueDmXW51JDeo8JQTXL8P9KjqFAz9kYWWE6qg5y2VyzS0ITLAAQo2xSOsWKalHQEQxnpIOcmF4Aq6wim4ScitVB7cBJfl9uMVy6ntTcOIbyhze4Vdg8ty+9Gmd+iS46tSfUOZ27mbXIPrJbemBTdNcivNUangKrk9ZvAw2rWiwjo8asEtitz6SW5Q6fIT3HKSG2WdguE/slAvkQl63lLBjYJ9kDZEBjhAwSb6JKzgmuoXE+0IgDDWQ7wkF4Ir6Aa74CYlt1J5cAqujtxyHWEEN8tyy+duSnDLya1JwU2b3EpzVCK4bnIbteAWTW7LSW5Q6dIRXK8P9KjrFHwERBbqJlRBzzuoXKahDZEBDlBwWB6mxDIt7QiAMNZD3CQXgivoAiW4ScqtVB7sgqsrt2EEN+tya0pw/eTWlOCmUW6lOaoruF5yG6XgFlVuvSQ3qHTpCq6b5MZRp+BjILJQp8gEPe+ggmuSfZg2RAY4QMFh+sSU4IbtF5PtCIAw1kOckgvBFeBnwT3nlNb0xPNL6cpzj6DWjZPZy3XehefRKTcN0Wq5EtzKZs18lyXYCwwyg3tg3UaZXZZgP/ewM7jNzjzL2udW7Zbg1VFhbzL77IsttFftvahL219o5UKcQZIc1RHc3evsa+2WYF+WYD8uiiUKn32xmfaqvTed37ZnnOhSV5f9Q75z5860ffv20G3kbcLKbdmVRJ2hT8pAASbOO6xcpqENBlAaKyIoD9NimZZ2GAMbUUF2yX1/6Qxq2f4GozWxNNfabmIUDNGsq0c/T1WXdghRQs1DWXD5laTccv0SeWDBXfbkE/SdPfcsu+bWebZSwX1t5V+p4rsVmVxz6zz3MIL78vgxVGuXXX3lF4hvNgAAIABJREFUlusMI7hrN71DDeo2SqXcSnPUT3BXvTCfatev7ym3fLxpwV27cSUdVLdx4eVW9Y36cOWfTQztfoLL9SRRp9EPjICFhT3vsIJrgr2JNgTEF8lhQfrEtOAG7Zco2hEJZIOFKsnlInMpuHdPXUSrPvzEIDKiOnvVpov/X/PEZm7Vybwy6Aba/PZb2ue2e71KOn7E7Z43lLkVdP/8kfThllXadexduw5d3u6GzN1Q5naCb097mN55dLr2udsDd6+spCOq+ln73Pq9Hnzxblq98U2/sJrvbyfab+/v05Wn3Cw/NqYjpDlarlm169alDmPGV99Q5ha7Q3B/T5s+/9jAGdbawffkYQbKyk8R/CHft29fWrVKf1wod/Z9+vShcePGlQWURJ1p6LEw511RUUF33HEHVVVVhTqVNLQh1AkYPjgIj8suu4wefPBBoy1JSzuMnlQEhbHkfvTv++irbRuNlr5HnabJz+AaPSMUBgIgkBiB/335Je2y226J1Y+KQQAEQAAEQEARSHyJAroCBEAABEAABEAABEAABEwSgOCapImyQAAEQAAEQAAEQAAEEicAwU28C9AAEAABEAABEAABEAABkwQguCZpoiwQAAEQAAEQAAEQAIHECUBwE+8CNAAEQAAEQAAEQAAEQMAkAQiuSZooCwRAAARAAARAAARAIHECENzEuwANAAEQAAEQAAEQAAEQMEkAgmuSJsoCARAAARAAARAAARBInAAEN/EuQANAAARAAARAAARAAARMEoDgmqSJskAABEAABEAABEAABBInAMFNvAvQABAAARAAARAAARAAAZMEILgmaaIsEAABEAABEAABEACBxAlAcBPvAjQABEAABEAABEAABEDAJAEIrkmaKAsEQAAEQAAEQAAEQCBxAhDcxLsADQABEAABEAABEAABEDBJAIJrkibKAgEQAAEQAAEQAAEQSJwABDfxLkADQAAEQAAEQAAEQAAETBKwBHfDhg3UrVs3mjdvnlV2mzZtaNq0adSiRYuSuqZMmULdu3cPHVPuBBYuXEjt27evDunduzeNHj2aKioqqn+3detW6tevH02cONH6nVuM85yGDx9OQ4cOFbFztmXy5MkWJ7zCE1ixYgV17dqVlixZUlLYggULqF27dtW/08m5cq3RqUcnnyRnPGLECGrSpEmNXLGfC5fnlpPO9gbJW0lbEZsOAjpjsE4u+52NTj3OPOUyO3bsSPz7yspKvyqs93XGcb5Ohg0bVlKecyx3ttdtrNdqEIISJ+A1Lup8VuvE6J4gX0e33HILjRs3rkY+O/PW+XnklttuMX5tcV5j5cpQn08NGjQQO4xfO/L+fq3169dvZ2ljqVACyPBHjRpVIrn8u0mTJlUPcs6fGZROjI7cqs5WHcvHKMl1drZb56uLoUePHpZkOH/W6VT1YTJ+/HiLjfp5wIABkFwdgD4xPJDwgFfuQzNsPqnBqFw9OvkkOV01cDn/GHJeUyon7dedV97aYyRtQWw2CLjlgtsYrHPNlDtj3Xr4euGXdEJA1a0kQWcc79Chg+d46myv2+dBNnoYrfQaF3U+q3VidAmrspSv2P9g47zt06dPtfc4f1afJ34xfm1xXtvO68V5vGKHyQ4/sjXfr7VgwYLtTgFwfui7CaKKUQOUToxf89wGVqdouiUdx1RVVdHYsWOtWWc3+ZZ+OHBb1qxZUzJ7zOXOnz+/xoyy33nh/ZoE/FiayCc1iJXrM5180uk/5yywXXCd14pdBOyDpYm81WkrYtJFwG1scvvD3e+a8TsrnXq8ctWvbPv7OuO4ur5Zou3f2NjLcTtf51gvaRdi4ydQblxU47N94kxJpN1JTI2L9tlZ5zcSXrOk9lzWifEj7JX3Xn9U2r+1geD60XURXF6i4HaYHbjXoGIfgFavXl0imapMFcMD2RVXXEGNGjWqMRu7atUqz5k8Z0K4DXrOQdktWezl1K9f3/p6vEuXLtWzFOp9e/ucXNykV44cRzABr6+rFB2dnPv1r39NM2bMqPFNAy+jUbNHfvX45dOZZ55pzTCVy9s99tjDWjLDecx/ZPEfW+rbg3K9HcUfZsiu/BBwjmN+uczv+10PfmM9j4N9+/a1vsJ1LlHjY93GSTX+Ssbxcl8Tcz0mRDs/mZDNM7Hnhde46PdZzX/8+MVw3tnHfCXJvNRRTTQoueWf+eWUai/xtP9RyMfxZ4HzjzJ7zIQJE8peg+qzT2e5j+LXtm1bWrRoEWGJgvw6cL3JzDl75jX7af/Lavny5a5fOdtj1q9fb4ml+trf7Ws45yk4Z9jckt3+l1X//v0t2XB+9eV2TvbZMy6X6/JKPOdMshw1jlAEnOup1O/t65B0ck6JpbrwnctIdOrxyycezJx9Xy5vJcthnDMTWKKAa8R5jTiXWan7JNyuGecMk86yKrdx0X4PBNfjnO2SXA+qnc5x3LkGkePs62vtwvHss89Wr9XFGtxsXiOSb+Tsseeff77W57l98unzzz+3RNRraZfbjLDXhIo9b5m8/Ztit9xu2LCh1V6vzyQ1oXLllVfS5ZdfXn0PitsaXNXO+++/n2699VYIboDUdxVctzUibusYpYLL613UMSwOLJjl1rS6rbnyExJdwVV/SfEyBJ7JPeOMM6pn/ewc7ZKEwTVAhrkcoj4g7TPoznVIOoLL+aTK4jXjPHvFL7VeW6cev3yyr0vnv/r98lZXcN3WQ9pnrtQNlLix0UzOZa0U5xisk8t8juWuBzcGznqUeNo/cN3++Dcxjttnm51jPX8jqG5CLbeWN2v9WtT2Ri249vJXrlxZdrIqSsHlbz3KXYPqxkq7S7itwbX/gcczuHZpLmoOBTnvGoJrn8pXOwboyIbODC4LiUQY3b5y8xMSieBK17e4XRhBoOMYdwL2v8L5Kxm/P6rUDQJq0PDa/cNZm70eXubAL/sNNeVuXOQZtHJ/6OgIrtdXujo35yB38k/AbQz2Omu3ZVO614NuPW45HXYcdzsf+8ywWkbmnADBN2nZzP+oBZep2L8VKLcrQdSCqybPeIcQ52eS1zfFzutYZ+1vNjMh3laXCK7XgGdScO2JWC4J3eRWJU45IZEIrirPuW7Nqwt05CXe7stXbUG+EbDPWtlnhMuRsdfDa6Z0BFc3b/1yxEtuvW5gwAd6vnLc72x0pVOV4/Vh7bzHwFmvpB6v3HSb7XX7YzLI+HrssceWLGdT5fpdX3588X4yBOIQXJ37aNQ47lyDa2qJglq37vaNi/IN583rzjY5JwuxTVjwnK0W3HIDns4NP343mTm/Nub9T732VvSSW5UIzrvipTeZqbt27XdV6iw/wOAaPNF0jnSu13Zb7+S8Kcx5l67OnoT2eubOnVtjZwy3G1zss/3l9gQtlyPlbsbxuqkGOaeTOfmIkUinl+DqXA/Setw+YHWuh3LjuFuP2XNd3dzpvKEH10M2c92r3/xuINO5yUx9nqtvLphQuaVdbn8U2pcE2Hf1kN5kxt8qlrsG3W5qdgouT7o494dWvS7djzqb2WKu1Zbg+g14On996cTY11kNGTKEevbsWWMhuN+gqLOtk1sCO2eh7WsgL7roImu2QH0dhtk0cwnmVpJbH6q/btVsqk4+qYFB7dk8ffr0krVXOvXo5JNO3vrNMPndae6Vc14Db7Q9hNLjJuA3Buvkst/1wO/71eO25MGZgzrXQ7lxvNz4av+j1k1+8I1G3Jlppj4vwdX5rNaJsS/v4l0VnPv428/CrTydLcB0YvyuQa/JQrfrTrUZM7jBc7DW8uXLt9vlzqsot5sRnNP8fjHOQdq55rDc3enOzuafeVaYX84F2M4beNwuLmeSu91Yx3cT4waH4MnldaTbzYNufe+XT85+dfa7Tj3OGLd88stb+3mWm6ngcvicvJ4GhTW45nMtCyXq7Hagk8t+14NOPc4Yt3r9rgedcdyZ685rl/vNKbO6X0Fnoc+L1kavcVHns9ovximAbjnrJ7j2P/7UZ77bH5XOvHXG+F2DaiLHvkzBb6kPBDf41VJr+PDh272mw51f29sXcUsf51tuTQqv0eK7xm+++ebqxwU7T8lt4/ygj+p1m8Vwm2GzL2Hg9mCj5eCJ5jzS+TWONJ+8ZkSdfatTjzPGnvd+eet8pLXbQG7/OteNoH1ZhTNWZ+mMuV5BSUkQsH+16qzf3v/lclnneuC7y3XG+nI56Hc9SMZxnfFVXU9qezSMwUlkaPg6yy0t0enjcjFu3xZ45amaYXVOzqkzdOak5FG9OtegunFfx6Wck3rYB1eeh67bhMmLwREgAAIgAAIgAAIgAAIgkA4CENx09ANaAQIgAAIgAAIgAAIgYIgABNcQSBQDAiAAAiAAAiAAAiCQDgIQ3HT0A1oBAiAAAiAAAiAAAiBgiAAE1xBIFAMCIAACIAACIAACIJAOAhDcdPQDWgECIAACIAACIAACIGCIAATXEEgUAwIgAAIgAAIgAAIgkA4CENx09ANaAQIgAAIgAAIgAAIgYIgABNcQSBQDAiAAAiAAAiAAAiCQDgIQ3HT0A1oBAiAAAiAAAiAAAiBgiAAE1xBIFAMCIAACIAACIAACIJAOAhDcdPQDWgECIAACIAACIAACIGCIAATXEEgUAwIgAAIgAAIgAAIgkA4CENx09ANaAQIgAAIgAAIgAAIgYIgABNcQSBQDAiAAAiAAAiAAAiCQDgIQ3HT0A1oBAiAAAiAAAiAAAiBgiAAE1xBIFAMCIAACIAACIAACIJAOAhDcdPQDWgECIAACIAACIAACIGCIAATXEEgUAwIgAAIgAAIgAAIgkA4CENx09ANaAQIgAAIgAAIgAAIgYIgABNcQSBQDAiAAAiAAAiAAAiCQDgIQ3HT0A1oBAiAAAiAAAiAAAiBgiAAE1xBIFAMCIAACIAACIAACIJAOAhDcdPQDWgECIAACIAACIAACIGCIAATXEEgUAwIgAAIgAAIgAAIgkA4CENx09ANaAQIgAAIgAAIgAAIgYIgABNcQSBQDAiAAAiAAAiAAAiCQDgIQ3HT0A1oBAiAAAiAAAiAAAiBgiAAE1xBIFAMCIAACIAACIAACIJAOAhDchPrh448/pr/+9a/0+OOP0yuvvELvvfce7b333nT88cfTGWecQRdddBEdcsghVKtWrYRamM5qt27dSv369aOJEyfS8OHDaejQobE1dMOGDdStWzeaN28eTZ482fo3XiAAAvEQsF/75WrkcbN169Z08sknYxyNp2vEtYwYMYKGDRtGvXv3ptGjR1NFRYW4jKAHJFl30DbjuGAEILjBuAU+6r///S+NGjWKxo8fTxs3bvQsh2X36quvphtvvNESX7x2EIhacLdv306LFy+m119/nX7+85+XYIfgIgtBIDkCuoJrbyGPnTfccANdf/31sUpUcpSyUXPUkvnZZ5/RlClT6LTTTqNDDz20BErUdWejB4rRSghujP3Ms7R9+vShOXPmWLV27tzZmmFo37497bPPPpa8/f3vf7dmJ3mWkF9XXXUV3XXXXbTnnnvG2NL0VhWl4H755Zf0m9/8hm6//XYaMGBAjdlhCG568wItyz8B+7V/wgkn0ODBg13/+H/nnXescfSRRx6pnkTAOJqu/IhSMpctW0Y//elPicfzadOmUYsWLSC46er+2FoDwY0J9X/+8x/r6xheksBfofEsbpcuXWiXXXap0YIvvvjCEq2bbrrJeu+OO+6wZiC+853vxNTa9FYTpeBGWXZ6iaJlIJANAvbrs2PHjtYMXWVlpWfjP/roI2v2dtKkSVYMTxRcd911tOuuu2bjhHPcyigFd+HChdakUZs2bVwFN8dYcWoOAhDcGFLim2++sYSVB1v+yuyee+6hSy65pOz6Wv6Khdea3nfffdSyZUuaOnUqHXnkkTG0Nt1VRCmhUZadbqpoHQikn4BUcPmM7BMLPI7yrC6vz8UrWQIQ3GT5F6V2CG4MPf3uu+9aQss3k1VVVVkzCbVr1/at+dVXX6Vzzz2XPvzwQ+IBgb+SK/pNZ1FKaJRl+3Y2AkAABMoSCCK4XODTTz9NF1xwAfH9D3fffbc1cVD0cTTpVIPgJt0DxagfghtDP/NXad27d7dq4sH29NNP16p1y5YtlhDvtddedM4551gL5r/73e+WHMszvU8++SQ99thj9Mwzz1hrznjNUYcOHaybpHitmtsyCDXA8E4EQ4YMoeXLl9P9999vrQ9esWKFVUanTp2oZ8+edNhhh1V/IGzatImuuOIKmjlzJg0aNMgSb6+v/OxiP2PGDDr//PNL2r569WprZvqpp56iv/3tb9Z7P/jBD6x6L7vsMmrYsGENTuUkVPerKbfBVf3OrWMWLFhA7dq1I501uHH3h1YiIQgEckAgqODaxywWXR7n9t133xpE+Pp++OGH6dFHH9Uej+yFeF37vJyCx2L+Bs5NrPnGVh5/H3roIWv85Ztc1Y46PMHBkyNuSzHUeKeWa3Bb7O2vV68e/ehHP7LqPvXUU0smVfjzgpfINWvWzDpfr28HuW28ywEvkTvvvPPogQceoLp161afNi+ne+GFF6zlIs8//7y1GxAvwePPnZ/97Gc16lUHegkuf/Z07dqVlixZQmrcdUtd9ZlqX6piP9Z5jH23Bj+5TqI/cnB5pvIUILgRdwsvdOedEHiQOOmkk6xBjAcAE6+XX37ZEmC+ocLrxYMbr+Hdb7/9SkLURf6rX/2Kmjdvbt385rarAw+SvOMDDzpqcOZBjsXX73zUIOSM+/rrr62lFyzWXjtJcL233nor/eIXvyhZe5xmwU2qP0zkEsoAgbQTCCq4LCw8zvF/xxxzjPVHtf3Oen5/1qxZ1h/sLEluLx6PeJkZbw3odi/EokWLrLGYpdPtxcLKWxry7LH9eJZiHp/HjBljzTC7vXiyYeTIkda3eXZBtgsulz1w4EDP+q+55hq67bbbqm9W5m8FeRKBt6rk8+J2ub3Wr19PPXr0oLlz59aIe+utt6w1zbNnz/ZMHb6Rmstnkba/0iq4SfVH2q+9rLYPghtxz/HsAQ8Q/Jd5udkDaTNee+01qzz+i5kHQP4LlQdA3o2B7yLmGysefPBBa9DkQfl3v/tdyV/eaoDhhfibN2+2Zmn5TmP+y/urr76ydnHgG+F4wOff8cxA48aNrWba/1J2m5nlGB4o+vbtS3/84x+tgf3mm2+2Znr5w2Ts2LF07bXXWmXxX+CqXv6Zl3FMmDDBqp8/FHhHA5ZvNbBHJbiffvop8Yw5t/UPf/iDdYMfD9784nbstttuZWdwk+wPae4gHgSySCCo4PK52r9Fc84M8jdgl19+ufXHtn084m++li5dSvfee681/nndP8Gix2M8j10swrwDC08I8FjMd/TzeMdrf/l4Luviiy+28PPsJy8742UT/OKZ2l69ellrhPm95557zhq3eQKDy+Wx9Oyzz67uOiW4PGFSp04d2rZtW/XnAH/r989//pN++9vfVguofazmcZiFl8c7t5lZVQl/K8jvH3TQQSXrl1etWmV9K8lt4LaxQPM3dN/73vesJXU8Q8zSzkxPOeUUq+32iZ0oBJcnTvjzjvvhrLPOoiOOOMKacW7SpIn1RwX3B3+OeNWdZH9k8XrMQpshuBH3kv1rbVObWv//9s4f1oYuiuKvFC1BCJHoREOUqBSCRCKheL2EQqdUKDR6iU6hoxSJQqKRUKETEZ2QiE6hFPmdZL+sd945M3Pnzdw73qyTSHyfuefPOjN71uyz9t5KHiGfHLmdOHFi00r+/v2bvMWQRx56rkFaEE2P5G/durX24MGDLSl3VLuG1wOjHYaZgDkMd01TjHGFgBPJ/PLly3TET+OFce3atWT4a+MyX7wRjx49SgF2GhgyFsFlbm0a3JpEYdX7MfIt7O6NwCQQGIPgfv/+PZFTyGTNHmlWG+wYRV6OHj2aMCGAGM8w9hQCh1OBAhPasA/YSz7cL1y4kJwPe/fuTZIyyCP2jg95Pqjz2Azmxwc+2XfOnz+/9uTJk0QiaUFw+XvtPaDr410Amd61a1f6fcR48Hc82BQZ0sbaIMB4j/Xdla/58ePHSYqg3mUINJhygogTRp0cjDEGwY25t0nVamOvej8m8ZDtsEmY4I68oWMQ3Pfv36cveb6Umypq6Qsh/0qPhxxjWTJuwPLr16+19fX14jHWq1evUsW1WioWJBkY7Hzc+P9tKVzUS6yBIVMkuFPYj5FvY3dvBFaOwBgEN7So+SlVvtgfP36kkzB0puosgLxhI9++fdsYwAaZRAbASRleWzyiIV0jvgLJ1r59+4oYo3HF64u9Vy+sEtxa8JzKM/ITRIg15BnCXQpi1rXpuPr/IeaQ91IcBkSYgGpOw3J8p0ZwVUq4qv1Y+QO2Aydggjvypo5BcPmKJ5F1SU+WL+f58+drV65c2RJMEAaG4yOO7w4ePLgFCZ17XhZXNVy5d1iDOkiJxtc/7c+fP+koi+tzb0I+uBocPCzogDnimyLBncJ+jHwbu3sjsHIEhia46qFEj8qRfa1kLMf/IV+CqKKbRbYUJBNHAVIHbHKXps4DSCL631pDOkXMA8FgGtirBLcpeDlsfSl3cMRT5N5h5hLkP39HQLjxUmOPGZfA4FrTj3+d49QI7lT2o8u942u6I2CC2x2rXlfqV/JQGtwmg5VPksAnPK3MQ7VnXfpoIrgaXYt+7eHDhxsBDBheNFC5bqupvxK4HI3x9a+GeYoEtwuWsb6x9qPXzekfGYH/CIHtEFyqQ968eXMTKdMP7kVg0OP60Pa2nUjl/esJVdMpHL+DXJPFAImDjq0EtynjQJN9ikw3nz59SplxyLpAU6xzecEia/769WvyPkN0dZ1TI7hT2Y9F7kNf246ACW47Rtu6Qr0EbVkHug4UxoE0LAQhNJXxraVd6ULK2ghpaLgIaIhUM6rPyvW52h+eA/RZTa2UCmbKBHfV+9H1/vF1RuB/RKAvwVUbrKdeao8WwUMdFYuQPR1D7fLr16+ThrWplQjhEAQXfXHEU6h3OGIlCEDOJWyxZsgwf9+/f3916rW4hSkT3FXuxyL3oa9tR8AEtx2jbV8RMgE6WiQPLtdHFC0eUTyZRKx2Iacx6ZoR7NJHG8HV4KrQgBFUFuln8gwLbf3lQJfmOGWC26V86Jj7se0b1R0YgQkj0JfgaqorlTvp6VpbTu8aLEMQ3DYPrq57aA8u64rgquPHj29kywnpQinDwiJrrnlGp0xwV70fE34E/7upmeAuYctUr7pIJTPVsqpGKjSfXY7FglyTMuXZs2cpyIE2BMGlnzB2YQjfvHmTNL8lTZceCbZllFANLvozUs7s3r27kwaXedWO7LTffA59syhMaT+WcDt7CCOwEgT6ElzNBqPxAmoL+srHQo/apsFF48mJFXKDO3furJ06dWojgLcU4KUAqwaXdIv8IWPBEB5cxtEPAJwSeGZD85vHV3C9anA1Q07pplANLsV8zp07t+n9k9vgrlKBCFYuORX6ZFFQDe6q92MlD9cOHdQEdwkbq7lfa7kU82nwG8gjHgca+Qwhxxi2PlH7mp5mSIIbGi6qkj19+jTpuDA+uW4r1tcni4IanCYSWjOmiq1+bAxFcKe0H0u4nT2EEVgJAn0I7s+fP5NulTRbpUwJ4amEoJIKMQhYvkDsBgSVI/2LFy+mjAhkDlgkiwJ5ymkEo+Fw6JNFQb2LQxFcjafgHXP9+vWUypHcupqiMTDpk0Uhd8bUPLjaNynXOA3Mm54cDkVw+2ZRGGM/VvJw7dBBTXCXtLFqaMmXSBEFSiWWyuiSsBpyS5otEmXjESVIIrROffKuKkEekuCqvo2vfoIVIL211GOL5sEFK/S9p0+fTjvVRHA1oIHgNPJTatUgcEVKwYuF1kRwS1kehsyDO9Z+LOl29jBGYOkILEpwKUaAHaBIA410WKT60nytWrAAO0u2lkOHDm1am9oNHBQajMW/4VElE0ItFy1SCGw53lCII7accreL5l3Nc/AORXBZbOQtp+IlUgXmWjtt7JMHlyA5slREnt8awdXCSJBbJHoUaIgGGWc/CRgE1yaCW8vyMFQe3DH3Y+kP1w4d0AR3iRtLcQMCkai0QuPhxOCeOXMmPcS/f/9O3lmMC5W8aBhNKmtR8EAb1/FbjnTaKpkhH8CoarneoSQKzEkNNf/ddNyHgeIlwosnDFStkhl9kUeRl0PkWWwiuBowgXGDwJJODe8M1d0YFznBpUuXUmW5kkwicAF3SkyCbZdKZlPajyXe0h7KCCwNAX32eT7JJ8uzqQ3yhU0kWwnPeJQCx97wJw/IzQkTzzuVyLDNkLEvX76k6mPYDRrVGbFJmk5M7bra4ryaWF4IAnt17969lHKM1lTJLK+CxvVDElx1mgSeeL3JCVtqeFrJnkNe4LZKZuwVHxdarrdGMtWbzLiQXHL1Hjt2LOUBxqvLuwyJB7mJqVKGM2jPnj0b01SZAx8fFPCguEWXSmZT2Y+lPVQ7fCAT3CVv8Ldv39bu3r27YTCbhufhvn///trhw4eLl2HE+cqmlGOtcayGAVVyy7VDElzVCtN3Sbel88PrQWJzcIgXUD5/jCZrv3HjxiYvbJtOFuNGxbZSTXheEoyJNxidWYngYtSRhWhd+DD0NQ9uzH0q+7HkW9rDGYGlIKDPftcBsSM883j8ajlu8xOzWt98iGM36TNvHz58SLa4ZHe4FnLLBzPOBvUgQyyxz8QYqM3R/iHNpExE4qC/HZLgMl7kveXvpRiKfM2UKMb58OLFi+p2XL58Oa1bya2+f0o2mNPO27dvJ3lEqfFv2GjeDQcOHNhCcHkf0a/+Xp0uNXLNWFPaj673uK+rI2CCu4K7gzK6kXcQIwVBDaJH0myMC2VxOSoqSRh0yjyQEDCObaimQz8YRDwQ5B/k67nUx5AEl/mEtratIpDOHd0unhE8LZBDGgnE0bgx9yNHjmzZnTaCyw/whPNVjyaYwAalo+S+AAABd0lEQVReSBBavuTp/927d8lrXjKuvOyQRCAhCE87BhrNXRvBDQM5hf1YwW3tIY3AqAh0JbjYv5MnT6Zqj9jSWoWwfLJ4CClvTuAUKRAhnPR19uzZpL+t2dLop2SLmcfVq1eTJ7Jkz/gtXsvPnz8nxwDlbT9+/Jg80xyBQ4iRsqmHMsYbmuB21RMrbnihmTOnjNhL+oDMUxyCE0Y0zXn54TaCy7+z1xBnygDHRwN4IIODNCMt4R1ZIrj8HkcS7ziC5ngnaorOJoI7pf0Y9WGaSecmuDPZaC/TCBgBI2AEjIARMAJzQcAEdy477XUaASNgBIyAETACRmAmCJjgzmSjvUwjYASMgBEwAkbACMwFARPcuey012kEjIARMAJGwAgYgZkgYII7k432Mo2AETACRsAIGAEjMBcETHDnstNepxEwAkbACBgBI2AEZoKACe5MNtrLNAJGwAgYASNgBIzAXBAwwZ3LTnudRsAIGAEjYASMgBGYCQL/AJgRDQ+on4HSAAAAAElFTkSuQmCC)"
   ]
  },
  {
   "cell_type": "code",
   "execution_count": null,
   "metadata": {
    "id": "RAxKXgv_8c3b"
   },
   "outputs": [],
   "source": [
    "from tensorflow import keras\n",
    "from keras import layers\n",
    "\n",
    "def get_model(img_size, num_classes):\n",
    "    inputs = keras.Input(shape=img_size + (3,))\n",
    "    x = # Fill out\n",
    "\n",
    "    outputs = # Fill out\n",
    "\n",
    "    model = keras.Model(inputs, outputs)\n",
    "    return model\n",
    "\n",
    "model = get_model(img_size=img_size, num_classes=3)\n",
    "model.summary()"
   ]
  },
  {
   "cell_type": "code",
   "execution_count": null,
   "metadata": {
    "id": "lXBrzFKj8jY3"
   },
   "outputs": [],
   "source": [
    "model.compile(optimizer=\"rmsprop\", loss=\"sparse_categorical_crossentropy\")\n",
    "\n",
    "callbacks = [keras.callbacks.ModelCheckpoint(\"oxford_segmentation.keras\",\n",
    "                                             save_best_only=True)]\n",
    "\n",
    "history = model.fit(train_dataset,\n",
    "                    epochs=15,\n",
    "                    callbacks=callbacks,\n",
    "                    validation_data=val_dataset)"
   ]
  },
  {
   "cell_type": "markdown",
   "metadata": {
    "id": "eqcM1c07Gj-T"
   },
   "source": [
    "Let’s display our training and validation loss:"
   ]
  },
  {
   "cell_type": "code",
   "execution_count": null,
   "metadata": {
    "id": "M_c_j7Qs8l1b"
   },
   "outputs": [],
   "source": [
    "epochs = range(1, len(history.history[\"loss\"]) + 1)\n",
    "loss = history.history[\"loss\"]\n",
    "val_loss = history.history[\"val_loss\"]\n",
    "plt.figure()\n",
    "plt.plot(epochs, loss, \"bo\", label=\"Training loss\")\n",
    "plt.plot(epochs, val_loss, \"b\", label=\"Validation loss\")\n",
    "plt.title(\"Training and validation loss\")\n",
    "plt.legend()"
   ]
  },
  {
   "cell_type": "code",
   "execution_count": null,
   "metadata": {
    "id": "h00qxyi98ted"
   },
   "outputs": [],
   "source": [
    "from keras.utils import array_to_img\n",
    "\n",
    "# Uncomment this line to load a previously trained model's weights\n",
    "# model = keras.models.load_model(\"oxford_segmentation.keras\")\n",
    "\n",
    "i = 400\n",
    "test_image = val_imgs[i]\n",
    "plt.axis(\"off\")\n",
    "plt.imshow(array_to_img(test_image))"
   ]
  },
  {
   "cell_type": "code",
   "execution_count": null,
   "metadata": {
    "id": "FfjrOrqpHD0F"
   },
   "outputs": [],
   "source": [
    "mask = model.predict(np.expand_dims(test_image, 0))[0]\n",
    "\n",
    "def display_mask(pred):\n",
    "    mask = np.argmax(pred, axis=-1)\n",
    "    mask *= 127\n",
    "    plt.axis(\"off\")\n",
    "    plt.imshow(mask)\n",
    "\n",
    "display_mask(mask)"
   ]
  },
  {
   "cell_type": "markdown",
   "metadata": {
    "id": "I2rGoDUCYTZT"
   },
   "source": [
    "In all likehood, most of our masks will exhibit some small (in cases bigger) artifacts caused by geometric shapes in the foreground and background. Nevertheless, our model appears to work nicely.\n",
    "\n",
    "For a demonstration on Image Detection, check out this [Object Detection with RetinaNet](https://keras.io/examples/vision/retinanet/) tutorial."
   ]
  },
  {
   "cell_type": "markdown",
   "metadata": {
    "id": "qbecFxDVVvqV"
   },
   "source": [
    "*Parts of this tutorial have been adapted from [Deep Learning with Python, 2nd Edition](https://learning.oreilly.com/library/view/deep-learning-with/9781617296864/) By Francois Chollet*"
   ]
  }
 ],
 "metadata": {
  "accelerator": "GPU",
  "colab": {
   "authorship_tag": "ABX9TyP/4+hyXkTEMIYkHC9gw+Wp",
   "provenance": []
  },
  "kernelspec": {
   "display_name": "Ambiente-Conda",
   "language": "python",
   "name": "python3"
  },
  "language_info": {
   "name": "python",
   "version": "3.12.3"
  }
 },
 "nbformat": 4,
 "nbformat_minor": 0
}
