{
 "cells": [
  {
   "cell_type": "markdown",
   "metadata": {
    "id": "SJfdEhHiYDci"
   },
   "source": [
    "# Fully Connected Neural Networks using Keras #\n",
    "\n",
    "For this example we'll build a 'simple' multilayer neural network classifier for the [Water Quality and Potability dataset](https://www.kaggle.com/datasets/uom190346a/water-quality-and-potability). This dataset contains water quality measurements and assessments related to potability, which is the suitability of water for human consumption. The dataset's primary objective is to provide insights into water quality parameters and assist in determining whether the water is potable or not. Each row in the dataset represents a water sample with specific attributes, and the \"Potability\" column indicates whether the water is suitable for consumption.\n",
    "\n",
    "As usual, the first step will be importing the relevant modules:\n",
    "-  [Tensorflow](https://www.tensorflow.org/): End-to-end open source platform for machine learning. It has a comprehensive, flexible ecosystem of tools, libraries and community resources that can be used for a range of tasks, with a particular focus on Deep Learning. Released by Google as an open source project in 2015 (v1) and updated to TensorFlow 2.0 in 2019. It is designed to support a wide range of machine learning and deep learning tasks, from building and training neural networks to deploying them in production. Some of its key features are:\n",
    "  1. **Computation Graph**: TensorFlow operates by creating a computation graph, where nodes represent mathematical operations, and edges represent the data (tensors) that flow between nodes. This graph-based approach allows for efficient parallelism and distributed computing, as well as computing the gradient of arbitrary differentiable expressions.\n",
    "  2. **Support for Multiple Platforms**: TensorFlow can run on a wide range of hardware, including CPUs, GPUs, and TPUs (Tensor Processing Units). This makes it versatile for various deployment scenarios, from edge devices to cloud environments.\n",
    "  3. **Ecosystem and Libraries**: TensorFlow has a rich ecosystem of libraries and tools, such as TensorFlow Lite for mobile and embedded devices, TensorFlow Serving for deploying models, and TensorFlow.js for running models in web browsers. Additionally, [TensorFlow Hub](https://tfhub.dev/) offers pre-trained models that can be fine-tuned for specific tasks.\n",
    "  4. **TensorBoard**: TensorFlow includes a tool called TensorBoard for visualization, debugging, and monitoring of machine learning models. It helps you understand the model's performance during training.\n",
    "  5. **Integration**: TensorFlow can be integrated with other popular libraries and frameworks, such as scikit-learn, OpenCV, and more, to build comprehensive machine learning pipelines.\n",
    "  6. **Open Source**: TensorFlow is open-source, which means it's freely available for academic and commercial use.\n",
    "-  [Keras](https://keras.io/): High-level Deep Learning API developed by François Chollet and released as an open source project in 2015. Relies on a backend to perform the heavy computations required by a NN. Some of its key features are:\n",
    "  1. **High-Level API**: Keras is known for its user-friendly, high-level API that allows developers to define and train deep learning models with a minimal amount of code. It is designed to be easy to use and provides an abstracted interface that simplifies the complexities of building and training neural networks.\n",
    "  2. **Modularity**: Keras follows a modular design philosophy, where building blocks like layers, optimizers, and loss functions are separate, customizable components. This modularity makes it easy to create and experiment with various model architectures.\n",
    "  3. **Compatibility**: Keras is highly compatible with multiple backends, including TensorFlow, Theano, and Microsoft Cognitive Toolkit (CNTK). As of TensorFlow 2.0, Keras has become the official high-level API for TensorFlow, making it the default choice for many TensorFlow users.\n",
    "  4. **Versatility**: Keras supports a wide range of neural network architectures, from simple feedforward networks to complex convolutional neural networks (CNNs), recurrent neural networks (RNNs), and more. It also provides support for transfer learning and pre-trained models.\n",
    "  5. **Integration**: Keras can be seamlessly integrated with other machine learning and deep learning libraries, such as scikit-learn and TensorFlow, providing users with a powerful and flexible toolset for their projects.\n",
    "  6. **Open Source**: Keras is open-source and available under the permissive MIT license, allowing for free use, modification, and redistribution.\n"
   ]
  },
  {
   "cell_type": "code",
   "execution_count": 7,
   "metadata": {
    "executionInfo": {
     "elapsed": 6147,
     "status": "ok",
     "timestamp": 1727216097977,
     "user": {
      "displayName": "Julio Guillermo Arriaga Blumenkron",
      "userId": "18360755152457408573"
     },
     "user_tz": 360
    },
    "id": "dkW_2KpfV47j"
   },
   "outputs": [],
   "source": [
    "import tensorflow as tf\n",
    "from tensorflow import keras\n",
    "import matplotlib.pyplot as plt\n",
    "import pandas as pd\n",
    "import numpy as np\n"
   ]
  },
  {
   "cell_type": "markdown",
   "metadata": {
    "id": "P2_ArrfYE96C"
   },
   "source": [
    "We'll add some code to reset the keras backend and set both tensorflow and numpy's random seeds at 42 to ensure reproducibility."
   ]
  },
  {
   "cell_type": "code",
   "execution_count": 8,
   "metadata": {
    "executionInfo": {
     "elapsed": 552,
     "status": "ok",
     "timestamp": 1727216129241,
     "user": {
      "displayName": "Julio Guillermo Arriaga Blumenkron",
      "userId": "18360755152457408573"
     },
     "user_tz": 360
    },
    "id": "W9dpPwHfE9PV"
   },
   "outputs": [],
   "source": [
    "keras.backend.clear_session()\n",
    "tf.random.set_seed(42)\n",
    "np.random.seed(42)"
   ]
  },
  {
   "cell_type": "markdown",
   "metadata": {
    "id": "63Q-f3rocVEr"
   },
   "source": [
    "Next we'll load the dataset using Pandas."
   ]
  },
  {
   "cell_type": "code",
   "execution_count": 9,
   "metadata": {
    "id": "i3LbUERBvEQM"
   },
   "outputs": [],
   "source": [
    "water = pd.read_csv('water_potability.csv')"
   ]
  },
  {
   "cell_type": "markdown",
   "metadata": {
    "id": "udNK2A2ocrhn"
   },
   "source": [
    "We can now check the properities of our loaded dataset by reviewing its shape and contents. Each sample in the dataset consists of 9 numeric features.\n",
    "\n",
    "The class label will simply correspond to the potability of the sample (0 or 1)."
   ]
  },
  {
   "cell_type": "code",
   "execution_count": 10,
   "metadata": {
    "colab": {
     "base_uri": "https://localhost:8080/",
     "height": 206
    },
    "executionInfo": {
     "elapsed": 300,
     "status": "ok",
     "timestamp": 1726874967328,
     "user": {
      "displayName": "Julio Guillermo Arriaga Blumenkron",
      "userId": "18360755152457408573"
     },
     "user_tz": 360
    },
    "id": "4JvecXgjvEQN",
    "outputId": "cc2c1aef-729d-4f62-99e6-576246183185"
   },
   "outputs": [
    {
     "data": {
      "text/html": [
       "<div>\n",
       "<style scoped>\n",
       "    .dataframe tbody tr th:only-of-type {\n",
       "        vertical-align: middle;\n",
       "    }\n",
       "\n",
       "    .dataframe tbody tr th {\n",
       "        vertical-align: top;\n",
       "    }\n",
       "\n",
       "    .dataframe thead th {\n",
       "        text-align: right;\n",
       "    }\n",
       "</style>\n",
       "<table border=\"1\" class=\"dataframe\">\n",
       "  <thead>\n",
       "    <tr style=\"text-align: right;\">\n",
       "      <th></th>\n",
       "      <th>ph</th>\n",
       "      <th>Hardness</th>\n",
       "      <th>Solids</th>\n",
       "      <th>Chloramines</th>\n",
       "      <th>Sulfate</th>\n",
       "      <th>Conductivity</th>\n",
       "      <th>Organic_carbon</th>\n",
       "      <th>Trihalomethanes</th>\n",
       "      <th>Turbidity</th>\n",
       "      <th>Potability</th>\n",
       "    </tr>\n",
       "  </thead>\n",
       "  <tbody>\n",
       "    <tr>\n",
       "      <th>0</th>\n",
       "      <td>NaN</td>\n",
       "      <td>204.890455</td>\n",
       "      <td>20791.318981</td>\n",
       "      <td>7.300212</td>\n",
       "      <td>368.516441</td>\n",
       "      <td>564.308654</td>\n",
       "      <td>10.379783</td>\n",
       "      <td>86.990970</td>\n",
       "      <td>2.963135</td>\n",
       "      <td>0</td>\n",
       "    </tr>\n",
       "    <tr>\n",
       "      <th>1</th>\n",
       "      <td>3.716080</td>\n",
       "      <td>129.422921</td>\n",
       "      <td>18630.057858</td>\n",
       "      <td>6.635246</td>\n",
       "      <td>NaN</td>\n",
       "      <td>592.885359</td>\n",
       "      <td>15.180013</td>\n",
       "      <td>56.329076</td>\n",
       "      <td>4.500656</td>\n",
       "      <td>0</td>\n",
       "    </tr>\n",
       "    <tr>\n",
       "      <th>2</th>\n",
       "      <td>8.099124</td>\n",
       "      <td>224.236259</td>\n",
       "      <td>19909.541732</td>\n",
       "      <td>9.275884</td>\n",
       "      <td>NaN</td>\n",
       "      <td>418.606213</td>\n",
       "      <td>16.868637</td>\n",
       "      <td>66.420093</td>\n",
       "      <td>3.055934</td>\n",
       "      <td>0</td>\n",
       "    </tr>\n",
       "    <tr>\n",
       "      <th>3</th>\n",
       "      <td>8.316766</td>\n",
       "      <td>214.373394</td>\n",
       "      <td>22018.417441</td>\n",
       "      <td>8.059332</td>\n",
       "      <td>356.886136</td>\n",
       "      <td>363.266516</td>\n",
       "      <td>18.436524</td>\n",
       "      <td>100.341674</td>\n",
       "      <td>4.628771</td>\n",
       "      <td>0</td>\n",
       "    </tr>\n",
       "    <tr>\n",
       "      <th>4</th>\n",
       "      <td>9.092223</td>\n",
       "      <td>181.101509</td>\n",
       "      <td>17978.986339</td>\n",
       "      <td>6.546600</td>\n",
       "      <td>310.135738</td>\n",
       "      <td>398.410813</td>\n",
       "      <td>11.558279</td>\n",
       "      <td>31.997993</td>\n",
       "      <td>4.075075</td>\n",
       "      <td>0</td>\n",
       "    </tr>\n",
       "  </tbody>\n",
       "</table>\n",
       "</div>"
      ],
      "text/plain": [
       "         ph    Hardness        Solids  Chloramines     Sulfate  Conductivity  \\\n",
       "0       NaN  204.890455  20791.318981     7.300212  368.516441    564.308654   \n",
       "1  3.716080  129.422921  18630.057858     6.635246         NaN    592.885359   \n",
       "2  8.099124  224.236259  19909.541732     9.275884         NaN    418.606213   \n",
       "3  8.316766  214.373394  22018.417441     8.059332  356.886136    363.266516   \n",
       "4  9.092223  181.101509  17978.986339     6.546600  310.135738    398.410813   \n",
       "\n",
       "   Organic_carbon  Trihalomethanes  Turbidity  Potability  \n",
       "0       10.379783        86.990970   2.963135           0  \n",
       "1       15.180013        56.329076   4.500656           0  \n",
       "2       16.868637        66.420093   3.055934           0  \n",
       "3       18.436524       100.341674   4.628771           0  \n",
       "4       11.558279        31.997993   4.075075           0  "
      ]
     },
     "execution_count": 10,
     "metadata": {},
     "output_type": "execute_result"
    }
   ],
   "source": [
    "water.head()"
   ]
  },
  {
   "cell_type": "code",
   "execution_count": 11,
   "metadata": {
    "colab": {
     "base_uri": "https://localhost:8080/",
     "height": 300
    },
    "executionInfo": {
     "elapsed": 487,
     "status": "ok",
     "timestamp": 1726874992432,
     "user": {
      "displayName": "Julio Guillermo Arriaga Blumenkron",
      "userId": "18360755152457408573"
     },
     "user_tz": 360
    },
    "id": "W5uu0h0WjkAR",
    "outputId": "1bc1d00b-ec2e-4b86-d6c3-52007df578f9"
   },
   "outputs": [
    {
     "data": {
      "text/html": [
       "<div>\n",
       "<style scoped>\n",
       "    .dataframe tbody tr th:only-of-type {\n",
       "        vertical-align: middle;\n",
       "    }\n",
       "\n",
       "    .dataframe tbody tr th {\n",
       "        vertical-align: top;\n",
       "    }\n",
       "\n",
       "    .dataframe thead th {\n",
       "        text-align: right;\n",
       "    }\n",
       "</style>\n",
       "<table border=\"1\" class=\"dataframe\">\n",
       "  <thead>\n",
       "    <tr style=\"text-align: right;\">\n",
       "      <th></th>\n",
       "      <th>ph</th>\n",
       "      <th>Hardness</th>\n",
       "      <th>Solids</th>\n",
       "      <th>Chloramines</th>\n",
       "      <th>Sulfate</th>\n",
       "      <th>Conductivity</th>\n",
       "      <th>Organic_carbon</th>\n",
       "      <th>Trihalomethanes</th>\n",
       "      <th>Turbidity</th>\n",
       "      <th>Potability</th>\n",
       "    </tr>\n",
       "  </thead>\n",
       "  <tbody>\n",
       "    <tr>\n",
       "      <th>count</th>\n",
       "      <td>2785.000000</td>\n",
       "      <td>3276.000000</td>\n",
       "      <td>3276.000000</td>\n",
       "      <td>3276.000000</td>\n",
       "      <td>2495.000000</td>\n",
       "      <td>3276.000000</td>\n",
       "      <td>3276.000000</td>\n",
       "      <td>3114.000000</td>\n",
       "      <td>3276.000000</td>\n",
       "      <td>3276.000000</td>\n",
       "    </tr>\n",
       "    <tr>\n",
       "      <th>mean</th>\n",
       "      <td>7.080795</td>\n",
       "      <td>196.369496</td>\n",
       "      <td>22014.092526</td>\n",
       "      <td>7.122277</td>\n",
       "      <td>333.775777</td>\n",
       "      <td>426.205111</td>\n",
       "      <td>14.284970</td>\n",
       "      <td>66.396293</td>\n",
       "      <td>3.966786</td>\n",
       "      <td>0.390110</td>\n",
       "    </tr>\n",
       "    <tr>\n",
       "      <th>std</th>\n",
       "      <td>1.594320</td>\n",
       "      <td>32.879761</td>\n",
       "      <td>8768.570828</td>\n",
       "      <td>1.583085</td>\n",
       "      <td>41.416840</td>\n",
       "      <td>80.824064</td>\n",
       "      <td>3.308162</td>\n",
       "      <td>16.175008</td>\n",
       "      <td>0.780382</td>\n",
       "      <td>0.487849</td>\n",
       "    </tr>\n",
       "    <tr>\n",
       "      <th>min</th>\n",
       "      <td>0.000000</td>\n",
       "      <td>47.432000</td>\n",
       "      <td>320.942611</td>\n",
       "      <td>0.352000</td>\n",
       "      <td>129.000000</td>\n",
       "      <td>181.483754</td>\n",
       "      <td>2.200000</td>\n",
       "      <td>0.738000</td>\n",
       "      <td>1.450000</td>\n",
       "      <td>0.000000</td>\n",
       "    </tr>\n",
       "    <tr>\n",
       "      <th>25%</th>\n",
       "      <td>6.093092</td>\n",
       "      <td>176.850538</td>\n",
       "      <td>15666.690297</td>\n",
       "      <td>6.127421</td>\n",
       "      <td>307.699498</td>\n",
       "      <td>365.734414</td>\n",
       "      <td>12.065801</td>\n",
       "      <td>55.844536</td>\n",
       "      <td>3.439711</td>\n",
       "      <td>0.000000</td>\n",
       "    </tr>\n",
       "    <tr>\n",
       "      <th>50%</th>\n",
       "      <td>7.036752</td>\n",
       "      <td>196.967627</td>\n",
       "      <td>20927.833607</td>\n",
       "      <td>7.130299</td>\n",
       "      <td>333.073546</td>\n",
       "      <td>421.884968</td>\n",
       "      <td>14.218338</td>\n",
       "      <td>66.622485</td>\n",
       "      <td>3.955028</td>\n",
       "      <td>0.000000</td>\n",
       "    </tr>\n",
       "    <tr>\n",
       "      <th>75%</th>\n",
       "      <td>8.062066</td>\n",
       "      <td>216.667456</td>\n",
       "      <td>27332.762127</td>\n",
       "      <td>8.114887</td>\n",
       "      <td>359.950170</td>\n",
       "      <td>481.792304</td>\n",
       "      <td>16.557652</td>\n",
       "      <td>77.337473</td>\n",
       "      <td>4.500320</td>\n",
       "      <td>1.000000</td>\n",
       "    </tr>\n",
       "    <tr>\n",
       "      <th>max</th>\n",
       "      <td>14.000000</td>\n",
       "      <td>323.124000</td>\n",
       "      <td>61227.196008</td>\n",
       "      <td>13.127000</td>\n",
       "      <td>481.030642</td>\n",
       "      <td>753.342620</td>\n",
       "      <td>28.300000</td>\n",
       "      <td>124.000000</td>\n",
       "      <td>6.739000</td>\n",
       "      <td>1.000000</td>\n",
       "    </tr>\n",
       "  </tbody>\n",
       "</table>\n",
       "</div>"
      ],
      "text/plain": [
       "                ph     Hardness        Solids  Chloramines      Sulfate  \\\n",
       "count  2785.000000  3276.000000   3276.000000  3276.000000  2495.000000   \n",
       "mean      7.080795   196.369496  22014.092526     7.122277   333.775777   \n",
       "std       1.594320    32.879761   8768.570828     1.583085    41.416840   \n",
       "min       0.000000    47.432000    320.942611     0.352000   129.000000   \n",
       "25%       6.093092   176.850538  15666.690297     6.127421   307.699498   \n",
       "50%       7.036752   196.967627  20927.833607     7.130299   333.073546   \n",
       "75%       8.062066   216.667456  27332.762127     8.114887   359.950170   \n",
       "max      14.000000   323.124000  61227.196008    13.127000   481.030642   \n",
       "\n",
       "       Conductivity  Organic_carbon  Trihalomethanes    Turbidity   Potability  \n",
       "count   3276.000000     3276.000000      3114.000000  3276.000000  3276.000000  \n",
       "mean     426.205111       14.284970        66.396293     3.966786     0.390110  \n",
       "std       80.824064        3.308162        16.175008     0.780382     0.487849  \n",
       "min      181.483754        2.200000         0.738000     1.450000     0.000000  \n",
       "25%      365.734414       12.065801        55.844536     3.439711     0.000000  \n",
       "50%      421.884968       14.218338        66.622485     3.955028     0.000000  \n",
       "75%      481.792304       16.557652        77.337473     4.500320     1.000000  \n",
       "max      753.342620       28.300000       124.000000     6.739000     1.000000  "
      ]
     },
     "execution_count": 11,
     "metadata": {},
     "output_type": "execute_result"
    }
   ],
   "source": [
    "water.describe()"
   ]
  },
  {
   "cell_type": "markdown",
   "metadata": {
    "id": "NXYxveuU4v3L"
   },
   "source": [
    "Next, we divide the dataset into features and target."
   ]
  },
  {
   "cell_type": "code",
   "execution_count": 12,
   "metadata": {
    "id": "tgVWGRcXvEQN"
   },
   "outputs": [],
   "source": [
    "X_water = water.drop(['Potability'], axis=1)\n",
    "y_water = water['Potability']"
   ]
  },
  {
   "cell_type": "code",
   "execution_count": 13,
   "metadata": {
    "colab": {
     "base_uri": "https://localhost:8080/",
     "height": 206
    },
    "executionInfo": {
     "elapsed": 573,
     "status": "ok",
     "timestamp": 1726875038682,
     "user": {
      "displayName": "Julio Guillermo Arriaga Blumenkron",
      "userId": "18360755152457408573"
     },
     "user_tz": 360
    },
    "id": "rYHA5IHJvEQN",
    "outputId": "0d5c29b6-8c80-4e58-aa99-3bf70908efb4"
   },
   "outputs": [
    {
     "data": {
      "text/html": [
       "<div>\n",
       "<style scoped>\n",
       "    .dataframe tbody tr th:only-of-type {\n",
       "        vertical-align: middle;\n",
       "    }\n",
       "\n",
       "    .dataframe tbody tr th {\n",
       "        vertical-align: top;\n",
       "    }\n",
       "\n",
       "    .dataframe thead th {\n",
       "        text-align: right;\n",
       "    }\n",
       "</style>\n",
       "<table border=\"1\" class=\"dataframe\">\n",
       "  <thead>\n",
       "    <tr style=\"text-align: right;\">\n",
       "      <th></th>\n",
       "      <th>ph</th>\n",
       "      <th>Hardness</th>\n",
       "      <th>Solids</th>\n",
       "      <th>Chloramines</th>\n",
       "      <th>Sulfate</th>\n",
       "      <th>Conductivity</th>\n",
       "      <th>Organic_carbon</th>\n",
       "      <th>Trihalomethanes</th>\n",
       "      <th>Turbidity</th>\n",
       "    </tr>\n",
       "  </thead>\n",
       "  <tbody>\n",
       "    <tr>\n",
       "      <th>0</th>\n",
       "      <td>NaN</td>\n",
       "      <td>204.890455</td>\n",
       "      <td>20791.318981</td>\n",
       "      <td>7.300212</td>\n",
       "      <td>368.516441</td>\n",
       "      <td>564.308654</td>\n",
       "      <td>10.379783</td>\n",
       "      <td>86.990970</td>\n",
       "      <td>2.963135</td>\n",
       "    </tr>\n",
       "    <tr>\n",
       "      <th>1</th>\n",
       "      <td>3.716080</td>\n",
       "      <td>129.422921</td>\n",
       "      <td>18630.057858</td>\n",
       "      <td>6.635246</td>\n",
       "      <td>NaN</td>\n",
       "      <td>592.885359</td>\n",
       "      <td>15.180013</td>\n",
       "      <td>56.329076</td>\n",
       "      <td>4.500656</td>\n",
       "    </tr>\n",
       "    <tr>\n",
       "      <th>2</th>\n",
       "      <td>8.099124</td>\n",
       "      <td>224.236259</td>\n",
       "      <td>19909.541732</td>\n",
       "      <td>9.275884</td>\n",
       "      <td>NaN</td>\n",
       "      <td>418.606213</td>\n",
       "      <td>16.868637</td>\n",
       "      <td>66.420093</td>\n",
       "      <td>3.055934</td>\n",
       "    </tr>\n",
       "    <tr>\n",
       "      <th>3</th>\n",
       "      <td>8.316766</td>\n",
       "      <td>214.373394</td>\n",
       "      <td>22018.417441</td>\n",
       "      <td>8.059332</td>\n",
       "      <td>356.886136</td>\n",
       "      <td>363.266516</td>\n",
       "      <td>18.436524</td>\n",
       "      <td>100.341674</td>\n",
       "      <td>4.628771</td>\n",
       "    </tr>\n",
       "    <tr>\n",
       "      <th>4</th>\n",
       "      <td>9.092223</td>\n",
       "      <td>181.101509</td>\n",
       "      <td>17978.986339</td>\n",
       "      <td>6.546600</td>\n",
       "      <td>310.135738</td>\n",
       "      <td>398.410813</td>\n",
       "      <td>11.558279</td>\n",
       "      <td>31.997993</td>\n",
       "      <td>4.075075</td>\n",
       "    </tr>\n",
       "  </tbody>\n",
       "</table>\n",
       "</div>"
      ],
      "text/plain": [
       "         ph    Hardness        Solids  Chloramines     Sulfate  Conductivity  \\\n",
       "0       NaN  204.890455  20791.318981     7.300212  368.516441    564.308654   \n",
       "1  3.716080  129.422921  18630.057858     6.635246         NaN    592.885359   \n",
       "2  8.099124  224.236259  19909.541732     9.275884         NaN    418.606213   \n",
       "3  8.316766  214.373394  22018.417441     8.059332  356.886136    363.266516   \n",
       "4  9.092223  181.101509  17978.986339     6.546600  310.135738    398.410813   \n",
       "\n",
       "   Organic_carbon  Trihalomethanes  Turbidity  \n",
       "0       10.379783        86.990970   2.963135  \n",
       "1       15.180013        56.329076   4.500656  \n",
       "2       16.868637        66.420093   3.055934  \n",
       "3       18.436524       100.341674   4.628771  \n",
       "4       11.558279        31.997993   4.075075  "
      ]
     },
     "execution_count": 13,
     "metadata": {},
     "output_type": "execute_result"
    }
   ],
   "source": [
    "X_water.head()"
   ]
  },
  {
   "cell_type": "code",
   "execution_count": 14,
   "metadata": {
    "colab": {
     "base_uri": "https://localhost:8080/",
     "height": 458
    },
    "executionInfo": {
     "elapsed": 590,
     "status": "ok",
     "timestamp": 1726875042662,
     "user": {
      "displayName": "Julio Guillermo Arriaga Blumenkron",
      "userId": "18360755152457408573"
     },
     "user_tz": 360
    },
    "id": "ATltQdLgvEQO",
    "outputId": "a933f549-be4e-4a22-98de-591c1dfbfaa5"
   },
   "outputs": [
    {
     "data": {
      "text/plain": [
       "0       0\n",
       "1       0\n",
       "2       0\n",
       "3       0\n",
       "4       0\n",
       "       ..\n",
       "3271    1\n",
       "3272    1\n",
       "3273    1\n",
       "3274    1\n",
       "3275    1\n",
       "Name: Potability, Length: 3276, dtype: int64"
      ]
     },
     "execution_count": 14,
     "metadata": {},
     "output_type": "execute_result"
    }
   ],
   "source": [
    "y_water"
   ]
  },
  {
   "cell_type": "markdown",
   "metadata": {
    "id": "XxH78cPHC7mc"
   },
   "source": [
    "Like most ML algorithms, NN are typically not capable of dealing with missing data, so we need to make sure our dataset has no missing values."
   ]
  },
  {
   "cell_type": "code",
   "execution_count": 15,
   "metadata": {
    "colab": {
     "base_uri": "https://localhost:8080/",
     "height": 366
    },
    "executionInfo": {
     "elapsed": 583,
     "status": "ok",
     "timestamp": 1726875054076,
     "user": {
      "displayName": "Julio Guillermo Arriaga Blumenkron",
      "userId": "18360755152457408573"
     },
     "user_tz": 360
    },
    "id": "O4hAy7kZjcFb",
    "outputId": "f1e57e4b-2ded-41a5-fff8-36afd0b0716d"
   },
   "outputs": [
    {
     "data": {
      "text/plain": [
       "ph                 491\n",
       "Hardness             0\n",
       "Solids               0\n",
       "Chloramines          0\n",
       "Sulfate            781\n",
       "Conductivity         0\n",
       "Organic_carbon       0\n",
       "Trihalomethanes    162\n",
       "Turbidity            0\n",
       "dtype: int64"
      ]
     },
     "execution_count": 15,
     "metadata": {},
     "output_type": "execute_result"
    }
   ],
   "source": [
    "X_water.isna().sum()"
   ]
  },
  {
   "cell_type": "markdown",
   "metadata": {
    "id": "86mffhfT44Bw"
   },
   "source": [
    "Some of our features have a significant amount of missing values. For this example, we'll use a `KNNImputer` to fill in those values. We will also use a `StandardScaler` to scale the data."
   ]
  },
  {
   "cell_type": "code",
   "execution_count": 16,
   "metadata": {
    "executionInfo": {
     "elapsed": 335,
     "status": "ok",
     "timestamp": 1727216435549,
     "user": {
      "displayName": "Julio Guillermo Arriaga Blumenkron",
      "userId": "18360755152457408573"
     },
     "user_tz": 360
    },
    "id": "SOFEIcSSvEQN"
   },
   "outputs": [],
   "source": [
    "from sklearn.preprocessing import StandardScaler, RobustScaler\n",
    "from sklearn.impute import SimpleImputer, KNNImputer\n",
    "from sklearn.compose import ColumnTransformer\n",
    "\n",
    "numeric_transformer = StandardScaler()\n",
    "X_water = numeric_transformer.fit_transform(X_water)\n",
    "\n",
    "imputer = KNNImputer(missing_values=np.nan, n_neighbors=20)\n",
    "X_water = imputer.fit_transform(X_water)"
   ]
  },
  {
   "cell_type": "markdown",
   "metadata": {
    "id": "z7NJk3Zl5LdC"
   },
   "source": [
    "Next we split the dataset into training and testing sets using `sklearn`."
   ]
  },
  {
   "cell_type": "code",
   "execution_count": 17,
   "metadata": {
    "executionInfo": {
     "elapsed": 305,
     "status": "ok",
     "timestamp": 1727216397383,
     "user": {
      "displayName": "Julio Guillermo Arriaga Blumenkron",
      "userId": "18360755152457408573"
     },
     "user_tz": 360
    },
    "id": "i7lF45VFvEQO"
   },
   "outputs": [],
   "source": [
    "from sklearn.model_selection import train_test_split\n",
    "\n",
    "X_water_train, X_water_test, y_water_train, y_water_test = train_test_split(X_water, y_water)"
   ]
  },
  {
   "cell_type": "code",
   "execution_count": 18,
   "metadata": {
    "colab": {
     "base_uri": "https://localhost:8080/"
    },
    "executionInfo": {
     "elapsed": 2,
     "status": "ok",
     "timestamp": 1726875231998,
     "user": {
      "displayName": "Julio Guillermo Arriaga Blumenkron",
      "userId": "18360755152457408573"
     },
     "user_tz": 360
    },
    "id": "_k-FzorovEQO",
    "outputId": "78d13359-37c4-4923-86f4-0090ef4ce8a3"
   },
   "outputs": [
    {
     "name": "stdout",
     "output_type": "stream",
     "text": [
      "(2457, 9)\n",
      "(2457,)\n"
     ]
    }
   ],
   "source": [
    "print(X_water_train.shape)\n",
    "print(y_water_train.shape)"
   ]
  },
  {
   "cell_type": "markdown",
   "metadata": {
    "id": "6cRauYc9fwu3"
   },
   "source": [
    "# Creating the model using the Sequential API #\n",
    "\n",
    "Next we'll build a neural network with one hidden layer."
   ]
  },
  {
   "cell_type": "code",
   "execution_count": 19,
   "metadata": {
    "id": "pkUjheH2vEQO"
   },
   "outputs": [],
   "source": [
    "water_model = keras.Sequential([\n",
    "    keras.layers.Input(shape=X_water_train.shape[1:], name='input'),\n",
    "    keras.layers.Dense(128, activation='relu', name='hidden_1'),\n",
    "    keras.layers.Dense(64, activation='relu', name='hidden_2'),\n",
    "    keras.layers.Dense(32, activation='relu', name='hidden_3'),\n",
    "    keras.layers.Dense(1, activation='sigmoid', name='output')\n",
    "], name='water_potability')"
   ]
  },
  {
   "cell_type": "markdown",
   "metadata": {
    "id": "nuJbMufOgbkx"
   },
   "source": [
    "- In the previous code, the first line creates a [`Sequential` model](https://keras.io/api/models/sequential/). The `Sequential` model is the simplest kind of a 'full' neural network, composed of a stack of layers connected sequentially.\n",
    "\n",
    "- Next we add a [`Dense` layer](https://keras.io/api/layers/core_layers/dense/) with 128 neurons and a ReLU activation function. Each neuron in the layer will have individual weights for each of its inputs, as well as a bias term. Each neuron will calculate the following equation with its inputs:\n",
    "\n",
    "\\begin{equation}h_{W,b}(X)=\\phi(XW+b)\\end{equation}\n",
    "\n",
    "Where $\\phi$ is the activation function.\n",
    "\n",
    "- Finally, we add a final `Dense` output layer with 1 neuron (since we are dealing with a binary classification problem), using the `sigmoid` activation function. The `sigmoid` function will fit the output into the [0-1] range.\n",
    "\n",
    "We can now review our model composition using the `summary()` method.\n"
   ]
  },
  {
   "cell_type": "code",
   "execution_count": 20,
   "metadata": {
    "colab": {
     "base_uri": "https://localhost:8080/",
     "height": 257
    },
    "executionInfo": {
     "elapsed": 318,
     "status": "ok",
     "timestamp": 1726875595535,
     "user": {
      "displayName": "Julio Guillermo Arriaga Blumenkron",
      "userId": "18360755152457408573"
     },
     "user_tz": 360
    },
    "id": "uUvlsvmJlbDu",
    "outputId": "cc5762bf-147d-4251-cde4-8ee752601389"
   },
   "outputs": [
    {
     "data": {
      "text/html": [
       "<pre style=\"white-space:pre;overflow-x:auto;line-height:normal;font-family:Menlo,'DejaVu Sans Mono',consolas,'Courier New',monospace\"><span style=\"font-weight: bold\">Model: \"water_potability\"</span>\n",
       "</pre>\n"
      ],
      "text/plain": [
       "\u001b[1mModel: \"water_potability\"\u001b[0m\n"
      ]
     },
     "metadata": {},
     "output_type": "display_data"
    },
    {
     "data": {
      "text/html": [
       "<pre style=\"white-space:pre;overflow-x:auto;line-height:normal;font-family:Menlo,'DejaVu Sans Mono',consolas,'Courier New',monospace\">┏━━━━━━━━━━━━━━━━━━━━━━━━━━━━━━━━━┳━━━━━━━━━━━━━━━━━━━━━━━━┳━━━━━━━━━━━━━━━┓\n",
       "┃<span style=\"font-weight: bold\"> Layer (type)                    </span>┃<span style=\"font-weight: bold\"> Output Shape           </span>┃<span style=\"font-weight: bold\">       Param # </span>┃\n",
       "┡━━━━━━━━━━━━━━━━━━━━━━━━━━━━━━━━━╇━━━━━━━━━━━━━━━━━━━━━━━━╇━━━━━━━━━━━━━━━┩\n",
       "│ hidden_1 (<span style=\"color: #0087ff; text-decoration-color: #0087ff\">Dense</span>)                │ (<span style=\"color: #00d7ff; text-decoration-color: #00d7ff\">None</span>, <span style=\"color: #00af00; text-decoration-color: #00af00\">128</span>)            │         <span style=\"color: #00af00; text-decoration-color: #00af00\">1,280</span> │\n",
       "├─────────────────────────────────┼────────────────────────┼───────────────┤\n",
       "│ hidden_2 (<span style=\"color: #0087ff; text-decoration-color: #0087ff\">Dense</span>)                │ (<span style=\"color: #00d7ff; text-decoration-color: #00d7ff\">None</span>, <span style=\"color: #00af00; text-decoration-color: #00af00\">64</span>)             │         <span style=\"color: #00af00; text-decoration-color: #00af00\">8,256</span> │\n",
       "├─────────────────────────────────┼────────────────────────┼───────────────┤\n",
       "│ hidden_3 (<span style=\"color: #0087ff; text-decoration-color: #0087ff\">Dense</span>)                │ (<span style=\"color: #00d7ff; text-decoration-color: #00d7ff\">None</span>, <span style=\"color: #00af00; text-decoration-color: #00af00\">32</span>)             │         <span style=\"color: #00af00; text-decoration-color: #00af00\">2,080</span> │\n",
       "├─────────────────────────────────┼────────────────────────┼───────────────┤\n",
       "│ output (<span style=\"color: #0087ff; text-decoration-color: #0087ff\">Dense</span>)                  │ (<span style=\"color: #00d7ff; text-decoration-color: #00d7ff\">None</span>, <span style=\"color: #00af00; text-decoration-color: #00af00\">1</span>)              │            <span style=\"color: #00af00; text-decoration-color: #00af00\">33</span> │\n",
       "└─────────────────────────────────┴────────────────────────┴───────────────┘\n",
       "</pre>\n"
      ],
      "text/plain": [
       "┏━━━━━━━━━━━━━━━━━━━━━━━━━━━━━━━━━┳━━━━━━━━━━━━━━━━━━━━━━━━┳━━━━━━━━━━━━━━━┓\n",
       "┃\u001b[1m \u001b[0m\u001b[1mLayer (type)                   \u001b[0m\u001b[1m \u001b[0m┃\u001b[1m \u001b[0m\u001b[1mOutput Shape          \u001b[0m\u001b[1m \u001b[0m┃\u001b[1m \u001b[0m\u001b[1m      Param #\u001b[0m\u001b[1m \u001b[0m┃\n",
       "┡━━━━━━━━━━━━━━━━━━━━━━━━━━━━━━━━━╇━━━━━━━━━━━━━━━━━━━━━━━━╇━━━━━━━━━━━━━━━┩\n",
       "│ hidden_1 (\u001b[38;5;33mDense\u001b[0m)                │ (\u001b[38;5;45mNone\u001b[0m, \u001b[38;5;34m128\u001b[0m)            │         \u001b[38;5;34m1,280\u001b[0m │\n",
       "├─────────────────────────────────┼────────────────────────┼───────────────┤\n",
       "│ hidden_2 (\u001b[38;5;33mDense\u001b[0m)                │ (\u001b[38;5;45mNone\u001b[0m, \u001b[38;5;34m64\u001b[0m)             │         \u001b[38;5;34m8,256\u001b[0m │\n",
       "├─────────────────────────────────┼────────────────────────┼───────────────┤\n",
       "│ hidden_3 (\u001b[38;5;33mDense\u001b[0m)                │ (\u001b[38;5;45mNone\u001b[0m, \u001b[38;5;34m32\u001b[0m)             │         \u001b[38;5;34m2,080\u001b[0m │\n",
       "├─────────────────────────────────┼────────────────────────┼───────────────┤\n",
       "│ output (\u001b[38;5;33mDense\u001b[0m)                  │ (\u001b[38;5;45mNone\u001b[0m, \u001b[38;5;34m1\u001b[0m)              │            \u001b[38;5;34m33\u001b[0m │\n",
       "└─────────────────────────────────┴────────────────────────┴───────────────┘\n"
      ]
     },
     "metadata": {},
     "output_type": "display_data"
    },
    {
     "data": {
      "text/html": [
       "<pre style=\"white-space:pre;overflow-x:auto;line-height:normal;font-family:Menlo,'DejaVu Sans Mono',consolas,'Courier New',monospace\"><span style=\"font-weight: bold\"> Total params: </span><span style=\"color: #00af00; text-decoration-color: #00af00\">11,649</span> (45.50 KB)\n",
       "</pre>\n"
      ],
      "text/plain": [
       "\u001b[1m Total params: \u001b[0m\u001b[38;5;34m11,649\u001b[0m (45.50 KB)\n"
      ]
     },
     "metadata": {},
     "output_type": "display_data"
    },
    {
     "data": {
      "text/html": [
       "<pre style=\"white-space:pre;overflow-x:auto;line-height:normal;font-family:Menlo,'DejaVu Sans Mono',consolas,'Courier New',monospace\"><span style=\"font-weight: bold\"> Trainable params: </span><span style=\"color: #00af00; text-decoration-color: #00af00\">11,649</span> (45.50 KB)\n",
       "</pre>\n"
      ],
      "text/plain": [
       "\u001b[1m Trainable params: \u001b[0m\u001b[38;5;34m11,649\u001b[0m (45.50 KB)\n"
      ]
     },
     "metadata": {},
     "output_type": "display_data"
    },
    {
     "data": {
      "text/html": [
       "<pre style=\"white-space:pre;overflow-x:auto;line-height:normal;font-family:Menlo,'DejaVu Sans Mono',consolas,'Courier New',monospace\"><span style=\"font-weight: bold\"> Non-trainable params: </span><span style=\"color: #00af00; text-decoration-color: #00af00\">0</span> (0.00 B)\n",
       "</pre>\n"
      ],
      "text/plain": [
       "\u001b[1m Non-trainable params: \u001b[0m\u001b[38;5;34m0\u001b[0m (0.00 B)\n"
      ]
     },
     "metadata": {},
     "output_type": "display_data"
    }
   ],
   "source": [
    "water_model.summary()"
   ]
  },
  {
   "cell_type": "markdown",
   "metadata": {
    "id": "quS9lw-gl8x_"
   },
   "source": [
    "We can also check the randomly initialized weights of our hidden layer."
   ]
  },
  {
   "cell_type": "code",
   "execution_count": 21,
   "metadata": {
    "colab": {
     "base_uri": "https://localhost:8080/"
    },
    "executionInfo": {
     "elapsed": 574,
     "status": "ok",
     "timestamp": 1726875671938,
     "user": {
      "displayName": "Julio Guillermo Arriaga Blumenkron",
      "userId": "18360755152457408573"
     },
     "user_tz": 360
    },
    "id": "PXD1wxYMmJDS",
    "outputId": "58087d88-dcee-4dd1-8e1d-b517cc64b6d6"
   },
   "outputs": [
    {
     "name": "stdout",
     "output_type": "stream",
     "text": [
      "Weights Shape for layer 0:  (9, 128)\n",
      "Weights of layer 0, for input 0:\n",
      " [-0.02366766 -0.07235532 -0.12233027 -0.01812071  0.19909935 -0.15261602\n",
      "  0.07231481  0.06191559 -0.17322463 -0.11587463  0.11232246 -0.13143782\n",
      "  0.10426955  0.20210753 -0.0515666  -0.02493912  0.08347045 -0.07873528\n",
      " -0.12424089  0.15783463  0.13049965 -0.0452572   0.15810476  0.06948887\n",
      "  0.11509751  0.10356544  0.19246267 -0.20225608  0.0464458   0.12822868\n",
      "  0.06948049  0.1430646   0.05612405  0.19783016 -0.19773176 -0.15145478\n",
      " -0.14623788 -0.16833618  0.06543158 -0.03551678  0.03147216 -0.0913162\n",
      " -0.0329688  -0.09806377 -0.04628842 -0.1460312   0.1449201   0.1293108\n",
      " -0.02448238 -0.11130566 -0.20265709 -0.01273586  0.05947204  0.1457204\n",
      " -0.13705018 -0.05955151 -0.05904782 -0.16611423  0.03439365 -0.13797924\n",
      " -0.17763413 -0.00705034  0.18867852 -0.15024522 -0.08613572 -0.17760655\n",
      " -0.03182526 -0.07048537  0.08837096 -0.16882306 -0.08699356  0.12638907\n",
      " -0.16511278 -0.20636058 -0.1000455  -0.01993936 -0.07307231 -0.10031752\n",
      " -0.01087128  0.00863715  0.17265452 -0.10452895 -0.06506829 -0.08250897\n",
      " -0.15204692 -0.16167398  0.12787734  0.06050764  0.07103221 -0.13028187\n",
      " -0.11521357  0.06184702  0.15594612  0.03949758  0.18792315 -0.15665087\n",
      "  0.00133733 -0.19881603 -0.1912933   0.04664283  0.11432628  0.20882295\n",
      " -0.03421956 -0.03555509  0.19748683  0.19989048 -0.02737638  0.13193391\n",
      " -0.09326924  0.0669127  -0.18174921 -0.09342495  0.09891109 -0.06609163\n",
      " -0.11865033  0.10217102 -0.19428214 -0.01520251  0.13071768 -0.16733953\n",
      " -0.14036919  0.20486318 -0.09020843  0.0185488  -0.09505497  0.20414998\n",
      " -0.08442837  0.06679554]\n",
      "Biases Shape for layer 0:  (128,)\n",
      "Bias of neuron (0,0):  0.0\n"
     ]
    }
   ],
   "source": [
    "i = 0\n",
    "j = 0\n",
    "hidden = water_model.layers[i]\n",
    "weights, biases = hidden.get_weights()\n",
    "print(f\"Weights Shape for layer {i}: \", weights.shape)\n",
    "print(f\"Weights of layer {i}, for input {j}:\\n\", weights[j])\n",
    "print(f\"Biases Shape for layer {i}: \", biases.shape)\n",
    "print(f\"Bias of neuron ({i},0): \", biases[0])"
   ]
  },
  {
   "cell_type": "markdown",
   "metadata": {
    "id": "Fw4n-c0fmqvj"
   },
   "source": [
    "# Compiling the model #\n",
    "\n",
    "After the model is created, we need to call its `compile()` method to specify the loss function and optimizer (as well as some other optional metrics to compute during training and evaluation)."
   ]
  },
  {
   "cell_type": "code",
   "execution_count": 22,
   "metadata": {
    "id": "ZfWE0oEwvEQO"
   },
   "outputs": [],
   "source": [
    "water_model.compile(optimizer='sgd', loss='binary_crossentropy',\n",
    "                    metrics=['accuracy'])"
   ]
  },
  {
   "cell_type": "markdown",
   "metadata": {
    "id": "yqBvnh02ncgV"
   },
   "source": [
    "We use the `\"binary_crossentropy\"` loss because we have only two possible classes (0 or 1) and the classes are exclusive. If instead we had multiple possible classes, represented as one target probability per class for each instance (such as one-hot vectors, e.g. `[0., 0., 0., 1., 0., 0., 0., 0., 0., 0.]` to represent class 3), we would use the `\"softmax\"` activation function in the output layer, and we would need to use the `\"categorical_crossentropy\"` loss instead. If we had sparse labels (i.e., for each instance, there is just a target class index, like 0 to 9), and the classes are exclusive, we would need to use `\"sparse_categorical_crossentropy\"`.\n",
    "\n",
    "Finally, we use the `\"sgd\"` optimizer since we want to use Stochastic Gradient Descent (Keras/Tensorflow will take of all the required calculations to perform the backpropagation algorithm)."
   ]
  },
  {
   "cell_type": "markdown",
   "metadata": {
    "id": "RXE-6VmIoe66"
   },
   "source": [
    "# Training and evaluating the model #\n",
    "\n",
    "We can now train the model by calling its `fit()` method. We specify the training set, the expected outputs, the number of epochs (default is 1) and instruct the model to use the last 10% of the training data as a validation set (if we already had a separate validation set, we could use the `validation_data` parameter instead)."
   ]
  },
  {
   "cell_type": "code",
   "execution_count": 23,
   "metadata": {
    "colab": {
     "base_uri": "https://localhost:8080/"
    },
    "executionInfo": {
     "elapsed": 25215,
     "status": "ok",
     "timestamp": 1726876075041,
     "user": {
      "displayName": "Julio Guillermo Arriaga Blumenkron",
      "userId": "18360755152457408573"
     },
     "user_tz": 360
    },
    "id": "h8blM_lQvEQO",
    "outputId": "cc86199d-f2c9-408b-c197-480c85eeabfc"
   },
   "outputs": [
    {
     "name": "stdout",
     "output_type": "stream",
     "text": [
      "Epoch 1/100\n",
      "\u001b[1m70/70\u001b[0m \u001b[32m━━━━━━━━━━━━━━━━━━━━\u001b[0m\u001b[37m\u001b[0m \u001b[1m0s\u001b[0m 2ms/step - accuracy: 0.4946 - loss: 0.7069 - val_accuracy: 0.5610 - val_loss: 0.6834\n",
      "Epoch 2/100\n",
      "\u001b[1m70/70\u001b[0m \u001b[32m━━━━━━━━━━━━━━━━━━━━\u001b[0m\u001b[37m\u001b[0m \u001b[1m0s\u001b[0m 715us/step - accuracy: 0.6188 - loss: 0.6733 - val_accuracy: 0.5650 - val_loss: 0.6846\n",
      "Epoch 3/100\n",
      "\u001b[1m70/70\u001b[0m \u001b[32m━━━━━━━━━━━━━━━━━━━━\u001b[0m\u001b[37m\u001b[0m \u001b[1m0s\u001b[0m 631us/step - accuracy: 0.6190 - loss: 0.6666 - val_accuracy: 0.5650 - val_loss: 0.6844\n",
      "Epoch 4/100\n",
      "\u001b[1m70/70\u001b[0m \u001b[32m━━━━━━━━━━━━━━━━━━━━\u001b[0m\u001b[37m\u001b[0m \u001b[1m0s\u001b[0m 612us/step - accuracy: 0.6222 - loss: 0.6632 - val_accuracy: 0.5650 - val_loss: 0.6831\n",
      "Epoch 5/100\n",
      "\u001b[1m70/70\u001b[0m \u001b[32m━━━━━━━━━━━━━━━━━━━━\u001b[0m\u001b[37m\u001b[0m \u001b[1m0s\u001b[0m 562us/step - accuracy: 0.6228 - loss: 0.6604 - val_accuracy: 0.5650 - val_loss: 0.6816\n",
      "Epoch 6/100\n",
      "\u001b[1m70/70\u001b[0m \u001b[32m━━━━━━━━━━━━━━━━━━━━\u001b[0m\u001b[37m\u001b[0m \u001b[1m0s\u001b[0m 586us/step - accuracy: 0.6239 - loss: 0.6578 - val_accuracy: 0.5691 - val_loss: 0.6799\n",
      "Epoch 7/100\n",
      "\u001b[1m70/70\u001b[0m \u001b[32m━━━━━━━━━━━━━━━━━━━━\u001b[0m\u001b[37m\u001b[0m \u001b[1m0s\u001b[0m 561us/step - accuracy: 0.6245 - loss: 0.6553 - val_accuracy: 0.5691 - val_loss: 0.6783\n",
      "Epoch 8/100\n",
      "\u001b[1m70/70\u001b[0m \u001b[32m━━━━━━━━━━━━━━━━━━━━\u001b[0m\u001b[37m\u001b[0m \u001b[1m0s\u001b[0m 577us/step - accuracy: 0.6267 - loss: 0.6528 - val_accuracy: 0.5691 - val_loss: 0.6767\n",
      "Epoch 9/100\n",
      "\u001b[1m70/70\u001b[0m \u001b[32m━━━━━━━━━━━━━━━━━━━━\u001b[0m\u001b[37m\u001b[0m \u001b[1m0s\u001b[0m 571us/step - accuracy: 0.6271 - loss: 0.6503 - val_accuracy: 0.5691 - val_loss: 0.6752\n",
      "Epoch 10/100\n",
      "\u001b[1m70/70\u001b[0m \u001b[32m━━━━━━━━━━━━━━━━━━━━\u001b[0m\u001b[37m\u001b[0m \u001b[1m0s\u001b[0m 603us/step - accuracy: 0.6302 - loss: 0.6477 - val_accuracy: 0.5732 - val_loss: 0.6737\n",
      "Epoch 11/100\n",
      "\u001b[1m70/70\u001b[0m \u001b[32m━━━━━━━━━━━━━━━━━━━━\u001b[0m\u001b[37m\u001b[0m \u001b[1m0s\u001b[0m 598us/step - accuracy: 0.6305 - loss: 0.6452 - val_accuracy: 0.5772 - val_loss: 0.6722\n",
      "Epoch 12/100\n",
      "\u001b[1m70/70\u001b[0m \u001b[32m━━━━━━━━━━━━━━━━━━━━\u001b[0m\u001b[37m\u001b[0m \u001b[1m0s\u001b[0m 592us/step - accuracy: 0.6335 - loss: 0.6427 - val_accuracy: 0.5772 - val_loss: 0.6707\n",
      "Epoch 13/100\n",
      "\u001b[1m70/70\u001b[0m \u001b[32m━━━━━━━━━━━━━━━━━━━━\u001b[0m\u001b[37m\u001b[0m \u001b[1m0s\u001b[0m 615us/step - accuracy: 0.6385 - loss: 0.6402 - val_accuracy: 0.5894 - val_loss: 0.6692\n",
      "Epoch 14/100\n",
      "\u001b[1m70/70\u001b[0m \u001b[32m━━━━━━━━━━━━━━━━━━━━\u001b[0m\u001b[37m\u001b[0m \u001b[1m0s\u001b[0m 597us/step - accuracy: 0.6420 - loss: 0.6375 - val_accuracy: 0.5894 - val_loss: 0.6676\n",
      "Epoch 15/100\n",
      "\u001b[1m70/70\u001b[0m \u001b[32m━━━━━━━━━━━━━━━━━━━━\u001b[0m\u001b[37m\u001b[0m \u001b[1m0s\u001b[0m 575us/step - accuracy: 0.6439 - loss: 0.6349 - val_accuracy: 0.5976 - val_loss: 0.6661\n",
      "Epoch 16/100\n",
      "\u001b[1m70/70\u001b[0m \u001b[32m━━━━━━━━━━━━━━━━━━━━\u001b[0m\u001b[37m\u001b[0m \u001b[1m0s\u001b[0m 595us/step - accuracy: 0.6461 - loss: 0.6323 - val_accuracy: 0.6057 - val_loss: 0.6646\n",
      "Epoch 17/100\n",
      "\u001b[1m70/70\u001b[0m \u001b[32m━━━━━━━━━━━━━━━━━━━━\u001b[0m\u001b[37m\u001b[0m \u001b[1m0s\u001b[0m 611us/step - accuracy: 0.6493 - loss: 0.6297 - val_accuracy: 0.6098 - val_loss: 0.6630\n",
      "Epoch 18/100\n",
      "\u001b[1m70/70\u001b[0m \u001b[32m━━━━━━━━━━━━━━━━━━━━\u001b[0m\u001b[37m\u001b[0m \u001b[1m0s\u001b[0m 580us/step - accuracy: 0.6526 - loss: 0.6270 - val_accuracy: 0.6057 - val_loss: 0.6615\n",
      "Epoch 19/100\n",
      "\u001b[1m70/70\u001b[0m \u001b[32m━━━━━━━━━━━━━━━━━━━━\u001b[0m\u001b[37m\u001b[0m \u001b[1m0s\u001b[0m 545us/step - accuracy: 0.6574 - loss: 0.6243 - val_accuracy: 0.6138 - val_loss: 0.6598\n",
      "Epoch 20/100\n",
      "\u001b[1m70/70\u001b[0m \u001b[32m━━━━━━━━━━━━━━━━━━━━\u001b[0m\u001b[37m\u001b[0m \u001b[1m0s\u001b[0m 561us/step - accuracy: 0.6571 - loss: 0.6215 - val_accuracy: 0.6179 - val_loss: 0.6579\n",
      "Epoch 21/100\n",
      "\u001b[1m70/70\u001b[0m \u001b[32m━━━━━━━━━━━━━━━━━━━━\u001b[0m\u001b[37m\u001b[0m \u001b[1m0s\u001b[0m 543us/step - accuracy: 0.6600 - loss: 0.6187 - val_accuracy: 0.6179 - val_loss: 0.6560\n",
      "Epoch 22/100\n",
      "\u001b[1m70/70\u001b[0m \u001b[32m━━━━━━━━━━━━━━━━━━━━\u001b[0m\u001b[37m\u001b[0m \u001b[1m0s\u001b[0m 560us/step - accuracy: 0.6644 - loss: 0.6158 - val_accuracy: 0.6179 - val_loss: 0.6541\n",
      "Epoch 23/100\n",
      "\u001b[1m70/70\u001b[0m \u001b[32m━━━━━━━━━━━━━━━━━━━━\u001b[0m\u001b[37m\u001b[0m \u001b[1m0s\u001b[0m 586us/step - accuracy: 0.6721 - loss: 0.6129 - val_accuracy: 0.6220 - val_loss: 0.6522\n",
      "Epoch 24/100\n",
      "\u001b[1m70/70\u001b[0m \u001b[32m━━━━━━━━━━━━━━━━━━━━\u001b[0m\u001b[37m\u001b[0m \u001b[1m0s\u001b[0m 1ms/step - accuracy: 0.6722 - loss: 0.6100 - val_accuracy: 0.6220 - val_loss: 0.6504\n",
      "Epoch 25/100\n",
      "\u001b[1m70/70\u001b[0m \u001b[32m━━━━━━━━━━━━━━━━━━━━\u001b[0m\u001b[37m\u001b[0m \u001b[1m0s\u001b[0m 671us/step - accuracy: 0.6750 - loss: 0.6072 - val_accuracy: 0.6260 - val_loss: 0.6489\n",
      "Epoch 26/100\n",
      "\u001b[1m70/70\u001b[0m \u001b[32m━━━━━━━━━━━━━━━━━━━━\u001b[0m\u001b[37m\u001b[0m \u001b[1m0s\u001b[0m 601us/step - accuracy: 0.6812 - loss: 0.6044 - val_accuracy: 0.6260 - val_loss: 0.6473\n",
      "Epoch 27/100\n",
      "\u001b[1m70/70\u001b[0m \u001b[32m━━━━━━━━━━━━━━━━━━━━\u001b[0m\u001b[37m\u001b[0m \u001b[1m0s\u001b[0m 568us/step - accuracy: 0.6888 - loss: 0.6016 - val_accuracy: 0.6341 - val_loss: 0.6459\n",
      "Epoch 28/100\n",
      "\u001b[1m70/70\u001b[0m \u001b[32m━━━━━━━━━━━━━━━━━━━━\u001b[0m\u001b[37m\u001b[0m \u001b[1m0s\u001b[0m 550us/step - accuracy: 0.6912 - loss: 0.5989 - val_accuracy: 0.6341 - val_loss: 0.6446\n",
      "Epoch 29/100\n",
      "\u001b[1m70/70\u001b[0m \u001b[32m━━━━━━━━━━━━━━━━━━━━\u001b[0m\u001b[37m\u001b[0m \u001b[1m0s\u001b[0m 575us/step - accuracy: 0.6915 - loss: 0.5963 - val_accuracy: 0.6301 - val_loss: 0.6431\n",
      "Epoch 30/100\n",
      "\u001b[1m70/70\u001b[0m \u001b[32m━━━━━━━━━━━━━━━━━━━━\u001b[0m\u001b[37m\u001b[0m \u001b[1m0s\u001b[0m 595us/step - accuracy: 0.6923 - loss: 0.5938 - val_accuracy: 0.6301 - val_loss: 0.6418\n",
      "Epoch 31/100\n",
      "\u001b[1m70/70\u001b[0m \u001b[32m━━━━━━━━━━━━━━━━━━━━\u001b[0m\u001b[37m\u001b[0m \u001b[1m0s\u001b[0m 706us/step - accuracy: 0.6945 - loss: 0.5913 - val_accuracy: 0.6301 - val_loss: 0.6404\n",
      "Epoch 32/100\n",
      "\u001b[1m70/70\u001b[0m \u001b[32m━━━━━━━━━━━━━━━━━━━━\u001b[0m\u001b[37m\u001b[0m \u001b[1m0s\u001b[0m 526us/step - accuracy: 0.6952 - loss: 0.5889 - val_accuracy: 0.6301 - val_loss: 0.6392\n",
      "Epoch 33/100\n",
      "\u001b[1m70/70\u001b[0m \u001b[32m━━━━━━━━━━━━━━━━━━━━\u001b[0m\u001b[37m\u001b[0m \u001b[1m0s\u001b[0m 519us/step - accuracy: 0.6983 - loss: 0.5865 - val_accuracy: 0.6301 - val_loss: 0.6380\n",
      "Epoch 34/100\n",
      "\u001b[1m70/70\u001b[0m \u001b[32m━━━━━━━━━━━━━━━━━━━━\u001b[0m\u001b[37m\u001b[0m \u001b[1m0s\u001b[0m 739us/step - accuracy: 0.6996 - loss: 0.5841 - val_accuracy: 0.6341 - val_loss: 0.6368\n",
      "Epoch 35/100\n",
      "\u001b[1m70/70\u001b[0m \u001b[32m━━━━━━━━━━━━━━━━━━━━\u001b[0m\u001b[37m\u001b[0m \u001b[1m0s\u001b[0m 1ms/step - accuracy: 0.7002 - loss: 0.5819 - val_accuracy: 0.6341 - val_loss: 0.6356\n",
      "Epoch 36/100\n",
      "\u001b[1m70/70\u001b[0m \u001b[32m━━━━━━━━━━━━━━━━━━━━\u001b[0m\u001b[37m\u001b[0m \u001b[1m0s\u001b[0m 563us/step - accuracy: 0.7007 - loss: 0.5797 - val_accuracy: 0.6341 - val_loss: 0.6346\n",
      "Epoch 37/100\n",
      "\u001b[1m70/70\u001b[0m \u001b[32m━━━━━━━━━━━━━━━━━━━━\u001b[0m\u001b[37m\u001b[0m \u001b[1m0s\u001b[0m 591us/step - accuracy: 0.7034 - loss: 0.5775 - val_accuracy: 0.6341 - val_loss: 0.6335\n",
      "Epoch 38/100\n",
      "\u001b[1m70/70\u001b[0m \u001b[32m━━━━━━━━━━━━━━━━━━━━\u001b[0m\u001b[37m\u001b[0m \u001b[1m0s\u001b[0m 575us/step - accuracy: 0.7057 - loss: 0.5754 - val_accuracy: 0.6341 - val_loss: 0.6326\n",
      "Epoch 39/100\n",
      "\u001b[1m70/70\u001b[0m \u001b[32m━━━━━━━━━━━━━━━━━━━━\u001b[0m\u001b[37m\u001b[0m \u001b[1m0s\u001b[0m 583us/step - accuracy: 0.7091 - loss: 0.5735 - val_accuracy: 0.6341 - val_loss: 0.6318\n",
      "Epoch 40/100\n",
      "\u001b[1m70/70\u001b[0m \u001b[32m━━━━━━━━━━━━━━━━━━━━\u001b[0m\u001b[37m\u001b[0m \u001b[1m0s\u001b[0m 601us/step - accuracy: 0.7142 - loss: 0.5715 - val_accuracy: 0.6301 - val_loss: 0.6310\n",
      "Epoch 41/100\n",
      "\u001b[1m70/70\u001b[0m \u001b[32m━━━━━━━━━━━━━━━━━━━━\u001b[0m\u001b[37m\u001b[0m \u001b[1m0s\u001b[0m 561us/step - accuracy: 0.7174 - loss: 0.5696 - val_accuracy: 0.6260 - val_loss: 0.6302\n",
      "Epoch 42/100\n",
      "\u001b[1m70/70\u001b[0m \u001b[32m━━━━━━━━━━━━━━━━━━━━\u001b[0m\u001b[37m\u001b[0m \u001b[1m0s\u001b[0m 550us/step - accuracy: 0.7198 - loss: 0.5678 - val_accuracy: 0.6301 - val_loss: 0.6296\n",
      "Epoch 43/100\n",
      "\u001b[1m70/70\u001b[0m \u001b[32m━━━━━━━━━━━━━━━━━━━━\u001b[0m\u001b[37m\u001b[0m \u001b[1m0s\u001b[0m 596us/step - accuracy: 0.7225 - loss: 0.5660 - val_accuracy: 0.6220 - val_loss: 0.6289\n",
      "Epoch 44/100\n",
      "\u001b[1m70/70\u001b[0m \u001b[32m━━━━━━━━━━━━━━━━━━━━\u001b[0m\u001b[37m\u001b[0m \u001b[1m0s\u001b[0m 650us/step - accuracy: 0.7237 - loss: 0.5643 - val_accuracy: 0.6179 - val_loss: 0.6282\n",
      "Epoch 45/100\n",
      "\u001b[1m70/70\u001b[0m \u001b[32m━━━━━━━━━━━━━━━━━━━━\u001b[0m\u001b[37m\u001b[0m \u001b[1m0s\u001b[0m 611us/step - accuracy: 0.7294 - loss: 0.5626 - val_accuracy: 0.6220 - val_loss: 0.6277\n",
      "Epoch 46/100\n",
      "\u001b[1m70/70\u001b[0m \u001b[32m━━━━━━━━━━━━━━━━━━━━\u001b[0m\u001b[37m\u001b[0m \u001b[1m0s\u001b[0m 626us/step - accuracy: 0.7284 - loss: 0.5609 - val_accuracy: 0.6220 - val_loss: 0.6274\n",
      "Epoch 47/100\n",
      "\u001b[1m70/70\u001b[0m \u001b[32m━━━━━━━━━━━━━━━━━━━━\u001b[0m\u001b[37m\u001b[0m \u001b[1m0s\u001b[0m 641us/step - accuracy: 0.7279 - loss: 0.5593 - val_accuracy: 0.6220 - val_loss: 0.6268\n",
      "Epoch 48/100\n",
      "\u001b[1m70/70\u001b[0m \u001b[32m━━━━━━━━━━━━━━━━━━━━\u001b[0m\u001b[37m\u001b[0m \u001b[1m0s\u001b[0m 590us/step - accuracy: 0.7295 - loss: 0.5577 - val_accuracy: 0.6260 - val_loss: 0.6261\n",
      "Epoch 49/100\n",
      "\u001b[1m70/70\u001b[0m \u001b[32m━━━━━━━━━━━━━━━━━━━━\u001b[0m\u001b[37m\u001b[0m \u001b[1m0s\u001b[0m 585us/step - accuracy: 0.7310 - loss: 0.5561 - val_accuracy: 0.6341 - val_loss: 0.6257\n",
      "Epoch 50/100\n",
      "\u001b[1m70/70\u001b[0m \u001b[32m━━━━━━━━━━━━━━━━━━━━\u001b[0m\u001b[37m\u001b[0m \u001b[1m0s\u001b[0m 560us/step - accuracy: 0.7311 - loss: 0.5546 - val_accuracy: 0.6382 - val_loss: 0.6252\n",
      "Epoch 51/100\n",
      "\u001b[1m70/70\u001b[0m \u001b[32m━━━━━━━━━━━━━━━━━━━━\u001b[0m\u001b[37m\u001b[0m \u001b[1m0s\u001b[0m 567us/step - accuracy: 0.7330 - loss: 0.5531 - val_accuracy: 0.6382 - val_loss: 0.6249\n",
      "Epoch 52/100\n",
      "\u001b[1m70/70\u001b[0m \u001b[32m━━━━━━━━━━━━━━━━━━━━\u001b[0m\u001b[37m\u001b[0m \u001b[1m0s\u001b[0m 599us/step - accuracy: 0.7332 - loss: 0.5516 - val_accuracy: 0.6382 - val_loss: 0.6245\n",
      "Epoch 53/100\n",
      "\u001b[1m70/70\u001b[0m \u001b[32m━━━━━━━━━━━━━━━━━━━━\u001b[0m\u001b[37m\u001b[0m \u001b[1m0s\u001b[0m 577us/step - accuracy: 0.7344 - loss: 0.5502 - val_accuracy: 0.6423 - val_loss: 0.6239\n",
      "Epoch 54/100\n",
      "\u001b[1m70/70\u001b[0m \u001b[32m━━━━━━━━━━━━━━━━━━━━\u001b[0m\u001b[37m\u001b[0m \u001b[1m0s\u001b[0m 571us/step - accuracy: 0.7344 - loss: 0.5487 - val_accuracy: 0.6423 - val_loss: 0.6236\n",
      "Epoch 55/100\n",
      "\u001b[1m70/70\u001b[0m \u001b[32m━━━━━━━━━━━━━━━━━━━━\u001b[0m\u001b[37m\u001b[0m \u001b[1m0s\u001b[0m 564us/step - accuracy: 0.7366 - loss: 0.5473 - val_accuracy: 0.6463 - val_loss: 0.6234\n",
      "Epoch 56/100\n",
      "\u001b[1m70/70\u001b[0m \u001b[32m━━━━━━━━━━━━━━━━━━━━\u001b[0m\u001b[37m\u001b[0m \u001b[1m0s\u001b[0m 590us/step - accuracy: 0.7353 - loss: 0.5458 - val_accuracy: 0.6463 - val_loss: 0.6231\n",
      "Epoch 57/100\n",
      "\u001b[1m70/70\u001b[0m \u001b[32m━━━━━━━━━━━━━━━━━━━━\u001b[0m\u001b[37m\u001b[0m \u001b[1m0s\u001b[0m 579us/step - accuracy: 0.7381 - loss: 0.5444 - val_accuracy: 0.6463 - val_loss: 0.6228\n",
      "Epoch 58/100\n",
      "\u001b[1m70/70\u001b[0m \u001b[32m━━━━━━━━━━━━━━━━━━━━\u001b[0m\u001b[37m\u001b[0m \u001b[1m0s\u001b[0m 591us/step - accuracy: 0.7393 - loss: 0.5430 - val_accuracy: 0.6463 - val_loss: 0.6225\n",
      "Epoch 59/100\n",
      "\u001b[1m70/70\u001b[0m \u001b[32m━━━━━━━━━━━━━━━━━━━━\u001b[0m\u001b[37m\u001b[0m \u001b[1m0s\u001b[0m 582us/step - accuracy: 0.7406 - loss: 0.5415 - val_accuracy: 0.6463 - val_loss: 0.6223\n",
      "Epoch 60/100\n",
      "\u001b[1m70/70\u001b[0m \u001b[32m━━━━━━━━━━━━━━━━━━━━\u001b[0m\u001b[37m\u001b[0m \u001b[1m0s\u001b[0m 1ms/step - accuracy: 0.7366 - loss: 0.5401 - val_accuracy: 0.6463 - val_loss: 0.6221\n",
      "Epoch 61/100\n",
      "\u001b[1m70/70\u001b[0m \u001b[32m━━━━━━━━━━━━━━━━━━━━\u001b[0m\u001b[37m\u001b[0m \u001b[1m0s\u001b[0m 619us/step - accuracy: 0.7377 - loss: 0.5386 - val_accuracy: 0.6463 - val_loss: 0.6219\n",
      "Epoch 62/100\n",
      "\u001b[1m70/70\u001b[0m \u001b[32m━━━━━━━━━━━━━━━━━━━━\u001b[0m\u001b[37m\u001b[0m \u001b[1m0s\u001b[0m 770us/step - accuracy: 0.7401 - loss: 0.5372 - val_accuracy: 0.6463 - val_loss: 0.6218\n",
      "Epoch 63/100\n",
      "\u001b[1m70/70\u001b[0m \u001b[32m━━━━━━━━━━━━━━━━━━━━\u001b[0m\u001b[37m\u001b[0m \u001b[1m0s\u001b[0m 623us/step - accuracy: 0.7421 - loss: 0.5357 - val_accuracy: 0.6463 - val_loss: 0.6219\n",
      "Epoch 64/100\n",
      "\u001b[1m70/70\u001b[0m \u001b[32m━━━━━━━━━━━━━━━━━━━━\u001b[0m\u001b[37m\u001b[0m \u001b[1m0s\u001b[0m 614us/step - accuracy: 0.7419 - loss: 0.5343 - val_accuracy: 0.6463 - val_loss: 0.6219\n",
      "Epoch 65/100\n",
      "\u001b[1m70/70\u001b[0m \u001b[32m━━━━━━━━━━━━━━━━━━━━\u001b[0m\u001b[37m\u001b[0m \u001b[1m0s\u001b[0m 598us/step - accuracy: 0.7409 - loss: 0.5328 - val_accuracy: 0.6463 - val_loss: 0.6220\n",
      "Epoch 66/100\n",
      "\u001b[1m70/70\u001b[0m \u001b[32m━━━━━━━━━━━━━━━━━━━━\u001b[0m\u001b[37m\u001b[0m \u001b[1m0s\u001b[0m 712us/step - accuracy: 0.7418 - loss: 0.5314 - val_accuracy: 0.6504 - val_loss: 0.6220\n",
      "Epoch 67/100\n",
      "\u001b[1m70/70\u001b[0m \u001b[32m━━━━━━━━━━━━━━━━━━━━\u001b[0m\u001b[37m\u001b[0m \u001b[1m0s\u001b[0m 623us/step - accuracy: 0.7425 - loss: 0.5299 - val_accuracy: 0.6504 - val_loss: 0.6221\n",
      "Epoch 68/100\n",
      "\u001b[1m70/70\u001b[0m \u001b[32m━━━━━━━━━━━━━━━━━━━━\u001b[0m\u001b[37m\u001b[0m \u001b[1m0s\u001b[0m 649us/step - accuracy: 0.7429 - loss: 0.5284 - val_accuracy: 0.6504 - val_loss: 0.6221\n",
      "Epoch 69/100\n",
      "\u001b[1m70/70\u001b[0m \u001b[32m━━━━━━━━━━━━━━━━━━━━\u001b[0m\u001b[37m\u001b[0m \u001b[1m0s\u001b[0m 932us/step - accuracy: 0.7449 - loss: 0.5270 - val_accuracy: 0.6545 - val_loss: 0.6223\n",
      "Epoch 70/100\n",
      "\u001b[1m70/70\u001b[0m \u001b[32m━━━━━━━━━━━━━━━━━━━━\u001b[0m\u001b[37m\u001b[0m \u001b[1m0s\u001b[0m 545us/step - accuracy: 0.7458 - loss: 0.5255 - val_accuracy: 0.6667 - val_loss: 0.6224\n",
      "Epoch 71/100\n",
      "\u001b[1m70/70\u001b[0m \u001b[32m━━━━━━━━━━━━━━━━━━━━\u001b[0m\u001b[37m\u001b[0m \u001b[1m0s\u001b[0m 550us/step - accuracy: 0.7476 - loss: 0.5241 - val_accuracy: 0.6626 - val_loss: 0.6226\n",
      "Epoch 72/100\n",
      "\u001b[1m70/70\u001b[0m \u001b[32m━━━━━━━━━━━━━━━━━━━━\u001b[0m\u001b[37m\u001b[0m \u001b[1m0s\u001b[0m 585us/step - accuracy: 0.7478 - loss: 0.5226 - val_accuracy: 0.6667 - val_loss: 0.6230\n",
      "Epoch 73/100\n",
      "\u001b[1m70/70\u001b[0m \u001b[32m━━━━━━━━━━━━━━━━━━━━\u001b[0m\u001b[37m\u001b[0m \u001b[1m0s\u001b[0m 662us/step - accuracy: 0.7491 - loss: 0.5212 - val_accuracy: 0.6667 - val_loss: 0.6232\n",
      "Epoch 74/100\n",
      "\u001b[1m70/70\u001b[0m \u001b[32m━━━━━━━━━━━━━━━━━━━━\u001b[0m\u001b[37m\u001b[0m \u001b[1m0s\u001b[0m 618us/step - accuracy: 0.7507 - loss: 0.5196 - val_accuracy: 0.6667 - val_loss: 0.6235\n",
      "Epoch 75/100\n",
      "\u001b[1m70/70\u001b[0m \u001b[32m━━━━━━━━━━━━━━━━━━━━\u001b[0m\u001b[37m\u001b[0m \u001b[1m0s\u001b[0m 605us/step - accuracy: 0.7508 - loss: 0.5181 - val_accuracy: 0.6707 - val_loss: 0.6237\n",
      "Epoch 76/100\n",
      "\u001b[1m70/70\u001b[0m \u001b[32m━━━━━━━━━━━━━━━━━━━━\u001b[0m\u001b[37m\u001b[0m \u001b[1m0s\u001b[0m 621us/step - accuracy: 0.7516 - loss: 0.5165 - val_accuracy: 0.6667 - val_loss: 0.6240\n",
      "Epoch 77/100\n",
      "\u001b[1m70/70\u001b[0m \u001b[32m━━━━━━━━━━━━━━━━━━━━\u001b[0m\u001b[37m\u001b[0m \u001b[1m0s\u001b[0m 680us/step - accuracy: 0.7532 - loss: 0.5149 - val_accuracy: 0.6748 - val_loss: 0.6244\n",
      "Epoch 78/100\n",
      "\u001b[1m70/70\u001b[0m \u001b[32m━━━━━━━━━━━━━━━━━━━━\u001b[0m\u001b[37m\u001b[0m \u001b[1m0s\u001b[0m 573us/step - accuracy: 0.7551 - loss: 0.5133 - val_accuracy: 0.6748 - val_loss: 0.6250\n",
      "Epoch 79/100\n",
      "\u001b[1m70/70\u001b[0m \u001b[32m━━━━━━━━━━━━━━━━━━━━\u001b[0m\u001b[37m\u001b[0m \u001b[1m0s\u001b[0m 587us/step - accuracy: 0.7560 - loss: 0.5117 - val_accuracy: 0.6707 - val_loss: 0.6253\n",
      "Epoch 80/100\n",
      "\u001b[1m70/70\u001b[0m \u001b[32m━━━━━━━━━━━━━━━━━━━━\u001b[0m\u001b[37m\u001b[0m \u001b[1m0s\u001b[0m 570us/step - accuracy: 0.7568 - loss: 0.5101 - val_accuracy: 0.6707 - val_loss: 0.6257\n",
      "Epoch 81/100\n",
      "\u001b[1m70/70\u001b[0m \u001b[32m━━━━━━━━━━━━━━━━━━━━\u001b[0m\u001b[37m\u001b[0m \u001b[1m0s\u001b[0m 893us/step - accuracy: 0.7602 - loss: 0.5084 - val_accuracy: 0.6707 - val_loss: 0.6260\n",
      "Epoch 82/100\n",
      "\u001b[1m70/70\u001b[0m \u001b[32m━━━━━━━━━━━━━━━━━━━━\u001b[0m\u001b[37m\u001b[0m \u001b[1m0s\u001b[0m 626us/step - accuracy: 0.7609 - loss: 0.5068 - val_accuracy: 0.6667 - val_loss: 0.6266\n",
      "Epoch 83/100\n",
      "\u001b[1m70/70\u001b[0m \u001b[32m━━━━━━━━━━━━━━━━━━━━\u001b[0m\u001b[37m\u001b[0m \u001b[1m0s\u001b[0m 615us/step - accuracy: 0.7648 - loss: 0.5051 - val_accuracy: 0.6667 - val_loss: 0.6267\n",
      "Epoch 84/100\n",
      "\u001b[1m70/70\u001b[0m \u001b[32m━━━━━━━━━━━━━━━━━━━━\u001b[0m\u001b[37m\u001b[0m \u001b[1m0s\u001b[0m 1ms/step - accuracy: 0.7662 - loss: 0.5034 - val_accuracy: 0.6585 - val_loss: 0.6275\n",
      "Epoch 85/100\n",
      "\u001b[1m70/70\u001b[0m \u001b[32m━━━━━━━━━━━━━━━━━━━━\u001b[0m\u001b[37m\u001b[0m \u001b[1m0s\u001b[0m 551us/step - accuracy: 0.7662 - loss: 0.5018 - val_accuracy: 0.6585 - val_loss: 0.6278\n",
      "Epoch 86/100\n",
      "\u001b[1m70/70\u001b[0m \u001b[32m━━━━━━━━━━━━━━━━━━━━\u001b[0m\u001b[37m\u001b[0m \u001b[1m0s\u001b[0m 605us/step - accuracy: 0.7690 - loss: 0.5001 - val_accuracy: 0.6545 - val_loss: 0.6280\n",
      "Epoch 87/100\n",
      "\u001b[1m70/70\u001b[0m \u001b[32m━━━━━━━━━━━━━━━━━━━━\u001b[0m\u001b[37m\u001b[0m \u001b[1m0s\u001b[0m 596us/step - accuracy: 0.7691 - loss: 0.4984 - val_accuracy: 0.6545 - val_loss: 0.6285\n",
      "Epoch 88/100\n",
      "\u001b[1m70/70\u001b[0m \u001b[32m━━━━━━━━━━━━━━━━━━━━\u001b[0m\u001b[37m\u001b[0m \u001b[1m0s\u001b[0m 609us/step - accuracy: 0.7696 - loss: 0.4968 - val_accuracy: 0.6504 - val_loss: 0.6288\n",
      "Epoch 89/100\n",
      "\u001b[1m70/70\u001b[0m \u001b[32m━━━━━━━━━━━━━━━━━━━━\u001b[0m\u001b[37m\u001b[0m \u001b[1m0s\u001b[0m 598us/step - accuracy: 0.7716 - loss: 0.4951 - val_accuracy: 0.6504 - val_loss: 0.6297\n",
      "Epoch 90/100\n",
      "\u001b[1m70/70\u001b[0m \u001b[32m━━━━━━━━━━━━━━━━━━━━\u001b[0m\u001b[37m\u001b[0m \u001b[1m0s\u001b[0m 625us/step - accuracy: 0.7749 - loss: 0.4934 - val_accuracy: 0.6504 - val_loss: 0.6303\n",
      "Epoch 91/100\n",
      "\u001b[1m70/70\u001b[0m \u001b[32m━━━━━━━━━━━━━━━━━━━━\u001b[0m\u001b[37m\u001b[0m \u001b[1m0s\u001b[0m 582us/step - accuracy: 0.7749 - loss: 0.4918 - val_accuracy: 0.6504 - val_loss: 0.6311\n",
      "Epoch 92/100\n",
      "\u001b[1m70/70\u001b[0m \u001b[32m━━━━━━━━━━━━━━━━━━━━\u001b[0m\u001b[37m\u001b[0m \u001b[1m0s\u001b[0m 592us/step - accuracy: 0.7791 - loss: 0.4901 - val_accuracy: 0.6463 - val_loss: 0.6320\n",
      "Epoch 93/100\n",
      "\u001b[1m70/70\u001b[0m \u001b[32m━━━━━━━━━━━━━━━━━━━━\u001b[0m\u001b[37m\u001b[0m \u001b[1m0s\u001b[0m 564us/step - accuracy: 0.7818 - loss: 0.4883 - val_accuracy: 0.6463 - val_loss: 0.6326\n",
      "Epoch 94/100\n",
      "\u001b[1m70/70\u001b[0m \u001b[32m━━━━━━━━━━━━━━━━━━━━\u001b[0m\u001b[37m\u001b[0m \u001b[1m0s\u001b[0m 565us/step - accuracy: 0.7851 - loss: 0.4866 - val_accuracy: 0.6463 - val_loss: 0.6334\n",
      "Epoch 95/100\n",
      "\u001b[1m70/70\u001b[0m \u001b[32m━━━━━━━━━━━━━━━━━━━━\u001b[0m\u001b[37m\u001b[0m \u001b[1m0s\u001b[0m 578us/step - accuracy: 0.7826 - loss: 0.4849 - val_accuracy: 0.6545 - val_loss: 0.6342\n",
      "Epoch 96/100\n",
      "\u001b[1m70/70\u001b[0m \u001b[32m━━━━━━━━━━━━━━━━━━━━\u001b[0m\u001b[37m\u001b[0m \u001b[1m0s\u001b[0m 595us/step - accuracy: 0.7822 - loss: 0.4832 - val_accuracy: 0.6545 - val_loss: 0.6349\n",
      "Epoch 97/100\n",
      "\u001b[1m70/70\u001b[0m \u001b[32m━━━━━━━━━━━━━━━━━━━━\u001b[0m\u001b[37m\u001b[0m \u001b[1m0s\u001b[0m 587us/step - accuracy: 0.7829 - loss: 0.4814 - val_accuracy: 0.6504 - val_loss: 0.6355\n",
      "Epoch 98/100\n",
      "\u001b[1m70/70\u001b[0m \u001b[32m━━━━━━━━━━━━━━━━━━━━\u001b[0m\u001b[37m\u001b[0m \u001b[1m0s\u001b[0m 630us/step - accuracy: 0.7833 - loss: 0.4797 - val_accuracy: 0.6545 - val_loss: 0.6366\n",
      "Epoch 99/100\n",
      "\u001b[1m70/70\u001b[0m \u001b[32m━━━━━━━━━━━━━━━━━━━━\u001b[0m\u001b[37m\u001b[0m \u001b[1m0s\u001b[0m 601us/step - accuracy: 0.7871 - loss: 0.4780 - val_accuracy: 0.6626 - val_loss: 0.6375\n",
      "Epoch 100/100\n",
      "\u001b[1m70/70\u001b[0m \u001b[32m━━━━━━━━━━━━━━━━━━━━\u001b[0m\u001b[37m\u001b[0m \u001b[1m0s\u001b[0m 598us/step - accuracy: 0.7878 - loss: 0.4762 - val_accuracy: 0.6626 - val_loss: 0.6387\n"
     ]
    }
   ],
   "source": [
    "water_history = water_model.fit(X_water_train, y_water_train, epochs=100,\n",
    "                                verbose=1, validation_split=0.1)"
   ]
  },
  {
   "cell_type": "markdown",
   "metadata": {
    "id": "4EsyogY56uwW"
   },
   "source": [
    "The neural network is now trained. At each epoch, Keras displays some relevant information, including the number of instances processed, mean training time per step and the loss and accuracy on both the training and validation set. The information displayed can be altered using the `metrics` parameter.\n",
    "\n",
    "We can see that training and validation accuracies reached 75% and 70% respectively. Since accuracy is still low, we might be underfitting (which could be solved by increasing model complexity) or we might need to train the model for more iterations.\n",
    "\n",
    "The `fit()` methods also returns a `History` object containing relevant information as `history.params`, `history.epochs` and `history.history`. This last one is a dictonary containing the metrics measured at each epoch. We can plot this data to get the learning curves."
   ]
  },
  {
   "cell_type": "code",
   "execution_count": 24,
   "metadata": {
    "colab": {
     "base_uri": "https://localhost:8080/",
     "height": 388
    },
    "executionInfo": {
     "elapsed": 959,
     "status": "ok",
     "timestamp": 1726876128060,
     "user": {
      "displayName": "Julio Guillermo Arriaga Blumenkron",
      "userId": "18360755152457408573"
     },
     "user_tz": 360
    },
    "id": "t7VWHM15vEQP",
    "outputId": "68b44b95-f368-4e82-a463-7e5de82df416"
   },
   "outputs": [
    {
     "data": {
      "image/png": "[encoded data removed]",
      "text/plain": [
       "<Figure size 1200x400 with 2 Axes>"
      ]
     },
     "metadata": {},
     "output_type": "display_data"
    }
   ],
   "source": [
    "plt.figure(figsize=(12, 4))\n",
    "\n",
    "plt.subplot(1, 2, 1)\n",
    "plt.plot(water_history.history['accuracy'], label='Training Accuracy')\n",
    "plt.plot(water_history.history['val_accuracy'], label='Validation Accuracy')\n",
    "plt.xlabel('Epoch')\n",
    "plt.ylabel('Accuracy')\n",
    "plt.legend()\n",
    "\n",
    "plt.subplot(1, 2, 2)\n",
    "plt.plot(water_history.history['loss'], label='Training Loss')\n",
    "plt.plot(water_history.history['val_loss'], label='Validation Loss')\n",
    "plt.xlabel('Epoch')\n",
    "plt.ylabel('Loss')\n",
    "plt.legend()\n",
    "\n",
    "plt.show()"
   ]
  },
  {
   "cell_type": "markdown",
   "metadata": {
    "id": "0TPrO5Gf-p31"
   },
   "source": [
    "If deemed necessary, we can continue to train the model by calling the `fit()` method again, and Keras will continue where it left off. Try running the previous cells again, and check if we can improve our results."
   ]
  },
  {
   "cell_type": "markdown",
   "metadata": {
    "id": "5jQqUDq2DOeh"
   },
   "source": [
    "Once we are satisfied with the model's performance, we can test it by calling the `evaluate()` method, providing the test data we set aside previously. It's important to note, the method will return values for the loss, as well as all the metrics specified when compiling the model."
   ]
  },
  {
   "cell_type": "code",
   "execution_count": 25,
   "metadata": {
    "colab": {
     "base_uri": "https://localhost:8080/"
    },
    "executionInfo": {
     "elapsed": 820,
     "status": "ok",
     "timestamp": 1726876173794,
     "user": {
      "displayName": "Julio Guillermo Arriaga Blumenkron",
      "userId": "18360755152457408573"
     },
     "user_tz": 360
    },
    "id": "j9nybOmgvEQO",
    "outputId": "02bb01c8-2d14-47f7-d19d-dee92bc66ad1"
   },
   "outputs": [
    {
     "name": "stdout",
     "output_type": "stream",
     "text": [
      "26/26 - 0s - 815us/step - accuracy: 0.6752 - loss: 0.6224\n",
      "Test Accuracy: 67.52%\n"
     ]
    }
   ],
   "source": [
    "test_loss, test_accuracy = water_model.evaluate(X_water_test,\n",
    "                                                y_water_test, verbose=2)\n",
    "print(f\"Test Accuracy: {test_accuracy*100:.2f}%\")"
   ]
  },
  {
   "cell_type": "markdown",
   "metadata": {
    "id": "1UlYaXYZDvEi"
   },
   "source": [
    "We can also use `sklearn`'s `ConfusionMatrixDisplay` to visualize the model's confusion matrix."
   ]
  },
  {
   "cell_type": "code",
   "execution_count": 26,
   "metadata": {
    "colab": {
     "base_uri": "https://localhost:8080/",
     "height": 466
    },
    "executionInfo": {
     "elapsed": 1700,
     "status": "ok",
     "timestamp": 1726876195784,
     "user": {
      "displayName": "Julio Guillermo Arriaga Blumenkron",
      "userId": "18360755152457408573"
     },
     "user_tz": 360
    },
    "id": "1v3mE1ez1dmQ",
    "outputId": "a7fdcb83-690f-411d-bfc7-bdabcc1fe030"
   },
   "outputs": [
    {
     "name": "stdout",
     "output_type": "stream",
     "text": [
      "\u001b[1m26/26\u001b[0m \u001b[32m━━━━━━━━━━━━━━━━━━━━\u001b[0m\u001b[37m\u001b[0m \u001b[1m0s\u001b[0m 1ms/step \n"
     ]
    },
    {
     "data": {
      "image/png": "[encoded data removed]",
      "text/plain": [
       "<Figure size 640x480 with 2 Axes>"
      ]
     },
     "metadata": {},
     "output_type": "display_data"
    }
   ],
   "source": [
    "from sklearn.metrics import ConfusionMatrixDisplay, confusion_matrix\n",
    "\n",
    "y_water_pred = water_model.predict(X_water_test).flatten().round()\n",
    "cm = confusion_matrix(y_water_test, y_water_pred)\n",
    "\n",
    "cm_display = ConfusionMatrixDisplay(cm).plot()"
   ]
  },
  {
   "cell_type": "markdown",
   "metadata": {
    "id": "OOJ4MbmDCFKP"
   },
   "source": [
    "# Using the model to make predictions #\n",
    "\n",
    "Finally, we can use our trained model to make predictions on new instances using the `predict()` method."
   ]
  },
  {
   "cell_type": "code",
   "execution_count": 27,
   "metadata": {
    "colab": {
     "base_uri": "https://localhost:8080/"
    },
    "executionInfo": {
     "elapsed": 1337,
     "status": "ok",
     "timestamp": 1726876218895,
     "user": {
      "displayName": "Julio Guillermo Arriaga Blumenkron",
      "userId": "18360755152457408573"
     },
     "user_tz": 360
    },
    "id": "n7HDibokvEQP",
    "outputId": "8346a73a-ea4c-49cc-df7f-e2696f1de103"
   },
   "outputs": [
    {
     "name": "stdout",
     "output_type": "stream",
     "text": [
      "\u001b[1m1/1\u001b[0m \u001b[32m━━━━━━━━━━━━━━━━━━━━\u001b[0m\u001b[37m\u001b[0m \u001b[1m0s\u001b[0m 11ms/step\n",
      "Prediction: 0.0, True: 1\n",
      "Prediction: 0.0, True: 0\n",
      "Prediction: 1.0, True: 1\n",
      "Prediction: 0.0, True: 0\n",
      "Prediction: 0.0, True: 0\n",
      "Prediction: 0.0, True: 0\n",
      "Prediction: 0.0, True: 0\n",
      "Prediction: 1.0, True: 0\n",
      "Prediction: 0.0, True: 0\n",
      "Prediction: 0.0, True: 1\n"
     ]
    }
   ],
   "source": [
    "X_water_new = X_water_test[-10:] # pretend these are new instances\n",
    "y_water_new = y_water_test[-10:]\n",
    "y_water_pred = water_model.predict(X_water_new).flatten().round()\n",
    "for i in range(10):\n",
    "  print(f'Prediction: {y_water_pred[i]}, True: {y_water_new.iloc[i]}')"
   ]
  },
  {
   "cell_type": "markdown",
   "metadata": {
    "id": "bYbTSHLrkM45"
   },
   "source": [
    "# Regression MLP #\n",
    "\n",
    "We are now going to build a regression multi-layer Perceptron using Keras. General steps are pretty similar to the ones we followed in the previous example. Only needing to switch some configuration options regarding the inputs and outputs."
   ]
  },
  {
   "cell_type": "markdown",
   "metadata": {
    "id": "btZhw5uJiKx_"
   },
   "source": [
    "This time around we'll use the [California Housing dataset](https://scikit-learn.org/stable/modules/generated/sklearn.datasets.fetch_california_housing.html), a real-world dataset collected through California's 1990 census consisting of 20,640 samples and 9 features. This dataset is available through `sklearn`'s `datasets`module."
   ]
  },
  {
   "cell_type": "code",
   "execution_count": 28,
   "metadata": {
    "executionInfo": {
     "elapsed": 1729,
     "status": "ok",
     "timestamp": 1727216230606,
     "user": {
      "displayName": "Julio Guillermo Arriaga Blumenkron",
      "userId": "18360755152457408573"
     },
     "user_tz": 360
    },
    "id": "BPWUoJ1MIenn"
   },
   "outputs": [],
   "source": [
    "from sklearn.datasets import fetch_california_housing\n",
    "\n",
    "housing = fetch_california_housing(as_frame=True)"
   ]
  },
  {
   "cell_type": "markdown",
   "metadata": {
    "id": "rssO3KMP_c6H"
   },
   "source": [
    "We'll proceed with the usual data preprocessing steps."
   ]
  },
  {
   "cell_type": "code",
   "execution_count": 29,
   "metadata": {
    "colab": {
     "base_uri": "https://localhost:8080/",
     "height": 206
    },
    "executionInfo": {
     "elapsed": 298,
     "status": "ok",
     "timestamp": 1727216242249,
     "user": {
      "displayName": "Julio Guillermo Arriaga Blumenkron",
      "userId": "18360755152457408573"
     },
     "user_tz": 360
    },
    "id": "vtIW1N9aIhot",
    "outputId": "9e8b20bd-beef-4306-ed30-3e9371c74548"
   },
   "outputs": [
    {
     "data": {
      "text/html": [
       "<div>\n",
       "<style scoped>\n",
       "    .dataframe tbody tr th:only-of-type {\n",
       "        vertical-align: middle;\n",
       "    }\n",
       "\n",
       "    .dataframe tbody tr th {\n",
       "        vertical-align: top;\n",
       "    }\n",
       "\n",
       "    .dataframe thead th {\n",
       "        text-align: right;\n",
       "    }\n",
       "</style>\n",
       "<table border=\"1\" class=\"dataframe\">\n",
       "  <thead>\n",
       "    <tr style=\"text-align: right;\">\n",
       "      <th></th>\n",
       "      <th>MedInc</th>\n",
       "      <th>HouseAge</th>\n",
       "      <th>AveRooms</th>\n",
       "      <th>AveBedrms</th>\n",
       "      <th>Population</th>\n",
       "      <th>AveOccup</th>\n",
       "      <th>Latitude</th>\n",
       "      <th>Longitude</th>\n",
       "    </tr>\n",
       "  </thead>\n",
       "  <tbody>\n",
       "    <tr>\n",
       "      <th>0</th>\n",
       "      <td>8.3252</td>\n",
       "      <td>41.0</td>\n",
       "      <td>6.984127</td>\n",
       "      <td>1.023810</td>\n",
       "      <td>322.0</td>\n",
       "      <td>2.555556</td>\n",
       "      <td>37.88</td>\n",
       "      <td>-122.23</td>\n",
       "    </tr>\n",
       "    <tr>\n",
       "      <th>1</th>\n",
       "      <td>8.3014</td>\n",
       "      <td>21.0</td>\n",
       "      <td>6.238137</td>\n",
       "      <td>0.971880</td>\n",
       "      <td>2401.0</td>\n",
       "      <td>2.109842</td>\n",
       "      <td>37.86</td>\n",
       "      <td>-122.22</td>\n",
       "    </tr>\n",
       "    <tr>\n",
       "      <th>2</th>\n",
       "      <td>7.2574</td>\n",
       "      <td>52.0</td>\n",
       "      <td>8.288136</td>\n",
       "      <td>1.073446</td>\n",
       "      <td>496.0</td>\n",
       "      <td>2.802260</td>\n",
       "      <td>37.85</td>\n",
       "      <td>-122.24</td>\n",
       "    </tr>\n",
       "    <tr>\n",
       "      <th>3</th>\n",
       "      <td>5.6431</td>\n",
       "      <td>52.0</td>\n",
       "      <td>5.817352</td>\n",
       "      <td>1.073059</td>\n",
       "      <td>558.0</td>\n",
       "      <td>2.547945</td>\n",
       "      <td>37.85</td>\n",
       "      <td>-122.25</td>\n",
       "    </tr>\n",
       "    <tr>\n",
       "      <th>4</th>\n",
       "      <td>3.8462</td>\n",
       "      <td>52.0</td>\n",
       "      <td>6.281853</td>\n",
       "      <td>1.081081</td>\n",
       "      <td>565.0</td>\n",
       "      <td>2.181467</td>\n",
       "      <td>37.85</td>\n",
       "      <td>-122.25</td>\n",
       "    </tr>\n",
       "  </tbody>\n",
       "</table>\n",
       "</div>"
      ],
      "text/plain": [
       "   MedInc  HouseAge  AveRooms  AveBedrms  Population  AveOccup  Latitude  \\\n",
       "0  8.3252      41.0  6.984127   1.023810       322.0  2.555556     37.88   \n",
       "1  8.3014      21.0  6.238137   0.971880      2401.0  2.109842     37.86   \n",
       "2  7.2574      52.0  8.288136   1.073446       496.0  2.802260     37.85   \n",
       "3  5.6431      52.0  5.817352   1.073059       558.0  2.547945     37.85   \n",
       "4  3.8462      52.0  6.281853   1.081081       565.0  2.181467     37.85   \n",
       "\n",
       "   Longitude  \n",
       "0    -122.23  \n",
       "1    -122.22  \n",
       "2    -122.24  \n",
       "3    -122.25  \n",
       "4    -122.25  "
      ]
     },
     "execution_count": 29,
     "metadata": {},
     "output_type": "execute_result"
    }
   ],
   "source": [
    "housing.data.head()"
   ]
  },
  {
   "cell_type": "code",
   "execution_count": 30,
   "metadata": {
    "colab": {
     "base_uri": "https://localhost:8080/",
     "height": 300
    },
    "executionInfo": {
     "elapsed": 273,
     "status": "ok",
     "timestamp": 1727216272297,
     "user": {
      "displayName": "Julio Guillermo Arriaga Blumenkron",
      "userId": "18360755152457408573"
     },
     "user_tz": 360
    },
    "id": "T99tkaQRI6t6",
    "outputId": "8169016a-ae06-46d1-ad06-624666ec4157"
   },
   "outputs": [
    {
     "data": {
      "text/html": [
       "<div>\n",
       "<style scoped>\n",
       "    .dataframe tbody tr th:only-of-type {\n",
       "        vertical-align: middle;\n",
       "    }\n",
       "\n",
       "    .dataframe tbody tr th {\n",
       "        vertical-align: top;\n",
       "    }\n",
       "\n",
       "    .dataframe thead th {\n",
       "        text-align: right;\n",
       "    }\n",
       "</style>\n",
       "<table border=\"1\" class=\"dataframe\">\n",
       "  <thead>\n",
       "    <tr style=\"text-align: right;\">\n",
       "      <th></th>\n",
       "      <th>MedInc</th>\n",
       "      <th>HouseAge</th>\n",
       "      <th>AveRooms</th>\n",
       "      <th>AveBedrms</th>\n",
       "      <th>Population</th>\n",
       "      <th>AveOccup</th>\n",
       "      <th>Latitude</th>\n",
       "      <th>Longitude</th>\n",
       "    </tr>\n",
       "  </thead>\n",
       "  <tbody>\n",
       "    <tr>\n",
       "      <th>count</th>\n",
       "      <td>20640.000000</td>\n",
       "      <td>20640.000000</td>\n",
       "      <td>20640.000000</td>\n",
       "      <td>20640.000000</td>\n",
       "      <td>20640.000000</td>\n",
       "      <td>20640.000000</td>\n",
       "      <td>20640.000000</td>\n",
       "      <td>20640.000000</td>\n",
       "    </tr>\n",
       "    <tr>\n",
       "      <th>mean</th>\n",
       "      <td>3.870671</td>\n",
       "      <td>28.639486</td>\n",
       "      <td>5.429000</td>\n",
       "      <td>1.096675</td>\n",
       "      <td>1425.476744</td>\n",
       "      <td>3.070655</td>\n",
       "      <td>35.631861</td>\n",
       "      <td>-119.569704</td>\n",
       "    </tr>\n",
       "    <tr>\n",
       "      <th>std</th>\n",
       "      <td>1.899822</td>\n",
       "      <td>12.585558</td>\n",
       "      <td>2.474173</td>\n",
       "      <td>0.473911</td>\n",
       "      <td>1132.462122</td>\n",
       "      <td>10.386050</td>\n",
       "      <td>2.135952</td>\n",
       "      <td>2.003532</td>\n",
       "    </tr>\n",
       "    <tr>\n",
       "      <th>min</th>\n",
       "      <td>0.499900</td>\n",
       "      <td>1.000000</td>\n",
       "      <td>0.846154</td>\n",
       "      <td>0.333333</td>\n",
       "      <td>3.000000</td>\n",
       "      <td>0.692308</td>\n",
       "      <td>32.540000</td>\n",
       "      <td>-124.350000</td>\n",
       "    </tr>\n",
       "    <tr>\n",
       "      <th>25%</th>\n",
       "      <td>2.563400</td>\n",
       "      <td>18.000000</td>\n",
       "      <td>4.440716</td>\n",
       "      <td>1.006079</td>\n",
       "      <td>787.000000</td>\n",
       "      <td>2.429741</td>\n",
       "      <td>33.930000</td>\n",
       "      <td>-121.800000</td>\n",
       "    </tr>\n",
       "    <tr>\n",
       "      <th>50%</th>\n",
       "      <td>3.534800</td>\n",
       "      <td>29.000000</td>\n",
       "      <td>5.229129</td>\n",
       "      <td>1.048780</td>\n",
       "      <td>1166.000000</td>\n",
       "      <td>2.818116</td>\n",
       "      <td>34.260000</td>\n",
       "      <td>-118.490000</td>\n",
       "    </tr>\n",
       "    <tr>\n",
       "      <th>75%</th>\n",
       "      <td>4.743250</td>\n",
       "      <td>37.000000</td>\n",
       "      <td>6.052381</td>\n",
       "      <td>1.099526</td>\n",
       "      <td>1725.000000</td>\n",
       "      <td>3.282261</td>\n",
       "      <td>37.710000</td>\n",
       "      <td>-118.010000</td>\n",
       "    </tr>\n",
       "    <tr>\n",
       "      <th>max</th>\n",
       "      <td>15.000100</td>\n",
       "      <td>52.000000</td>\n",
       "      <td>141.909091</td>\n",
       "      <td>34.066667</td>\n",
       "      <td>35682.000000</td>\n",
       "      <td>1243.333333</td>\n",
       "      <td>41.950000</td>\n",
       "      <td>-114.310000</td>\n",
       "    </tr>\n",
       "  </tbody>\n",
       "</table>\n",
       "</div>"
      ],
      "text/plain": [
       "             MedInc      HouseAge      AveRooms     AveBedrms    Population  \\\n",
       "count  20640.000000  20640.000000  20640.000000  20640.000000  20640.000000   \n",
       "mean       3.870671     28.639486      5.429000      1.096675   1425.476744   \n",
       "std        1.899822     12.585558      2.474173      0.473911   1132.462122   \n",
       "min        0.499900      1.000000      0.846154      0.333333      3.000000   \n",
       "25%        2.563400     18.000000      4.440716      1.006079    787.000000   \n",
       "50%        3.534800     29.000000      5.229129      1.048780   1166.000000   \n",
       "75%        4.743250     37.000000      6.052381      1.099526   1725.000000   \n",
       "max       15.000100     52.000000    141.909091     34.066667  35682.000000   \n",
       "\n",
       "           AveOccup      Latitude     Longitude  \n",
       "count  20640.000000  20640.000000  20640.000000  \n",
       "mean       3.070655     35.631861   -119.569704  \n",
       "std       10.386050      2.135952      2.003532  \n",
       "min        0.692308     32.540000   -124.350000  \n",
       "25%        2.429741     33.930000   -121.800000  \n",
       "50%        2.818116     34.260000   -118.490000  \n",
       "75%        3.282261     37.710000   -118.010000  \n",
       "max     1243.333333     41.950000   -114.310000  "
      ]
     },
     "execution_count": 30,
     "metadata": {},
     "output_type": "execute_result"
    }
   ],
   "source": [
    "housing.data.describe()"
   ]
  },
  {
   "cell_type": "code",
   "execution_count": 31,
   "metadata": {
    "colab": {
     "base_uri": "https://localhost:8080/",
     "height": 458
    },
    "executionInfo": {
     "elapsed": 266,
     "status": "ok",
     "timestamp": 1727216289815,
     "user": {
      "displayName": "Julio Guillermo Arriaga Blumenkron",
      "userId": "18360755152457408573"
     },
     "user_tz": 360
    },
    "id": "n3RV5jAjIk5F",
    "outputId": "a6473dd5-52d6-48cc-e69a-dfa42fbb62a3"
   },
   "outputs": [
    {
     "data": {
      "text/plain": [
       "0        4.526\n",
       "1        3.585\n",
       "2        3.521\n",
       "3        3.413\n",
       "4        3.422\n",
       "         ...  \n",
       "20635    0.781\n",
       "20636    0.771\n",
       "20637    0.923\n",
       "20638    0.847\n",
       "20639    0.894\n",
       "Name: MedHouseVal, Length: 20640, dtype: float64"
      ]
     },
     "execution_count": 31,
     "metadata": {},
     "output_type": "execute_result"
    }
   ],
   "source": [
    "housing.target"
   ]
  },
  {
   "cell_type": "code",
   "execution_count": 32,
   "metadata": {
    "colab": {
     "base_uri": "https://localhost:8080/",
     "height": 335
    },
    "executionInfo": {
     "elapsed": 381,
     "status": "ok",
     "timestamp": 1727216303287,
     "user": {
      "displayName": "Julio Guillermo Arriaga Blumenkron",
      "userId": "18360755152457408573"
     },
     "user_tz": 360
    },
    "id": "33wzy0V8JyoH",
    "outputId": "30ad6ef1-8e3b-47d8-bcd8-717d3c20d151"
   },
   "outputs": [
    {
     "data": {
      "text/plain": [
       "MedInc        0\n",
       "HouseAge      0\n",
       "AveRooms      0\n",
       "AveBedrms     0\n",
       "Population    0\n",
       "AveOccup      0\n",
       "Latitude      0\n",
       "Longitude     0\n",
       "dtype: int64"
      ]
     },
     "execution_count": 32,
     "metadata": {},
     "output_type": "execute_result"
    }
   ],
   "source": [
    "housing.data.isna().sum()"
   ]
  },
  {
   "cell_type": "code",
   "execution_count": 33,
   "metadata": {
    "executionInfo": {
     "elapsed": 287,
     "status": "ok",
     "timestamp": 1727216447603,
     "user": {
      "displayName": "Julio Guillermo Arriaga Blumenkron",
      "userId": "18360755152457408573"
     },
     "user_tz": 360
    },
    "id": "B_XhYDrChred"
   },
   "outputs": [],
   "source": [
    "X_house_train, X_house_test, y_house_train, y_house_test = train_test_split(housing.data, housing.target)\n",
    "X_house_train, X_house_valid, y_house_train, y_house_valid = train_test_split(X_house_train, y_house_train)\n",
    "\n",
    "scaler = StandardScaler()\n",
    "X_house_train = scaler.fit_transform(X_house_train)\n",
    "X_house_valid = scaler.transform(X_house_valid)\n",
    "X_house_test = scaler.transform(X_house_test)"
   ]
  },
  {
   "cell_type": "markdown",
   "metadata": {
    "id": "9GVSLyvxhs3J"
   },
   "source": [
    "We'll once again use the `Sequential` API to build, train and evaluate our model. However this time, we'll use a single output neuron without an activation function since we only need one output value which doesn't have a predefined range. We'll also use the mean squared error as our loss function since this is a regression problem.\n",
    "\n",
    "Notice the use of the `add()` method from the `Sequential` class to build the model, instead of directly including our model's layers through its constructor.\n",
    "\n",
    "Also, notice the use of the `validation_data` parameter this time, as we split the data ourselves."
   ]
  },
  {
   "cell_type": "code",
   "execution_count": 34,
   "metadata": {
    "colab": {
     "base_uri": "https://localhost:8080/",
     "height": 225
    },
    "executionInfo": {
     "elapsed": 1603,
     "status": "ok",
     "timestamp": 1727216557796,
     "user": {
      "displayName": "Julio Guillermo Arriaga Blumenkron",
      "userId": "18360755152457408573"
     },
     "user_tz": 360
    },
    "id": "DBPxxirsAurU",
    "outputId": "a0b0e3e3-cb93-4c84-d5d4-5eb477633497"
   },
   "outputs": [
    {
     "data": {
      "text/html": [
       "<pre style=\"white-space:pre;overflow-x:auto;line-height:normal;font-family:Menlo,'DejaVu Sans Mono',consolas,'Courier New',monospace\"><span style=\"font-weight: bold\">Model: \"house_value\"</span>\n",
       "</pre>\n"
      ],
      "text/plain": [
       "\u001b[1mModel: \"house_value\"\u001b[0m\n"
      ]
     },
     "metadata": {},
     "output_type": "display_data"
    },
    {
     "data": {
      "text/html": [
       "<pre style=\"white-space:pre;overflow-x:auto;line-height:normal;font-family:Menlo,'DejaVu Sans Mono',consolas,'Courier New',monospace\">┏━━━━━━━━━━━━━━━━━━━━━━━━━━━━━━━━━┳━━━━━━━━━━━━━━━━━━━━━━━━┳━━━━━━━━━━━━━━━┓\n",
       "┃<span style=\"font-weight: bold\"> Layer (type)                    </span>┃<span style=\"font-weight: bold\"> Output Shape           </span>┃<span style=\"font-weight: bold\">       Param # </span>┃\n",
       "┡━━━━━━━━━━━━━━━━━━━━━━━━━━━━━━━━━╇━━━━━━━━━━━━━━━━━━━━━━━━╇━━━━━━━━━━━━━━━┩\n",
       "│ hidden_1 (<span style=\"color: #0087ff; text-decoration-color: #0087ff\">Dense</span>)                │ (<span style=\"color: #00d7ff; text-decoration-color: #00d7ff\">None</span>, <span style=\"color: #00af00; text-decoration-color: #00af00\">32</span>)             │           <span style=\"color: #00af00; text-decoration-color: #00af00\">288</span> │\n",
       "├─────────────────────────────────┼────────────────────────┼───────────────┤\n",
       "│ hidden_2 (<span style=\"color: #0087ff; text-decoration-color: #0087ff\">Dense</span>)                │ (<span style=\"color: #00d7ff; text-decoration-color: #00d7ff\">None</span>, <span style=\"color: #00af00; text-decoration-color: #00af00\">16</span>)             │           <span style=\"color: #00af00; text-decoration-color: #00af00\">528</span> │\n",
       "├─────────────────────────────────┼────────────────────────┼───────────────┤\n",
       "│ output (<span style=\"color: #0087ff; text-decoration-color: #0087ff\">Dense</span>)                  │ (<span style=\"color: #00d7ff; text-decoration-color: #00d7ff\">None</span>, <span style=\"color: #00af00; text-decoration-color: #00af00\">1</span>)              │            <span style=\"color: #00af00; text-decoration-color: #00af00\">17</span> │\n",
       "└─────────────────────────────────┴────────────────────────┴───────────────┘\n",
       "</pre>\n"
      ],
      "text/plain": [
       "┏━━━━━━━━━━━━━━━━━━━━━━━━━━━━━━━━━┳━━━━━━━━━━━━━━━━━━━━━━━━┳━━━━━━━━━━━━━━━┓\n",
       "┃\u001b[1m \u001b[0m\u001b[1mLayer (type)                   \u001b[0m\u001b[1m \u001b[0m┃\u001b[1m \u001b[0m\u001b[1mOutput Shape          \u001b[0m\u001b[1m \u001b[0m┃\u001b[1m \u001b[0m\u001b[1m      Param #\u001b[0m\u001b[1m \u001b[0m┃\n",
       "┡━━━━━━━━━━━━━━━━━━━━━━━━━━━━━━━━━╇━━━━━━━━━━━━━━━━━━━━━━━━╇━━━━━━━━━━━━━━━┩\n",
       "│ hidden_1 (\u001b[38;5;33mDense\u001b[0m)                │ (\u001b[38;5;45mNone\u001b[0m, \u001b[38;5;34m32\u001b[0m)             │           \u001b[38;5;34m288\u001b[0m │\n",
       "├─────────────────────────────────┼────────────────────────┼───────────────┤\n",
       "│ hidden_2 (\u001b[38;5;33mDense\u001b[0m)                │ (\u001b[38;5;45mNone\u001b[0m, \u001b[38;5;34m16\u001b[0m)             │           \u001b[38;5;34m528\u001b[0m │\n",
       "├─────────────────────────────────┼────────────────────────┼───────────────┤\n",
       "│ output (\u001b[38;5;33mDense\u001b[0m)                  │ (\u001b[38;5;45mNone\u001b[0m, \u001b[38;5;34m1\u001b[0m)              │            \u001b[38;5;34m17\u001b[0m │\n",
       "└─────────────────────────────────┴────────────────────────┴───────────────┘\n"
      ]
     },
     "metadata": {},
     "output_type": "display_data"
    },
    {
     "data": {
      "text/html": [
       "<pre style=\"white-space:pre;overflow-x:auto;line-height:normal;font-family:Menlo,'DejaVu Sans Mono',consolas,'Courier New',monospace\"><span style=\"font-weight: bold\"> Total params: </span><span style=\"color: #00af00; text-decoration-color: #00af00\">833</span> (3.25 KB)\n",
       "</pre>\n"
      ],
      "text/plain": [
       "\u001b[1m Total params: \u001b[0m\u001b[38;5;34m833\u001b[0m (3.25 KB)\n"
      ]
     },
     "metadata": {},
     "output_type": "display_data"
    },
    {
     "data": {
      "text/html": [
       "<pre style=\"white-space:pre;overflow-x:auto;line-height:normal;font-family:Menlo,'DejaVu Sans Mono',consolas,'Courier New',monospace\"><span style=\"font-weight: bold\"> Trainable params: </span><span style=\"color: #00af00; text-decoration-color: #00af00\">833</span> (3.25 KB)\n",
       "</pre>\n"
      ],
      "text/plain": [
       "\u001b[1m Trainable params: \u001b[0m\u001b[38;5;34m833\u001b[0m (3.25 KB)\n"
      ]
     },
     "metadata": {},
     "output_type": "display_data"
    },
    {
     "data": {
      "text/html": [
       "<pre style=\"white-space:pre;overflow-x:auto;line-height:normal;font-family:Menlo,'DejaVu Sans Mono',consolas,'Courier New',monospace\"><span style=\"font-weight: bold\"> Non-trainable params: </span><span style=\"color: #00af00; text-decoration-color: #00af00\">0</span> (0.00 B)\n",
       "</pre>\n"
      ],
      "text/plain": [
       "\u001b[1m Non-trainable params: \u001b[0m\u001b[38;5;34m0\u001b[0m (0.00 B)\n"
      ]
     },
     "metadata": {},
     "output_type": "display_data"
    }
   ],
   "source": [
    "house_model = keras.models.Sequential(name='house_value')\n",
    "house_model.add(keras.layers.Input(shape=X_house_train.shape[1:], name='input'))\n",
    "house_model.add(keras.layers.Dense(32, activation=\"relu\", name='hidden_1'))\n",
    "house_model.add(keras.layers.Dense(16, activation=\"relu\", name='hidden_2'))\n",
    "house_model.add(keras.layers.Dense(1, name='output'))\n",
    "\n",
    "house_model.summary()"
   ]
  },
  {
   "cell_type": "code",
   "execution_count": 35,
   "metadata": {
    "colab": {
     "base_uri": "https://localhost:8080/"
    },
    "executionInfo": {
     "elapsed": 54420,
     "status": "ok",
     "timestamp": 1727216790326,
     "user": {
      "displayName": "Julio Guillermo Arriaga Blumenkron",
      "userId": "18360755152457408573"
     },
     "user_tz": 360
    },
    "id": "pkLMsTtgjrFd",
    "outputId": "8ccdb10b-3b43-4f0f-e1bd-4b8a8b18d822"
   },
   "outputs": [
    {
     "name": "stdout",
     "output_type": "stream",
     "text": [
      "Epoch 1/50\n",
      "\u001b[1m363/363\u001b[0m \u001b[32m━━━━━━━━━━━━━━━━━━━━\u001b[0m\u001b[37m\u001b[0m \u001b[1m0s\u001b[0m 556us/step - loss: 1.0596 - val_loss: 0.4914\n",
      "Epoch 2/50\n",
      "\u001b[1m363/363\u001b[0m \u001b[32m━━━━━━━━━━━━━━━━━━━━\u001b[0m\u001b[37m\u001b[0m \u001b[1m0s\u001b[0m 504us/step - loss: 0.4770 - val_loss: 0.4214\n",
      "Epoch 3/50\n",
      "\u001b[1m363/363\u001b[0m \u001b[32m━━━━━━━━━━━━━━━━━━━━\u001b[0m\u001b[37m\u001b[0m \u001b[1m0s\u001b[0m 420us/step - loss: 0.4351 - val_loss: 0.4083\n",
      "Epoch 4/50\n",
      "\u001b[1m363/363\u001b[0m \u001b[32m━━━━━━━━━━━━━━━━━━━━\u001b[0m\u001b[37m\u001b[0m \u001b[1m0s\u001b[0m 406us/step - loss: 0.4087 - val_loss: 0.3878\n",
      "Epoch 5/50\n",
      "\u001b[1m363/363\u001b[0m \u001b[32m━━━━━━━━━━━━━━━━━━━━\u001b[0m\u001b[37m\u001b[0m \u001b[1m0s\u001b[0m 632us/step - loss: 0.3840 - val_loss: 0.3685\n",
      "Epoch 6/50\n",
      "\u001b[1m363/363\u001b[0m \u001b[32m━━━━━━━━━━━━━━━━━━━━\u001b[0m\u001b[37m\u001b[0m \u001b[1m0s\u001b[0m 382us/step - loss: 0.3744 - val_loss: 0.3713\n",
      "Epoch 7/50\n",
      "\u001b[1m363/363\u001b[0m \u001b[32m━━━━━━━━━━━━━━━━━━━━\u001b[0m\u001b[37m\u001b[0m \u001b[1m0s\u001b[0m 372us/step - loss: 0.3663 - val_loss: 0.3583\n",
      "Epoch 8/50\n",
      "\u001b[1m363/363\u001b[0m \u001b[32m━━━━━━━━━━━━━━━━━━━━\u001b[0m\u001b[37m\u001b[0m \u001b[1m0s\u001b[0m 424us/step - loss: 0.3602 - val_loss: 0.3520\n",
      "Epoch 9/50\n",
      "\u001b[1m363/363\u001b[0m \u001b[32m━━━━━━━━━━━━━━━━━━━━\u001b[0m\u001b[37m\u001b[0m \u001b[1m0s\u001b[0m 354us/step - loss: 0.3567 - val_loss: 0.3497\n",
      "Epoch 10/50\n",
      "\u001b[1m363/363\u001b[0m \u001b[32m━━━━━━━━━━━━━━━━━━━━\u001b[0m\u001b[37m\u001b[0m \u001b[1m0s\u001b[0m 380us/step - loss: 0.3518 - val_loss: 0.3432\n",
      "Epoch 11/50\n",
      "\u001b[1m363/363\u001b[0m \u001b[32m━━━━━━━━━━━━━━━━━━━━\u001b[0m\u001b[37m\u001b[0m \u001b[1m0s\u001b[0m 383us/step - loss: 0.3480 - val_loss: 0.3400\n",
      "Epoch 12/50\n",
      "\u001b[1m363/363\u001b[0m \u001b[32m━━━━━━━━━━━━━━━━━━━━\u001b[0m\u001b[37m\u001b[0m \u001b[1m0s\u001b[0m 364us/step - loss: 0.3446 - val_loss: 0.3367\n",
      "Epoch 13/50\n",
      "\u001b[1m363/363\u001b[0m \u001b[32m━━━━━━━━━━━━━━━━━━━━\u001b[0m\u001b[37m\u001b[0m \u001b[1m0s\u001b[0m 373us/step - loss: 0.3414 - val_loss: 0.3334\n",
      "Epoch 14/50\n",
      "\u001b[1m363/363\u001b[0m \u001b[32m━━━━━━━━━━━━━━━━━━━━\u001b[0m\u001b[37m\u001b[0m \u001b[1m0s\u001b[0m 343us/step - loss: 0.3385 - val_loss: 0.3312\n",
      "Epoch 15/50\n",
      "\u001b[1m363/363\u001b[0m \u001b[32m━━━━━━━━━━━━━━━━━━━━\u001b[0m\u001b[37m\u001b[0m \u001b[1m0s\u001b[0m 341us/step - loss: 0.3362 - val_loss: 0.3282\n",
      "Epoch 16/50\n",
      "\u001b[1m363/363\u001b[0m \u001b[32m━━━━━━━━━━━━━━━━━━━━\u001b[0m\u001b[37m\u001b[0m \u001b[1m0s\u001b[0m 341us/step - loss: 0.3334 - val_loss: 0.3253\n",
      "Epoch 17/50\n",
      "\u001b[1m363/363\u001b[0m \u001b[32m━━━━━━━━━━━━━━━━━━━━\u001b[0m\u001b[37m\u001b[0m \u001b[1m0s\u001b[0m 341us/step - loss: 0.3308 - val_loss: 0.3225\n",
      "Epoch 18/50\n",
      "\u001b[1m363/363\u001b[0m \u001b[32m━━━━━━━━━━━━━━━━━━━━\u001b[0m\u001b[37m\u001b[0m \u001b[1m0s\u001b[0m 348us/step - loss: 0.3283 - val_loss: 0.3198\n",
      "Epoch 19/50\n",
      "\u001b[1m363/363\u001b[0m \u001b[32m━━━━━━━━━━━━━━━━━━━━\u001b[0m\u001b[37m\u001b[0m \u001b[1m0s\u001b[0m 350us/step - loss: 0.3263 - val_loss: 0.3176\n",
      "Epoch 20/50\n",
      "\u001b[1m363/363\u001b[0m \u001b[32m━━━━━━━━━━━━━━━━━━━━\u001b[0m\u001b[37m\u001b[0m \u001b[1m0s\u001b[0m 347us/step - loss: 0.3240 - val_loss: 0.3156\n",
      "Epoch 21/50\n",
      "\u001b[1m363/363\u001b[0m \u001b[32m━━━━━━━━━━━━━━━━━━━━\u001b[0m\u001b[37m\u001b[0m \u001b[1m0s\u001b[0m 346us/step - loss: 0.3221 - val_loss: 0.3136\n",
      "Epoch 22/50\n",
      "\u001b[1m363/363\u001b[0m \u001b[32m━━━━━━━━━━━━━━━━━━━━\u001b[0m\u001b[37m\u001b[0m \u001b[1m0s\u001b[0m 341us/step - loss: 0.3203 - val_loss: 0.3119\n",
      "Epoch 23/50\n",
      "\u001b[1m363/363\u001b[0m \u001b[32m━━━━━━━━━━━━━━━━━━━━\u001b[0m\u001b[37m\u001b[0m \u001b[1m0s\u001b[0m 350us/step - loss: 0.3188 - val_loss: 0.3105\n",
      "Epoch 24/50\n",
      "\u001b[1m363/363\u001b[0m \u001b[32m━━━━━━━━━━━━━━━━━━━━\u001b[0m\u001b[37m\u001b[0m \u001b[1m0s\u001b[0m 347us/step - loss: 0.3177 - val_loss: 0.3086\n",
      "Epoch 25/50\n",
      "\u001b[1m363/363\u001b[0m \u001b[32m━━━━━━━━━━━━━━━━━━━━\u001b[0m\u001b[37m\u001b[0m \u001b[1m0s\u001b[0m 345us/step - loss: 0.3156 - val_loss: 0.3072\n",
      "Epoch 26/50\n",
      "\u001b[1m363/363\u001b[0m \u001b[32m━━━━━━━━━━━━━━━━━━━━\u001b[0m\u001b[37m\u001b[0m \u001b[1m0s\u001b[0m 348us/step - loss: 0.3141 - val_loss: 0.3053\n",
      "Epoch 27/50\n",
      "\u001b[1m363/363\u001b[0m \u001b[32m━━━━━━━━━━━━━━━━━━━━\u001b[0m\u001b[37m\u001b[0m \u001b[1m0s\u001b[0m 347us/step - loss: 0.3126 - val_loss: 0.3039\n",
      "Epoch 28/50\n",
      "\u001b[1m363/363\u001b[0m \u001b[32m━━━━━━━━━━━━━━━━━━━━\u001b[0m\u001b[37m\u001b[0m \u001b[1m0s\u001b[0m 350us/step - loss: 0.3115 - val_loss: 0.3026\n",
      "Epoch 29/50\n",
      "\u001b[1m363/363\u001b[0m \u001b[32m━━━━━━━━━━━━━━━━━━━━\u001b[0m\u001b[37m\u001b[0m \u001b[1m0s\u001b[0m 347us/step - loss: 0.3101 - val_loss: 0.3012\n",
      "Epoch 30/50\n",
      "\u001b[1m363/363\u001b[0m \u001b[32m━━━━━━━━━━━━━━━━━━━━\u001b[0m\u001b[37m\u001b[0m \u001b[1m0s\u001b[0m 345us/step - loss: 0.3092 - val_loss: 0.3001\n",
      "Epoch 31/50\n",
      "\u001b[1m363/363\u001b[0m \u001b[32m━━━━━━━━━━━━━━━━━━━━\u001b[0m\u001b[37m\u001b[0m \u001b[1m0s\u001b[0m 349us/step - loss: 0.3092 - val_loss: 0.2985\n",
      "Epoch 32/50\n",
      "\u001b[1m363/363\u001b[0m \u001b[32m━━━━━━━━━━━━━━━━━━━━\u001b[0m\u001b[37m\u001b[0m \u001b[1m0s\u001b[0m 348us/step - loss: 0.3075 - val_loss: 0.2975\n",
      "Epoch 33/50\n",
      "\u001b[1m363/363\u001b[0m \u001b[32m━━━━━━━━━━━━━━━━━━━━\u001b[0m\u001b[37m\u001b[0m \u001b[1m0s\u001b[0m 435us/step - loss: 0.3064 - val_loss: 0.2962\n",
      "Epoch 34/50\n",
      "\u001b[1m363/363\u001b[0m \u001b[32m━━━━━━━━━━━━━━━━━━━━\u001b[0m\u001b[37m\u001b[0m \u001b[1m0s\u001b[0m 344us/step - loss: 0.3047 - val_loss: 0.2955\n",
      "Epoch 35/50\n",
      "\u001b[1m363/363\u001b[0m \u001b[32m━━━━━━━━━━━━━━━━━━━━\u001b[0m\u001b[37m\u001b[0m \u001b[1m0s\u001b[0m 349us/step - loss: 0.3037 - val_loss: 0.2946\n",
      "Epoch 36/50\n",
      "\u001b[1m363/363\u001b[0m \u001b[32m━━━━━━━━━━━━━━━━━━━━\u001b[0m\u001b[37m\u001b[0m \u001b[1m0s\u001b[0m 349us/step - loss: 0.3023 - val_loss: 0.2936\n",
      "Epoch 37/50\n",
      "\u001b[1m363/363\u001b[0m \u001b[32m━━━━━━━━━━━━━━━━━━━━\u001b[0m\u001b[37m\u001b[0m \u001b[1m0s\u001b[0m 345us/step - loss: 0.3025 - val_loss: 0.2930\n",
      "Epoch 38/50\n",
      "\u001b[1m363/363\u001b[0m \u001b[32m━━━━━━━━━━━━━━━━━━━━\u001b[0m\u001b[37m\u001b[0m \u001b[1m0s\u001b[0m 344us/step - loss: 0.3052 - val_loss: 0.2950\n",
      "Epoch 39/50\n",
      "\u001b[1m363/363\u001b[0m \u001b[32m━━━━━━━━━━━━━━━━━━━━\u001b[0m\u001b[37m\u001b[0m \u001b[1m0s\u001b[0m 348us/step - loss: 0.3094 - val_loss: 0.2931\n",
      "Epoch 40/50\n",
      "\u001b[1m363/363\u001b[0m \u001b[32m━━━━━━━━━━━━━━━━━━━━\u001b[0m\u001b[37m\u001b[0m \u001b[1m0s\u001b[0m 345us/step - loss: 0.3010 - val_loss: 0.2921\n",
      "Epoch 41/50\n",
      "\u001b[1m363/363\u001b[0m \u001b[32m━━━━━━━━━━━━━━━━━━━━\u001b[0m\u001b[37m\u001b[0m \u001b[1m0s\u001b[0m 349us/step - loss: 0.2998 - val_loss: 0.2911\n",
      "Epoch 42/50\n",
      "\u001b[1m363/363\u001b[0m \u001b[32m━━━━━━━━━━━━━━━━━━━━\u001b[0m\u001b[37m\u001b[0m \u001b[1m0s\u001b[0m 347us/step - loss: 0.2992 - val_loss: 0.2899\n",
      "Epoch 43/50\n",
      "\u001b[1m363/363\u001b[0m \u001b[32m━━━━━━━━━━━━━━━━━━━━\u001b[0m\u001b[37m\u001b[0m \u001b[1m0s\u001b[0m 346us/step - loss: 0.2972 - val_loss: 0.2892\n",
      "Epoch 44/50\n",
      "\u001b[1m363/363\u001b[0m \u001b[32m━━━━━━━━━━━━━━━━━━━━\u001b[0m\u001b[37m\u001b[0m \u001b[1m0s\u001b[0m 341us/step - loss: 0.2960 - val_loss: 0.2880\n",
      "Epoch 45/50\n",
      "\u001b[1m363/363\u001b[0m \u001b[32m━━━━━━━━━━━━━━━━━━━━\u001b[0m\u001b[37m\u001b[0m \u001b[1m0s\u001b[0m 338us/step - loss: 0.2946 - val_loss: 0.2873\n",
      "Epoch 46/50\n",
      "\u001b[1m363/363\u001b[0m \u001b[32m━━━━━━━━━━━━━━━━━━━━\u001b[0m\u001b[37m\u001b[0m \u001b[1m0s\u001b[0m 338us/step - loss: 0.2935 - val_loss: 0.2868\n",
      "Epoch 47/50\n",
      "\u001b[1m363/363\u001b[0m \u001b[32m━━━━━━━━━━━━━━━━━━━━\u001b[0m\u001b[37m\u001b[0m \u001b[1m0s\u001b[0m 339us/step - loss: 0.2926 - val_loss: 0.2863\n",
      "Epoch 48/50\n",
      "\u001b[1m363/363\u001b[0m \u001b[32m━━━━━━━━━━━━━━━━━━━━\u001b[0m\u001b[37m\u001b[0m \u001b[1m0s\u001b[0m 341us/step - loss: 0.2917 - val_loss: 0.2857\n",
      "Epoch 49/50\n",
      "\u001b[1m363/363\u001b[0m \u001b[32m━━━━━━━━━━━━━━━━━━━━\u001b[0m\u001b[37m\u001b[0m \u001b[1m0s\u001b[0m 339us/step - loss: 0.2907 - val_loss: 0.2852\n",
      "Epoch 50/50\n",
      "\u001b[1m363/363\u001b[0m \u001b[32m━━━━━━━━━━━━━━━━━━━━\u001b[0m\u001b[37m\u001b[0m \u001b[1m0s\u001b[0m 338us/step - loss: 0.2900 - val_loss: 0.2848\n"
     ]
    }
   ],
   "source": [
    "house_model.compile(loss=\"mean_squared_error\", optimizer=\"sgd\")\n",
    "\n",
    "house_history = house_model.fit(X_house_train, y_house_train, epochs=50,\n",
    "                    validation_data=(X_house_valid, y_house_valid))"
   ]
  },
  {
   "cell_type": "code",
   "execution_count": 36,
   "metadata": {
    "colab": {
     "base_uri": "https://localhost:8080/",
     "height": 393
    },
    "executionInfo": {
     "elapsed": 259,
     "status": "ok",
     "timestamp": 1727216812931,
     "user": {
      "displayName": "Julio Guillermo Arriaga Blumenkron",
      "userId": "18360755152457408573"
     },
     "user_tz": 360
    },
    "id": "ztSUzN_ALWru",
    "outputId": "2c79a73e-5d91-496e-abac-37d4310cee2d"
   },
   "outputs": [
    {
     "data": {
      "image/png": "[encoded data removed]",
      "text/plain": [
       "<Figure size 800x400 with 1 Axes>"
      ]
     },
     "metadata": {},
     "output_type": "display_data"
    }
   ],
   "source": [
    "plt.figure(figsize=(8, 4))\n",
    "\n",
    "plt.plot(house_history.history['loss'], label='Training Loss')\n",
    "plt.plot(house_history.history['val_loss'], label='Validation Loss')\n",
    "plt.xlabel('Epoch')\n",
    "plt.ylabel('Loss')\n",
    "plt.legend()\n",
    "\n",
    "plt.show()"
   ]
  },
  {
   "cell_type": "markdown",
   "metadata": {
    "id": "-qrXjJTgVQ2q"
   },
   "source": [
    "Finally we can review the model's performance comparing predicted vs. expected for some of our testing samples."
   ]
  },
  {
   "cell_type": "code",
   "execution_count": 37,
   "metadata": {
    "colab": {
     "base_uri": "https://localhost:8080/"
    },
    "executionInfo": {
     "elapsed": 634,
     "status": "ok",
     "timestamp": 1727216843535,
     "user": {
      "displayName": "Julio Guillermo Arriaga Blumenkron",
      "userId": "18360755152457408573"
     },
     "user_tz": 360
    },
    "id": "qFqYLLSoLWru",
    "outputId": "148b95d5-9ed0-4acb-9850-25875b191569"
   },
   "outputs": [
    {
     "name": "stdout",
     "output_type": "stream",
     "text": [
      "162/162 - 0s - 284us/step - loss: 0.3160\n",
      "Test MSE: 0.31599679589271545\n"
     ]
    }
   ],
   "source": [
    "mse_test = house_model.evaluate(X_house_test, y_house_test, verbose=2)\n",
    "print(f\"Test MSE: {mse_test}\")"
   ]
  },
  {
   "cell_type": "markdown",
   "metadata": {
    "id": "-CrObGEdBZuw"
   },
   "source": [
    "As well as use the trained model for predictions."
   ]
  },
  {
   "cell_type": "code",
   "execution_count": 38,
   "metadata": {
    "colab": {
     "base_uri": "https://localhost:8080/"
    },
    "executionInfo": {
     "elapsed": 833,
     "status": "ok",
     "timestamp": 1727216871760,
     "user": {
      "displayName": "Julio Guillermo Arriaga Blumenkron",
      "userId": "18360755152457408573"
     },
     "user_tz": 360
    },
    "id": "uhA5aET9LWrv",
    "outputId": "12a79f19-53a3-42c9-e430-050fd79399dc"
   },
   "outputs": [
    {
     "name": "stdout",
     "output_type": "stream",
     "text": [
      "\u001b[1m1/1\u001b[0m \u001b[32m━━━━━━━━━━━━━━━━━━━━\u001b[0m\u001b[37m\u001b[0m \u001b[1m0s\u001b[0m 26ms/step\n",
      "Prediction: 2.803, True: 2.592\n",
      "Prediction: 2.842, True: 2.596\n",
      "Prediction: 1.118, True: 0.722\n",
      "Prediction: 1.881, True: 1.757\n",
      "Prediction: 1.612, True: 0.713\n",
      "Prediction: 2.295, True: 3.0\n",
      "Prediction: 1.074, True: 1.594\n",
      "Prediction: 1.897, True: 1.614\n",
      "Prediction: 2.548, True: 3.205\n",
      "Prediction: 3.011, True: 2.667\n"
     ]
    }
   ],
   "source": [
    "X_house_new = X_house_test[:10] # pretend these are new instances\n",
    "y_house_pred = house_model.predict(X_house_new).flatten()\n",
    "for i in range(10):\n",
    "  print(f'Prediction: {y_house_pred[i]:.3f}, True: {y_house_test.iloc[i]}')"
   ]
  },
  {
   "cell_type": "markdown",
   "metadata": {
    "id": "vcIQbkIXB3wH"
   },
   "source": [
    "# Conclusion\n",
    "\n",
    "In this tutorial, we've covered the basics of creating a simple fully connected neural network using TensorFlow and Keras. You've learned how to load data, build a model, train it, and evaluate its performance. Keep in mind that most of this steps can be expanded significantly, with several different hyperparmeters and options that can be tuned or changed. Check the official [Keras API](https://keras.io/api/) for a deeper dive into its use."
   ]
  },
  {
   "cell_type": "markdown",
   "metadata": {
    "id": "qbecFxDVVvqV"
   },
   "source": [
    "*Parts of this tutorial have been adapted from [Hands-On Machine Learning with Scikit-Learn, Keras, and TensorFlow, 3rd Edition](https://www.oreilly.com/library/view/hands-on-machine-learning/9781098125967/) By Aurélien Géron*"
   ]
  }
 ],
 "metadata": {
  "accelerator": "GPU",
  "colab": {
   "gpuType": "T4",
   "provenance": []
  },
  "kernelspec": {
   "display_name": "Ambiente-Conda",
   "language": "python",
   "name": "python3"
  },
  "language_info": {
   "codemirror_mode": {
    "name": "ipython",
    "version": 3
   },
   "file_extension": ".py",
   "mimetype": "text/x-python",
   "name": "python",
   "nbconvert_exporter": "python",
   "pygments_lexer": "ipython3",
   "version": "3.12.3"
  }
 },
 "nbformat": 4,
 "nbformat_minor": 0
}
